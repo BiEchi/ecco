{
 "cells": [
  {
   "cell_type": "markdown",
   "metadata": {
    "colab_type": "text",
    "id": "view-in-github"
   },
   "source": [
    "<a href=\"https://colab.research.google.com/github/jalammar/ecco/blob/main/notebooks/Ecco_Input_Saliency.ipynb\" target=\"_parent\"><img src=\"https://colab.research.google.com/assets/colab-badge.svg\" alt=\"Open In Colab\"/></a>"
   ]
  },
  {
   "cell_type": "code",
   "execution_count": null,
   "metadata": {},
   "outputs": [],
   "source": [
    "!pip install ecco"
   ]
  },
  {
   "cell_type": "code",
   "execution_count": 1,
   "metadata": {
    "colab": {
     "base_uri": "https://localhost:8080/",
     "height": 215,
     "referenced_widgets": [
      "66ee7dd681184981a67e2b9dd5fdd6f0",
      "0e6405015df340b3bdc58694ebd4ecf4",
      "1198ffa7ad12484f9ac4048835321335",
      "819c4c5a5b3349bcade558a02106c0c4",
      "9254b1b515654fe9be6ffc08c2b15e4b",
      "ea23401f422c4201a2ccd2a45c426d52",
      "e0fcf661019f4e3da00175887b431ccc",
      "5e4aa51d413b4004bee30cce914d193e",
      "5fd6963056bf4687a15c941d3be3494b",
      "9a961b8a92334bedaeda460e4c92befc",
      "5a022265356840a5a3fb60ec1ab69d9f",
      "01e1163950684dc6b7fa868e7b9315a4",
      "6b92f7b5d29e4fa786f03c9a6267cec4",
      "a9682d37555846aeb124b69cf38092c3",
      "ff801625f32e452e84c2bcefccabbad3",
      "14dd95b6e25b462e87175be869146d05",
      "2d5ded1ce3034928b9675c598f5144e6",
      "03de4b4c35ce4b3a87f0b06743707c65",
      "31a4e3758a474c3da4a49bd5c4c396a4",
      "deaba8a37b4a40e2a5e42c8e4044f5ef",
      "41e537de9f8c4912a59ec4dc30e405f5",
      "a573b926127f471d90552617dbd355ac",
      "7d93ca3793fb43ba824f743aa9a7c208",
      "dde55076d6544256b821e4364e787a7f",
      "b54a170e8e20428dbd08dcbececa6174",
      "a7f991e0d30b4a2bbdf4efe3085b60ec",
      "59c41cdb09dc43448f8cf3b3edacc9f6",
      "a33793da690a401f84cfc27fe66b58d3",
      "6f42cc0bd0414b09994f8ca293b31db3",
      "ff151fd817e84f939614c8001ea02384",
      "bc6eb47a66bc4fbe88efa7878e1fd02e",
      "cdc358ab0d7b4cb3b911102f5b5ea48f"
     ]
    },
    "id": "zzcMoKUkV3aH",
    "outputId": "e88438a9-112f-4dfe-9897-88a589e42218"
   },
   "outputs": [
    {
     "name": "stderr",
     "output_type": "stream",
     "text": [
      "/home/ola/our_ecco/ecco/venv/lib/python3.7/site-packages/torch/cuda/__init__.py:52: UserWarning: CUDA initialization: The NVIDIA driver on your system is too old (found version 9010). Please update your GPU driver by downloading and installing a new version from the URL: http://www.nvidia.com/Download/index.aspx Alternatively, go to: https://pytorch.org to install a PyTorch version that has been compiled with your version of the CUDA driver. (Triggered internally at  ../c10/cuda/CUDAFunctions.cpp:115.)\n",
      "  return torch._C._cuda_getDeviceCount() > 0\n"
     ]
    }
   ],
   "source": [
    "import ecco\n",
    "lm = ecco.from_pretrained('distilgpt2')"
   ]
  },
  {
   "cell_type": "code",
   "execution_count": 2,
   "metadata": {
    "colab": {
     "base_uri": "https://localhost:8080/",
     "height": 334
    },
    "id": "T9bZBZLq-93C",
    "outputId": "e6f3398b-5e9e-456d-d5a4-3331764fea9c"
   },
   "outputs": [
    {
     "data": {
      "text/html": [
       "<html lang=\"en\">\n",
       "<script src=\"https://requirejs.org/docs/release/2.3.6/minified/require.js\"></script>\n",
       "<script>\n",
       "    var ecco_url = 'https://storage.googleapis.com/ml-intro/ecco/'\n",
       "    // var ecco_url = 'http://localhost:8000/ecco/'\n",
       "\n",
       "    if (window.ecco === undefined) window.ecco = {}\n",
       "\n",
       "    requirejs.config({\n",
       "        urlArgs: \"bust=\" + (new Date()).getTime(),\n",
       "        nodeRequire: require,\n",
       "        paths: {\n",
       "            d3: \"https://d3js.org/d3.v5.min\",\n",
       "            \"d3-array\": \"https://d3js.org/d3-array.v2.min\",\n",
       "            jquery: \"https://code.jquery.com/jquery-3.5.1.min\",\n",
       "            // oldEcco: ecco_url + 'ecco',\n",
       "            ecco: ecco_url + 'js/0.0.4/ecco-bundle.min',\n",
       "            xregexp: 'https://cdnjs.cloudflare.com/ajax/libs/xregexp/3.2.0/xregexp-all.min'\n",
       "        }\n",
       "    });\n",
       "    requirejs(['d3'],\n",
       "        function (d3) {\n",
       "            d3.select('#css').attr('href', ecco_url + 'html/styles.css')\n",
       "        })\n",
       "\n",
       "    console.log('Ecco initialize.')\n",
       "</script>\n",
       "\n",
       "<head>\n",
       "    <link id='css' rel=\"stylesheet\" type=\"text/css\">\n",
       "</head>\n"
      ],
      "text/plain": [
       "<IPython.core.display.HTML object>"
      ]
     },
     "metadata": {},
     "output_type": "display_data"
    },
    {
     "data": {
      "text/html": [
       "<script>\n",
       "    // console.log('defining basic')\n",
       "    define('basic', ['d3'],\n",
       "        function (d3) {\n",
       "            return {\n",
       "                init: function (viz_id = null) {\n",
       "\n",
       "                    // console.log('basic init')\n",
       "                    if (viz_id == null){\n",
       "                        viz_id = \"viz_\" + Math.round(Math.random() * 10000000)\n",
       "                    }\n",
       "                    const div = d3.select('#basic').attr('id', viz_id),\n",
       "                        div_parent = d3.select('#' + viz_id).node().parentNode\n",
       "\n",
       "                    // Link to CSS file\n",
       "                    d3.select(div_parent).insert('link')\n",
       "                        .attr('rel', 'stylesheet')\n",
       "                        .attr('type', 'text/css')\n",
       "                        .attr('href', ecco_url + 'html/styles.css')\n",
       "\n",
       "                    return viz_id\n",
       "                }\n",
       "            }\n",
       "        }, function (err) {console.log(err);}\n",
       "    )\n",
       "    // console.log('after defining basic')\n",
       "\n",
       "</script>\n",
       "<div id=\"basic\"></div>\n"
      ],
      "text/plain": [
       "<IPython.core.display.HTML object>"
      ]
     },
     "metadata": {},
     "output_type": "display_data"
    },
    {
     "data": {
      "application/javascript": [
       "\n",
       "         requirejs( ['basic', 'ecco'], function(basic, ecco){\n",
       "            basic.init('viz_625483')\n",
       "\n",
       "            window.ecco['viz_625483'] = ecco.renderOutputSequence('viz_625483', {'tokens': [{'token': 'The', 'position': 0, 'token_id': 464, 'type': 'input'}, {'token': ' countries', 'position': 1, 'token_id': 2678, 'type': 'input'}, {'token': ' of', 'position': 2, 'token_id': 286, 'type': 'input'}, {'token': ' the', 'position': 3, 'token_id': 262, 'type': 'input'}, {'token': ' European', 'position': 4, 'token_id': 3427, 'type': 'input'}, {'token': ' Union', 'position': 5, 'token_id': 4479, 'type': 'input'}, {'token': ' are', 'position': 6, 'token_id': 389, 'type': 'input'}, {'token': ':', 'position': 7, 'token_id': 25, 'type': 'input'}, {'token': '\\n', 'position': 8, 'token_id': 198, 'type': 'input'}, {'token': '1', 'position': 9, 'token_id': 16, 'type': 'input'}, {'token': '.', 'position': 10, 'token_id': 13, 'type': 'input'}, {'token': ' Austria', 'position': 11, 'token_id': 17322, 'type': 'input'}, {'token': '\\n', 'position': 12, 'token_id': 198, 'type': 'input'}, {'token': '2', 'position': 13, 'token_id': 17, 'type': 'input'}, {'token': '.', 'position': 14, 'token_id': 13, 'type': 'input'}, {'token': ' Belgium', 'position': 15, 'token_id': 15664, 'type': 'input'}, {'token': '\\n', 'position': 16, 'token_id': 198, 'type': 'input'}, {'token': '3', 'position': 17, 'token_id': 18, 'type': 'input'}, {'token': '.', 'position': 18, 'token_id': 13, 'type': 'input'}, {'token': ' Bulgaria', 'position': 19, 'token_id': 27902, 'type': 'input'}, {'token': '\\n', 'position': 20, 'token_id': 198, 'type': 'input'}, {'token': '4', 'position': 21, 'token_id': 19, 'type': 'input'}, {'token': '.', 'position': 22, 'token_id': 13, 'type': 'input'}]})\n",
       "         }, function (err) {\n",
       "            console.log(err);\n",
       "        })\n",
       "        "
      ],
      "text/plain": [
       "<IPython.core.display.Javascript object>"
      ]
     },
     "metadata": {},
     "output_type": "display_data"
    },
    {
     "data": {
      "application/javascript": [
       "\n",
       "        // We don't really need these require scripts. But this is to avert\n",
       "        //this code from running before display_input_sequence which DOES require external files\n",
       "        requirejs(['basic', 'ecco'], function(basic, ecco){\n",
       "                console.log('addToken viz_id', 'viz_625483');\n",
       "                window.ecco['viz_625483'].addToken({\"token\": \" Croatia\", \"token_id\": 28975, \"position\": 23, \"type\": \"output\"})\n",
       "                window.ecco['viz_625483'].redraw()\n",
       "        })\n",
       "        "
      ],
      "text/plain": [
       "<IPython.core.display.Javascript object>"
      ]
     },
     "metadata": {},
     "output_type": "display_data"
    },
    {
     "data": {
      "application/javascript": [
       "\n",
       "        // We don't really need these require scripts. But this is to avert\n",
       "        //this code from running before display_input_sequence which DOES require external files\n",
       "        requirejs(['basic', 'ecco'], function(basic, ecco){\n",
       "                console.log('addToken viz_id', 'viz_625483');\n",
       "                window.ecco['viz_625483'].addToken({\"token\": \"\\n\", \"token_id\": 198, \"position\": 24, \"type\": \"output\"})\n",
       "                window.ecco['viz_625483'].redraw()\n",
       "        })\n",
       "        "
      ],
      "text/plain": [
       "<IPython.core.display.Javascript object>"
      ]
     },
     "metadata": {},
     "output_type": "display_data"
    },
    {
     "data": {
      "application/javascript": [
       "\n",
       "        // We don't really need these require scripts. But this is to avert\n",
       "        //this code from running before display_input_sequence which DOES require external files\n",
       "        requirejs(['basic', 'ecco'], function(basic, ecco){\n",
       "                console.log('addToken viz_id', 'viz_625483');\n",
       "                window.ecco['viz_625483'].addToken({\"token\": \"5\", \"token_id\": 20, \"position\": 25, \"type\": \"output\"})\n",
       "                window.ecco['viz_625483'].redraw()\n",
       "        })\n",
       "        "
      ],
      "text/plain": [
       "<IPython.core.display.Javascript object>"
      ]
     },
     "metadata": {},
     "output_type": "display_data"
    },
    {
     "data": {
      "application/javascript": [
       "\n",
       "        // We don't really need these require scripts. But this is to avert\n",
       "        //this code from running before display_input_sequence which DOES require external files\n",
       "        requirejs(['basic', 'ecco'], function(basic, ecco){\n",
       "                console.log('addToken viz_id', 'viz_625483');\n",
       "                window.ecco['viz_625483'].addToken({\"token\": \".\", \"token_id\": 13, \"position\": 26, \"type\": \"output\"})\n",
       "                window.ecco['viz_625483'].redraw()\n",
       "        })\n",
       "        "
      ],
      "text/plain": [
       "<IPython.core.display.Javascript object>"
      ]
     },
     "metadata": {},
     "output_type": "display_data"
    },
    {
     "data": {
      "application/javascript": [
       "\n",
       "        // We don't really need these require scripts. But this is to avert\n",
       "        //this code from running before display_input_sequence which DOES require external files\n",
       "        requirejs(['basic', 'ecco'], function(basic, ecco){\n",
       "                console.log('addToken viz_id', 'viz_625483');\n",
       "                window.ecco['viz_625483'].addToken({\"token\": \" Cyprus\", \"token_id\": 27885, \"position\": 27, \"type\": \"output\"})\n",
       "                window.ecco['viz_625483'].redraw()\n",
       "        })\n",
       "        "
      ],
      "text/plain": [
       "<IPython.core.display.Javascript object>"
      ]
     },
     "metadata": {},
     "output_type": "display_data"
    },
    {
     "data": {
      "application/javascript": [
       "\n",
       "        // We don't really need these require scripts. But this is to avert\n",
       "        //this code from running before display_input_sequence which DOES require external files\n",
       "        requirejs(['basic', 'ecco'], function(basic, ecco){\n",
       "                console.log('addToken viz_id', 'viz_625483');\n",
       "                window.ecco['viz_625483'].addToken({\"token\": \"\\n\", \"token_id\": 198, \"position\": 28, \"type\": \"output\"})\n",
       "                window.ecco['viz_625483'].redraw()\n",
       "        })\n",
       "        "
      ],
      "text/plain": [
       "<IPython.core.display.Javascript object>"
      ]
     },
     "metadata": {},
     "output_type": "display_data"
    },
    {
     "data": {
      "application/javascript": [
       "\n",
       "        // We don't really need these require scripts. But this is to avert\n",
       "        //this code from running before display_input_sequence which DOES require external files\n",
       "        requirejs(['basic', 'ecco'], function(basic, ecco){\n",
       "                console.log('addToken viz_id', 'viz_625483');\n",
       "                window.ecco['viz_625483'].addToken({\"token\": \"6\", \"token_id\": 21, \"position\": 29, \"type\": \"output\"})\n",
       "                window.ecco['viz_625483'].redraw()\n",
       "        })\n",
       "        "
      ],
      "text/plain": [
       "<IPython.core.display.Javascript object>"
      ]
     },
     "metadata": {},
     "output_type": "display_data"
    },
    {
     "data": {
      "application/javascript": [
       "\n",
       "        // We don't really need these require scripts. But this is to avert\n",
       "        //this code from running before display_input_sequence which DOES require external files\n",
       "        requirejs(['basic', 'ecco'], function(basic, ecco){\n",
       "                console.log('addToken viz_id', 'viz_625483');\n",
       "                window.ecco['viz_625483'].addToken({\"token\": \".\", \"token_id\": 13, \"position\": 30, \"type\": \"output\"})\n",
       "                window.ecco['viz_625483'].redraw()\n",
       "        })\n",
       "        "
      ],
      "text/plain": [
       "<IPython.core.display.Javascript object>"
      ]
     },
     "metadata": {},
     "output_type": "display_data"
    },
    {
     "data": {
      "application/javascript": [
       "\n",
       "        // We don't really need these require scripts. But this is to avert\n",
       "        //this code from running before display_input_sequence which DOES require external files\n",
       "        requirejs(['basic', 'ecco'], function(basic, ecco){\n",
       "                console.log('addToken viz_id', 'viz_625483');\n",
       "                window.ecco['viz_625483'].addToken({\"token\": \" Czech\", \"token_id\": 16639, \"position\": 31, \"type\": \"output\"})\n",
       "                window.ecco['viz_625483'].redraw()\n",
       "        })\n",
       "        "
      ],
      "text/plain": [
       "<IPython.core.display.Javascript object>"
      ]
     },
     "metadata": {},
     "output_type": "display_data"
    },
    {
     "data": {
      "application/javascript": [
       "\n",
       "        // We don't really need these require scripts. But this is to avert\n",
       "        //this code from running before display_input_sequence which DOES require external files\n",
       "        requirejs(['basic', 'ecco'], function(basic, ecco){\n",
       "                console.log('addToken viz_id', 'viz_625483');\n",
       "                window.ecco['viz_625483'].addToken({\"token\": \" Republic\", \"token_id\": 2066, \"position\": 32, \"type\": \"output\"})\n",
       "                window.ecco['viz_625483'].redraw()\n",
       "        })\n",
       "        "
      ],
      "text/plain": [
       "<IPython.core.display.Javascript object>"
      ]
     },
     "metadata": {},
     "output_type": "display_data"
    },
    {
     "data": {
      "application/javascript": [
       "\n",
       "        // We don't really need these require scripts. But this is to avert\n",
       "        //this code from running before display_input_sequence which DOES require external files\n",
       "        requirejs(['basic', 'ecco'], function(basic, ecco){\n",
       "                console.log('addToken viz_id', 'viz_625483');\n",
       "                window.ecco['viz_625483'].addToken({\"token\": \"\\n\", \"token_id\": 198, \"position\": 33, \"type\": \"output\"})\n",
       "                window.ecco['viz_625483'].redraw()\n",
       "        })\n",
       "        "
      ],
      "text/plain": [
       "<IPython.core.display.Javascript object>"
      ]
     },
     "metadata": {},
     "output_type": "display_data"
    },
    {
     "data": {
      "application/javascript": [
       "\n",
       "        // We don't really need these require scripts. But this is to avert\n",
       "        //this code from running before display_input_sequence which DOES require external files\n",
       "        requirejs(['basic', 'ecco'], function(basic, ecco){\n",
       "                console.log('addToken viz_id', 'viz_625483');\n",
       "                window.ecco['viz_625483'].addToken({\"token\": \"7\", \"token_id\": 22, \"position\": 34, \"type\": \"output\"})\n",
       "                window.ecco['viz_625483'].redraw()\n",
       "        })\n",
       "        "
      ],
      "text/plain": [
       "<IPython.core.display.Javascript object>"
      ]
     },
     "metadata": {},
     "output_type": "display_data"
    },
    {
     "data": {
      "application/javascript": [
       "\n",
       "        // We don't really need these require scripts. But this is to avert\n",
       "        //this code from running before display_input_sequence which DOES require external files\n",
       "        requirejs(['basic', 'ecco'], function(basic, ecco){\n",
       "                console.log('addToken viz_id', 'viz_625483');\n",
       "                window.ecco['viz_625483'].addToken({\"token\": \".\", \"token_id\": 13, \"position\": 35, \"type\": \"output\"})\n",
       "                window.ecco['viz_625483'].redraw()\n",
       "        })\n",
       "        "
      ],
      "text/plain": [
       "<IPython.core.display.Javascript object>"
      ]
     },
     "metadata": {},
     "output_type": "display_data"
    },
    {
     "data": {
      "application/javascript": [
       "\n",
       "        // We don't really need these require scripts. But this is to avert\n",
       "        //this code from running before display_input_sequence which DOES require external files\n",
       "        requirejs(['basic', 'ecco'], function(basic, ecco){\n",
       "                console.log('addToken viz_id', 'viz_625483');\n",
       "                window.ecco['viz_625483'].addToken({\"token\": \" Czech\", \"token_id\": 16639, \"position\": 36, \"type\": \"output\"})\n",
       "                window.ecco['viz_625483'].redraw()\n",
       "        })\n",
       "        "
      ],
      "text/plain": [
       "<IPython.core.display.Javascript object>"
      ]
     },
     "metadata": {},
     "output_type": "display_data"
    },
    {
     "data": {
      "application/javascript": [
       "\n",
       "        // We don't really need these require scripts. But this is to avert\n",
       "        //this code from running before display_input_sequence which DOES require external files\n",
       "        requirejs(['basic', 'ecco'], function(basic, ecco){\n",
       "                console.log('addToken viz_id', 'viz_625483');\n",
       "                window.ecco['viz_625483'].addToken({\"token\": \" Republic\", \"token_id\": 2066, \"position\": 37, \"type\": \"output\"})\n",
       "                window.ecco['viz_625483'].redraw()\n",
       "        })\n",
       "        "
      ],
      "text/plain": [
       "<IPython.core.display.Javascript object>"
      ]
     },
     "metadata": {},
     "output_type": "display_data"
    },
    {
     "data": {
      "application/javascript": [
       "\n",
       "        // We don't really need these require scripts. But this is to avert\n",
       "        //this code from running before display_input_sequence which DOES require external files\n",
       "        requirejs(['basic', 'ecco'], function(basic, ecco){\n",
       "                console.log('addToken viz_id', 'viz_625483');\n",
       "                window.ecco['viz_625483'].addToken({\"token\": \"\\n\", \"token_id\": 198, \"position\": 38, \"type\": \"output\"})\n",
       "                window.ecco['viz_625483'].redraw()\n",
       "        })\n",
       "        "
      ],
      "text/plain": [
       "<IPython.core.display.Javascript object>"
      ]
     },
     "metadata": {},
     "output_type": "display_data"
    },
    {
     "data": {
      "application/javascript": [
       "\n",
       "        // We don't really need these require scripts. But this is to avert\n",
       "        //this code from running before display_input_sequence which DOES require external files\n",
       "        requirejs(['basic', 'ecco'], function(basic, ecco){\n",
       "                console.log('addToken viz_id', 'viz_625483');\n",
       "                window.ecco['viz_625483'].addToken({\"token\": \"8\", \"token_id\": 23, \"position\": 39, \"type\": \"output\"})\n",
       "                window.ecco['viz_625483'].redraw()\n",
       "        })\n",
       "        "
      ],
      "text/plain": [
       "<IPython.core.display.Javascript object>"
      ]
     },
     "metadata": {},
     "output_type": "display_data"
    },
    {
     "data": {
      "application/javascript": [
       "\n",
       "        // We don't really need these require scripts. But this is to avert\n",
       "        //this code from running before display_input_sequence which DOES require external files\n",
       "        requirejs(['basic', 'ecco'], function(basic, ecco){\n",
       "                console.log('addToken viz_id', 'viz_625483');\n",
       "                window.ecco['viz_625483'].addToken({\"token\": \".\", \"token_id\": 13, \"position\": 40, \"type\": \"output\"})\n",
       "                window.ecco['viz_625483'].redraw()\n",
       "        })\n",
       "        "
      ],
      "text/plain": [
       "<IPython.core.display.Javascript object>"
      ]
     },
     "metadata": {},
     "output_type": "display_data"
    },
    {
     "data": {
      "application/javascript": [
       "\n",
       "        // We don't really need these require scripts. But this is to avert\n",
       "        //this code from running before display_input_sequence which DOES require external files\n",
       "        requirejs(['basic', 'ecco'], function(basic, ecco){\n",
       "                console.log('addToken viz_id', 'viz_625483');\n",
       "                window.ecco['viz_625483'].addToken({\"token\": \" Denmark\", \"token_id\": 16490, \"position\": 41, \"type\": \"output\"})\n",
       "                window.ecco['viz_625483'].redraw()\n",
       "        })\n",
       "        "
      ],
      "text/plain": [
       "<IPython.core.display.Javascript object>"
      ]
     },
     "metadata": {},
     "output_type": "display_data"
    },
    {
     "data": {
      "application/javascript": [
       "\n",
       "        // We don't really need these require scripts. But this is to avert\n",
       "        //this code from running before display_input_sequence which DOES require external files\n",
       "        requirejs(['basic', 'ecco'], function(basic, ecco){\n",
       "                console.log('addToken viz_id', 'viz_625483');\n",
       "                window.ecco['viz_625483'].addToken({\"token\": \"\\n\", \"token_id\": 198, \"position\": 42, \"type\": \"output\"})\n",
       "                window.ecco['viz_625483'].redraw()\n",
       "        })\n",
       "        "
      ],
      "text/plain": [
       "<IPython.core.display.Javascript object>"
      ]
     },
     "metadata": {},
     "output_type": "display_data"
    }
   ],
   "source": [
    "text= \"The countries of the European Union are:\\n1. Austria\\n2. Belgium\\n3. Bulgaria\\n4.\"\n",
    "\n",
    "output = lm.generate(text, generate=20, do_sample=True)"
   ]
  },
  {
   "cell_type": "markdown",
   "metadata": {},
   "source": [
    "## Input Saliency methods"
   ]
  },
  {
   "cell_type": "code",
   "execution_count": 3,
   "metadata": {
    "colab": {
     "base_uri": "https://localhost:8080/",
     "height": 234
    },
    "id": "3a02pyc2WASq",
    "outputId": "ac3e4d15-f2fb-4f4e-9bf7-0882a6c895c2"
   },
   "outputs": [
    {
     "data": {
      "text/html": [
       "<html lang=\"en\">\n",
       "<script src=\"https://requirejs.org/docs/release/2.3.6/minified/require.js\"></script>\n",
       "<script>\n",
       "    var ecco_url = 'https://storage.googleapis.com/ml-intro/ecco/'\n",
       "    // var ecco_url = 'http://localhost:8000/ecco/'\n",
       "\n",
       "    if (window.ecco === undefined) window.ecco = {}\n",
       "\n",
       "    requirejs.config({\n",
       "        urlArgs: \"bust=\" + (new Date()).getTime(),\n",
       "        nodeRequire: require,\n",
       "        paths: {\n",
       "            d3: \"https://d3js.org/d3.v5.min\",\n",
       "            \"d3-array\": \"https://d3js.org/d3-array.v2.min\",\n",
       "            jquery: \"https://code.jquery.com/jquery-3.5.1.min\",\n",
       "            // oldEcco: ecco_url + 'ecco',\n",
       "            ecco: ecco_url + 'js/0.0.4/ecco-bundle.min',\n",
       "            xregexp: 'https://cdnjs.cloudflare.com/ajax/libs/xregexp/3.2.0/xregexp-all.min'\n",
       "        }\n",
       "    });\n",
       "    requirejs(['d3'],\n",
       "        function (d3) {\n",
       "            d3.select('#css').attr('href', ecco_url + 'html/styles.css')\n",
       "        })\n",
       "\n",
       "    console.log('Ecco initialize.')\n",
       "</script>\n",
       "\n",
       "<head>\n",
       "    <link id='css' rel=\"stylesheet\" type=\"text/css\">\n",
       "</head>\n"
      ],
      "text/plain": [
       "<IPython.core.display.HTML object>"
      ]
     },
     "metadata": {},
     "output_type": "display_data"
    },
    {
     "data": {
      "text/html": [
       "<script>\n",
       "    // console.log('defining basic')\n",
       "    define('basic', ['d3'],\n",
       "        function (d3) {\n",
       "            return {\n",
       "                init: function (viz_id = null) {\n",
       "\n",
       "                    // console.log('basic init')\n",
       "                    if (viz_id == null){\n",
       "                        viz_id = \"viz_\" + Math.round(Math.random() * 10000000)\n",
       "                    }\n",
       "                    const div = d3.select('#basic').attr('id', viz_id),\n",
       "                        div_parent = d3.select('#' + viz_id).node().parentNode\n",
       "\n",
       "                    // Link to CSS file\n",
       "                    d3.select(div_parent).insert('link')\n",
       "                        .attr('rel', 'stylesheet')\n",
       "                        .attr('type', 'text/css')\n",
       "                        .attr('href', ecco_url + 'html/styles.css')\n",
       "\n",
       "                    return viz_id\n",
       "                }\n",
       "            }\n",
       "        }, function (err) {console.log(err);}\n",
       "    )\n",
       "    // console.log('after defining basic')\n",
       "\n",
       "</script>\n",
       "<div id=\"basic\"></div>\n"
      ],
      "text/plain": [
       "<IPython.core.display.HTML object>"
      ]
     },
     "metadata": {},
     "output_type": "display_data"
    },
    {
     "data": {
      "application/javascript": [
       "\n",
       "             requirejs(['basic', 'ecco'], function(basic, ecco){\n",
       "                const viz_id = basic.init()\n",
       "                // ecco.interactiveTokens(viz_id, {})\n",
       "                window.ecco[viz_id] = new ecco.MinimalHighlighter({\n",
       "                parentDiv: viz_id,\n",
       "                data: {'tokens': [{'token': 'The', 'token_id': 464, 'type': 'input', 'value': '0.049845695', 'position': 0}, {'token': ' countries', 'token_id': 2678, 'type': 'input', 'value': '0.050903752', 'position': 1}, {'token': ' of', 'token_id': 286, 'type': 'input', 'value': '0.0130191855', 'position': 2}, {'token': ' the', 'token_id': 262, 'type': 'input', 'value': '0.011890959', 'position': 3}, {'token': ' European', 'token_id': 3427, 'type': 'input', 'value': '0.048978828', 'position': 4}, {'token': ' Union', 'token_id': 4479, 'type': 'input', 'value': '0.027450427', 'position': 5}, {'token': ' are', 'token_id': 389, 'type': 'input', 'value': '0.015803535', 'position': 6}, {'token': ':', 'token_id': 25, 'type': 'input', 'value': '0.020174114', 'position': 7}, {'token': '\\n', 'token_id': 198, 'type': 'input', 'value': '0.026422864', 'position': 8}, {'token': '1', 'token_id': 16, 'type': 'input', 'value': '0.035699546', 'position': 9}, {'token': '.', 'token_id': 13, 'type': 'input', 'value': '0.0265311', 'position': 10}, {'token': ' Austria', 'token_id': 17322, 'type': 'input', 'value': '0.15094106', 'position': 11}, {'token': '\\n', 'token_id': 198, 'type': 'input', 'value': '0.023368323', 'position': 12}, {'token': '2', 'token_id': 17, 'type': 'input', 'value': '0.02518389', 'position': 13}, {'token': '.', 'token_id': 13, 'type': 'input', 'value': '0.019457716', 'position': 14}, {'token': ' Belgium', 'token_id': 15664, 'type': 'input', 'value': '0.12963511', 'position': 15}, {'token': '\\n', 'token_id': 198, 'type': 'input', 'value': '0.017461145', 'position': 16}, {'token': '3', 'token_id': 18, 'type': 'input', 'value': '0.028114121', 'position': 17}, {'token': '.', 'token_id': 13, 'type': 'input', 'value': '0.025315696', 'position': 18}, {'token': ' Bulgaria', 'token_id': 27902, 'type': 'input', 'value': '0.16295703', 'position': 19}, {'token': '\\n', 'token_id': 198, 'type': 'input', 'value': '0.016801847', 'position': 20}, {'token': '4', 'token_id': 19, 'type': 'input', 'value': '0.040485702', 'position': 21}, {'token': '.', 'token_id': 13, 'type': 'input', 'value': '0.033558354', 'position': 22}, {'token': ' Croatia', 'token_id': 28975, 'type': 'output', 'value': '0', 'position': 23}, {'token': '\\n', 'token_id': 198, 'type': 'output', 'value': '0', 'position': 24}, {'token': '5', 'token_id': 20, 'type': 'output', 'value': '0', 'position': 25}, {'token': '.', 'token_id': 13, 'type': 'output', 'value': '0', 'position': 26}, {'token': ' Cyprus', 'token_id': 27885, 'type': 'output', 'value': '0', 'position': 27}, {'token': '\\n', 'token_id': 198, 'type': 'output', 'value': '0', 'position': 28}, {'token': '6', 'token_id': 21, 'type': 'output', 'value': '0', 'position': 29}, {'token': '.', 'token_id': 13, 'type': 'output', 'value': '0', 'position': 30}, {'token': ' Czech', 'token_id': 16639, 'type': 'output', 'value': '0', 'position': 31}, {'token': ' Republic', 'token_id': 2066, 'type': 'output', 'value': '0', 'position': 32}, {'token': '\\n', 'token_id': 198, 'type': 'output', 'value': '0', 'position': 33}, {'token': '7', 'token_id': 22, 'type': 'output', 'value': '0', 'position': 34}, {'token': '.', 'token_id': 13, 'type': 'output', 'value': '0', 'position': 35}, {'token': ' Czech', 'token_id': 16639, 'type': 'output', 'value': '0', 'position': 36}, {'token': ' Republic', 'token_id': 2066, 'type': 'output', 'value': '0', 'position': 37}, {'token': '\\n', 'token_id': 198, 'type': 'output', 'value': '0', 'position': 38}, {'token': '8', 'token_id': 23, 'type': 'output', 'value': '0', 'position': 39}, {'token': '.', 'token_id': 13, 'type': 'output', 'value': '0', 'position': 40}, {'token': ' Denmark', 'token_id': 16490, 'type': 'output', 'value': '0', 'position': 41}, {'token': '\\n', 'token_id': 198, 'type': 'output', 'value': '0', 'position': 42}], 'attributions': [[0.04984569549560547, 0.05090375244617462, 0.01301918551325798, 0.011890958994626999, 0.04897882789373398, 0.027450427412986755, 0.015803534537553787, 0.020174114033579826, 0.026422863826155663, 0.035699546337127686, 0.026531100273132324, 0.15094105899333954, 0.02336832322180271, 0.025183890014886856, 0.01945771649479866, 0.12963511049747467, 0.017461145296692848, 0.02811412140727043, 0.025315696373581886, 0.16295702755451202, 0.016801847144961357, 0.04048570245504379, 0.033558353781700134], [0.05159769952297211, 0.06581487506628036, 0.01636352762579918, 0.014876791276037693, 0.04087211936712265, 0.03301149979233742, 0.030358823016285896, 0.03853726014494896, 0.03610890358686447, 0.046847257763147354, 0.030281327664852142, 0.08394519984722137, 0.025624802336096764, 0.03170834854245186, 0.02618202194571495, 0.04757749289274216, 0.02219453640282154, 0.028022902086377144, 0.016048915684223175, 0.045929938554763794, 0.02283228375017643, 0.029318900778889656, 0.022131890058517456, 0.19381269812583923], [0.0447370745241642, 0.058928944170475006, 0.017215099185705185, 0.014092699624598026, 0.03834927827119827, 0.028837943449616432, 0.02511242777109146, 0.035464540123939514, 0.04560326039791107, 0.06670596450567245, 0.0313228964805603, 0.05346795171499252, 0.031346939504146576, 0.056748319417238235, 0.02103975974023342, 0.03218746557831764, 0.02557113766670227, 0.05841219425201416, 0.025113621726632118, 0.040040481835603714, 0.028595972806215286, 0.07237009704113007, 0.025994369760155678, 0.06815607100725174, 0.05458550527691841], [0.045564137399196625, 0.07599051296710968, 0.014213349670171738, 0.011679484508931637, 0.03124881535768509, 0.027637075632810593, 0.022448405623435974, 0.024262141436338425, 0.027989579364657402, 0.045346397906541824, 0.02874092571437359, 0.0698070228099823, 0.02289779670536518, 0.03467100113630295, 0.031580906361341476, 0.043906304985284805, 0.0217323899269104, 0.03625648468732834, 0.030535977333784103, 0.0467626228928566, 0.027217555791139603, 0.05282251536846161, 0.028184473514556885, 0.07271527498960495, 0.03528711199760437, 0.0905018001794815], [0.04865585267543793, 0.04631797969341278, 0.012267832644283772, 0.011250386014580727, 0.04347021505236626, 0.02511260285973549, 0.015569702722132206, 0.019999030977487564, 0.025152696296572685, 0.029406843706965446, 0.021906541660428047, 0.12122585624456406, 0.01925903931260109, 0.02068142592906952, 0.01504836231470108, 0.08723058551549911, 0.014842329546809196, 0.01891927607357502, 0.021087151020765305, 0.09370830655097961, 0.01530926488339901, 0.021139955148100853, 0.016303516924381256, 0.14457567036151886, 0.01908968575298786, 0.03828059881925583, 0.03418930619955063], [0.052470192313194275, 0.06346923112869263, 0.015820791944861412, 0.01399228721857071, 0.03637165203690529, 0.028757469728589058, 0.03388009965419769, 0.0413784459233284, 0.030666692182421684, 0.04173571988940239, 0.022637099027633667, 0.0768243670463562, 0.020757224410772324, 0.0270247720181942, 0.022386472672224045, 0.04614516720175743, 0.016647296026349068, 0.021367888897657394, 0.014860590919852257, 0.04064979404211044, 0.015703052282333374, 0.021550007164478302, 0.014679751358926296, 0.04160512238740921, 0.01740563102066517, 0.023195847868919373, 0.015394141897559166, 0.1826232224702835], [0.03996364399790764, 0.052649542689323425, 0.015213399194180965, 0.011279529891908169, 0.030912237241864204, 0.02389862947165966, 0.02290189079940319, 0.032908663153648376, 0.044005826115608215, 0.05450066551566124, 0.02532488852739334, 0.043427810072898865, 0.02527325227856636, 0.039470016956329346, 0.01673874445259571, 0.02692497707903385, 0.022413380444049835, 0.03932111710309982, 0.02022838033735752, 0.03127052262425423, 0.022753199562430382, 0.05955798551440239, 0.01779855415225029, 0.04153219982981682, 0.030282586812973022, 0.08358743786811829, 0.021666623651981354, 0.06515166908502579, 0.03904271125793457], [0.0459105409681797, 0.07005202025175095, 0.012451785616576672, 0.011303882114589214, 0.02898692898452282, 0.024681316688656807, 0.019699493423104286, 0.022457130253314972, 0.026909666135907173, 0.040548257529735565, 0.02675662748515606, 0.060869015753269196, 0.019335374236106873, 0.02586827240884304, 0.027229223400354385, 0.04220478609204292, 0.019498279318213463, 0.025786345824599266, 0.021393369883298874, 0.0395171232521534, 0.017890434712171555, 0.025154927745461464, 0.028104927390813828, 0.03420327976346016, 0.027673624455928802, 0.04421912878751755, 0.0273989699780941, 0.05746548995375633, 0.037102892994880676, 0.089326873421669], [0.043421704322099686, 0.039948005229234695, 0.011890437453985214, 0.010054869577288628, 0.03795666620135307, 0.021921200677752495, 0.014000657945871353, 0.017815260216593742, 0.022326670587062836, 0.026219680905342102, 0.01770687662065029, 0.10203428566455841, 0.01828479766845703, 0.01847495324909687, 0.012946845032274723, 0.0686977207660675, 0.014193054288625717, 0.015924401581287384, 0.016378331929445267, 0.06861121207475662, 0.015975937247276306, 0.018408088013529778, 0.011101678013801575, 0.10008258372545242, 0.013353697955608368, 0.017332375049591064, 0.014081444591283798, 0.13706327974796295, 0.014479275792837143, 0.03265651315450668, 0.02665751613676548], [0.023833075538277626, 0.030836161226034164, 0.006953353062272072, 0.007224247325211763, 0.02533878944814205, 0.013299260288476944, 0.011000222526490688, 0.012612114660441875, 0.015010567381978035, 0.013386095874011517, 0.010005100630223751, 0.05003351345658302, 0.012213947251439095, 0.011825230903923512, 0.009871128015220165, 0.02795906364917755, 0.01140940934419632, 0.011542437598109245, 0.009428903460502625, 0.04335785284638405, 0.009976985864341259, 0.013009604066610336, 0.009198405779898167, 0.036838509142398834, 0.014856761321425438, 0.018794070929288864, 0.010268056765198708, 0.06057102605700493, 0.031357262283563614, 0.046234164386987686, 0.030056405812501907, 0.36169829964637756], [0.043860938400030136, 0.04923338070511818, 0.012560679577291012, 0.010581267066299915, 0.02970324270427227, 0.022179031744599342, 0.025816334411501884, 0.03754965588450432, 0.02653869241476059, 0.032153982669115067, 0.017897171899676323, 0.06196080520749092, 0.016627298668026924, 0.022234315052628517, 0.01693856343626976, 0.04350382462143898, 0.013357410207390785, 0.015838608145713806, 0.012993084266781807, 0.03803606703877449, 0.01197473518550396, 0.01547748502343893, 0.011029932647943497, 0.03204194828867912, 0.012836288660764694, 0.013048353604972363, 0.00896256323903799, 0.03714832663536072, 0.01514858566224575, 0.019328728318214417, 0.013269833289086819, 0.1165672317147255, 0.14360162615776062], [0.03364778310060501, 0.042311444878578186, 0.01214766874909401, 0.008493518456816673, 0.02460644580423832, 0.01927092671394348, 0.018679659813642502, 0.028111865743994713, 0.0390426404774189, 0.04327354580163956, 0.017900623381137848, 0.033925529569387436, 0.022336306050419807, 0.03185320645570755, 0.014270666986703873, 0.024526752531528473, 0.02352897636592388, 0.03385668992996216, 0.015170539729297161, 0.02786726877093315, 0.019708814099431038, 0.04256177321076393, 0.015784885734319687, 0.029166890308260918, 0.02254430763423443, 0.062379103153944016, 0.012792231515049934, 0.031523581594228745, 0.02840038388967514, 0.0669640451669693, 0.0200662761926651, 0.05125848203897476, 0.03745165467262268, 0.04457545280456543], [0.043315064162015915, 0.06289553642272949, 0.011161111295223236, 0.010933822952210903, 0.025874946266412735, 0.021471885964274406, 0.01849707029759884, 0.020696107298135757, 0.025129208341240883, 0.03346875682473183, 0.022843439131975174, 0.056028734892606735, 0.01705702766776085, 0.021391797810792923, 0.02353569120168686, 0.038780927658081055, 0.01580321416258812, 0.019250037148594856, 0.018359052017331123, 0.0353936068713665, 0.015252764336764812, 0.021191325038671494, 0.018063899129629135, 0.02715458534657955, 0.016415735706686974, 0.01948448084294796, 0.02652573771774769, 0.027927974238991737, 0.02867349050939083, 0.05410058796405792, 0.020157398656010628, 0.044862743467092514, 0.02161838486790657, 0.031657084822654724, 0.0850268080830574], [0.04116087034344673, 0.03674810007214546, 0.011238353326916695, 0.009741580113768578, 0.03550989553332329, 0.020228391513228416, 0.013123414479196072, 0.016576414927840233, 0.021505404263734818, 0.02378201112151146, 0.017605405300855637, 0.09796258062124252, 0.01662920042872429, 0.01646548882126808, 0.012118666432797909, 0.06332491338253021, 0.012642990797758102, 0.014065293595194817, 0.01489323377609253, 0.06469787657260895, 0.011660929769277573, 0.014064005576074123, 0.009909790009260178, 0.06482219696044922, 0.011512148194015026, 0.012476270087063313, 0.009927934035658836, 0.08214196562767029, 0.010651345364749432, 0.012167435139417648, 0.011830882169306278, 0.1063869372010231, 0.010003828443586826, 0.014430137351155281, 0.031862251460552216, 0.026131881400942802], [0.021255457773804665, 0.025166377425193787, 0.006673744879662991, 0.006978815421462059, 0.02180672623217106, 0.01074120681732893, 0.008939425460994244, 0.00990503840148449, 0.0112227788195014, 0.00937909446656704, 0.008329150266945362, 0.036837294697761536, 0.010077837854623795, 0.009316903539001942, 0.006873571313917637, 0.024132899940013885, 0.008958272635936737, 0.008938610553741455, 0.0067272670567035675, 0.036720894277095795, 0.008234705775976181, 0.00869889184832573, 0.006972212810069323, 0.03548791632056236, 0.010015991516411304, 0.010275299660861492, 0.007395464926958084, 0.0570448637008667, 0.012917938642203808, 0.01523459330201149, 0.010437367483973503, 0.11719667166471481, 0.09249114245176315, 0.01566937565803528, 0.026319719851017, 0.016016991809010506, 0.2606094777584076], [0.04281868785619736, 0.04607734829187393, 0.012026644311845303, 0.010110327042639256, 0.027625247836112976, 0.02054881863296032, 0.02542579546570778, 0.035364583134651184, 0.02341289073228836, 0.02848871424794197, 0.015729516744613647, 0.05746341869235039, 0.014008762314915657, 0.018426859751343727, 0.014721090905368328, 0.041149161756038666, 0.011201493442058563, 0.012865837663412094, 0.011667187325656414, 0.035634517669677734, 0.010726596228778362, 0.0136606115847826, 0.009059292264282703, 0.0304567813873291, 0.01106911152601242, 0.011551630683243275, 0.007199081126600504, 0.03367558494210243, 0.010272174142301083, 0.012972869910299778, 0.013393301516771317, 0.035578515380620956, 0.038788821548223495, 0.01708918996155262, 0.023397445678710938, 0.012612138874828815, 0.08114346116781235, 0.12258648872375488], [0.03137296810746193, 0.042793408036231995, 0.011760189197957516, 0.00892253965139389, 0.023875942453742027, 0.019037799909710884, 0.018733324483036995, 0.025780487805604935, 0.03797299787402153, 0.03812859207391739, 0.016191167756915092, 0.0322391577064991, 0.021039370447397232, 0.026269398629665375, 0.013312572613358498, 0.02370130643248558, 0.019007263705134392, 0.02530856244266033, 0.011106031946837902, 0.02545371651649475, 0.015335377305746078, 0.03103066235780716, 0.009885844774544239, 0.024224895983934402, 0.01605558581650257, 0.03574242815375328, 0.009977112524211407, 0.02290542982518673, 0.020002029836177826, 0.03836098313331604, 0.01058259792625904, 0.03727635368704796, 0.01393282413482666, 0.02642226405441761, 0.05844048783183098, 0.01869799941778183, 0.05611095950007439, 0.03933945670723915, 0.04366987571120262], [0.04329871013760567, 0.0624237060546875, 0.011056954972445965, 0.010997314937412739, 0.02588530257344246, 0.02139020711183548, 0.01864783465862274, 0.020425254479050636, 0.024815727025270462, 0.03458758071064949, 0.020411714911460876, 0.05630213022232056, 0.014915450476109982, 0.019212916493415833, 0.02053779922425747, 0.038297198712825775, 0.012422305531799793, 0.015578793361783028, 0.013815263286232948, 0.03489335626363754, 0.011588722467422485, 0.01560616958886385, 0.014009230770170689, 0.025719447061419487, 0.010952578857541084, 0.015398637391626835, 0.015245337970554829, 0.022432800382375717, 0.012745135463774204, 0.019208528101444244, 0.017557820305228233, 0.026938002556562424, 0.01515841856598854, 0.020548485219478607, 0.04727382957935333, 0.020086703822016716, 0.03753320872783661, 0.018108388409018517, 0.030003616586327553, 0.08396945893764496], [0.037911415100097656, 0.03305517137050629, 0.010077612474560738, 0.009092465974390507, 0.03212045133113861, 0.01802818290889263, 0.011886613443493843, 0.015221902169287205, 0.01984715461730957, 0.019864600151777267, 0.01655723713338375, 0.09169072657823563, 0.013926084153354168, 0.014215279370546341, 0.011042834259569645, 0.05632350221276283, 0.010605714283883572, 0.012078267522156239, 0.013529114425182343, 0.05846620723605156, 0.00963560864329338, 0.010781221091747284, 0.00868447870016098, 0.05220412835478783, 0.009532990865409374, 0.009714246727526188, 0.006795361638069153, 0.050479140132665634, 0.009684809483587742, 0.011204390786588192, 0.009049695916473866, 0.06370191276073456, 0.01937204971909523, 0.011229903437197208, 0.015558670274913311, 0.016365401446819305, 0.10442225635051727, 0.009411187842488289, 0.01369903702288866, 0.028353260830044746, 0.024579785764217377], [0.041535377502441406, 0.03840943053364754, 0.013335986994206905, 0.009082241915166378, 0.026415809988975525, 0.019976036623120308, 0.021274155005812645, 0.030915305018424988, 0.031858112663030624, 0.031955454498529434, 0.01929081231355667, 0.05337592214345932, 0.026302510872483253, 0.026399770751595497, 0.015304275788366795, 0.0330418162047863, 0.018333807587623596, 0.017907708883285522, 0.010337822139263153, 0.03704322874546051, 0.01623835228383541, 0.015257093124091625, 0.010068138130009174, 0.02397361397743225, 0.020173097029328346, 0.008797375485301018, 0.004982599522918463, 0.019407495856285095, 0.011142708361148834, 0.009844513610005379, 0.006099583115428686, 0.03140928968787193, 0.014375749044120312, 0.013206725008785725, 0.015325665473937988, 0.00836519431322813, 0.02573379874229431, 0.013769572600722313, 0.022839251905679703, 0.03985356166958809, 0.020258625969290733, 0.12678249180316925]]},\n",
       "                preset: 'viridis'\n",
       "             })\n",
       "\n",
       "             window.ecco[viz_id].init();\n",
       "             window.ecco[viz_id].selectFirstToken();\n",
       "\n",
       "             }, function (err) {\n",
       "                console.log(err);\n",
       "            })"
      ],
      "text/plain": [
       "<IPython.core.display.Javascript object>"
      ]
     },
     "metadata": {},
     "output_type": "display_data"
    }
   ],
   "source": [
    "output.saliency(attr_method='grad_x_input')"
   ]
  },
  {
   "cell_type": "code",
   "execution_count": 4,
   "metadata": {
    "colab": {
     "base_uri": "https://localhost:8080/",
     "height": 357
    },
    "id": "rRM7NKV91TCk",
    "outputId": "cb209195-cea3-4402-ef3c-ead36f0d405f"
   },
   "outputs": [
    {
     "data": {
      "text/html": [
       "<html lang=\"en\">\n",
       "<script src=\"https://requirejs.org/docs/release/2.3.6/minified/require.js\"></script>\n",
       "<script>\n",
       "    var ecco_url = 'https://storage.googleapis.com/ml-intro/ecco/'\n",
       "    // var ecco_url = 'http://localhost:8000/ecco/'\n",
       "\n",
       "    if (window.ecco === undefined) window.ecco = {}\n",
       "\n",
       "    requirejs.config({\n",
       "        urlArgs: \"bust=\" + (new Date()).getTime(),\n",
       "        nodeRequire: require,\n",
       "        paths: {\n",
       "            d3: \"https://d3js.org/d3.v5.min\",\n",
       "            \"d3-array\": \"https://d3js.org/d3-array.v2.min\",\n",
       "            jquery: \"https://code.jquery.com/jquery-3.5.1.min\",\n",
       "            // oldEcco: ecco_url + 'ecco',\n",
       "            ecco: ecco_url + 'js/0.0.4/ecco-bundle.min',\n",
       "            xregexp: 'https://cdnjs.cloudflare.com/ajax/libs/xregexp/3.2.0/xregexp-all.min'\n",
       "        }\n",
       "    });\n",
       "    requirejs(['d3'],\n",
       "        function (d3) {\n",
       "            d3.select('#css').attr('href', ecco_url + 'html/styles.css')\n",
       "        })\n",
       "\n",
       "    console.log('Ecco initialize.')\n",
       "</script>\n",
       "\n",
       "<head>\n",
       "    <link id='css' rel=\"stylesheet\" type=\"text/css\">\n",
       "</head>\n"
      ],
      "text/plain": [
       "<IPython.core.display.HTML object>"
      ]
     },
     "metadata": {},
     "output_type": "display_data"
    },
    {
     "data": {
      "text/html": [
       "<script>\n",
       "    // console.log('defining basic')\n",
       "    define('basic', ['d3'],\n",
       "        function (d3) {\n",
       "            return {\n",
       "                init: function (viz_id = null) {\n",
       "\n",
       "                    // console.log('basic init')\n",
       "                    if (viz_id == null){\n",
       "                        viz_id = \"viz_\" + Math.round(Math.random() * 10000000)\n",
       "                    }\n",
       "                    const div = d3.select('#basic').attr('id', viz_id),\n",
       "                        div_parent = d3.select('#' + viz_id).node().parentNode\n",
       "\n",
       "                    // Link to CSS file\n",
       "                    d3.select(div_parent).insert('link')\n",
       "                        .attr('rel', 'stylesheet')\n",
       "                        .attr('type', 'text/css')\n",
       "                        .attr('href', ecco_url + 'html/styles.css')\n",
       "\n",
       "                    return viz_id\n",
       "                }\n",
       "            }\n",
       "        }, function (err) {console.log(err);}\n",
       "    )\n",
       "    // console.log('after defining basic')\n",
       "\n",
       "</script>\n",
       "<div id=\"basic\"></div>\n"
      ],
      "text/plain": [
       "<IPython.core.display.HTML object>"
      ]
     },
     "metadata": {},
     "output_type": "display_data"
    },
    {
     "data": {
      "application/javascript": [
       "\n",
       "             requirejs(['basic', 'ecco'], function(basic, ecco){\n",
       "                const viz_id = basic.init()\n",
       "                window.ecco[viz_id] = ecco.interactiveTokens(viz_id, {'tokens': [{'token': 'The', 'token_id': 464, 'type': 'input', 'value': '0.049845695', 'position': 0}, {'token': ' countries', 'token_id': 2678, 'type': 'input', 'value': '0.050903752', 'position': 1}, {'token': ' of', 'token_id': 286, 'type': 'input', 'value': '0.0130191855', 'position': 2}, {'token': ' the', 'token_id': 262, 'type': 'input', 'value': '0.011890959', 'position': 3}, {'token': ' European', 'token_id': 3427, 'type': 'input', 'value': '0.048978828', 'position': 4}, {'token': ' Union', 'token_id': 4479, 'type': 'input', 'value': '0.027450427', 'position': 5}, {'token': ' are', 'token_id': 389, 'type': 'input', 'value': '0.015803535', 'position': 6}, {'token': ':', 'token_id': 25, 'type': 'input', 'value': '0.020174114', 'position': 7}, {'token': '\\n', 'token_id': 198, 'type': 'input', 'value': '0.026422864', 'position': 8}, {'token': '1', 'token_id': 16, 'type': 'input', 'value': '0.035699546', 'position': 9}, {'token': '.', 'token_id': 13, 'type': 'input', 'value': '0.0265311', 'position': 10}, {'token': ' Austria', 'token_id': 17322, 'type': 'input', 'value': '0.15094106', 'position': 11}, {'token': '\\n', 'token_id': 198, 'type': 'input', 'value': '0.023368323', 'position': 12}, {'token': '2', 'token_id': 17, 'type': 'input', 'value': '0.02518389', 'position': 13}, {'token': '.', 'token_id': 13, 'type': 'input', 'value': '0.019457716', 'position': 14}, {'token': ' Belgium', 'token_id': 15664, 'type': 'input', 'value': '0.12963511', 'position': 15}, {'token': '\\n', 'token_id': 198, 'type': 'input', 'value': '0.017461145', 'position': 16}, {'token': '3', 'token_id': 18, 'type': 'input', 'value': '0.028114121', 'position': 17}, {'token': '.', 'token_id': 13, 'type': 'input', 'value': '0.025315696', 'position': 18}, {'token': ' Bulgaria', 'token_id': 27902, 'type': 'input', 'value': '0.16295703', 'position': 19}, {'token': '\\n', 'token_id': 198, 'type': 'input', 'value': '0.016801847', 'position': 20}, {'token': '4', 'token_id': 19, 'type': 'input', 'value': '0.040485702', 'position': 21}, {'token': '.', 'token_id': 13, 'type': 'input', 'value': '0.033558354', 'position': 22}, {'token': ' Croatia', 'token_id': 28975, 'type': 'output', 'value': '0', 'position': 23}, {'token': '\\n', 'token_id': 198, 'type': 'output', 'value': '0', 'position': 24}, {'token': '5', 'token_id': 20, 'type': 'output', 'value': '0', 'position': 25}, {'token': '.', 'token_id': 13, 'type': 'output', 'value': '0', 'position': 26}, {'token': ' Cyprus', 'token_id': 27885, 'type': 'output', 'value': '0', 'position': 27}, {'token': '\\n', 'token_id': 198, 'type': 'output', 'value': '0', 'position': 28}, {'token': '6', 'token_id': 21, 'type': 'output', 'value': '0', 'position': 29}, {'token': '.', 'token_id': 13, 'type': 'output', 'value': '0', 'position': 30}, {'token': ' Czech', 'token_id': 16639, 'type': 'output', 'value': '0', 'position': 31}, {'token': ' Republic', 'token_id': 2066, 'type': 'output', 'value': '0', 'position': 32}, {'token': '\\n', 'token_id': 198, 'type': 'output', 'value': '0', 'position': 33}, {'token': '7', 'token_id': 22, 'type': 'output', 'value': '0', 'position': 34}, {'token': '.', 'token_id': 13, 'type': 'output', 'value': '0', 'position': 35}, {'token': ' Czech', 'token_id': 16639, 'type': 'output', 'value': '0', 'position': 36}, {'token': ' Republic', 'token_id': 2066, 'type': 'output', 'value': '0', 'position': 37}, {'token': '\\n', 'token_id': 198, 'type': 'output', 'value': '0', 'position': 38}, {'token': '8', 'token_id': 23, 'type': 'output', 'value': '0', 'position': 39}, {'token': '.', 'token_id': 13, 'type': 'output', 'value': '0', 'position': 40}, {'token': ' Denmark', 'token_id': 16490, 'type': 'output', 'value': '0', 'position': 41}, {'token': '\\n', 'token_id': 198, 'type': 'output', 'value': '0', 'position': 42}], 'attributions': [[0.04984569549560547, 0.05090375244617462, 0.01301918551325798, 0.011890958994626999, 0.04897882789373398, 0.027450427412986755, 0.015803534537553787, 0.020174114033579826, 0.026422863826155663, 0.035699546337127686, 0.026531100273132324, 0.15094105899333954, 0.02336832322180271, 0.025183890014886856, 0.01945771649479866, 0.12963511049747467, 0.017461145296692848, 0.02811412140727043, 0.025315696373581886, 0.16295702755451202, 0.016801847144961357, 0.04048570245504379, 0.033558353781700134], [0.05159769952297211, 0.06581487506628036, 0.01636352762579918, 0.014876791276037693, 0.04087211936712265, 0.03301149979233742, 0.030358823016285896, 0.03853726014494896, 0.03610890358686447, 0.046847257763147354, 0.030281327664852142, 0.08394519984722137, 0.025624802336096764, 0.03170834854245186, 0.02618202194571495, 0.04757749289274216, 0.02219453640282154, 0.028022902086377144, 0.016048915684223175, 0.045929938554763794, 0.02283228375017643, 0.029318900778889656, 0.022131890058517456, 0.19381269812583923], [0.0447370745241642, 0.058928944170475006, 0.017215099185705185, 0.014092699624598026, 0.03834927827119827, 0.028837943449616432, 0.02511242777109146, 0.035464540123939514, 0.04560326039791107, 0.06670596450567245, 0.0313228964805603, 0.05346795171499252, 0.031346939504146576, 0.056748319417238235, 0.02103975974023342, 0.03218746557831764, 0.02557113766670227, 0.05841219425201416, 0.025113621726632118, 0.040040481835603714, 0.028595972806215286, 0.07237009704113007, 0.025994369760155678, 0.06815607100725174, 0.05458550527691841], [0.045564137399196625, 0.07599051296710968, 0.014213349670171738, 0.011679484508931637, 0.03124881535768509, 0.027637075632810593, 0.022448405623435974, 0.024262141436338425, 0.027989579364657402, 0.045346397906541824, 0.02874092571437359, 0.0698070228099823, 0.02289779670536518, 0.03467100113630295, 0.031580906361341476, 0.043906304985284805, 0.0217323899269104, 0.03625648468732834, 0.030535977333784103, 0.0467626228928566, 0.027217555791139603, 0.05282251536846161, 0.028184473514556885, 0.07271527498960495, 0.03528711199760437, 0.0905018001794815], [0.04865585267543793, 0.04631797969341278, 0.012267832644283772, 0.011250386014580727, 0.04347021505236626, 0.02511260285973549, 0.015569702722132206, 0.019999030977487564, 0.025152696296572685, 0.029406843706965446, 0.021906541660428047, 0.12122585624456406, 0.01925903931260109, 0.02068142592906952, 0.01504836231470108, 0.08723058551549911, 0.014842329546809196, 0.01891927607357502, 0.021087151020765305, 0.09370830655097961, 0.01530926488339901, 0.021139955148100853, 0.016303516924381256, 0.14457567036151886, 0.01908968575298786, 0.03828059881925583, 0.03418930619955063], [0.052470192313194275, 0.06346923112869263, 0.015820791944861412, 0.01399228721857071, 0.03637165203690529, 0.028757469728589058, 0.03388009965419769, 0.0413784459233284, 0.030666692182421684, 0.04173571988940239, 0.022637099027633667, 0.0768243670463562, 0.020757224410772324, 0.0270247720181942, 0.022386472672224045, 0.04614516720175743, 0.016647296026349068, 0.021367888897657394, 0.014860590919852257, 0.04064979404211044, 0.015703052282333374, 0.021550007164478302, 0.014679751358926296, 0.04160512238740921, 0.01740563102066517, 0.023195847868919373, 0.015394141897559166, 0.1826232224702835], [0.03996364399790764, 0.052649542689323425, 0.015213399194180965, 0.011279529891908169, 0.030912237241864204, 0.02389862947165966, 0.02290189079940319, 0.032908663153648376, 0.044005826115608215, 0.05450066551566124, 0.02532488852739334, 0.043427810072898865, 0.02527325227856636, 0.039470016956329346, 0.01673874445259571, 0.02692497707903385, 0.022413380444049835, 0.03932111710309982, 0.02022838033735752, 0.03127052262425423, 0.022753199562430382, 0.05955798551440239, 0.01779855415225029, 0.04153219982981682, 0.030282586812973022, 0.08358743786811829, 0.021666623651981354, 0.06515166908502579, 0.03904271125793457], [0.0459105409681797, 0.07005202025175095, 0.012451785616576672, 0.011303882114589214, 0.02898692898452282, 0.024681316688656807, 0.019699493423104286, 0.022457130253314972, 0.026909666135907173, 0.040548257529735565, 0.02675662748515606, 0.060869015753269196, 0.019335374236106873, 0.02586827240884304, 0.027229223400354385, 0.04220478609204292, 0.019498279318213463, 0.025786345824599266, 0.021393369883298874, 0.0395171232521534, 0.017890434712171555, 0.025154927745461464, 0.028104927390813828, 0.03420327976346016, 0.027673624455928802, 0.04421912878751755, 0.0273989699780941, 0.05746548995375633, 0.037102892994880676, 0.089326873421669], [0.043421704322099686, 0.039948005229234695, 0.011890437453985214, 0.010054869577288628, 0.03795666620135307, 0.021921200677752495, 0.014000657945871353, 0.017815260216593742, 0.022326670587062836, 0.026219680905342102, 0.01770687662065029, 0.10203428566455841, 0.01828479766845703, 0.01847495324909687, 0.012946845032274723, 0.0686977207660675, 0.014193054288625717, 0.015924401581287384, 0.016378331929445267, 0.06861121207475662, 0.015975937247276306, 0.018408088013529778, 0.011101678013801575, 0.10008258372545242, 0.013353697955608368, 0.017332375049591064, 0.014081444591283798, 0.13706327974796295, 0.014479275792837143, 0.03265651315450668, 0.02665751613676548], [0.023833075538277626, 0.030836161226034164, 0.006953353062272072, 0.007224247325211763, 0.02533878944814205, 0.013299260288476944, 0.011000222526490688, 0.012612114660441875, 0.015010567381978035, 0.013386095874011517, 0.010005100630223751, 0.05003351345658302, 0.012213947251439095, 0.011825230903923512, 0.009871128015220165, 0.02795906364917755, 0.01140940934419632, 0.011542437598109245, 0.009428903460502625, 0.04335785284638405, 0.009976985864341259, 0.013009604066610336, 0.009198405779898167, 0.036838509142398834, 0.014856761321425438, 0.018794070929288864, 0.010268056765198708, 0.06057102605700493, 0.031357262283563614, 0.046234164386987686, 0.030056405812501907, 0.36169829964637756], [0.043860938400030136, 0.04923338070511818, 0.012560679577291012, 0.010581267066299915, 0.02970324270427227, 0.022179031744599342, 0.025816334411501884, 0.03754965588450432, 0.02653869241476059, 0.032153982669115067, 0.017897171899676323, 0.06196080520749092, 0.016627298668026924, 0.022234315052628517, 0.01693856343626976, 0.04350382462143898, 0.013357410207390785, 0.015838608145713806, 0.012993084266781807, 0.03803606703877449, 0.01197473518550396, 0.01547748502343893, 0.011029932647943497, 0.03204194828867912, 0.012836288660764694, 0.013048353604972363, 0.00896256323903799, 0.03714832663536072, 0.01514858566224575, 0.019328728318214417, 0.013269833289086819, 0.1165672317147255, 0.14360162615776062], [0.03364778310060501, 0.042311444878578186, 0.01214766874909401, 0.008493518456816673, 0.02460644580423832, 0.01927092671394348, 0.018679659813642502, 0.028111865743994713, 0.0390426404774189, 0.04327354580163956, 0.017900623381137848, 0.033925529569387436, 0.022336306050419807, 0.03185320645570755, 0.014270666986703873, 0.024526752531528473, 0.02352897636592388, 0.03385668992996216, 0.015170539729297161, 0.02786726877093315, 0.019708814099431038, 0.04256177321076393, 0.015784885734319687, 0.029166890308260918, 0.02254430763423443, 0.062379103153944016, 0.012792231515049934, 0.031523581594228745, 0.02840038388967514, 0.0669640451669693, 0.0200662761926651, 0.05125848203897476, 0.03745165467262268, 0.04457545280456543], [0.043315064162015915, 0.06289553642272949, 0.011161111295223236, 0.010933822952210903, 0.025874946266412735, 0.021471885964274406, 0.01849707029759884, 0.020696107298135757, 0.025129208341240883, 0.03346875682473183, 0.022843439131975174, 0.056028734892606735, 0.01705702766776085, 0.021391797810792923, 0.02353569120168686, 0.038780927658081055, 0.01580321416258812, 0.019250037148594856, 0.018359052017331123, 0.0353936068713665, 0.015252764336764812, 0.021191325038671494, 0.018063899129629135, 0.02715458534657955, 0.016415735706686974, 0.01948448084294796, 0.02652573771774769, 0.027927974238991737, 0.02867349050939083, 0.05410058796405792, 0.020157398656010628, 0.044862743467092514, 0.02161838486790657, 0.031657084822654724, 0.0850268080830574], [0.04116087034344673, 0.03674810007214546, 0.011238353326916695, 0.009741580113768578, 0.03550989553332329, 0.020228391513228416, 0.013123414479196072, 0.016576414927840233, 0.021505404263734818, 0.02378201112151146, 0.017605405300855637, 0.09796258062124252, 0.01662920042872429, 0.01646548882126808, 0.012118666432797909, 0.06332491338253021, 0.012642990797758102, 0.014065293595194817, 0.01489323377609253, 0.06469787657260895, 0.011660929769277573, 0.014064005576074123, 0.009909790009260178, 0.06482219696044922, 0.011512148194015026, 0.012476270087063313, 0.009927934035658836, 0.08214196562767029, 0.010651345364749432, 0.012167435139417648, 0.011830882169306278, 0.1063869372010231, 0.010003828443586826, 0.014430137351155281, 0.031862251460552216, 0.026131881400942802], [0.021255457773804665, 0.025166377425193787, 0.006673744879662991, 0.006978815421462059, 0.02180672623217106, 0.01074120681732893, 0.008939425460994244, 0.00990503840148449, 0.0112227788195014, 0.00937909446656704, 0.008329150266945362, 0.036837294697761536, 0.010077837854623795, 0.009316903539001942, 0.006873571313917637, 0.024132899940013885, 0.008958272635936737, 0.008938610553741455, 0.0067272670567035675, 0.036720894277095795, 0.008234705775976181, 0.00869889184832573, 0.006972212810069323, 0.03548791632056236, 0.010015991516411304, 0.010275299660861492, 0.007395464926958084, 0.0570448637008667, 0.012917938642203808, 0.01523459330201149, 0.010437367483973503, 0.11719667166471481, 0.09249114245176315, 0.01566937565803528, 0.026319719851017, 0.016016991809010506, 0.2606094777584076], [0.04281868785619736, 0.04607734829187393, 0.012026644311845303, 0.010110327042639256, 0.027625247836112976, 0.02054881863296032, 0.02542579546570778, 0.035364583134651184, 0.02341289073228836, 0.02848871424794197, 0.015729516744613647, 0.05746341869235039, 0.014008762314915657, 0.018426859751343727, 0.014721090905368328, 0.041149161756038666, 0.011201493442058563, 0.012865837663412094, 0.011667187325656414, 0.035634517669677734, 0.010726596228778362, 0.0136606115847826, 0.009059292264282703, 0.0304567813873291, 0.01106911152601242, 0.011551630683243275, 0.007199081126600504, 0.03367558494210243, 0.010272174142301083, 0.012972869910299778, 0.013393301516771317, 0.035578515380620956, 0.038788821548223495, 0.01708918996155262, 0.023397445678710938, 0.012612138874828815, 0.08114346116781235, 0.12258648872375488], [0.03137296810746193, 0.042793408036231995, 0.011760189197957516, 0.00892253965139389, 0.023875942453742027, 0.019037799909710884, 0.018733324483036995, 0.025780487805604935, 0.03797299787402153, 0.03812859207391739, 0.016191167756915092, 0.0322391577064991, 0.021039370447397232, 0.026269398629665375, 0.013312572613358498, 0.02370130643248558, 0.019007263705134392, 0.02530856244266033, 0.011106031946837902, 0.02545371651649475, 0.015335377305746078, 0.03103066235780716, 0.009885844774544239, 0.024224895983934402, 0.01605558581650257, 0.03574242815375328, 0.009977112524211407, 0.02290542982518673, 0.020002029836177826, 0.03836098313331604, 0.01058259792625904, 0.03727635368704796, 0.01393282413482666, 0.02642226405441761, 0.05844048783183098, 0.01869799941778183, 0.05611095950007439, 0.03933945670723915, 0.04366987571120262], [0.04329871013760567, 0.0624237060546875, 0.011056954972445965, 0.010997314937412739, 0.02588530257344246, 0.02139020711183548, 0.01864783465862274, 0.020425254479050636, 0.024815727025270462, 0.03458758071064949, 0.020411714911460876, 0.05630213022232056, 0.014915450476109982, 0.019212916493415833, 0.02053779922425747, 0.038297198712825775, 0.012422305531799793, 0.015578793361783028, 0.013815263286232948, 0.03489335626363754, 0.011588722467422485, 0.01560616958886385, 0.014009230770170689, 0.025719447061419487, 0.010952578857541084, 0.015398637391626835, 0.015245337970554829, 0.022432800382375717, 0.012745135463774204, 0.019208528101444244, 0.017557820305228233, 0.026938002556562424, 0.01515841856598854, 0.020548485219478607, 0.04727382957935333, 0.020086703822016716, 0.03753320872783661, 0.018108388409018517, 0.030003616586327553, 0.08396945893764496], [0.037911415100097656, 0.03305517137050629, 0.010077612474560738, 0.009092465974390507, 0.03212045133113861, 0.01802818290889263, 0.011886613443493843, 0.015221902169287205, 0.01984715461730957, 0.019864600151777267, 0.01655723713338375, 0.09169072657823563, 0.013926084153354168, 0.014215279370546341, 0.011042834259569645, 0.05632350221276283, 0.010605714283883572, 0.012078267522156239, 0.013529114425182343, 0.05846620723605156, 0.00963560864329338, 0.010781221091747284, 0.00868447870016098, 0.05220412835478783, 0.009532990865409374, 0.009714246727526188, 0.006795361638069153, 0.050479140132665634, 0.009684809483587742, 0.011204390786588192, 0.009049695916473866, 0.06370191276073456, 0.01937204971909523, 0.011229903437197208, 0.015558670274913311, 0.016365401446819305, 0.10442225635051727, 0.009411187842488289, 0.01369903702288866, 0.028353260830044746, 0.024579785764217377], [0.041535377502441406, 0.03840943053364754, 0.013335986994206905, 0.009082241915166378, 0.026415809988975525, 0.019976036623120308, 0.021274155005812645, 0.030915305018424988, 0.031858112663030624, 0.031955454498529434, 0.01929081231355667, 0.05337592214345932, 0.026302510872483253, 0.026399770751595497, 0.015304275788366795, 0.0330418162047863, 0.018333807587623596, 0.017907708883285522, 0.010337822139263153, 0.03704322874546051, 0.01623835228383541, 0.015257093124091625, 0.010068138130009174, 0.02397361397743225, 0.020173097029328346, 0.008797375485301018, 0.004982599522918463, 0.019407495856285095, 0.011142708361148834, 0.009844513610005379, 0.006099583115428686, 0.03140928968787193, 0.014375749044120312, 0.013206725008785725, 0.015325665473937988, 0.00836519431322813, 0.02573379874229431, 0.013769572600722313, 0.022839251905679703, 0.03985356166958809, 0.020258625969290733, 0.12678249180316925]]})\n",
       "\n",
       "             }, function (err) {\n",
       "                console.log(err);\n",
       "            })"
      ],
      "text/plain": [
       "<IPython.core.display.Javascript object>"
      ]
     },
     "metadata": {},
     "output_type": "display_data"
    }
   ],
   "source": [
    "output.saliency(attr_method='grad_x_input', style=\"detailed\")"
   ]
  },
  {
   "cell_type": "code",
   "execution_count": 5,
   "metadata": {
    "id": "iecRaZ0M14Lm"
   },
   "outputs": [
    {
     "data": {
      "text/html": [
       "<html lang=\"en\">\n",
       "<script src=\"https://requirejs.org/docs/release/2.3.6/minified/require.js\"></script>\n",
       "<script>\n",
       "    var ecco_url = 'https://storage.googleapis.com/ml-intro/ecco/'\n",
       "    // var ecco_url = 'http://localhost:8000/ecco/'\n",
       "\n",
       "    if (window.ecco === undefined) window.ecco = {}\n",
       "\n",
       "    requirejs.config({\n",
       "        urlArgs: \"bust=\" + (new Date()).getTime(),\n",
       "        nodeRequire: require,\n",
       "        paths: {\n",
       "            d3: \"https://d3js.org/d3.v5.min\",\n",
       "            \"d3-array\": \"https://d3js.org/d3-array.v2.min\",\n",
       "            jquery: \"https://code.jquery.com/jquery-3.5.1.min\",\n",
       "            // oldEcco: ecco_url + 'ecco',\n",
       "            ecco: ecco_url + 'js/0.0.4/ecco-bundle.min',\n",
       "            xregexp: 'https://cdnjs.cloudflare.com/ajax/libs/xregexp/3.2.0/xregexp-all.min'\n",
       "        }\n",
       "    });\n",
       "    requirejs(['d3'],\n",
       "        function (d3) {\n",
       "            d3.select('#css').attr('href', ecco_url + 'html/styles.css')\n",
       "        })\n",
       "\n",
       "    console.log('Ecco initialize.')\n",
       "</script>\n",
       "\n",
       "<head>\n",
       "    <link id='css' rel=\"stylesheet\" type=\"text/css\">\n",
       "</head>\n"
      ],
      "text/plain": [
       "<IPython.core.display.HTML object>"
      ]
     },
     "metadata": {},
     "output_type": "display_data"
    },
    {
     "data": {
      "text/html": [
       "<script>\n",
       "    // console.log('defining basic')\n",
       "    define('basic', ['d3'],\n",
       "        function (d3) {\n",
       "            return {\n",
       "                init: function (viz_id = null) {\n",
       "\n",
       "                    // console.log('basic init')\n",
       "                    if (viz_id == null){\n",
       "                        viz_id = \"viz_\" + Math.round(Math.random() * 10000000)\n",
       "                    }\n",
       "                    const div = d3.select('#basic').attr('id', viz_id),\n",
       "                        div_parent = d3.select('#' + viz_id).node().parentNode\n",
       "\n",
       "                    // Link to CSS file\n",
       "                    d3.select(div_parent).insert('link')\n",
       "                        .attr('rel', 'stylesheet')\n",
       "                        .attr('type', 'text/css')\n",
       "                        .attr('href', ecco_url + 'html/styles.css')\n",
       "\n",
       "                    return viz_id\n",
       "                }\n",
       "            }\n",
       "        }, function (err) {console.log(err);}\n",
       "    )\n",
       "    // console.log('after defining basic')\n",
       "\n",
       "</script>\n",
       "<div id=\"basic\"></div>\n"
      ],
      "text/plain": [
       "<IPython.core.display.HTML object>"
      ]
     },
     "metadata": {},
     "output_type": "display_data"
    },
    {
     "data": {
      "application/javascript": [
       "\n",
       "             requirejs(['basic', 'ecco'], function(basic, ecco){\n",
       "                const viz_id = basic.init()\n",
       "                // ecco.interactiveTokens(viz_id, {})\n",
       "                window.ecco[viz_id] = new ecco.MinimalHighlighter({\n",
       "                parentDiv: viz_id,\n",
       "                data: {'tokens': [{'token': 'The', 'token_id': 464, 'type': 'input', 'value': '0.07177159', 'position': 0}, {'token': ' countries', 'token_id': 2678, 'type': 'input', 'value': '0.04361851', 'position': 1}, {'token': ' of', 'token_id': 286, 'type': 'input', 'value': '0.011527751', 'position': 2}, {'token': ' the', 'token_id': 262, 'type': 'input', 'value': '0.016163314', 'position': 3}, {'token': ' European', 'token_id': 3427, 'type': 'input', 'value': '0.061242186', 'position': 4}, {'token': ' Union', 'token_id': 4479, 'type': 'input', 'value': '0.027881378', 'position': 5}, {'token': ' are', 'token_id': 389, 'type': 'input', 'value': '0.014708188', 'position': 6}, {'token': ':', 'token_id': 25, 'type': 'input', 'value': '0.01856176', 'position': 7}, {'token': '\\n', 'token_id': 198, 'type': 'input', 'value': '0.031010505', 'position': 8}, {'token': '1', 'token_id': 16, 'type': 'input', 'value': '0.027718868', 'position': 9}, {'token': '.', 'token_id': 13, 'type': 'input', 'value': '0.047116593', 'position': 10}, {'token': ' Austria', 'token_id': 17322, 'type': 'input', 'value': '0.17070419', 'position': 11}, {'token': '\\n', 'token_id': 198, 'type': 'input', 'value': '0.023482798', 'position': 12}, {'token': '2', 'token_id': 17, 'type': 'input', 'value': '0.022029648', 'position': 13}, {'token': '.', 'token_id': 13, 'type': 'input', 'value': '0.017937928', 'position': 14}, {'token': ' Belgium', 'token_id': 15664, 'type': 'input', 'value': '0.09966628', 'position': 15}, {'token': '\\n', 'token_id': 198, 'type': 'input', 'value': '0.019888453', 'position': 16}, {'token': '3', 'token_id': 18, 'type': 'input', 'value': '0.021438232', 'position': 17}, {'token': '.', 'token_id': 13, 'type': 'input', 'value': '0.019431831', 'position': 18}, {'token': ' Bulgaria', 'token_id': 27902, 'type': 'input', 'value': '0.15193582', 'position': 19}, {'token': '\\n', 'token_id': 198, 'type': 'input', 'value': '0.017290572', 'position': 20}, {'token': '4', 'token_id': 19, 'type': 'input', 'value': '0.03549988', 'position': 21}, {'token': '.', 'token_id': 13, 'type': 'input', 'value': '0.029373692', 'position': 22}, {'token': ' Croatia', 'token_id': 28975, 'type': 'output', 'value': '0', 'position': 23}, {'token': '\\n', 'token_id': 198, 'type': 'output', 'value': '0', 'position': 24}, {'token': '5', 'token_id': 20, 'type': 'output', 'value': '0', 'position': 25}, {'token': '.', 'token_id': 13, 'type': 'output', 'value': '0', 'position': 26}, {'token': ' Cyprus', 'token_id': 27885, 'type': 'output', 'value': '0', 'position': 27}, {'token': '\\n', 'token_id': 198, 'type': 'output', 'value': '0', 'position': 28}, {'token': '6', 'token_id': 21, 'type': 'output', 'value': '0', 'position': 29}, {'token': '.', 'token_id': 13, 'type': 'output', 'value': '0', 'position': 30}, {'token': ' Czech', 'token_id': 16639, 'type': 'output', 'value': '0', 'position': 31}, {'token': ' Republic', 'token_id': 2066, 'type': 'output', 'value': '0', 'position': 32}, {'token': '\\n', 'token_id': 198, 'type': 'output', 'value': '0', 'position': 33}, {'token': '7', 'token_id': 22, 'type': 'output', 'value': '0', 'position': 34}, {'token': '.', 'token_id': 13, 'type': 'output', 'value': '0', 'position': 35}, {'token': ' Czech', 'token_id': 16639, 'type': 'output', 'value': '0', 'position': 36}, {'token': ' Republic', 'token_id': 2066, 'type': 'output', 'value': '0', 'position': 37}, {'token': '\\n', 'token_id': 198, 'type': 'output', 'value': '0', 'position': 38}, {'token': '8', 'token_id': 23, 'type': 'output', 'value': '0', 'position': 39}, {'token': '.', 'token_id': 13, 'type': 'output', 'value': '0', 'position': 40}, {'token': ' Denmark', 'token_id': 16490, 'type': 'output', 'value': '0', 'position': 41}, {'token': '\\n', 'token_id': 198, 'type': 'output', 'value': '0', 'position': 42}], 'attributions': [[0.07177159190177917, 0.04361851140856743, 0.01152775064110756, 0.016163313761353493, 0.06124218553304672, 0.027881378307938576, 0.014708188362419605, 0.01856175996363163, 0.031010504812002182, 0.027718868106603622, 0.04711659252643585, 0.170704185962677, 0.023482797667384148, 0.02202964760363102, 0.017937928438186646, 0.0996662825345993, 0.01988845318555832, 0.0214382316917181, 0.019431831315159798, 0.15193581581115723, 0.017290571704506874, 0.035499878227710724, 0.029373692348599434], [0.046876322478055954, 0.059092506766319275, 0.01900271140038967, 0.022913161665201187, 0.03275570273399353, 0.020938165485858917, 0.03224707022309303, 0.03364592045545578, 0.037256818264722824, 0.04239795729517937, 0.0320543572306633, 0.10181789100170135, 0.025295410305261612, 0.030374256893992424, 0.024153079837560654, 0.049648020416498184, 0.019433019682765007, 0.03392169252038002, 0.0166384968906641, 0.03398718312382698, 0.020406464114785194, 0.024157864972949028, 0.022781630977988243, 0.21820436418056488], [0.03630204126238823, 0.05049297213554382, 0.016099533066153526, 0.013556338846683502, 0.027269093319773674, 0.015271741896867752, 0.020100589841604233, 0.027393586933612823, 0.059378284960985184, 0.0689261183142662, 0.025208469480276108, 0.02963709458708763, 0.05607493221759796, 0.10830680280923843, 0.0199313685297966, 0.019233524799346924, 0.032648347318172455, 0.09598438441753387, 0.02112068235874176, 0.036938440054655075, 0.023339860141277313, 0.06038902699947357, 0.020514309406280518, 0.07443118840456009, 0.04145120084285736], [0.04184238240122795, 0.08628658205270767, 0.011442186310887337, 0.01203303225338459, 0.030356230214238167, 0.02084972895681858, 0.018421165645122528, 0.024693120270967484, 0.03899183124303818, 0.03643733263015747, 0.04861200973391533, 0.05102042108774185, 0.02085498347878456, 0.030015764757990837, 0.026693303138017654, 0.033895332366228104, 0.019367899745702744, 0.02749071642756462, 0.025271931663155556, 0.04131818190217018, 0.02650275081396103, 0.061526842415332794, 0.027334976941347122, 0.04193488508462906, 0.027093609794974327, 0.16971279680728912], [0.07582436501979828, 0.04040573164820671, 0.011455061845481396, 0.013714821077883244, 0.05443381145596504, 0.02408739924430847, 0.01467390637844801, 0.01855510100722313, 0.02346714213490486, 0.02342868223786354, 0.04152902215719223, 0.1459076702594757, 0.01749991439282894, 0.01828986220061779, 0.015373816713690758, 0.08244394510984421, 0.016944069415330887, 0.016194408759474754, 0.017070705071091652, 0.08518093079328537, 0.013494815677404404, 0.021075980737805367, 0.016583340242505074, 0.11303331702947617, 0.01996670849621296, 0.029694119468331337, 0.02967129833996296], [0.045716285705566406, 0.055649418383836746, 0.016233917325735092, 0.02093719318509102, 0.027339976280927658, 0.0169281717389822, 0.0279806237667799, 0.03431585431098938, 0.035493846982717514, 0.038847118616104126, 0.023146741092205048, 0.09926936030387878, 0.020905649289488792, 0.03656658157706261, 0.020325947552919388, 0.04705193266272545, 0.014856439083814621, 0.03166744112968445, 0.013897310942411423, 0.03196335583925247, 0.012859544716775417, 0.014532752335071564, 0.01113034226000309, 0.04434332624077797, 0.016061589121818542, 0.016185497865080833, 0.018991339951753616, 0.20680256187915802], [0.03381029888987541, 0.03976215422153473, 0.014827035367488861, 0.013417699374258518, 0.021360648795962334, 0.01197142992168665, 0.01593252271413803, 0.02570652961730957, 0.05450841784477234, 0.05033799260854721, 0.01975177228450775, 0.02445138804614544, 0.050124626606702805, 0.06715304404497147, 0.017797132954001427, 0.015268252231180668, 0.031380895525217056, 0.06170586124062538, 0.016287293285131454, 0.018986880779266357, 0.02114502154290676, 0.10119972378015518, 0.01747647486627102, 0.04757152125239372, 0.032197169959545135, 0.06024898961186409, 0.019677508622407913, 0.06405486166477203, 0.03188686445355415], [0.04117637872695923, 0.0823783203959465, 0.01169123500585556, 0.011245612055063248, 0.02881012298166752, 0.017634963616728783, 0.017562057822942734, 0.02147233486175537, 0.038839928805828094, 0.030460882931947708, 0.05049331486225128, 0.04803624376654625, 0.01940982975065708, 0.023188486695289612, 0.023957835510373116, 0.032445430755615234, 0.015142050571739674, 0.019818158820271492, 0.019157562404870987, 0.028715752065181732, 0.015578926540911198, 0.019208421930670738, 0.02130744978785515, 0.027674749493598938, 0.029367994517087936, 0.05851322412490845, 0.026339583098888397, 0.035116735845804214, 0.029913468286395073, 0.15534287691116333], [0.06604539602994919, 0.03611687570810318, 0.010626190342009068, 0.012590982019901276, 0.04163629561662674, 0.020013252273201942, 0.013438713736832142, 0.015805110335350037, 0.019438810646533966, 0.020690903067588806, 0.025167198851704597, 0.12344259768724442, 0.014349246397614479, 0.016446882858872414, 0.012557712383568287, 0.06096930056810379, 0.013017943128943443, 0.012336118146777153, 0.011991347186267376, 0.05062706023454666, 0.012771466746926308, 0.021173588931560516, 0.012291111052036285, 0.09396393597126007, 0.013991544023156166, 0.013733669184148312, 0.016852667555212975, 0.1401212066411972, 0.015406232327222824, 0.037610117346048355, 0.02477657049894333], [0.024457747116684914, 0.026707418262958527, 0.006952250376343727, 0.010450371541082859, 0.02510390803217888, 0.009781207889318466, 0.011200182139873505, 0.01177898421883583, 0.018556999042630196, 0.012849963270127773, 0.012563957832753658, 0.04164217785000801, 0.014156268909573555, 0.010535909794270992, 0.01197048369795084, 0.026140358299016953, 0.013125889003276825, 0.010010821744799614, 0.012637076899409294, 0.04033287614583969, 0.012273027561604977, 0.010855098254978657, 0.010757572017610073, 0.033815499395132065, 0.01680542156100273, 0.018139401450753212, 0.013370922766625881, 0.057969339191913605, 0.03525755554437637, 0.046049416065216064, 0.03717675432562828, 0.3565751016139984], [0.04022246599197388, 0.041575074195861816, 0.012901276350021362, 0.017092078924179077, 0.027765294536948204, 0.016244858503341675, 0.022745251655578613, 0.0328218936920166, 0.03973754867911339, 0.031910113990306854, 0.02101324498653412, 0.08609697967767715, 0.02080240286886692, 0.0321195013821125, 0.01741611771285534, 0.04767670854926109, 0.01347435638308525, 0.023285023868083954, 0.014908624812960625, 0.03414105623960495, 0.015557399019598961, 0.01242824550718069, 0.010907799936830997, 0.036907859146595, 0.02438388764858246, 0.01306708063930273, 0.01012052409350872, 0.025630556046962738, 0.026431715115904808, 0.019452372565865517, 0.015335096046328545, 0.10250803828239441, 0.09331953525543213], [0.028436297550797462, 0.029944436624646187, 0.013718666508793831, 0.011032368056476116, 0.016162343323230743, 0.009377432987093925, 0.013187161646783352, 0.020981375128030777, 0.05120120197534561, 0.03515638783574104, 0.01806451566517353, 0.018610037863254547, 0.04735526069998741, 0.04651917889714241, 0.017128195613622665, 0.015679368749260902, 0.031004581600427628, 0.04726797342300415, 0.0146950613707304, 0.015779782086610794, 0.016894523054361343, 0.06628944724798203, 0.015475467778742313, 0.019643090665340424, 0.026000851765275, 0.08022065460681915, 0.015354898758232594, 0.03397485241293907, 0.03505990654230118, 0.0512206144630909, 0.020046694204211235, 0.058243442326784134, 0.017522435635328293, 0.042751505970954895], [0.037139132618904114, 0.07248351722955704, 0.012158632278442383, 0.010991952382028103, 0.02206587791442871, 0.014224911108613014, 0.015756696462631226, 0.01749187894165516, 0.03563446179032326, 0.02590399794280529, 0.03976186364889145, 0.04399871826171875, 0.020259637385606766, 0.01638742908835411, 0.01920691505074501, 0.027678173035383224, 0.013934270478785038, 0.01691582053899765, 0.017090246081352234, 0.024782726541161537, 0.0129177775233984, 0.01600513607263565, 0.01610693335533142, 0.018520910292863846, 0.014102640561759472, 0.014623063616454601, 0.019886422902345657, 0.018155431374907494, 0.02889815904200077, 0.0899084135890007, 0.018476741388440132, 0.030443236231803894, 0.01486755721271038, 0.02966163121163845, 0.15355901420116425], [0.06469558924436569, 0.03521377965807915, 0.010385832749307156, 0.012132164090871811, 0.04035522788763046, 0.018587268888950348, 0.013440530747175217, 0.01563136838376522, 0.01969340443611145, 0.019531050696969032, 0.026597224175930023, 0.12739263474941254, 0.014521291479468346, 0.015896793454885483, 0.012436768040060997, 0.06167624518275261, 0.012172269634902477, 0.011519165709614754, 0.01116976235061884, 0.047940682619810104, 0.012054048478603363, 0.015316309407353401, 0.010545833967626095, 0.05542747676372528, 0.012300248257815838, 0.009836813434958458, 0.012285110540688038, 0.07897605746984482, 0.009577400982379913, 0.010960966348648071, 0.010418331250548363, 0.08088761568069458, 0.008884749375283718, 0.015683311969041824, 0.042533837258815765, 0.02332276850938797], [0.021244769915938377, 0.02129472605884075, 0.0066460357047617435, 0.00783573742955923, 0.019192781299352646, 0.006957247853279114, 0.008738582022488117, 0.008286292664706707, 0.011781987734138966, 0.008455316536128521, 0.010267477482557297, 0.028728310018777847, 0.01160782016813755, 0.008209546096622944, 0.00897594541311264, 0.019078364595770836, 0.009939655661582947, 0.007442904636263847, 0.009179973974823952, 0.025232844054698944, 0.009144404903054237, 0.00675045233219862, 0.008397804573178291, 0.03416774421930313, 0.010428298264741898, 0.010245516896247864, 0.008826594799757004, 0.06758717447519302, 0.013220223598182201, 0.014027965255081654, 0.011444942094385624, 0.12831419706344604, 0.0662914589047432, 0.01866067387163639, 0.023483574390411377, 0.02119484730064869, 0.28871777653694153], [0.038744475692510605, 0.03748345002532005, 0.012758100405335426, 0.017829393967986107, 0.0257626473903656, 0.015913769602775574, 0.022517384961247444, 0.03463737294077873, 0.03448987379670143, 0.02637016400694847, 0.016964087262749672, 0.07901924103498459, 0.022014161571860313, 0.024745769798755646, 0.015116706490516663, 0.04463810473680496, 0.013084638863801956, 0.018453646451234818, 0.013190013356506824, 0.0336846224963665, 0.009280645288527012, 0.010160808451473713, 0.009748395532369614, 0.039293207228183746, 0.01295439526438713, 0.009158956818282604, 0.007691765669733286, 0.026237595826387405, 0.013451802544295788, 0.009820515289902687, 0.009358800016343594, 0.03083164058625698, 0.02372649312019348, 0.02887503243982792, 0.023059673607349396, 0.015232233330607414, 0.09071090817451477, 0.08298958092927933], [0.026589006185531616, 0.031512606889009476, 0.014684253372251987, 0.01067683007568121, 0.015818648040294647, 0.00915205106139183, 0.01662766933441162, 0.02096431888639927, 0.05067848414182663, 0.03383504971861839, 0.017955128103494644, 0.01892836019396782, 0.03928948938846588, 0.04310835897922516, 0.010840320959687233, 0.016111694276332855, 0.02423963136970997, 0.038793355226516724, 0.009984663687646389, 0.01755312830209732, 0.013188464567065239, 0.05410250276327133, 0.012001635506749153, 0.013133863918483257, 0.018574349582195282, 0.04347120225429535, 0.016132010146975517, 0.013008574955165386, 0.025205165147781372, 0.04509358108043671, 0.011752113699913025, 0.045264892280101776, 0.009145748801529408, 0.028746748343110085, 0.04451591148972511, 0.015826648101210594, 0.0593930184841156, 0.017607735469937325, 0.046492841094732285], [0.03828183934092522, 0.07121589034795761, 0.012409018352627754, 0.013013294897973537, 0.021895771846175194, 0.013547960668802261, 0.017704054713249207, 0.018454574048519135, 0.02863415703177452, 0.03204939141869545, 0.0360458567738533, 0.049969758838415146, 0.0181049145758152, 0.014613155275583267, 0.016680432483553886, 0.02963518537580967, 0.012879427522420883, 0.011423732154071331, 0.01366794016212225, 0.026329196989536285, 0.010269194841384888, 0.01238576602190733, 0.01419884618371725, 0.01958068460226059, 0.010158293880522251, 0.011587079614400864, 0.013526786118745804, 0.016726236790418625, 0.012958848848938942, 0.023843050003051758, 0.019517766311764717, 0.0237598679959774, 0.00917763914912939, 0.025343677029013634, 0.09162022173404694, 0.018332431092858315, 0.025659995153546333, 0.009808383882045746, 0.027335021644830704, 0.10765467584133148], [0.06418704241514206, 0.03333750367164612, 0.009569019079208374, 0.012596052139997482, 0.03999143838882446, 0.017370356246829033, 0.013137071393430233, 0.015121826902031898, 0.020457953214645386, 0.017920522019267082, 0.025605661794543266, 0.12073399871587753, 0.013021203689277172, 0.0146338464692235, 0.010514702647924423, 0.054683584719896317, 0.011708840727806091, 0.010831061750650406, 0.01055518165230751, 0.0432136096060276, 0.010842167772352695, 0.012496693059802055, 0.009372963570058346, 0.04243685305118561, 0.011836963705718517, 0.008066844195127487, 0.008172767236828804, 0.04263458773493767, 0.013004115782678127, 0.008538366295397282, 0.007882015779614449, 0.055513896048069, 0.010990537703037262, 0.011380983516573906, 0.01157223992049694, 0.011976917274296284, 0.08252318948507309, 0.00802915170788765, 0.015481268987059593, 0.03555409610271454, 0.022502856329083443], [0.04025408253073692, 0.030383538454771042, 0.012777990661561489, 0.009272727183997631, 0.02187490276992321, 0.016701528802514076, 0.02838895283639431, 0.02367343381047249, 0.05866768956184387, 0.03476310148835182, 0.020972825586795807, 0.05172194540500641, 0.041949622333049774, 0.039037711918354034, 0.021461552008986473, 0.038829538971185684, 0.018448036164045334, 0.017073586583137512, 0.018060756847262383, 0.034721970558166504, 0.013112472370266914, 0.011120113544166088, 0.017995744943618774, 0.023643499240279198, 0.017408721148967743, 0.007063053082674742, 0.011413786560297012, 0.01081399992108345, 0.012007513083517551, 0.007501269690692425, 0.011773724108934402, 0.021904336288571358, 0.009633255191147327, 0.011996493674814701, 0.013651536777615547, 0.013798415660858154, 0.016340943053364754, 0.009122271090745926, 0.023997046053409576, 0.03863174095749855, 0.02719919942319393, 0.090835340321064]]},\n",
       "                preset: 'viridis'\n",
       "             })\n",
       "\n",
       "             window.ecco[viz_id].init();\n",
       "             window.ecco[viz_id].selectFirstToken();\n",
       "\n",
       "             }, function (err) {\n",
       "                console.log(err);\n",
       "            })"
      ],
      "text/plain": [
       "<IPython.core.display.Javascript object>"
      ]
     },
     "metadata": {},
     "output_type": "display_data"
    }
   ],
   "source": [
    "output.saliency(attr_method='gradient')"
   ]
  },
  {
   "cell_type": "code",
   "execution_count": 6,
   "metadata": {},
   "outputs": [
    {
     "data": {
      "text/html": [
       "<html lang=\"en\">\n",
       "<script src=\"https://requirejs.org/docs/release/2.3.6/minified/require.js\"></script>\n",
       "<script>\n",
       "    var ecco_url = 'https://storage.googleapis.com/ml-intro/ecco/'\n",
       "    // var ecco_url = 'http://localhost:8000/ecco/'\n",
       "\n",
       "    if (window.ecco === undefined) window.ecco = {}\n",
       "\n",
       "    requirejs.config({\n",
       "        urlArgs: \"bust=\" + (new Date()).getTime(),\n",
       "        nodeRequire: require,\n",
       "        paths: {\n",
       "            d3: \"https://d3js.org/d3.v5.min\",\n",
       "            \"d3-array\": \"https://d3js.org/d3-array.v2.min\",\n",
       "            jquery: \"https://code.jquery.com/jquery-3.5.1.min\",\n",
       "            // oldEcco: ecco_url + 'ecco',\n",
       "            ecco: ecco_url + 'js/0.0.4/ecco-bundle.min',\n",
       "            xregexp: 'https://cdnjs.cloudflare.com/ajax/libs/xregexp/3.2.0/xregexp-all.min'\n",
       "        }\n",
       "    });\n",
       "    requirejs(['d3'],\n",
       "        function (d3) {\n",
       "            d3.select('#css').attr('href', ecco_url + 'html/styles.css')\n",
       "        })\n",
       "\n",
       "    console.log('Ecco initialize.')\n",
       "</script>\n",
       "\n",
       "<head>\n",
       "    <link id='css' rel=\"stylesheet\" type=\"text/css\">\n",
       "</head>\n"
      ],
      "text/plain": [
       "<IPython.core.display.HTML object>"
      ]
     },
     "metadata": {},
     "output_type": "display_data"
    },
    {
     "data": {
      "text/html": [
       "<script>\n",
       "    // console.log('defining basic')\n",
       "    define('basic', ['d3'],\n",
       "        function (d3) {\n",
       "            return {\n",
       "                init: function (viz_id = null) {\n",
       "\n",
       "                    // console.log('basic init')\n",
       "                    if (viz_id == null){\n",
       "                        viz_id = \"viz_\" + Math.round(Math.random() * 10000000)\n",
       "                    }\n",
       "                    const div = d3.select('#basic').attr('id', viz_id),\n",
       "                        div_parent = d3.select('#' + viz_id).node().parentNode\n",
       "\n",
       "                    // Link to CSS file\n",
       "                    d3.select(div_parent).insert('link')\n",
       "                        .attr('rel', 'stylesheet')\n",
       "                        .attr('type', 'text/css')\n",
       "                        .attr('href', ecco_url + 'html/styles.css')\n",
       "\n",
       "                    return viz_id\n",
       "                }\n",
       "            }\n",
       "        }, function (err) {console.log(err);}\n",
       "    )\n",
       "    // console.log('after defining basic')\n",
       "\n",
       "</script>\n",
       "<div id=\"basic\"></div>\n"
      ],
      "text/plain": [
       "<IPython.core.display.HTML object>"
      ]
     },
     "metadata": {},
     "output_type": "display_data"
    },
    {
     "data": {
      "application/javascript": [
       "\n",
       "             requirejs(['basic', 'ecco'], function(basic, ecco){\n",
       "                const viz_id = basic.init()\n",
       "                window.ecco[viz_id] = ecco.interactiveTokens(viz_id, {'tokens': [{'token': 'The', 'token_id': 464, 'type': 'input', 'value': '0.07177159', 'position': 0}, {'token': ' countries', 'token_id': 2678, 'type': 'input', 'value': '0.04361851', 'position': 1}, {'token': ' of', 'token_id': 286, 'type': 'input', 'value': '0.011527751', 'position': 2}, {'token': ' the', 'token_id': 262, 'type': 'input', 'value': '0.016163314', 'position': 3}, {'token': ' European', 'token_id': 3427, 'type': 'input', 'value': '0.061242186', 'position': 4}, {'token': ' Union', 'token_id': 4479, 'type': 'input', 'value': '0.027881378', 'position': 5}, {'token': ' are', 'token_id': 389, 'type': 'input', 'value': '0.014708188', 'position': 6}, {'token': ':', 'token_id': 25, 'type': 'input', 'value': '0.01856176', 'position': 7}, {'token': '\\n', 'token_id': 198, 'type': 'input', 'value': '0.031010505', 'position': 8}, {'token': '1', 'token_id': 16, 'type': 'input', 'value': '0.027718868', 'position': 9}, {'token': '.', 'token_id': 13, 'type': 'input', 'value': '0.047116593', 'position': 10}, {'token': ' Austria', 'token_id': 17322, 'type': 'input', 'value': '0.17070419', 'position': 11}, {'token': '\\n', 'token_id': 198, 'type': 'input', 'value': '0.023482798', 'position': 12}, {'token': '2', 'token_id': 17, 'type': 'input', 'value': '0.022029648', 'position': 13}, {'token': '.', 'token_id': 13, 'type': 'input', 'value': '0.017937928', 'position': 14}, {'token': ' Belgium', 'token_id': 15664, 'type': 'input', 'value': '0.09966628', 'position': 15}, {'token': '\\n', 'token_id': 198, 'type': 'input', 'value': '0.019888453', 'position': 16}, {'token': '3', 'token_id': 18, 'type': 'input', 'value': '0.021438232', 'position': 17}, {'token': '.', 'token_id': 13, 'type': 'input', 'value': '0.019431831', 'position': 18}, {'token': ' Bulgaria', 'token_id': 27902, 'type': 'input', 'value': '0.15193582', 'position': 19}, {'token': '\\n', 'token_id': 198, 'type': 'input', 'value': '0.017290572', 'position': 20}, {'token': '4', 'token_id': 19, 'type': 'input', 'value': '0.03549988', 'position': 21}, {'token': '.', 'token_id': 13, 'type': 'input', 'value': '0.029373692', 'position': 22}, {'token': ' Croatia', 'token_id': 28975, 'type': 'output', 'value': '0', 'position': 23}, {'token': '\\n', 'token_id': 198, 'type': 'output', 'value': '0', 'position': 24}, {'token': '5', 'token_id': 20, 'type': 'output', 'value': '0', 'position': 25}, {'token': '.', 'token_id': 13, 'type': 'output', 'value': '0', 'position': 26}, {'token': ' Cyprus', 'token_id': 27885, 'type': 'output', 'value': '0', 'position': 27}, {'token': '\\n', 'token_id': 198, 'type': 'output', 'value': '0', 'position': 28}, {'token': '6', 'token_id': 21, 'type': 'output', 'value': '0', 'position': 29}, {'token': '.', 'token_id': 13, 'type': 'output', 'value': '0', 'position': 30}, {'token': ' Czech', 'token_id': 16639, 'type': 'output', 'value': '0', 'position': 31}, {'token': ' Republic', 'token_id': 2066, 'type': 'output', 'value': '0', 'position': 32}, {'token': '\\n', 'token_id': 198, 'type': 'output', 'value': '0', 'position': 33}, {'token': '7', 'token_id': 22, 'type': 'output', 'value': '0', 'position': 34}, {'token': '.', 'token_id': 13, 'type': 'output', 'value': '0', 'position': 35}, {'token': ' Czech', 'token_id': 16639, 'type': 'output', 'value': '0', 'position': 36}, {'token': ' Republic', 'token_id': 2066, 'type': 'output', 'value': '0', 'position': 37}, {'token': '\\n', 'token_id': 198, 'type': 'output', 'value': '0', 'position': 38}, {'token': '8', 'token_id': 23, 'type': 'output', 'value': '0', 'position': 39}, {'token': '.', 'token_id': 13, 'type': 'output', 'value': '0', 'position': 40}, {'token': ' Denmark', 'token_id': 16490, 'type': 'output', 'value': '0', 'position': 41}, {'token': '\\n', 'token_id': 198, 'type': 'output', 'value': '0', 'position': 42}], 'attributions': [[0.07177159190177917, 0.04361851140856743, 0.01152775064110756, 0.016163313761353493, 0.06124218553304672, 0.027881378307938576, 0.014708188362419605, 0.01856175996363163, 0.031010504812002182, 0.027718868106603622, 0.04711659252643585, 0.170704185962677, 0.023482797667384148, 0.02202964760363102, 0.017937928438186646, 0.0996662825345993, 0.01988845318555832, 0.0214382316917181, 0.019431831315159798, 0.15193581581115723, 0.017290571704506874, 0.035499878227710724, 0.029373692348599434], [0.046876322478055954, 0.059092506766319275, 0.01900271140038967, 0.022913161665201187, 0.03275570273399353, 0.020938165485858917, 0.03224707022309303, 0.03364592045545578, 0.037256818264722824, 0.04239795729517937, 0.0320543572306633, 0.10181789100170135, 0.025295410305261612, 0.030374256893992424, 0.024153079837560654, 0.049648020416498184, 0.019433019682765007, 0.03392169252038002, 0.0166384968906641, 0.03398718312382698, 0.020406464114785194, 0.024157864972949028, 0.022781630977988243, 0.21820436418056488], [0.03630204126238823, 0.05049297213554382, 0.016099533066153526, 0.013556338846683502, 0.027269093319773674, 0.015271741896867752, 0.020100589841604233, 0.027393586933612823, 0.059378284960985184, 0.0689261183142662, 0.025208469480276108, 0.02963709458708763, 0.05607493221759796, 0.10830680280923843, 0.0199313685297966, 0.019233524799346924, 0.032648347318172455, 0.09598438441753387, 0.02112068235874176, 0.036938440054655075, 0.023339860141277313, 0.06038902699947357, 0.020514309406280518, 0.07443118840456009, 0.04145120084285736], [0.04184238240122795, 0.08628658205270767, 0.011442186310887337, 0.01203303225338459, 0.030356230214238167, 0.02084972895681858, 0.018421165645122528, 0.024693120270967484, 0.03899183124303818, 0.03643733263015747, 0.04861200973391533, 0.05102042108774185, 0.02085498347878456, 0.030015764757990837, 0.026693303138017654, 0.033895332366228104, 0.019367899745702744, 0.02749071642756462, 0.025271931663155556, 0.04131818190217018, 0.02650275081396103, 0.061526842415332794, 0.027334976941347122, 0.04193488508462906, 0.027093609794974327, 0.16971279680728912], [0.07582436501979828, 0.04040573164820671, 0.011455061845481396, 0.013714821077883244, 0.05443381145596504, 0.02408739924430847, 0.01467390637844801, 0.01855510100722313, 0.02346714213490486, 0.02342868223786354, 0.04152902215719223, 0.1459076702594757, 0.01749991439282894, 0.01828986220061779, 0.015373816713690758, 0.08244394510984421, 0.016944069415330887, 0.016194408759474754, 0.017070705071091652, 0.08518093079328537, 0.013494815677404404, 0.021075980737805367, 0.016583340242505074, 0.11303331702947617, 0.01996670849621296, 0.029694119468331337, 0.02967129833996296], [0.045716285705566406, 0.055649418383836746, 0.016233917325735092, 0.02093719318509102, 0.027339976280927658, 0.0169281717389822, 0.0279806237667799, 0.03431585431098938, 0.035493846982717514, 0.038847118616104126, 0.023146741092205048, 0.09926936030387878, 0.020905649289488792, 0.03656658157706261, 0.020325947552919388, 0.04705193266272545, 0.014856439083814621, 0.03166744112968445, 0.013897310942411423, 0.03196335583925247, 0.012859544716775417, 0.014532752335071564, 0.01113034226000309, 0.04434332624077797, 0.016061589121818542, 0.016185497865080833, 0.018991339951753616, 0.20680256187915802], [0.03381029888987541, 0.03976215422153473, 0.014827035367488861, 0.013417699374258518, 0.021360648795962334, 0.01197142992168665, 0.01593252271413803, 0.02570652961730957, 0.05450841784477234, 0.05033799260854721, 0.01975177228450775, 0.02445138804614544, 0.050124626606702805, 0.06715304404497147, 0.017797132954001427, 0.015268252231180668, 0.031380895525217056, 0.06170586124062538, 0.016287293285131454, 0.018986880779266357, 0.02114502154290676, 0.10119972378015518, 0.01747647486627102, 0.04757152125239372, 0.032197169959545135, 0.06024898961186409, 0.019677508622407913, 0.06405486166477203, 0.03188686445355415], [0.04117637872695923, 0.0823783203959465, 0.01169123500585556, 0.011245612055063248, 0.02881012298166752, 0.017634963616728783, 0.017562057822942734, 0.02147233486175537, 0.038839928805828094, 0.030460882931947708, 0.05049331486225128, 0.04803624376654625, 0.01940982975065708, 0.023188486695289612, 0.023957835510373116, 0.032445430755615234, 0.015142050571739674, 0.019818158820271492, 0.019157562404870987, 0.028715752065181732, 0.015578926540911198, 0.019208421930670738, 0.02130744978785515, 0.027674749493598938, 0.029367994517087936, 0.05851322412490845, 0.026339583098888397, 0.035116735845804214, 0.029913468286395073, 0.15534287691116333], [0.06604539602994919, 0.03611687570810318, 0.010626190342009068, 0.012590982019901276, 0.04163629561662674, 0.020013252273201942, 0.013438713736832142, 0.015805110335350037, 0.019438810646533966, 0.020690903067588806, 0.025167198851704597, 0.12344259768724442, 0.014349246397614479, 0.016446882858872414, 0.012557712383568287, 0.06096930056810379, 0.013017943128943443, 0.012336118146777153, 0.011991347186267376, 0.05062706023454666, 0.012771466746926308, 0.021173588931560516, 0.012291111052036285, 0.09396393597126007, 0.013991544023156166, 0.013733669184148312, 0.016852667555212975, 0.1401212066411972, 0.015406232327222824, 0.037610117346048355, 0.02477657049894333], [0.024457747116684914, 0.026707418262958527, 0.006952250376343727, 0.010450371541082859, 0.02510390803217888, 0.009781207889318466, 0.011200182139873505, 0.01177898421883583, 0.018556999042630196, 0.012849963270127773, 0.012563957832753658, 0.04164217785000801, 0.014156268909573555, 0.010535909794270992, 0.01197048369795084, 0.026140358299016953, 0.013125889003276825, 0.010010821744799614, 0.012637076899409294, 0.04033287614583969, 0.012273027561604977, 0.010855098254978657, 0.010757572017610073, 0.033815499395132065, 0.01680542156100273, 0.018139401450753212, 0.013370922766625881, 0.057969339191913605, 0.03525755554437637, 0.046049416065216064, 0.03717675432562828, 0.3565751016139984], [0.04022246599197388, 0.041575074195861816, 0.012901276350021362, 0.017092078924179077, 0.027765294536948204, 0.016244858503341675, 0.022745251655578613, 0.0328218936920166, 0.03973754867911339, 0.031910113990306854, 0.02101324498653412, 0.08609697967767715, 0.02080240286886692, 0.0321195013821125, 0.01741611771285534, 0.04767670854926109, 0.01347435638308525, 0.023285023868083954, 0.014908624812960625, 0.03414105623960495, 0.015557399019598961, 0.01242824550718069, 0.010907799936830997, 0.036907859146595, 0.02438388764858246, 0.01306708063930273, 0.01012052409350872, 0.025630556046962738, 0.026431715115904808, 0.019452372565865517, 0.015335096046328545, 0.10250803828239441, 0.09331953525543213], [0.028436297550797462, 0.029944436624646187, 0.013718666508793831, 0.011032368056476116, 0.016162343323230743, 0.009377432987093925, 0.013187161646783352, 0.020981375128030777, 0.05120120197534561, 0.03515638783574104, 0.01806451566517353, 0.018610037863254547, 0.04735526069998741, 0.04651917889714241, 0.017128195613622665, 0.015679368749260902, 0.031004581600427628, 0.04726797342300415, 0.0146950613707304, 0.015779782086610794, 0.016894523054361343, 0.06628944724798203, 0.015475467778742313, 0.019643090665340424, 0.026000851765275, 0.08022065460681915, 0.015354898758232594, 0.03397485241293907, 0.03505990654230118, 0.0512206144630909, 0.020046694204211235, 0.058243442326784134, 0.017522435635328293, 0.042751505970954895], [0.037139132618904114, 0.07248351722955704, 0.012158632278442383, 0.010991952382028103, 0.02206587791442871, 0.014224911108613014, 0.015756696462631226, 0.01749187894165516, 0.03563446179032326, 0.02590399794280529, 0.03976186364889145, 0.04399871826171875, 0.020259637385606766, 0.01638742908835411, 0.01920691505074501, 0.027678173035383224, 0.013934270478785038, 0.01691582053899765, 0.017090246081352234, 0.024782726541161537, 0.0129177775233984, 0.01600513607263565, 0.01610693335533142, 0.018520910292863846, 0.014102640561759472, 0.014623063616454601, 0.019886422902345657, 0.018155431374907494, 0.02889815904200077, 0.0899084135890007, 0.018476741388440132, 0.030443236231803894, 0.01486755721271038, 0.02966163121163845, 0.15355901420116425], [0.06469558924436569, 0.03521377965807915, 0.010385832749307156, 0.012132164090871811, 0.04035522788763046, 0.018587268888950348, 0.013440530747175217, 0.01563136838376522, 0.01969340443611145, 0.019531050696969032, 0.026597224175930023, 0.12739263474941254, 0.014521291479468346, 0.015896793454885483, 0.012436768040060997, 0.06167624518275261, 0.012172269634902477, 0.011519165709614754, 0.01116976235061884, 0.047940682619810104, 0.012054048478603363, 0.015316309407353401, 0.010545833967626095, 0.05542747676372528, 0.012300248257815838, 0.009836813434958458, 0.012285110540688038, 0.07897605746984482, 0.009577400982379913, 0.010960966348648071, 0.010418331250548363, 0.08088761568069458, 0.008884749375283718, 0.015683311969041824, 0.042533837258815765, 0.02332276850938797], [0.021244769915938377, 0.02129472605884075, 0.0066460357047617435, 0.00783573742955923, 0.019192781299352646, 0.006957247853279114, 0.008738582022488117, 0.008286292664706707, 0.011781987734138966, 0.008455316536128521, 0.010267477482557297, 0.028728310018777847, 0.01160782016813755, 0.008209546096622944, 0.00897594541311264, 0.019078364595770836, 0.009939655661582947, 0.007442904636263847, 0.009179973974823952, 0.025232844054698944, 0.009144404903054237, 0.00675045233219862, 0.008397804573178291, 0.03416774421930313, 0.010428298264741898, 0.010245516896247864, 0.008826594799757004, 0.06758717447519302, 0.013220223598182201, 0.014027965255081654, 0.011444942094385624, 0.12831419706344604, 0.0662914589047432, 0.01866067387163639, 0.023483574390411377, 0.02119484730064869, 0.28871777653694153], [0.038744475692510605, 0.03748345002532005, 0.012758100405335426, 0.017829393967986107, 0.0257626473903656, 0.015913769602775574, 0.022517384961247444, 0.03463737294077873, 0.03448987379670143, 0.02637016400694847, 0.016964087262749672, 0.07901924103498459, 0.022014161571860313, 0.024745769798755646, 0.015116706490516663, 0.04463810473680496, 0.013084638863801956, 0.018453646451234818, 0.013190013356506824, 0.0336846224963665, 0.009280645288527012, 0.010160808451473713, 0.009748395532369614, 0.039293207228183746, 0.01295439526438713, 0.009158956818282604, 0.007691765669733286, 0.026237595826387405, 0.013451802544295788, 0.009820515289902687, 0.009358800016343594, 0.03083164058625698, 0.02372649312019348, 0.02887503243982792, 0.023059673607349396, 0.015232233330607414, 0.09071090817451477, 0.08298958092927933], [0.026589006185531616, 0.031512606889009476, 0.014684253372251987, 0.01067683007568121, 0.015818648040294647, 0.00915205106139183, 0.01662766933441162, 0.02096431888639927, 0.05067848414182663, 0.03383504971861839, 0.017955128103494644, 0.01892836019396782, 0.03928948938846588, 0.04310835897922516, 0.010840320959687233, 0.016111694276332855, 0.02423963136970997, 0.038793355226516724, 0.009984663687646389, 0.01755312830209732, 0.013188464567065239, 0.05410250276327133, 0.012001635506749153, 0.013133863918483257, 0.018574349582195282, 0.04347120225429535, 0.016132010146975517, 0.013008574955165386, 0.025205165147781372, 0.04509358108043671, 0.011752113699913025, 0.045264892280101776, 0.009145748801529408, 0.028746748343110085, 0.04451591148972511, 0.015826648101210594, 0.0593930184841156, 0.017607735469937325, 0.046492841094732285], [0.03828183934092522, 0.07121589034795761, 0.012409018352627754, 0.013013294897973537, 0.021895771846175194, 0.013547960668802261, 0.017704054713249207, 0.018454574048519135, 0.02863415703177452, 0.03204939141869545, 0.0360458567738533, 0.049969758838415146, 0.0181049145758152, 0.014613155275583267, 0.016680432483553886, 0.02963518537580967, 0.012879427522420883, 0.011423732154071331, 0.01366794016212225, 0.026329196989536285, 0.010269194841384888, 0.01238576602190733, 0.01419884618371725, 0.01958068460226059, 0.010158293880522251, 0.011587079614400864, 0.013526786118745804, 0.016726236790418625, 0.012958848848938942, 0.023843050003051758, 0.019517766311764717, 0.0237598679959774, 0.00917763914912939, 0.025343677029013634, 0.09162022173404694, 0.018332431092858315, 0.025659995153546333, 0.009808383882045746, 0.027335021644830704, 0.10765467584133148], [0.06418704241514206, 0.03333750367164612, 0.009569019079208374, 0.012596052139997482, 0.03999143838882446, 0.017370356246829033, 0.013137071393430233, 0.015121826902031898, 0.020457953214645386, 0.017920522019267082, 0.025605661794543266, 0.12073399871587753, 0.013021203689277172, 0.0146338464692235, 0.010514702647924423, 0.054683584719896317, 0.011708840727806091, 0.010831061750650406, 0.01055518165230751, 0.0432136096060276, 0.010842167772352695, 0.012496693059802055, 0.009372963570058346, 0.04243685305118561, 0.011836963705718517, 0.008066844195127487, 0.008172767236828804, 0.04263458773493767, 0.013004115782678127, 0.008538366295397282, 0.007882015779614449, 0.055513896048069, 0.010990537703037262, 0.011380983516573906, 0.01157223992049694, 0.011976917274296284, 0.08252318948507309, 0.00802915170788765, 0.015481268987059593, 0.03555409610271454, 0.022502856329083443], [0.04025408253073692, 0.030383538454771042, 0.012777990661561489, 0.009272727183997631, 0.02187490276992321, 0.016701528802514076, 0.02838895283639431, 0.02367343381047249, 0.05866768956184387, 0.03476310148835182, 0.020972825586795807, 0.05172194540500641, 0.041949622333049774, 0.039037711918354034, 0.021461552008986473, 0.038829538971185684, 0.018448036164045334, 0.017073586583137512, 0.018060756847262383, 0.034721970558166504, 0.013112472370266914, 0.011120113544166088, 0.017995744943618774, 0.023643499240279198, 0.017408721148967743, 0.007063053082674742, 0.011413786560297012, 0.01081399992108345, 0.012007513083517551, 0.007501269690692425, 0.011773724108934402, 0.021904336288571358, 0.009633255191147327, 0.011996493674814701, 0.013651536777615547, 0.013798415660858154, 0.016340943053364754, 0.009122271090745926, 0.023997046053409576, 0.03863174095749855, 0.02719919942319393, 0.090835340321064]]})\n",
       "\n",
       "             }, function (err) {\n",
       "                console.log(err);\n",
       "            })"
      ],
      "text/plain": [
       "<IPython.core.display.Javascript object>"
      ]
     },
     "metadata": {},
     "output_type": "display_data"
    }
   ],
   "source": [
    "output.saliency(attr_method='gradient', style=\"detailed\")"
   ]
  },
  {
   "cell_type": "markdown",
   "metadata": {},
   "source": [
    "## Integrated Gradients methods"
   ]
  },
  {
   "cell_type": "code",
   "execution_count": 7,
   "metadata": {},
   "outputs": [
    {
     "data": {
      "text/html": [
       "<html lang=\"en\">\n",
       "<script src=\"https://requirejs.org/docs/release/2.3.6/minified/require.js\"></script>\n",
       "<script>\n",
       "    var ecco_url = 'https://storage.googleapis.com/ml-intro/ecco/'\n",
       "    // var ecco_url = 'http://localhost:8000/ecco/'\n",
       "\n",
       "    if (window.ecco === undefined) window.ecco = {}\n",
       "\n",
       "    requirejs.config({\n",
       "        urlArgs: \"bust=\" + (new Date()).getTime(),\n",
       "        nodeRequire: require,\n",
       "        paths: {\n",
       "            d3: \"https://d3js.org/d3.v5.min\",\n",
       "            \"d3-array\": \"https://d3js.org/d3-array.v2.min\",\n",
       "            jquery: \"https://code.jquery.com/jquery-3.5.1.min\",\n",
       "            // oldEcco: ecco_url + 'ecco',\n",
       "            ecco: ecco_url + 'js/0.0.4/ecco-bundle.min',\n",
       "            xregexp: 'https://cdnjs.cloudflare.com/ajax/libs/xregexp/3.2.0/xregexp-all.min'\n",
       "        }\n",
       "    });\n",
       "    requirejs(['d3'],\n",
       "        function (d3) {\n",
       "            d3.select('#css').attr('href', ecco_url + 'html/styles.css')\n",
       "        })\n",
       "\n",
       "    console.log('Ecco initialize.')\n",
       "</script>\n",
       "\n",
       "<head>\n",
       "    <link id='css' rel=\"stylesheet\" type=\"text/css\">\n",
       "</head>\n"
      ],
      "text/plain": [
       "<IPython.core.display.HTML object>"
      ]
     },
     "metadata": {},
     "output_type": "display_data"
    },
    {
     "data": {
      "text/html": [
       "<script>\n",
       "    // console.log('defining basic')\n",
       "    define('basic', ['d3'],\n",
       "        function (d3) {\n",
       "            return {\n",
       "                init: function (viz_id = null) {\n",
       "\n",
       "                    // console.log('basic init')\n",
       "                    if (viz_id == null){\n",
       "                        viz_id = \"viz_\" + Math.round(Math.random() * 10000000)\n",
       "                    }\n",
       "                    const div = d3.select('#basic').attr('id', viz_id),\n",
       "                        div_parent = d3.select('#' + viz_id).node().parentNode\n",
       "\n",
       "                    // Link to CSS file\n",
       "                    d3.select(div_parent).insert('link')\n",
       "                        .attr('rel', 'stylesheet')\n",
       "                        .attr('type', 'text/css')\n",
       "                        .attr('href', ecco_url + 'html/styles.css')\n",
       "\n",
       "                    return viz_id\n",
       "                }\n",
       "            }\n",
       "        }, function (err) {console.log(err);}\n",
       "    )\n",
       "    // console.log('after defining basic')\n",
       "\n",
       "</script>\n",
       "<div id=\"basic\"></div>\n"
      ],
      "text/plain": [
       "<IPython.core.display.HTML object>"
      ]
     },
     "metadata": {},
     "output_type": "display_data"
    },
    {
     "data": {
      "application/javascript": [
       "\n",
       "             requirejs(['basic', 'ecco'], function(basic, ecco){\n",
       "                const viz_id = basic.init()\n",
       "                // ecco.interactiveTokens(viz_id, {})\n",
       "                window.ecco[viz_id] = new ecco.MinimalHighlighter({\n",
       "                parentDiv: viz_id,\n",
       "                data: {'tokens': [{'token': 'The', 'token_id': 464, 'type': 'input', 'value': '-0.06304952746278428', 'position': 0}, {'token': ' countries', 'token_id': 2678, 'type': 'input', 'value': '-0.03926870059607414', 'position': 1}, {'token': ' of', 'token_id': 286, 'type': 'input', 'value': '0.0758441193546966', 'position': 2}, {'token': ' the', 'token_id': 262, 'type': 'input', 'value': '0.04715001921671037', 'position': 3}, {'token': ' European', 'token_id': 3427, 'type': 'input', 'value': '0.0425505332110017', 'position': 4}, {'token': ' Union', 'token_id': 4479, 'type': 'input', 'value': '0.03217266058789306', 'position': 5}, {'token': ' are', 'token_id': 389, 'type': 'input', 'value': '-0.06003035634535259', 'position': 6}, {'token': ':', 'token_id': 25, 'type': 'input', 'value': '0.0038990356036860347', 'position': 7}, {'token': '\\n', 'token_id': 198, 'type': 'input', 'value': '-0.08094475439081641', 'position': 8}, {'token': '1', 'token_id': 16, 'type': 'input', 'value': '0.02373925308835714', 'position': 9}, {'token': '.', 'token_id': 13, 'type': 'input', 'value': '-0.005602686922545435', 'position': 10}, {'token': ' Austria', 'token_id': 17322, 'type': 'input', 'value': '0.2854378065790953', 'position': 11}, {'token': '\\n', 'token_id': 198, 'type': 'input', 'value': '-0.021142367159337705', 'position': 12}, {'token': '2', 'token_id': 17, 'type': 'input', 'value': '-0.012718137116220017', 'position': 13}, {'token': '.', 'token_id': 13, 'type': 'input', 'value': '-0.017295623073166635', 'position': 14}, {'token': ' Belgium', 'token_id': 15664, 'type': 'input', 'value': '0.5024947328557766', 'position': 15}, {'token': '\\n', 'token_id': 198, 'type': 'input', 'value': '-0.0023431675187891078', 'position': 16}, {'token': '3', 'token_id': 18, 'type': 'input', 'value': '2.7544887156725445e-05', 'position': 17}, {'token': '.', 'token_id': 13, 'type': 'input', 'value': '-0.00854964875191686', 'position': 18}, {'token': ' Bulgaria', 'token_id': 27902, 'type': 'input', 'value': '0.7198052195012765', 'position': 19}, {'token': '\\n', 'token_id': 198, 'type': 'input', 'value': '-0.0013508050697078845', 'position': 20}, {'token': '4', 'token_id': 19, 'type': 'input', 'value': '0.07288565985909348', 'position': 21}, {'token': '.', 'token_id': 13, 'type': 'input', 'value': '-0.3383783811247501', 'position': 22}, {'token': ' Croatia', 'token_id': 28975, 'type': 'output', 'value': '0', 'position': 23}, {'token': '\\n', 'token_id': 198, 'type': 'output', 'value': '0', 'position': 24}, {'token': '5', 'token_id': 20, 'type': 'output', 'value': '0', 'position': 25}, {'token': '.', 'token_id': 13, 'type': 'output', 'value': '0', 'position': 26}, {'token': ' Cyprus', 'token_id': 27885, 'type': 'output', 'value': '0', 'position': 27}, {'token': '\\n', 'token_id': 198, 'type': 'output', 'value': '0', 'position': 28}, {'token': '6', 'token_id': 21, 'type': 'output', 'value': '0', 'position': 29}, {'token': '.', 'token_id': 13, 'type': 'output', 'value': '0', 'position': 30}, {'token': ' Czech', 'token_id': 16639, 'type': 'output', 'value': '0', 'position': 31}, {'token': ' Republic', 'token_id': 2066, 'type': 'output', 'value': '0', 'position': 32}, {'token': '\\n', 'token_id': 198, 'type': 'output', 'value': '0', 'position': 33}, {'token': '7', 'token_id': 22, 'type': 'output', 'value': '0', 'position': 34}, {'token': '.', 'token_id': 13, 'type': 'output', 'value': '0', 'position': 35}, {'token': ' Czech', 'token_id': 16639, 'type': 'output', 'value': '0', 'position': 36}, {'token': ' Republic', 'token_id': 2066, 'type': 'output', 'value': '0', 'position': 37}, {'token': '\\n', 'token_id': 198, 'type': 'output', 'value': '0', 'position': 38}, {'token': '8', 'token_id': 23, 'type': 'output', 'value': '0', 'position': 39}, {'token': '.', 'token_id': 13, 'type': 'output', 'value': '0', 'position': 40}, {'token': ' Denmark', 'token_id': 16490, 'type': 'output', 'value': '0', 'position': 41}, {'token': '\\n', 'token_id': 198, 'type': 'output', 'value': '0', 'position': 42}], 'attributions': [[-0.06304952746278428, -0.03926870059607414, 0.0758441193546966, 0.04715001921671037, 0.0425505332110017, 0.03217266058789306, -0.06003035634535259, 0.0038990356036860347, -0.08094475439081641, 0.02373925308835714, -0.005602686922545435, 0.2854378065790953, -0.021142367159337705, -0.012718137116220017, -0.017295623073166635, 0.5024947328557766, -0.0023431675187891078, 2.7544887156725445e-05, -0.00854964875191686, 0.7198052195012765, -0.0013508050697078845, 0.07288565985909348, -0.3383783811247501], [0.11004352294162746, 0.04220239942130859, 0.08281482105057755, 0.06649357571375618, 0.13765103563632938, 0.07801484205708376, 0.06915626943541438, 0.06244326208661768, 0.19500785641639581, 0.12077691613588766, 0.1007833556931267, 0.26404597182120026, 0.3995619128751801, 0.06578565424411185, 0.06761604753617782, 0.3038056466616071, 0.4298943281983708, 0.06648043828296518, 0.04392653929226179, 0.3736441657579979, 0.44621397180229555, -0.02030404945157504, 0.12902026971803013, 0.02898577336117571], [-0.027136026660470484, 0.04271062095339708, 0.08315590298161843, 0.027459899745607943, 0.010235499512068633, 0.017277990519549424, 0.04601713252287033, -0.010572571847550857, 0.021593391791302773, 0.2916618708368398, 0.16282707003551794, -0.006315907902934659, 0.07329111908139883, 0.48934136974615244, 0.06932761909588604, 0.0037176310536764638, 0.04974896183235129, 0.37983231325782796, 0.02508832231525661, 0.0025955561415548414, 0.02384555866679515, 0.6846267030840806, 0.04327703883505848, 0.07192261622941737, -0.041156572219944614], [0.05511645501541543, -0.08224919491195957, 0.0387087481371019, 0.043940114728484796, -0.021001744325917726, -0.02464082000982881, 0.013592280220151937, 0.08306339601759255, 0.1310520453197023, 0.09082294543433624, 0.19976968042985832, 0.03729807952018627, 0.17283014655009296, 0.146261187494742, 0.24376764707389145, 0.034776352502684495, 0.15922737895585304, 0.22892447613547995, 0.2677738835218383, 0.05749805511860908, 0.14418371479699416, 0.47429980040889064, 0.5301331802721924, -7.767750555239284e-05, 0.03857361084142591, 0.34492236198315807], [-0.12293685300333022, -0.0751159937344263, 0.05792838871094904, 0.05813681036919728, 0.0032461082147408568, 0.01542199332937964, 0.028923066411147526, 0.012168544540031228, -0.037092139037759334, 0.02985253160982242, -0.010240855758922343, 0.3428563524177933, -0.05418158738966229, -0.049106251320701566, -0.03559495125947115, 0.4479957922778362, -0.05772076172877268, -0.045749649046453865, -0.027441401351801408, 0.5349167069869423, -0.0936528594439237, -0.02189073149668818, -0.0375715665615071, 0.48660934325885724, 0.030902421483714426, -0.3171019660687018, -0.052595633845053696], [0.10775752261850739, 0.0644282893310294, 0.09267437311017233, 0.07673447596088748, 0.1524823254322586, 0.08384551349145097, 0.09212488287672292, 0.060120091871936725, 0.1997444877475224, 0.09164830928369654, 0.07030202681882379, 0.22997702955644625, 0.3499139063559452, 0.04918673484823621, 0.047361335202435136, 0.2700676914782436, 0.386428122958903, 0.05054803990836574, 0.03294962743879207, 0.33214525253770544, 0.42974726740577157, 0.02032009793242051, -0.025101962132874838, 0.14941589449039283, 0.371958399040215, -0.041548459111810696, 0.09017774890931277, -0.04074672433916893], [-0.018594369741023006, 0.047910850204974376, 0.08561860221575042, 0.0299778679987331, 0.008645667763872662, 0.016250655402790037, 0.06575353252919935, -0.029299837326917738, 0.025757514788533983, 0.24013014879788866, 0.18303774885055266, -0.002163031576414465, 0.09727881850438486, 0.3996981989989896, 0.09645378593706337, 0.013133414337206297, 0.06768990455351728, 0.32039773756347584, 0.054984251830855764, 0.03423979436118681, 0.05973645949097807, 0.4763889250896679, 0.034778990012985775, 0.07620741918840467, 0.08320597054875828, 0.585049423047776, 0.058807203444037205, 0.09550096401114498, -0.04825580224736221], [-0.0011420973666724915, -0.0702213041504914, 0.018122218182973056, 0.002819229709134552, -0.04033969913166647, -0.07875870207097804, -0.02700377007539621, 0.053474892548665616, 0.05054317096912015, 0.06448972468466962, 0.16108108135852892, -0.007086686569988679, 0.05682940647795441, 0.13065380036453902, 0.2135147428676881, -0.020441639423459976, 0.021266702259663206, 0.17901321445556856, 0.2168159149334034, 0.009809946328810408, 0.00650591321571955, 0.3247509527341033, 0.4096676014879033, 0.01712840386780039, 0.06931141405618055, 0.2083567059745415, 0.33681966743863, -0.07329815743814624, 0.16160359355118376, 0.5813026757808718], [-0.13459110260002638, 0.1277689049652754, 0.05868732000200886, 0.01795467192785194, 0.020288308727191104, 0.05760725242029631, -0.016631590392289664, -0.006066007207848958, -0.11831324976239564, -0.0050543813183324595, 0.01470504310328808, 0.3677773304914655, -0.056254608412718836, -0.02106635543035681, 0.03229138158592795, 0.5111598291752678, -0.0580197712508754, 0.0121363771201192, -0.007885642719382113, 0.5566172457839511, -0.06572461021907577, -0.05007259444451173, -0.08833775432496994, 0.3331331218144176, -0.04714812858076939, 0.01163203772324402, -0.03872081703452219, 0.10665593182306972, 0.024295394090034953, -0.014597771652821343, -0.29541758342389035], [-0.053358942802177844, 0.12932994804743467, 0.06922553643889821, 0.056016776670730496, 0.05464294588380769, 0.018818690013577128, 0.06585998633959468, 0.14326998001521113, 0.2343033716872546, 0.10212164459923767, 0.12440247370715625, 0.11929010243598989, 0.22948243238160368, 0.02421762517989182, 0.07122850488042666, 0.16588475570852546, 0.14816219471536224, 0.013716520080678874, 0.038250465336561, 0.2830108816942726, 0.08508385604344122, 0.01827809749435237, -0.0710094334098858, 0.32431180108931135, 0.27313631627054874, -0.016157242822007964, -0.11709477685238144, 0.16212943326641402, 0.10348734489032729, 0.022974379978655708, -0.10028518521066432, 0.6370017984891666], [0.10896029610658486, 0.07954072475464438, 0.10460714786226691, 0.08671075237367555, 0.18708745106932026, 0.1106695127975842, 0.12043167579559848, 0.07226098013037377, 0.22705326427580436, 0.09269696091765578, 0.11386494289519715, 0.17626678471270024, 0.33518393305134725, 0.032338608575167654, 0.08654518233869071, 0.21573860961969638, 0.343182584772058, 0.020221719554264685, 0.077146206477483, 0.2332999457843471, 0.363935489795207, 0.007383434239937636, 0.03557346476494383, 0.15495003908052513, 0.3211292946922618, -0.029054381580293755, -0.0085814496460652, 0.17498195937380384, 0.30497810140843695, -0.051255992485183643, 0.059071829507652836, 0.061145241764478206, -0.22558045064070587], [0.007435513028470113, 0.04323626962067975, 0.09075843165418014, 0.03233401941368389, 0.02049421602252563, 0.011236500238040294, 0.05663313698337799, -0.011275022572207905, 0.031857857266719566, 0.2744038597553175, 0.1929310308175779, 0.01803024649519796, 0.07447164374482695, 0.4103520045508275, 0.10557511717237868, -0.003299363229519537, 0.06929032704615307, 0.3609729288075388, 0.055153922152189915, 0.05903135169975733, 0.004632891504362914, 0.3160368453610616, 0.0235372302470135, 0.05735695887247902, 0.03323973410400607, 0.3389390591405132, -0.018909807848148254, -0.005636520145480288, -0.0023260228083247392, 0.5520489970077831, 0.045514921754279805, 0.09215970971636164, 0.040943575671416065, -0.08489838249616712], [-0.02237433560423785, 0.0399862798353556, 0.051600125570630345, 0.04116935924738188, -0.0006989860533044064, -0.009157783974312808, 0.04835253920239359, 0.06407167824431576, 0.14281450539559606, 0.06695455509812986, 0.1273424394992165, 0.06989707713979694, 0.17229554496102908, 0.12779664467263613, 0.15010922850471645, 0.05202661280862241, 0.15386203314581556, 0.139280965837796, 0.15048957170833385, 0.08577010483720089, 0.15126056049268766, 0.2674899995878122, 0.26257304816823535, 0.13044109267637302, 0.21881230118376738, 0.33558656286200544, 0.47669675317889854, 0.10976664936258666, 0.1560437991259548, 0.15513483554571939, 0.2641330178705172, 0.005072099195231075, 0.0284222955117968, 0.26984302811769323, 0.15714297738333527], [-0.07314344352875433, 0.07387159481165154, 0.08845894808574956, 0.027028881683119912, 0.01808772293708562, 0.08514345588230575, -0.025127092342501402, 0.028419725382955507, -0.11875894084141041, 0.0007755753086562642, 0.004648161226149966, 0.3291720675278927, -0.06664615172871988, -0.016250658227497713, 0.03157090970922112, 0.45031796756000003, -0.09209012228040386, 0.005471713612332636, -0.018333101795454963, 0.45675876450875014, -0.11426229260771192, -0.050277265851654415, -0.0504358618009436, 0.3637379302138953, -0.0633146614905452, 0.010916682679295823, 0.04200303967971874, 0.36915243561154176, 0.019704404288088017, 0.17990916168399446, 0.06191400276661245, 0.06189209973287614, -0.035329391141981865, 0.02256977270569513, -0.17270736611140988, -0.24202138409543056], [-0.01917490055455568, 0.07413192050389333, 0.029010050021444456, 0.03455998079931946, 0.07290918395955165, 0.0160730911044185, 0.04346163715134258, 0.053809027534842555, 0.06554274352519633, 0.0445653236361613, 0.030009706218719845, 0.03291750054144059, 0.07120487236103513, 0.04616951410752299, 0.003934051178506578, 0.008178527636378235, 0.033455345325714, 0.035945795936311635, -0.011937788332300553, 0.018535577331180643, -0.008168983331249637, 0.015453822173506328, -0.02049087372064885, 0.027179197612548014, 0.02565964349179377, 0.04526705063726331, 0.026808430784469248, 0.05574677201036492, 0.1979355999509555, 0.1670073017787808, 0.22908957962175286, 0.6580102699185595, 0.4846288296346673, 0.08539424045968491, 0.07121103652194664, 0.012556817011066443, 0.3941842859694824], [0.10891428175058386, 0.07459291688627533, 0.09835194605092458, 0.08958756960733241, 0.2203769401797896, 0.12019496174428738, 0.11730715842608998, 0.07368042835322158, 0.19972315001054394, 0.06950020867869425, 0.0974734798983392, 0.17252763243336705, 0.29466460651191745, 0.00625436225003769, 0.07708015189675176, 0.2031555354072894, 0.3134359051605736, 0.005313166370978386, 0.08247088071261977, 0.21356293289779374, 0.33919592317474884, 0.01768524888816633, 0.05350308642609058, 0.1582476183890175, 0.3333944556760743, 0.007351532718675696, 0.03421107882567751, 0.18864288106598456, 0.29352156041727573, 0.006765950763404383, 0.03632962040827063, 0.12831413524358562, 0.05768468970202369, 0.2978995058938863, 0.0010181706019746915, 0.07037426263041419, 0.03085664304069874, -0.14397346977649533], [0.00499015867440572, 0.035738065494024314, 0.032417511166248004, 0.018375661517365367, 0.011124603344433314, 0.006592807613727734, 0.028400202878604675, 0.009355259658134276, 0.020233320127783, 0.09875057672106445, 0.1047705588526541, 0.02162997968398737, 0.04881410630891275, 0.16987179857837492, 0.06988925133167316, 0.035327187655888964, 0.024511877819594602, 0.08073618062329502, 0.045530190669366005, 0.08367018914803519, 0.013683633455148095, 0.107475186568689, 0.03193238836166235, 0.08419945269411686, 0.0210812183922291, 0.09915836648847146, 0.018279981115659434, 0.039010565901984026, -0.00972771172733849, 0.1333928053476464, 0.011230392229030887, -0.038309664915215084, -0.003782329168921587, 0.07145746724429808, 0.9290007446342485, 0.0034066043785593624, -0.00635270272240492, -0.014401282380594358, -0.03454269145346315], [-0.0460332786862789, 0.09027518564832787, 0.04706797398840576, -0.0007242567952017051, -0.0294315926846521, -0.04702029581814915, 0.019727146625126254, 0.03052921970644589, 0.09334954285368723, 0.017621337829088583, 0.08458409259759607, 0.029507971862938364, 0.1123897082296362, 0.0832943367583878, 0.10925380789072961, 0.008627789605316544, 0.08799798237321231, 0.09159897127338167, 0.09455074002852838, 0.04352651537542204, 0.09914040358273128, 0.20810364341321688, 0.23762197681383135, 0.10990335725548761, 0.12217635046597844, 0.14670427875235942, 0.2561163620615317, 0.16284753484670778, 0.22222606137537854, 0.261375879535303, 0.43042058440864006, 0.10814672904156682, 0.09310877535621397, 0.30285764915665986, 0.09957176491826114, 0.2579016012929737, -0.09171664998408655, -0.013109567321221685, 0.33648969409489715, 0.20973158051503404], [-0.032141958196848903, 0.07820191036237917, -0.005445197604201674, -0.0018418204748836945, 0.042153244655602155, -0.01071344326698624, 0.021997916232936857, 0.02352852492995701, -0.02434160578255913, -0.005706585682937568, -0.0023559251302908576, 0.053009835698471244, -0.013412280442507363, -0.003703294389031225, 0.018689876231400865, 0.059825362996170244, 0.011083409727387458, 0.027719011085737145, 0.03391823237345898, 0.04631974406633948, -0.0062297756795633985, -0.016990445112438263, -0.005029631721987651, 0.10645832967145102, -0.012929844914989858, 0.01796353030337549, -0.018648892028387716, 0.07968544771375673, -0.06636002790541436, -0.001073690164189432, -0.013868563267254963, 0.3864886557906748, 0.04757980638592764, -0.08516094182135961, -0.06857474057671152, -0.06309803347646283, 0.8797515353569408, 0.050870557640901364, 0.07425577733976171, -0.04992500811799836, -0.05037894960476369], [0.11624047236069052, 0.11466253449264782, 0.06462615166151459, 0.07350705295230953, 0.21059569791206403, 0.1147000020494267, 0.12462426881594721, 0.0694741766796832, 0.19694437842509438, 0.06535953702631006, 0.06564033522569152, 0.19800425178473324, 0.2544644067052516, 0.0213705356224342, 0.052325243520008495, 0.2169115382712896, 0.261038989618336, 0.02034529654153926, 0.056315691258398644, 0.24608642916970302, 0.2967647843549009, 0.020227922044226895, 0.01982741273562037, 0.19635773367004086, 0.2900141493691749, 0.02048288643238514, 0.016280673595279967, 0.17417823626545104, 0.23709320247183713, 0.045593228928081236, 0.014781629132532434, 0.11973275095814578, 0.053011391965645034, 0.17138260490016818, 0.03544883487982144, 0.008385397767600425, 0.06938162029764718, 0.036124469867066765, 0.15593749095656292, 0.006090133209918445, 0.015128199108566987, -0.4152406177883152]]},\n",
       "                preset: 'viridis'\n",
       "             })\n",
       "\n",
       "             window.ecco[viz_id].init();\n",
       "             window.ecco[viz_id].selectFirstToken();\n",
       "\n",
       "             }, function (err) {\n",
       "                console.log(err);\n",
       "            })"
      ],
      "text/plain": [
       "<IPython.core.display.Javascript object>"
      ]
     },
     "metadata": {},
     "output_type": "display_data"
    }
   ],
   "source": [
    "output.saliency(attr_method='integrated_gradients')"
   ]
  },
  {
   "cell_type": "code",
   "execution_count": 8,
   "metadata": {},
   "outputs": [
    {
     "data": {
      "text/html": [
       "<html lang=\"en\">\n",
       "<script src=\"https://requirejs.org/docs/release/2.3.6/minified/require.js\"></script>\n",
       "<script>\n",
       "    var ecco_url = 'https://storage.googleapis.com/ml-intro/ecco/'\n",
       "    // var ecco_url = 'http://localhost:8000/ecco/'\n",
       "\n",
       "    if (window.ecco === undefined) window.ecco = {}\n",
       "\n",
       "    requirejs.config({\n",
       "        urlArgs: \"bust=\" + (new Date()).getTime(),\n",
       "        nodeRequire: require,\n",
       "        paths: {\n",
       "            d3: \"https://d3js.org/d3.v5.min\",\n",
       "            \"d3-array\": \"https://d3js.org/d3-array.v2.min\",\n",
       "            jquery: \"https://code.jquery.com/jquery-3.5.1.min\",\n",
       "            // oldEcco: ecco_url + 'ecco',\n",
       "            ecco: ecco_url + 'js/0.0.4/ecco-bundle.min',\n",
       "            xregexp: 'https://cdnjs.cloudflare.com/ajax/libs/xregexp/3.2.0/xregexp-all.min'\n",
       "        }\n",
       "    });\n",
       "    requirejs(['d3'],\n",
       "        function (d3) {\n",
       "            d3.select('#css').attr('href', ecco_url + 'html/styles.css')\n",
       "        })\n",
       "\n",
       "    console.log('Ecco initialize.')\n",
       "</script>\n",
       "\n",
       "<head>\n",
       "    <link id='css' rel=\"stylesheet\" type=\"text/css\">\n",
       "</head>\n"
      ],
      "text/plain": [
       "<IPython.core.display.HTML object>"
      ]
     },
     "metadata": {},
     "output_type": "display_data"
    },
    {
     "data": {
      "text/html": [
       "<script>\n",
       "    // console.log('defining basic')\n",
       "    define('basic', ['d3'],\n",
       "        function (d3) {\n",
       "            return {\n",
       "                init: function (viz_id = null) {\n",
       "\n",
       "                    // console.log('basic init')\n",
       "                    if (viz_id == null){\n",
       "                        viz_id = \"viz_\" + Math.round(Math.random() * 10000000)\n",
       "                    }\n",
       "                    const div = d3.select('#basic').attr('id', viz_id),\n",
       "                        div_parent = d3.select('#' + viz_id).node().parentNode\n",
       "\n",
       "                    // Link to CSS file\n",
       "                    d3.select(div_parent).insert('link')\n",
       "                        .attr('rel', 'stylesheet')\n",
       "                        .attr('type', 'text/css')\n",
       "                        .attr('href', ecco_url + 'html/styles.css')\n",
       "\n",
       "                    return viz_id\n",
       "                }\n",
       "            }\n",
       "        }, function (err) {console.log(err);}\n",
       "    )\n",
       "    // console.log('after defining basic')\n",
       "\n",
       "</script>\n",
       "<div id=\"basic\"></div>\n"
      ],
      "text/plain": [
       "<IPython.core.display.HTML object>"
      ]
     },
     "metadata": {},
     "output_type": "display_data"
    },
    {
     "data": {
      "application/javascript": [
       "\n",
       "             requirejs(['basic', 'ecco'], function(basic, ecco){\n",
       "                const viz_id = basic.init()\n",
       "                window.ecco[viz_id] = ecco.interactiveTokens(viz_id, {'tokens': [{'token': 'The', 'token_id': 464, 'type': 'input', 'value': '-0.06304952746278428', 'position': 0}, {'token': ' countries', 'token_id': 2678, 'type': 'input', 'value': '-0.03926870059607414', 'position': 1}, {'token': ' of', 'token_id': 286, 'type': 'input', 'value': '0.0758441193546966', 'position': 2}, {'token': ' the', 'token_id': 262, 'type': 'input', 'value': '0.04715001921671037', 'position': 3}, {'token': ' European', 'token_id': 3427, 'type': 'input', 'value': '0.0425505332110017', 'position': 4}, {'token': ' Union', 'token_id': 4479, 'type': 'input', 'value': '0.03217266058789306', 'position': 5}, {'token': ' are', 'token_id': 389, 'type': 'input', 'value': '-0.06003035634535259', 'position': 6}, {'token': ':', 'token_id': 25, 'type': 'input', 'value': '0.0038990356036860347', 'position': 7}, {'token': '\\n', 'token_id': 198, 'type': 'input', 'value': '-0.08094475439081641', 'position': 8}, {'token': '1', 'token_id': 16, 'type': 'input', 'value': '0.02373925308835714', 'position': 9}, {'token': '.', 'token_id': 13, 'type': 'input', 'value': '-0.005602686922545435', 'position': 10}, {'token': ' Austria', 'token_id': 17322, 'type': 'input', 'value': '0.2854378065790953', 'position': 11}, {'token': '\\n', 'token_id': 198, 'type': 'input', 'value': '-0.021142367159337705', 'position': 12}, {'token': '2', 'token_id': 17, 'type': 'input', 'value': '-0.012718137116220017', 'position': 13}, {'token': '.', 'token_id': 13, 'type': 'input', 'value': '-0.017295623073166635', 'position': 14}, {'token': ' Belgium', 'token_id': 15664, 'type': 'input', 'value': '0.5024947328557766', 'position': 15}, {'token': '\\n', 'token_id': 198, 'type': 'input', 'value': '-0.0023431675187891078', 'position': 16}, {'token': '3', 'token_id': 18, 'type': 'input', 'value': '2.7544887156725445e-05', 'position': 17}, {'token': '.', 'token_id': 13, 'type': 'input', 'value': '-0.00854964875191686', 'position': 18}, {'token': ' Bulgaria', 'token_id': 27902, 'type': 'input', 'value': '0.7198052195012765', 'position': 19}, {'token': '\\n', 'token_id': 198, 'type': 'input', 'value': '-0.0013508050697078845', 'position': 20}, {'token': '4', 'token_id': 19, 'type': 'input', 'value': '0.07288565985909348', 'position': 21}, {'token': '.', 'token_id': 13, 'type': 'input', 'value': '-0.3383783811247501', 'position': 22}, {'token': ' Croatia', 'token_id': 28975, 'type': 'output', 'value': '0', 'position': 23}, {'token': '\\n', 'token_id': 198, 'type': 'output', 'value': '0', 'position': 24}, {'token': '5', 'token_id': 20, 'type': 'output', 'value': '0', 'position': 25}, {'token': '.', 'token_id': 13, 'type': 'output', 'value': '0', 'position': 26}, {'token': ' Cyprus', 'token_id': 27885, 'type': 'output', 'value': '0', 'position': 27}, {'token': '\\n', 'token_id': 198, 'type': 'output', 'value': '0', 'position': 28}, {'token': '6', 'token_id': 21, 'type': 'output', 'value': '0', 'position': 29}, {'token': '.', 'token_id': 13, 'type': 'output', 'value': '0', 'position': 30}, {'token': ' Czech', 'token_id': 16639, 'type': 'output', 'value': '0', 'position': 31}, {'token': ' Republic', 'token_id': 2066, 'type': 'output', 'value': '0', 'position': 32}, {'token': '\\n', 'token_id': 198, 'type': 'output', 'value': '0', 'position': 33}, {'token': '7', 'token_id': 22, 'type': 'output', 'value': '0', 'position': 34}, {'token': '.', 'token_id': 13, 'type': 'output', 'value': '0', 'position': 35}, {'token': ' Czech', 'token_id': 16639, 'type': 'output', 'value': '0', 'position': 36}, {'token': ' Republic', 'token_id': 2066, 'type': 'output', 'value': '0', 'position': 37}, {'token': '\\n', 'token_id': 198, 'type': 'output', 'value': '0', 'position': 38}, {'token': '8', 'token_id': 23, 'type': 'output', 'value': '0', 'position': 39}, {'token': '.', 'token_id': 13, 'type': 'output', 'value': '0', 'position': 40}, {'token': ' Denmark', 'token_id': 16490, 'type': 'output', 'value': '0', 'position': 41}, {'token': '\\n', 'token_id': 198, 'type': 'output', 'value': '0', 'position': 42}], 'attributions': [[-0.06304952746278428, -0.03926870059607414, 0.0758441193546966, 0.04715001921671037, 0.0425505332110017, 0.03217266058789306, -0.06003035634535259, 0.0038990356036860347, -0.08094475439081641, 0.02373925308835714, -0.005602686922545435, 0.2854378065790953, -0.021142367159337705, -0.012718137116220017, -0.017295623073166635, 0.5024947328557766, -0.0023431675187891078, 2.7544887156725445e-05, -0.00854964875191686, 0.7198052195012765, -0.0013508050697078845, 0.07288565985909348, -0.3383783811247501], [0.11004352294162746, 0.04220239942130859, 0.08281482105057755, 0.06649357571375618, 0.13765103563632938, 0.07801484205708376, 0.06915626943541438, 0.06244326208661768, 0.19500785641639581, 0.12077691613588766, 0.1007833556931267, 0.26404597182120026, 0.3995619128751801, 0.06578565424411185, 0.06761604753617782, 0.3038056466616071, 0.4298943281983708, 0.06648043828296518, 0.04392653929226179, 0.3736441657579979, 0.44621397180229555, -0.02030404945157504, 0.12902026971803013, 0.02898577336117571], [-0.027136026660470484, 0.04271062095339708, 0.08315590298161843, 0.027459899745607943, 0.010235499512068633, 0.017277990519549424, 0.04601713252287033, -0.010572571847550857, 0.021593391791302773, 0.2916618708368398, 0.16282707003551794, -0.006315907902934659, 0.07329111908139883, 0.48934136974615244, 0.06932761909588604, 0.0037176310536764638, 0.04974896183235129, 0.37983231325782796, 0.02508832231525661, 0.0025955561415548414, 0.02384555866679515, 0.6846267030840806, 0.04327703883505848, 0.07192261622941737, -0.041156572219944614], [0.05511645501541543, -0.08224919491195957, 0.0387087481371019, 0.043940114728484796, -0.021001744325917726, -0.02464082000982881, 0.013592280220151937, 0.08306339601759255, 0.1310520453197023, 0.09082294543433624, 0.19976968042985832, 0.03729807952018627, 0.17283014655009296, 0.146261187494742, 0.24376764707389145, 0.034776352502684495, 0.15922737895585304, 0.22892447613547995, 0.2677738835218383, 0.05749805511860908, 0.14418371479699416, 0.47429980040889064, 0.5301331802721924, -7.767750555239284e-05, 0.03857361084142591, 0.34492236198315807], [-0.12293685300333022, -0.0751159937344263, 0.05792838871094904, 0.05813681036919728, 0.0032461082147408568, 0.01542199332937964, 0.028923066411147526, 0.012168544540031228, -0.037092139037759334, 0.02985253160982242, -0.010240855758922343, 0.3428563524177933, -0.05418158738966229, -0.049106251320701566, -0.03559495125947115, 0.4479957922778362, -0.05772076172877268, -0.045749649046453865, -0.027441401351801408, 0.5349167069869423, -0.0936528594439237, -0.02189073149668818, -0.0375715665615071, 0.48660934325885724, 0.030902421483714426, -0.3171019660687018, -0.052595633845053696], [0.10775752261850739, 0.0644282893310294, 0.09267437311017233, 0.07673447596088748, 0.1524823254322586, 0.08384551349145097, 0.09212488287672292, 0.060120091871936725, 0.1997444877475224, 0.09164830928369654, 0.07030202681882379, 0.22997702955644625, 0.3499139063559452, 0.04918673484823621, 0.047361335202435136, 0.2700676914782436, 0.386428122958903, 0.05054803990836574, 0.03294962743879207, 0.33214525253770544, 0.42974726740577157, 0.02032009793242051, -0.025101962132874838, 0.14941589449039283, 0.371958399040215, -0.041548459111810696, 0.09017774890931277, -0.04074672433916893], [-0.018594369741023006, 0.047910850204974376, 0.08561860221575042, 0.0299778679987331, 0.008645667763872662, 0.016250655402790037, 0.06575353252919935, -0.029299837326917738, 0.025757514788533983, 0.24013014879788866, 0.18303774885055266, -0.002163031576414465, 0.09727881850438486, 0.3996981989989896, 0.09645378593706337, 0.013133414337206297, 0.06768990455351728, 0.32039773756347584, 0.054984251830855764, 0.03423979436118681, 0.05973645949097807, 0.4763889250896679, 0.034778990012985775, 0.07620741918840467, 0.08320597054875828, 0.585049423047776, 0.058807203444037205, 0.09550096401114498, -0.04825580224736221], [-0.0011420973666724915, -0.0702213041504914, 0.018122218182973056, 0.002819229709134552, -0.04033969913166647, -0.07875870207097804, -0.02700377007539621, 0.053474892548665616, 0.05054317096912015, 0.06448972468466962, 0.16108108135852892, -0.007086686569988679, 0.05682940647795441, 0.13065380036453902, 0.2135147428676881, -0.020441639423459976, 0.021266702259663206, 0.17901321445556856, 0.2168159149334034, 0.009809946328810408, 0.00650591321571955, 0.3247509527341033, 0.4096676014879033, 0.01712840386780039, 0.06931141405618055, 0.2083567059745415, 0.33681966743863, -0.07329815743814624, 0.16160359355118376, 0.5813026757808718], [-0.13459110260002638, 0.1277689049652754, 0.05868732000200886, 0.01795467192785194, 0.020288308727191104, 0.05760725242029631, -0.016631590392289664, -0.006066007207848958, -0.11831324976239564, -0.0050543813183324595, 0.01470504310328808, 0.3677773304914655, -0.056254608412718836, -0.02106635543035681, 0.03229138158592795, 0.5111598291752678, -0.0580197712508754, 0.0121363771201192, -0.007885642719382113, 0.5566172457839511, -0.06572461021907577, -0.05007259444451173, -0.08833775432496994, 0.3331331218144176, -0.04714812858076939, 0.01163203772324402, -0.03872081703452219, 0.10665593182306972, 0.024295394090034953, -0.014597771652821343, -0.29541758342389035], [-0.053358942802177844, 0.12932994804743467, 0.06922553643889821, 0.056016776670730496, 0.05464294588380769, 0.018818690013577128, 0.06585998633959468, 0.14326998001521113, 0.2343033716872546, 0.10212164459923767, 0.12440247370715625, 0.11929010243598989, 0.22948243238160368, 0.02421762517989182, 0.07122850488042666, 0.16588475570852546, 0.14816219471536224, 0.013716520080678874, 0.038250465336561, 0.2830108816942726, 0.08508385604344122, 0.01827809749435237, -0.0710094334098858, 0.32431180108931135, 0.27313631627054874, -0.016157242822007964, -0.11709477685238144, 0.16212943326641402, 0.10348734489032729, 0.022974379978655708, -0.10028518521066432, 0.6370017984891666], [0.10896029610658486, 0.07954072475464438, 0.10460714786226691, 0.08671075237367555, 0.18708745106932026, 0.1106695127975842, 0.12043167579559848, 0.07226098013037377, 0.22705326427580436, 0.09269696091765578, 0.11386494289519715, 0.17626678471270024, 0.33518393305134725, 0.032338608575167654, 0.08654518233869071, 0.21573860961969638, 0.343182584772058, 0.020221719554264685, 0.077146206477483, 0.2332999457843471, 0.363935489795207, 0.007383434239937636, 0.03557346476494383, 0.15495003908052513, 0.3211292946922618, -0.029054381580293755, -0.0085814496460652, 0.17498195937380384, 0.30497810140843695, -0.051255992485183643, 0.059071829507652836, 0.061145241764478206, -0.22558045064070587], [0.007435513028470113, 0.04323626962067975, 0.09075843165418014, 0.03233401941368389, 0.02049421602252563, 0.011236500238040294, 0.05663313698337799, -0.011275022572207905, 0.031857857266719566, 0.2744038597553175, 0.1929310308175779, 0.01803024649519796, 0.07447164374482695, 0.4103520045508275, 0.10557511717237868, -0.003299363229519537, 0.06929032704615307, 0.3609729288075388, 0.055153922152189915, 0.05903135169975733, 0.004632891504362914, 0.3160368453610616, 0.0235372302470135, 0.05735695887247902, 0.03323973410400607, 0.3389390591405132, -0.018909807848148254, -0.005636520145480288, -0.0023260228083247392, 0.5520489970077831, 0.045514921754279805, 0.09215970971636164, 0.040943575671416065, -0.08489838249616712], [-0.02237433560423785, 0.0399862798353556, 0.051600125570630345, 0.04116935924738188, -0.0006989860533044064, -0.009157783974312808, 0.04835253920239359, 0.06407167824431576, 0.14281450539559606, 0.06695455509812986, 0.1273424394992165, 0.06989707713979694, 0.17229554496102908, 0.12779664467263613, 0.15010922850471645, 0.05202661280862241, 0.15386203314581556, 0.139280965837796, 0.15048957170833385, 0.08577010483720089, 0.15126056049268766, 0.2674899995878122, 0.26257304816823535, 0.13044109267637302, 0.21881230118376738, 0.33558656286200544, 0.47669675317889854, 0.10976664936258666, 0.1560437991259548, 0.15513483554571939, 0.2641330178705172, 0.005072099195231075, 0.0284222955117968, 0.26984302811769323, 0.15714297738333527], [-0.07314344352875433, 0.07387159481165154, 0.08845894808574956, 0.027028881683119912, 0.01808772293708562, 0.08514345588230575, -0.025127092342501402, 0.028419725382955507, -0.11875894084141041, 0.0007755753086562642, 0.004648161226149966, 0.3291720675278927, -0.06664615172871988, -0.016250658227497713, 0.03157090970922112, 0.45031796756000003, -0.09209012228040386, 0.005471713612332636, -0.018333101795454963, 0.45675876450875014, -0.11426229260771192, -0.050277265851654415, -0.0504358618009436, 0.3637379302138953, -0.0633146614905452, 0.010916682679295823, 0.04200303967971874, 0.36915243561154176, 0.019704404288088017, 0.17990916168399446, 0.06191400276661245, 0.06189209973287614, -0.035329391141981865, 0.02256977270569513, -0.17270736611140988, -0.24202138409543056], [-0.01917490055455568, 0.07413192050389333, 0.029010050021444456, 0.03455998079931946, 0.07290918395955165, 0.0160730911044185, 0.04346163715134258, 0.053809027534842555, 0.06554274352519633, 0.0445653236361613, 0.030009706218719845, 0.03291750054144059, 0.07120487236103513, 0.04616951410752299, 0.003934051178506578, 0.008178527636378235, 0.033455345325714, 0.035945795936311635, -0.011937788332300553, 0.018535577331180643, -0.008168983331249637, 0.015453822173506328, -0.02049087372064885, 0.027179197612548014, 0.02565964349179377, 0.04526705063726331, 0.026808430784469248, 0.05574677201036492, 0.1979355999509555, 0.1670073017787808, 0.22908957962175286, 0.6580102699185595, 0.4846288296346673, 0.08539424045968491, 0.07121103652194664, 0.012556817011066443, 0.3941842859694824], [0.10891428175058386, 0.07459291688627533, 0.09835194605092458, 0.08958756960733241, 0.2203769401797896, 0.12019496174428738, 0.11730715842608998, 0.07368042835322158, 0.19972315001054394, 0.06950020867869425, 0.0974734798983392, 0.17252763243336705, 0.29466460651191745, 0.00625436225003769, 0.07708015189675176, 0.2031555354072894, 0.3134359051605736, 0.005313166370978386, 0.08247088071261977, 0.21356293289779374, 0.33919592317474884, 0.01768524888816633, 0.05350308642609058, 0.1582476183890175, 0.3333944556760743, 0.007351532718675696, 0.03421107882567751, 0.18864288106598456, 0.29352156041727573, 0.006765950763404383, 0.03632962040827063, 0.12831413524358562, 0.05768468970202369, 0.2978995058938863, 0.0010181706019746915, 0.07037426263041419, 0.03085664304069874, -0.14397346977649533], [0.00499015867440572, 0.035738065494024314, 0.032417511166248004, 0.018375661517365367, 0.011124603344433314, 0.006592807613727734, 0.028400202878604675, 0.009355259658134276, 0.020233320127783, 0.09875057672106445, 0.1047705588526541, 0.02162997968398737, 0.04881410630891275, 0.16987179857837492, 0.06988925133167316, 0.035327187655888964, 0.024511877819594602, 0.08073618062329502, 0.045530190669366005, 0.08367018914803519, 0.013683633455148095, 0.107475186568689, 0.03193238836166235, 0.08419945269411686, 0.0210812183922291, 0.09915836648847146, 0.018279981115659434, 0.039010565901984026, -0.00972771172733849, 0.1333928053476464, 0.011230392229030887, -0.038309664915215084, -0.003782329168921587, 0.07145746724429808, 0.9290007446342485, 0.0034066043785593624, -0.00635270272240492, -0.014401282380594358, -0.03454269145346315], [-0.0460332786862789, 0.09027518564832787, 0.04706797398840576, -0.0007242567952017051, -0.0294315926846521, -0.04702029581814915, 0.019727146625126254, 0.03052921970644589, 0.09334954285368723, 0.017621337829088583, 0.08458409259759607, 0.029507971862938364, 0.1123897082296362, 0.0832943367583878, 0.10925380789072961, 0.008627789605316544, 0.08799798237321231, 0.09159897127338167, 0.09455074002852838, 0.04352651537542204, 0.09914040358273128, 0.20810364341321688, 0.23762197681383135, 0.10990335725548761, 0.12217635046597844, 0.14670427875235942, 0.2561163620615317, 0.16284753484670778, 0.22222606137537854, 0.261375879535303, 0.43042058440864006, 0.10814672904156682, 0.09310877535621397, 0.30285764915665986, 0.09957176491826114, 0.2579016012929737, -0.09171664998408655, -0.013109567321221685, 0.33648969409489715, 0.20973158051503404], [-0.032141958196848903, 0.07820191036237917, -0.005445197604201674, -0.0018418204748836945, 0.042153244655602155, -0.01071344326698624, 0.021997916232936857, 0.02352852492995701, -0.02434160578255913, -0.005706585682937568, -0.0023559251302908576, 0.053009835698471244, -0.013412280442507363, -0.003703294389031225, 0.018689876231400865, 0.059825362996170244, 0.011083409727387458, 0.027719011085737145, 0.03391823237345898, 0.04631974406633948, -0.0062297756795633985, -0.016990445112438263, -0.005029631721987651, 0.10645832967145102, -0.012929844914989858, 0.01796353030337549, -0.018648892028387716, 0.07968544771375673, -0.06636002790541436, -0.001073690164189432, -0.013868563267254963, 0.3864886557906748, 0.04757980638592764, -0.08516094182135961, -0.06857474057671152, -0.06309803347646283, 0.8797515353569408, 0.050870557640901364, 0.07425577733976171, -0.04992500811799836, -0.05037894960476369], [0.11624047236069052, 0.11466253449264782, 0.06462615166151459, 0.07350705295230953, 0.21059569791206403, 0.1147000020494267, 0.12462426881594721, 0.0694741766796832, 0.19694437842509438, 0.06535953702631006, 0.06564033522569152, 0.19800425178473324, 0.2544644067052516, 0.0213705356224342, 0.052325243520008495, 0.2169115382712896, 0.261038989618336, 0.02034529654153926, 0.056315691258398644, 0.24608642916970302, 0.2967647843549009, 0.020227922044226895, 0.01982741273562037, 0.19635773367004086, 0.2900141493691749, 0.02048288643238514, 0.016280673595279967, 0.17417823626545104, 0.23709320247183713, 0.045593228928081236, 0.014781629132532434, 0.11973275095814578, 0.053011391965645034, 0.17138260490016818, 0.03544883487982144, 0.008385397767600425, 0.06938162029764718, 0.036124469867066765, 0.15593749095656292, 0.006090133209918445, 0.015128199108566987, -0.4152406177883152]]})\n",
       "\n",
       "             }, function (err) {\n",
       "                console.log(err);\n",
       "            })"
      ],
      "text/plain": [
       "<IPython.core.display.Javascript object>"
      ]
     },
     "metadata": {},
     "output_type": "display_data"
    }
   ],
   "source": [
    "output.saliency(attr_method='integrated_gradients', style=\"detailed\")"
   ]
  },
  {
   "cell_type": "code",
   "execution_count": null,
   "metadata": {},
   "outputs": [],
   "source": []
  }
 ],
 "metadata": {
  "colab": {
   "authorship_tag": "ABX9TyNMd2pM9pAx9vddAE9PqoYa",
   "collapsed_sections": [],
   "include_colab_link": true,
   "name": "Ecco-Input-saliency.ipynb",
   "provenance": []
  },
  "kernelspec": {
   "display_name": "Python 3",
   "language": "python",
   "name": "python3"
  },
  "language_info": {
   "codemirror_mode": {
    "name": "ipython",
    "version": 3
   },
   "file_extension": ".py",
   "mimetype": "text/x-python",
   "name": "python",
   "nbconvert_exporter": "python",
   "pygments_lexer": "ipython3",
   "version": "3.7.12"
  },
  "widgets": {
   "application/vnd.jupyter.widget-state+json": {
    "01e1163950684dc6b7fa868e7b9315a4": {
     "model_module": "@jupyter-widgets/controls",
     "model_name": "HTMLModel",
     "state": {
      "_dom_classes": [],
      "_model_module": "@jupyter-widgets/controls",
      "_model_module_version": "1.5.0",
      "_model_name": "HTMLModel",
      "_view_count": null,
      "_view_module": "@jupyter-widgets/controls",
      "_view_module_version": "1.5.0",
      "_view_name": "HTMLView",
      "description": "",
      "description_tooltip": null,
      "layout": "IPY_MODEL_14dd95b6e25b462e87175be869146d05",
      "placeholder": "​",
      "style": "IPY_MODEL_ff801625f32e452e84c2bcefccabbad3",
      "value": " 1.04M/1.04M [00:00&lt;00:00, 2.09MB/s]"
     }
    },
    "03de4b4c35ce4b3a87f0b06743707c65": {
     "model_module": "@jupyter-widgets/base",
     "model_name": "LayoutModel",
     "state": {
      "_model_module": "@jupyter-widgets/base",
      "_model_module_version": "1.2.0",
      "_model_name": "LayoutModel",
      "_view_count": null,
      "_view_module": "@jupyter-widgets/base",
      "_view_module_version": "1.2.0",
      "_view_name": "LayoutView",
      "align_content": null,
      "align_items": null,
      "align_self": null,
      "border": null,
      "bottom": null,
      "display": null,
      "flex": null,
      "flex_flow": null,
      "grid_area": null,
      "grid_auto_columns": null,
      "grid_auto_flow": null,
      "grid_auto_rows": null,
      "grid_column": null,
      "grid_gap": null,
      "grid_row": null,
      "grid_template_areas": null,
      "grid_template_columns": null,
      "grid_template_rows": null,
      "height": null,
      "justify_content": null,
      "justify_items": null,
      "left": null,
      "margin": null,
      "max_height": null,
      "max_width": null,
      "min_height": null,
      "min_width": null,
      "object_fit": null,
      "object_position": null,
      "order": null,
      "overflow": null,
      "overflow_x": null,
      "overflow_y": null,
      "padding": null,
      "right": null,
      "top": null,
      "visibility": null,
      "width": null
     }
    },
    "0e6405015df340b3bdc58694ebd4ecf4": {
     "model_module": "@jupyter-widgets/base",
     "model_name": "LayoutModel",
     "state": {
      "_model_module": "@jupyter-widgets/base",
      "_model_module_version": "1.2.0",
      "_model_name": "LayoutModel",
      "_view_count": null,
      "_view_module": "@jupyter-widgets/base",
      "_view_module_version": "1.2.0",
      "_view_name": "LayoutView",
      "align_content": null,
      "align_items": null,
      "align_self": null,
      "border": null,
      "bottom": null,
      "display": null,
      "flex": null,
      "flex_flow": null,
      "grid_area": null,
      "grid_auto_columns": null,
      "grid_auto_flow": null,
      "grid_auto_rows": null,
      "grid_column": null,
      "grid_gap": null,
      "grid_row": null,
      "grid_template_areas": null,
      "grid_template_columns": null,
      "grid_template_rows": null,
      "height": null,
      "justify_content": null,
      "justify_items": null,
      "left": null,
      "margin": null,
      "max_height": null,
      "max_width": null,
      "min_height": null,
      "min_width": null,
      "object_fit": null,
      "object_position": null,
      "order": null,
      "overflow": null,
      "overflow_x": null,
      "overflow_y": null,
      "padding": null,
      "right": null,
      "top": null,
      "visibility": null,
      "width": null
     }
    },
    "1198ffa7ad12484f9ac4048835321335": {
     "model_module": "@jupyter-widgets/controls",
     "model_name": "FloatProgressModel",
     "state": {
      "_dom_classes": [],
      "_model_module": "@jupyter-widgets/controls",
      "_model_module_version": "1.5.0",
      "_model_name": "FloatProgressModel",
      "_view_count": null,
      "_view_module": "@jupyter-widgets/controls",
      "_view_module_version": "1.5.0",
      "_view_name": "ProgressView",
      "bar_style": "success",
      "description": "Downloading: 100%",
      "description_tooltip": null,
      "layout": "IPY_MODEL_ea23401f422c4201a2ccd2a45c426d52",
      "max": 762,
      "min": 0,
      "orientation": "horizontal",
      "style": "IPY_MODEL_9254b1b515654fe9be6ffc08c2b15e4b",
      "value": 762
     }
    },
    "14dd95b6e25b462e87175be869146d05": {
     "model_module": "@jupyter-widgets/base",
     "model_name": "LayoutModel",
     "state": {
      "_model_module": "@jupyter-widgets/base",
      "_model_module_version": "1.2.0",
      "_model_name": "LayoutModel",
      "_view_count": null,
      "_view_module": "@jupyter-widgets/base",
      "_view_module_version": "1.2.0",
      "_view_name": "LayoutView",
      "align_content": null,
      "align_items": null,
      "align_self": null,
      "border": null,
      "bottom": null,
      "display": null,
      "flex": null,
      "flex_flow": null,
      "grid_area": null,
      "grid_auto_columns": null,
      "grid_auto_flow": null,
      "grid_auto_rows": null,
      "grid_column": null,
      "grid_gap": null,
      "grid_row": null,
      "grid_template_areas": null,
      "grid_template_columns": null,
      "grid_template_rows": null,
      "height": null,
      "justify_content": null,
      "justify_items": null,
      "left": null,
      "margin": null,
      "max_height": null,
      "max_width": null,
      "min_height": null,
      "min_width": null,
      "object_fit": null,
      "object_position": null,
      "order": null,
      "overflow": null,
      "overflow_x": null,
      "overflow_y": null,
      "padding": null,
      "right": null,
      "top": null,
      "visibility": null,
      "width": null
     }
    },
    "2d5ded1ce3034928b9675c598f5144e6": {
     "model_module": "@jupyter-widgets/controls",
     "model_name": "HBoxModel",
     "state": {
      "_dom_classes": [],
      "_model_module": "@jupyter-widgets/controls",
      "_model_module_version": "1.5.0",
      "_model_name": "HBoxModel",
      "_view_count": null,
      "_view_module": "@jupyter-widgets/controls",
      "_view_module_version": "1.5.0",
      "_view_name": "HBoxView",
      "box_style": "",
      "children": [
       "IPY_MODEL_31a4e3758a474c3da4a49bd5c4c396a4",
       "IPY_MODEL_deaba8a37b4a40e2a5e42c8e4044f5ef"
      ],
      "layout": "IPY_MODEL_03de4b4c35ce4b3a87f0b06743707c65"
     }
    },
    "31a4e3758a474c3da4a49bd5c4c396a4": {
     "model_module": "@jupyter-widgets/controls",
     "model_name": "FloatProgressModel",
     "state": {
      "_dom_classes": [],
      "_model_module": "@jupyter-widgets/controls",
      "_model_module_version": "1.5.0",
      "_model_name": "FloatProgressModel",
      "_view_count": null,
      "_view_module": "@jupyter-widgets/controls",
      "_view_module_version": "1.5.0",
      "_view_name": "ProgressView",
      "bar_style": "success",
      "description": "Downloading: 100%",
      "description_tooltip": null,
      "layout": "IPY_MODEL_a573b926127f471d90552617dbd355ac",
      "max": 456318,
      "min": 0,
      "orientation": "horizontal",
      "style": "IPY_MODEL_41e537de9f8c4912a59ec4dc30e405f5",
      "value": 456318
     }
    },
    "41e537de9f8c4912a59ec4dc30e405f5": {
     "model_module": "@jupyter-widgets/controls",
     "model_name": "ProgressStyleModel",
     "state": {
      "_model_module": "@jupyter-widgets/controls",
      "_model_module_version": "1.5.0",
      "_model_name": "ProgressStyleModel",
      "_view_count": null,
      "_view_module": "@jupyter-widgets/base",
      "_view_module_version": "1.2.0",
      "_view_name": "StyleView",
      "bar_color": null,
      "description_width": "initial"
     }
    },
    "59c41cdb09dc43448f8cf3b3edacc9f6": {
     "model_module": "@jupyter-widgets/controls",
     "model_name": "FloatProgressModel",
     "state": {
      "_dom_classes": [],
      "_model_module": "@jupyter-widgets/controls",
      "_model_module_version": "1.5.0",
      "_model_name": "FloatProgressModel",
      "_view_count": null,
      "_view_module": "@jupyter-widgets/controls",
      "_view_module_version": "1.5.0",
      "_view_name": "ProgressView",
      "bar_style": "success",
      "description": "Downloading: 100%",
      "description_tooltip": null,
      "layout": "IPY_MODEL_ff151fd817e84f939614c8001ea02384",
      "max": 352833716,
      "min": 0,
      "orientation": "horizontal",
      "style": "IPY_MODEL_6f42cc0bd0414b09994f8ca293b31db3",
      "value": 352833716
     }
    },
    "5a022265356840a5a3fb60ec1ab69d9f": {
     "model_module": "@jupyter-widgets/controls",
     "model_name": "FloatProgressModel",
     "state": {
      "_dom_classes": [],
      "_model_module": "@jupyter-widgets/controls",
      "_model_module_version": "1.5.0",
      "_model_name": "FloatProgressModel",
      "_view_count": null,
      "_view_module": "@jupyter-widgets/controls",
      "_view_module_version": "1.5.0",
      "_view_name": "ProgressView",
      "bar_style": "success",
      "description": "Downloading: 100%",
      "description_tooltip": null,
      "layout": "IPY_MODEL_a9682d37555846aeb124b69cf38092c3",
      "max": 1042301,
      "min": 0,
      "orientation": "horizontal",
      "style": "IPY_MODEL_6b92f7b5d29e4fa786f03c9a6267cec4",
      "value": 1042301
     }
    },
    "5e4aa51d413b4004bee30cce914d193e": {
     "model_module": "@jupyter-widgets/base",
     "model_name": "LayoutModel",
     "state": {
      "_model_module": "@jupyter-widgets/base",
      "_model_module_version": "1.2.0",
      "_model_name": "LayoutModel",
      "_view_count": null,
      "_view_module": "@jupyter-widgets/base",
      "_view_module_version": "1.2.0",
      "_view_name": "LayoutView",
      "align_content": null,
      "align_items": null,
      "align_self": null,
      "border": null,
      "bottom": null,
      "display": null,
      "flex": null,
      "flex_flow": null,
      "grid_area": null,
      "grid_auto_columns": null,
      "grid_auto_flow": null,
      "grid_auto_rows": null,
      "grid_column": null,
      "grid_gap": null,
      "grid_row": null,
      "grid_template_areas": null,
      "grid_template_columns": null,
      "grid_template_rows": null,
      "height": null,
      "justify_content": null,
      "justify_items": null,
      "left": null,
      "margin": null,
      "max_height": null,
      "max_width": null,
      "min_height": null,
      "min_width": null,
      "object_fit": null,
      "object_position": null,
      "order": null,
      "overflow": null,
      "overflow_x": null,
      "overflow_y": null,
      "padding": null,
      "right": null,
      "top": null,
      "visibility": null,
      "width": null
     }
    },
    "5fd6963056bf4687a15c941d3be3494b": {
     "model_module": "@jupyter-widgets/controls",
     "model_name": "HBoxModel",
     "state": {
      "_dom_classes": [],
      "_model_module": "@jupyter-widgets/controls",
      "_model_module_version": "1.5.0",
      "_model_name": "HBoxModel",
      "_view_count": null,
      "_view_module": "@jupyter-widgets/controls",
      "_view_module_version": "1.5.0",
      "_view_name": "HBoxView",
      "box_style": "",
      "children": [
       "IPY_MODEL_5a022265356840a5a3fb60ec1ab69d9f",
       "IPY_MODEL_01e1163950684dc6b7fa868e7b9315a4"
      ],
      "layout": "IPY_MODEL_9a961b8a92334bedaeda460e4c92befc"
     }
    },
    "66ee7dd681184981a67e2b9dd5fdd6f0": {
     "model_module": "@jupyter-widgets/controls",
     "model_name": "HBoxModel",
     "state": {
      "_dom_classes": [],
      "_model_module": "@jupyter-widgets/controls",
      "_model_module_version": "1.5.0",
      "_model_name": "HBoxModel",
      "_view_count": null,
      "_view_module": "@jupyter-widgets/controls",
      "_view_module_version": "1.5.0",
      "_view_name": "HBoxView",
      "box_style": "",
      "children": [
       "IPY_MODEL_1198ffa7ad12484f9ac4048835321335",
       "IPY_MODEL_819c4c5a5b3349bcade558a02106c0c4"
      ],
      "layout": "IPY_MODEL_0e6405015df340b3bdc58694ebd4ecf4"
     }
    },
    "6b92f7b5d29e4fa786f03c9a6267cec4": {
     "model_module": "@jupyter-widgets/controls",
     "model_name": "ProgressStyleModel",
     "state": {
      "_model_module": "@jupyter-widgets/controls",
      "_model_module_version": "1.5.0",
      "_model_name": "ProgressStyleModel",
      "_view_count": null,
      "_view_module": "@jupyter-widgets/base",
      "_view_module_version": "1.2.0",
      "_view_name": "StyleView",
      "bar_color": null,
      "description_width": "initial"
     }
    },
    "6f42cc0bd0414b09994f8ca293b31db3": {
     "model_module": "@jupyter-widgets/controls",
     "model_name": "ProgressStyleModel",
     "state": {
      "_model_module": "@jupyter-widgets/controls",
      "_model_module_version": "1.5.0",
      "_model_name": "ProgressStyleModel",
      "_view_count": null,
      "_view_module": "@jupyter-widgets/base",
      "_view_module_version": "1.2.0",
      "_view_name": "StyleView",
      "bar_color": null,
      "description_width": "initial"
     }
    },
    "7d93ca3793fb43ba824f743aa9a7c208": {
     "model_module": "@jupyter-widgets/controls",
     "model_name": "DescriptionStyleModel",
     "state": {
      "_model_module": "@jupyter-widgets/controls",
      "_model_module_version": "1.5.0",
      "_model_name": "DescriptionStyleModel",
      "_view_count": null,
      "_view_module": "@jupyter-widgets/base",
      "_view_module_version": "1.2.0",
      "_view_name": "StyleView",
      "description_width": ""
     }
    },
    "819c4c5a5b3349bcade558a02106c0c4": {
     "model_module": "@jupyter-widgets/controls",
     "model_name": "HTMLModel",
     "state": {
      "_dom_classes": [],
      "_model_module": "@jupyter-widgets/controls",
      "_model_module_version": "1.5.0",
      "_model_name": "HTMLModel",
      "_view_count": null,
      "_view_module": "@jupyter-widgets/controls",
      "_view_module_version": "1.5.0",
      "_view_name": "HTMLView",
      "description": "",
      "description_tooltip": null,
      "layout": "IPY_MODEL_5e4aa51d413b4004bee30cce914d193e",
      "placeholder": "​",
      "style": "IPY_MODEL_e0fcf661019f4e3da00175887b431ccc",
      "value": " 762/762 [00:00&lt;00:00, 17.0kB/s]"
     }
    },
    "9254b1b515654fe9be6ffc08c2b15e4b": {
     "model_module": "@jupyter-widgets/controls",
     "model_name": "ProgressStyleModel",
     "state": {
      "_model_module": "@jupyter-widgets/controls",
      "_model_module_version": "1.5.0",
      "_model_name": "ProgressStyleModel",
      "_view_count": null,
      "_view_module": "@jupyter-widgets/base",
      "_view_module_version": "1.2.0",
      "_view_name": "StyleView",
      "bar_color": null,
      "description_width": "initial"
     }
    },
    "9a961b8a92334bedaeda460e4c92befc": {
     "model_module": "@jupyter-widgets/base",
     "model_name": "LayoutModel",
     "state": {
      "_model_module": "@jupyter-widgets/base",
      "_model_module_version": "1.2.0",
      "_model_name": "LayoutModel",
      "_view_count": null,
      "_view_module": "@jupyter-widgets/base",
      "_view_module_version": "1.2.0",
      "_view_name": "LayoutView",
      "align_content": null,
      "align_items": null,
      "align_self": null,
      "border": null,
      "bottom": null,
      "display": null,
      "flex": null,
      "flex_flow": null,
      "grid_area": null,
      "grid_auto_columns": null,
      "grid_auto_flow": null,
      "grid_auto_rows": null,
      "grid_column": null,
      "grid_gap": null,
      "grid_row": null,
      "grid_template_areas": null,
      "grid_template_columns": null,
      "grid_template_rows": null,
      "height": null,
      "justify_content": null,
      "justify_items": null,
      "left": null,
      "margin": null,
      "max_height": null,
      "max_width": null,
      "min_height": null,
      "min_width": null,
      "object_fit": null,
      "object_position": null,
      "order": null,
      "overflow": null,
      "overflow_x": null,
      "overflow_y": null,
      "padding": null,
      "right": null,
      "top": null,
      "visibility": null,
      "width": null
     }
    },
    "a33793da690a401f84cfc27fe66b58d3": {
     "model_module": "@jupyter-widgets/controls",
     "model_name": "HTMLModel",
     "state": {
      "_dom_classes": [],
      "_model_module": "@jupyter-widgets/controls",
      "_model_module_version": "1.5.0",
      "_model_name": "HTMLModel",
      "_view_count": null,
      "_view_module": "@jupyter-widgets/controls",
      "_view_module_version": "1.5.0",
      "_view_name": "HTMLView",
      "description": "",
      "description_tooltip": null,
      "layout": "IPY_MODEL_cdc358ab0d7b4cb3b911102f5b5ea48f",
      "placeholder": "​",
      "style": "IPY_MODEL_bc6eb47a66bc4fbe88efa7878e1fd02e",
      "value": " 353M/353M [00:06&lt;00:00, 53.4MB/s]"
     }
    },
    "a573b926127f471d90552617dbd355ac": {
     "model_module": "@jupyter-widgets/base",
     "model_name": "LayoutModel",
     "state": {
      "_model_module": "@jupyter-widgets/base",
      "_model_module_version": "1.2.0",
      "_model_name": "LayoutModel",
      "_view_count": null,
      "_view_module": "@jupyter-widgets/base",
      "_view_module_version": "1.2.0",
      "_view_name": "LayoutView",
      "align_content": null,
      "align_items": null,
      "align_self": null,
      "border": null,
      "bottom": null,
      "display": null,
      "flex": null,
      "flex_flow": null,
      "grid_area": null,
      "grid_auto_columns": null,
      "grid_auto_flow": null,
      "grid_auto_rows": null,
      "grid_column": null,
      "grid_gap": null,
      "grid_row": null,
      "grid_template_areas": null,
      "grid_template_columns": null,
      "grid_template_rows": null,
      "height": null,
      "justify_content": null,
      "justify_items": null,
      "left": null,
      "margin": null,
      "max_height": null,
      "max_width": null,
      "min_height": null,
      "min_width": null,
      "object_fit": null,
      "object_position": null,
      "order": null,
      "overflow": null,
      "overflow_x": null,
      "overflow_y": null,
      "padding": null,
      "right": null,
      "top": null,
      "visibility": null,
      "width": null
     }
    },
    "a7f991e0d30b4a2bbdf4efe3085b60ec": {
     "model_module": "@jupyter-widgets/base",
     "model_name": "LayoutModel",
     "state": {
      "_model_module": "@jupyter-widgets/base",
      "_model_module_version": "1.2.0",
      "_model_name": "LayoutModel",
      "_view_count": null,
      "_view_module": "@jupyter-widgets/base",
      "_view_module_version": "1.2.0",
      "_view_name": "LayoutView",
      "align_content": null,
      "align_items": null,
      "align_self": null,
      "border": null,
      "bottom": null,
      "display": null,
      "flex": null,
      "flex_flow": null,
      "grid_area": null,
      "grid_auto_columns": null,
      "grid_auto_flow": null,
      "grid_auto_rows": null,
      "grid_column": null,
      "grid_gap": null,
      "grid_row": null,
      "grid_template_areas": null,
      "grid_template_columns": null,
      "grid_template_rows": null,
      "height": null,
      "justify_content": null,
      "justify_items": null,
      "left": null,
      "margin": null,
      "max_height": null,
      "max_width": null,
      "min_height": null,
      "min_width": null,
      "object_fit": null,
      "object_position": null,
      "order": null,
      "overflow": null,
      "overflow_x": null,
      "overflow_y": null,
      "padding": null,
      "right": null,
      "top": null,
      "visibility": null,
      "width": null
     }
    },
    "a9682d37555846aeb124b69cf38092c3": {
     "model_module": "@jupyter-widgets/base",
     "model_name": "LayoutModel",
     "state": {
      "_model_module": "@jupyter-widgets/base",
      "_model_module_version": "1.2.0",
      "_model_name": "LayoutModel",
      "_view_count": null,
      "_view_module": "@jupyter-widgets/base",
      "_view_module_version": "1.2.0",
      "_view_name": "LayoutView",
      "align_content": null,
      "align_items": null,
      "align_self": null,
      "border": null,
      "bottom": null,
      "display": null,
      "flex": null,
      "flex_flow": null,
      "grid_area": null,
      "grid_auto_columns": null,
      "grid_auto_flow": null,
      "grid_auto_rows": null,
      "grid_column": null,
      "grid_gap": null,
      "grid_row": null,
      "grid_template_areas": null,
      "grid_template_columns": null,
      "grid_template_rows": null,
      "height": null,
      "justify_content": null,
      "justify_items": null,
      "left": null,
      "margin": null,
      "max_height": null,
      "max_width": null,
      "min_height": null,
      "min_width": null,
      "object_fit": null,
      "object_position": null,
      "order": null,
      "overflow": null,
      "overflow_x": null,
      "overflow_y": null,
      "padding": null,
      "right": null,
      "top": null,
      "visibility": null,
      "width": null
     }
    },
    "b54a170e8e20428dbd08dcbececa6174": {
     "model_module": "@jupyter-widgets/controls",
     "model_name": "HBoxModel",
     "state": {
      "_dom_classes": [],
      "_model_module": "@jupyter-widgets/controls",
      "_model_module_version": "1.5.0",
      "_model_name": "HBoxModel",
      "_view_count": null,
      "_view_module": "@jupyter-widgets/controls",
      "_view_module_version": "1.5.0",
      "_view_name": "HBoxView",
      "box_style": "",
      "children": [
       "IPY_MODEL_59c41cdb09dc43448f8cf3b3edacc9f6",
       "IPY_MODEL_a33793da690a401f84cfc27fe66b58d3"
      ],
      "layout": "IPY_MODEL_a7f991e0d30b4a2bbdf4efe3085b60ec"
     }
    },
    "bc6eb47a66bc4fbe88efa7878e1fd02e": {
     "model_module": "@jupyter-widgets/controls",
     "model_name": "DescriptionStyleModel",
     "state": {
      "_model_module": "@jupyter-widgets/controls",
      "_model_module_version": "1.5.0",
      "_model_name": "DescriptionStyleModel",
      "_view_count": null,
      "_view_module": "@jupyter-widgets/base",
      "_view_module_version": "1.2.0",
      "_view_name": "StyleView",
      "description_width": ""
     }
    },
    "cdc358ab0d7b4cb3b911102f5b5ea48f": {
     "model_module": "@jupyter-widgets/base",
     "model_name": "LayoutModel",
     "state": {
      "_model_module": "@jupyter-widgets/base",
      "_model_module_version": "1.2.0",
      "_model_name": "LayoutModel",
      "_view_count": null,
      "_view_module": "@jupyter-widgets/base",
      "_view_module_version": "1.2.0",
      "_view_name": "LayoutView",
      "align_content": null,
      "align_items": null,
      "align_self": null,
      "border": null,
      "bottom": null,
      "display": null,
      "flex": null,
      "flex_flow": null,
      "grid_area": null,
      "grid_auto_columns": null,
      "grid_auto_flow": null,
      "grid_auto_rows": null,
      "grid_column": null,
      "grid_gap": null,
      "grid_row": null,
      "grid_template_areas": null,
      "grid_template_columns": null,
      "grid_template_rows": null,
      "height": null,
      "justify_content": null,
      "justify_items": null,
      "left": null,
      "margin": null,
      "max_height": null,
      "max_width": null,
      "min_height": null,
      "min_width": null,
      "object_fit": null,
      "object_position": null,
      "order": null,
      "overflow": null,
      "overflow_x": null,
      "overflow_y": null,
      "padding": null,
      "right": null,
      "top": null,
      "visibility": null,
      "width": null
     }
    },
    "dde55076d6544256b821e4364e787a7f": {
     "model_module": "@jupyter-widgets/base",
     "model_name": "LayoutModel",
     "state": {
      "_model_module": "@jupyter-widgets/base",
      "_model_module_version": "1.2.0",
      "_model_name": "LayoutModel",
      "_view_count": null,
      "_view_module": "@jupyter-widgets/base",
      "_view_module_version": "1.2.0",
      "_view_name": "LayoutView",
      "align_content": null,
      "align_items": null,
      "align_self": null,
      "border": null,
      "bottom": null,
      "display": null,
      "flex": null,
      "flex_flow": null,
      "grid_area": null,
      "grid_auto_columns": null,
      "grid_auto_flow": null,
      "grid_auto_rows": null,
      "grid_column": null,
      "grid_gap": null,
      "grid_row": null,
      "grid_template_areas": null,
      "grid_template_columns": null,
      "grid_template_rows": null,
      "height": null,
      "justify_content": null,
      "justify_items": null,
      "left": null,
      "margin": null,
      "max_height": null,
      "max_width": null,
      "min_height": null,
      "min_width": null,
      "object_fit": null,
      "object_position": null,
      "order": null,
      "overflow": null,
      "overflow_x": null,
      "overflow_y": null,
      "padding": null,
      "right": null,
      "top": null,
      "visibility": null,
      "width": null
     }
    },
    "deaba8a37b4a40e2a5e42c8e4044f5ef": {
     "model_module": "@jupyter-widgets/controls",
     "model_name": "HTMLModel",
     "state": {
      "_dom_classes": [],
      "_model_module": "@jupyter-widgets/controls",
      "_model_module_version": "1.5.0",
      "_model_name": "HTMLModel",
      "_view_count": null,
      "_view_module": "@jupyter-widgets/controls",
      "_view_module_version": "1.5.0",
      "_view_name": "HTMLView",
      "description": "",
      "description_tooltip": null,
      "layout": "IPY_MODEL_dde55076d6544256b821e4364e787a7f",
      "placeholder": "​",
      "style": "IPY_MODEL_7d93ca3793fb43ba824f743aa9a7c208",
      "value": " 456k/456k [00:00&lt;00:00, 2.34MB/s]"
     }
    },
    "e0fcf661019f4e3da00175887b431ccc": {
     "model_module": "@jupyter-widgets/controls",
     "model_name": "DescriptionStyleModel",
     "state": {
      "_model_module": "@jupyter-widgets/controls",
      "_model_module_version": "1.5.0",
      "_model_name": "DescriptionStyleModel",
      "_view_count": null,
      "_view_module": "@jupyter-widgets/base",
      "_view_module_version": "1.2.0",
      "_view_name": "StyleView",
      "description_width": ""
     }
    },
    "ea23401f422c4201a2ccd2a45c426d52": {
     "model_module": "@jupyter-widgets/base",
     "model_name": "LayoutModel",
     "state": {
      "_model_module": "@jupyter-widgets/base",
      "_model_module_version": "1.2.0",
      "_model_name": "LayoutModel",
      "_view_count": null,
      "_view_module": "@jupyter-widgets/base",
      "_view_module_version": "1.2.0",
      "_view_name": "LayoutView",
      "align_content": null,
      "align_items": null,
      "align_self": null,
      "border": null,
      "bottom": null,
      "display": null,
      "flex": null,
      "flex_flow": null,
      "grid_area": null,
      "grid_auto_columns": null,
      "grid_auto_flow": null,
      "grid_auto_rows": null,
      "grid_column": null,
      "grid_gap": null,
      "grid_row": null,
      "grid_template_areas": null,
      "grid_template_columns": null,
      "grid_template_rows": null,
      "height": null,
      "justify_content": null,
      "justify_items": null,
      "left": null,
      "margin": null,
      "max_height": null,
      "max_width": null,
      "min_height": null,
      "min_width": null,
      "object_fit": null,
      "object_position": null,
      "order": null,
      "overflow": null,
      "overflow_x": null,
      "overflow_y": null,
      "padding": null,
      "right": null,
      "top": null,
      "visibility": null,
      "width": null
     }
    },
    "ff151fd817e84f939614c8001ea02384": {
     "model_module": "@jupyter-widgets/base",
     "model_name": "LayoutModel",
     "state": {
      "_model_module": "@jupyter-widgets/base",
      "_model_module_version": "1.2.0",
      "_model_name": "LayoutModel",
      "_view_count": null,
      "_view_module": "@jupyter-widgets/base",
      "_view_module_version": "1.2.0",
      "_view_name": "LayoutView",
      "align_content": null,
      "align_items": null,
      "align_self": null,
      "border": null,
      "bottom": null,
      "display": null,
      "flex": null,
      "flex_flow": null,
      "grid_area": null,
      "grid_auto_columns": null,
      "grid_auto_flow": null,
      "grid_auto_rows": null,
      "grid_column": null,
      "grid_gap": null,
      "grid_row": null,
      "grid_template_areas": null,
      "grid_template_columns": null,
      "grid_template_rows": null,
      "height": null,
      "justify_content": null,
      "justify_items": null,
      "left": null,
      "margin": null,
      "max_height": null,
      "max_width": null,
      "min_height": null,
      "min_width": null,
      "object_fit": null,
      "object_position": null,
      "order": null,
      "overflow": null,
      "overflow_x": null,
      "overflow_y": null,
      "padding": null,
      "right": null,
      "top": null,
      "visibility": null,
      "width": null
     }
    },
    "ff801625f32e452e84c2bcefccabbad3": {
     "model_module": "@jupyter-widgets/controls",
     "model_name": "DescriptionStyleModel",
     "state": {
      "_model_module": "@jupyter-widgets/controls",
      "_model_module_version": "1.5.0",
      "_model_name": "DescriptionStyleModel",
      "_view_count": null,
      "_view_module": "@jupyter-widgets/base",
      "_view_module_version": "1.2.0",
      "_view_name": "StyleView",
      "description_width": ""
     }
    }
   }
  }
 },
 "nbformat": 4,
 "nbformat_minor": 1
}

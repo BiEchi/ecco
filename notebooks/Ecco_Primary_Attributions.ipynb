{
 "cells": [
  {
   "cell_type": "markdown",
   "metadata": {
    "colab_type": "text",
    "id": "view-in-github"
   },
   "source": [
    "<a href=\"https://colab.research.google.com/github/jalammar/ecco/blob/main/notebooks/Ecco_Input_Saliency.ipynb\" target=\"_parent\"><img src=\"https://colab.research.google.com/assets/colab-badge.svg\" alt=\"Open In Colab\"/></a>"
   ]
  },
  {
   "cell_type": "markdown",
   "metadata": {},
   "source": [
    "# Primary Attributions\n",
    "\n",
    "This notebook contains visualizations for primary attribution methods, by that means, methods that evaluate the contribution of each input feature to the output of a model.\n",
    "\n",
    "Now we are currently supporting:\n",
    "- Gradient saliency\n",
    "- Input X Gradient saliency\n",
    "- Integrated Gradients"
   ]
  },
  {
   "cell_type": "code",
   "execution_count": null,
   "metadata": {},
   "outputs": [],
   "source": [
    "!pip install ecco"
   ]
  },
  {
   "cell_type": "code",
   "execution_count": 2,
   "metadata": {
    "colab": {
     "base_uri": "https://localhost:8080/",
     "height": 215,
     "referenced_widgets": [
      "66ee7dd681184981a67e2b9dd5fdd6f0",
      "0e6405015df340b3bdc58694ebd4ecf4",
      "1198ffa7ad12484f9ac4048835321335",
      "819c4c5a5b3349bcade558a02106c0c4",
      "9254b1b515654fe9be6ffc08c2b15e4b",
      "ea23401f422c4201a2ccd2a45c426d52",
      "e0fcf661019f4e3da00175887b431ccc",
      "5e4aa51d413b4004bee30cce914d193e",
      "5fd6963056bf4687a15c941d3be3494b",
      "9a961b8a92334bedaeda460e4c92befc",
      "5a022265356840a5a3fb60ec1ab69d9f",
      "01e1163950684dc6b7fa868e7b9315a4",
      "6b92f7b5d29e4fa786f03c9a6267cec4",
      "a9682d37555846aeb124b69cf38092c3",
      "ff801625f32e452e84c2bcefccabbad3",
      "14dd95b6e25b462e87175be869146d05",
      "2d5ded1ce3034928b9675c598f5144e6",
      "03de4b4c35ce4b3a87f0b06743707c65",
      "31a4e3758a474c3da4a49bd5c4c396a4",
      "deaba8a37b4a40e2a5e42c8e4044f5ef",
      "41e537de9f8c4912a59ec4dc30e405f5",
      "a573b926127f471d90552617dbd355ac",
      "7d93ca3793fb43ba824f743aa9a7c208",
      "dde55076d6544256b821e4364e787a7f",
      "b54a170e8e20428dbd08dcbececa6174",
      "a7f991e0d30b4a2bbdf4efe3085b60ec",
      "59c41cdb09dc43448f8cf3b3edacc9f6",
      "a33793da690a401f84cfc27fe66b58d3",
      "6f42cc0bd0414b09994f8ca293b31db3",
      "ff151fd817e84f939614c8001ea02384",
      "bc6eb47a66bc4fbe88efa7878e1fd02e",
      "cdc358ab0d7b4cb3b911102f5b5ea48f"
     ]
    },
    "id": "zzcMoKUkV3aH",
    "outputId": "e88438a9-112f-4dfe-9897-88a589e42218"
   },
   "outputs": [
    {
     "name": "stderr",
     "output_type": "stream",
     "text": [
      "/home/ola/our_ecco/ecco/venv/lib/python3.7/site-packages/torch/cuda/__init__.py:52: UserWarning: CUDA initialization: The NVIDIA driver on your system is too old (found version 9010). Please update your GPU driver by downloading and installing a new version from the URL: http://www.nvidia.com/Download/index.aspx Alternatively, go to: https://pytorch.org to install a PyTorch version that has been compiled with your version of the CUDA driver. (Triggered internally at  ../c10/cuda/CUDAFunctions.cpp:115.)\n",
      "  return torch._C._cuda_getDeviceCount() > 0\n"
     ]
    }
   ],
   "source": [
    "import ecco\n",
    "lm = ecco.from_pretrained('distilgpt2')"
   ]
  },
  {
   "cell_type": "code",
   "execution_count": 3,
   "metadata": {
    "colab": {
     "base_uri": "https://localhost:8080/",
     "height": 334
    },
    "id": "T9bZBZLq-93C",
    "outputId": "e6f3398b-5e9e-456d-d5a4-3331764fea9c"
   },
   "outputs": [
    {
     "data": {
      "text/html": [
       "<html lang=\"en\">\n",
       "<script src=\"https://requirejs.org/docs/release/2.3.6/minified/require.js\"></script>\n",
       "<script>\n",
       "    var ecco_url = 'https://storage.googleapis.com/ml-intro/ecco/'\n",
       "    // var ecco_url = 'http://localhost:8000/ecco/'\n",
       "\n",
       "    if (window.ecco === undefined) window.ecco = {}\n",
       "\n",
       "    requirejs.config({\n",
       "        urlArgs: \"bust=\" + (new Date()).getTime(),\n",
       "        nodeRequire: require,\n",
       "        paths: {\n",
       "            d3: \"https://d3js.org/d3.v5.min\",\n",
       "            \"d3-array\": \"https://d3js.org/d3-array.v2.min\",\n",
       "            jquery: \"https://code.jquery.com/jquery-3.5.1.min\",\n",
       "            // oldEcco: ecco_url + 'ecco',\n",
       "            ecco: ecco_url + 'js/0.0.4/ecco-bundle.min',\n",
       "            xregexp: 'https://cdnjs.cloudflare.com/ajax/libs/xregexp/3.2.0/xregexp-all.min'\n",
       "        }\n",
       "    });\n",
       "    requirejs(['d3'],\n",
       "        function (d3) {\n",
       "            d3.select('#css').attr('href', ecco_url + 'html/styles.css')\n",
       "        })\n",
       "\n",
       "    console.log('Ecco initialize.')\n",
       "</script>\n",
       "\n",
       "<head>\n",
       "    <link id='css' rel=\"stylesheet\" type=\"text/css\">\n",
       "</head>\n"
      ],
      "text/plain": [
       "<IPython.core.display.HTML object>"
      ]
     },
     "metadata": {},
     "output_type": "display_data"
    },
    {
     "data": {
      "text/html": [
       "<script>\n",
       "    // console.log('defining basic')\n",
       "    define('basic', ['d3'],\n",
       "        function (d3) {\n",
       "            return {\n",
       "                init: function (viz_id = null) {\n",
       "\n",
       "                    // console.log('basic init')\n",
       "                    if (viz_id == null){\n",
       "                        viz_id = \"viz_\" + Math.round(Math.random() * 10000000)\n",
       "                    }\n",
       "                    const div = d3.select('#basic').attr('id', viz_id),\n",
       "                        div_parent = d3.select('#' + viz_id).node().parentNode\n",
       "\n",
       "                    // Link to CSS file\n",
       "                    d3.select(div_parent).insert('link')\n",
       "                        .attr('rel', 'stylesheet')\n",
       "                        .attr('type', 'text/css')\n",
       "                        .attr('href', ecco_url + 'html/styles.css')\n",
       "\n",
       "                    return viz_id\n",
       "                }\n",
       "            }\n",
       "        }, function (err) {console.log(err);}\n",
       "    )\n",
       "    // console.log('after defining basic')\n",
       "\n",
       "</script>\n",
       "<div id=\"basic\"></div>\n"
      ],
      "text/plain": [
       "<IPython.core.display.HTML object>"
      ]
     },
     "metadata": {},
     "output_type": "display_data"
    },
    {
     "data": {
      "application/javascript": [
       "\n",
       "         requirejs( ['basic', 'ecco'], function(basic, ecco){\n",
       "            basic.init('viz_48778')\n",
       "\n",
       "            window.ecco['viz_48778'] = ecco.renderOutputSequence('viz_48778', {'tokens': [{'token': 'The', 'position': 0, 'token_id': 464, 'type': 'input'}, {'token': ' countries', 'position': 1, 'token_id': 2678, 'type': 'input'}, {'token': ' of', 'position': 2, 'token_id': 286, 'type': 'input'}, {'token': ' the', 'position': 3, 'token_id': 262, 'type': 'input'}, {'token': ' European', 'position': 4, 'token_id': 3427, 'type': 'input'}, {'token': ' Union', 'position': 5, 'token_id': 4479, 'type': 'input'}, {'token': ' are', 'position': 6, 'token_id': 389, 'type': 'input'}, {'token': ':', 'position': 7, 'token_id': 25, 'type': 'input'}, {'token': '\\n', 'position': 8, 'token_id': 198, 'type': 'input'}, {'token': '1', 'position': 9, 'token_id': 16, 'type': 'input'}, {'token': '.', 'position': 10, 'token_id': 13, 'type': 'input'}, {'token': ' Austria', 'position': 11, 'token_id': 17322, 'type': 'input'}, {'token': '\\n', 'position': 12, 'token_id': 198, 'type': 'input'}, {'token': '2', 'position': 13, 'token_id': 17, 'type': 'input'}, {'token': '.', 'position': 14, 'token_id': 13, 'type': 'input'}, {'token': ' Belgium', 'position': 15, 'token_id': 15664, 'type': 'input'}, {'token': '\\n', 'position': 16, 'token_id': 198, 'type': 'input'}, {'token': '3', 'position': 17, 'token_id': 18, 'type': 'input'}, {'token': '.', 'position': 18, 'token_id': 13, 'type': 'input'}, {'token': ' Bulgaria', 'position': 19, 'token_id': 27902, 'type': 'input'}, {'token': '\\n', 'position': 20, 'token_id': 198, 'type': 'input'}, {'token': '4', 'position': 21, 'token_id': 19, 'type': 'input'}, {'token': '.', 'position': 22, 'token_id': 13, 'type': 'input'}]})\n",
       "         }, function (err) {\n",
       "            console.log(err);\n",
       "        })\n",
       "        "
      ],
      "text/plain": [
       "<IPython.core.display.Javascript object>"
      ]
     },
     "metadata": {},
     "output_type": "display_data"
    },
    {
     "data": {
      "application/javascript": [
       "\n",
       "        // We don't really need these require scripts. But this is to avert\n",
       "        //this code from running before display_input_sequence which DOES require external files\n",
       "        requirejs(['basic', 'ecco'], function(basic, ecco){\n",
       "                console.log('addToken viz_id', 'viz_48778');\n",
       "                window.ecco['viz_48778'].addToken({\"token\": \" Finland\", \"token_id\": 17837, \"position\": 23, \"type\": \"output\"})\n",
       "                window.ecco['viz_48778'].redraw()\n",
       "        })\n",
       "        "
      ],
      "text/plain": [
       "<IPython.core.display.Javascript object>"
      ]
     },
     "metadata": {},
     "output_type": "display_data"
    },
    {
     "data": {
      "application/javascript": [
       "\n",
       "        // We don't really need these require scripts. But this is to avert\n",
       "        //this code from running before display_input_sequence which DOES require external files\n",
       "        requirejs(['basic', 'ecco'], function(basic, ecco){\n",
       "                console.log('addToken viz_id', 'viz_48778');\n",
       "                window.ecco['viz_48778'].addToken({\"token\": \"\\n\", \"token_id\": 198, \"position\": 24, \"type\": \"output\"})\n",
       "                window.ecco['viz_48778'].redraw()\n",
       "        })\n",
       "        "
      ],
      "text/plain": [
       "<IPython.core.display.Javascript object>"
      ]
     },
     "metadata": {},
     "output_type": "display_data"
    },
    {
     "data": {
      "application/javascript": [
       "\n",
       "        // We don't really need these require scripts. But this is to avert\n",
       "        //this code from running before display_input_sequence which DOES require external files\n",
       "        requirejs(['basic', 'ecco'], function(basic, ecco){\n",
       "                console.log('addToken viz_id', 'viz_48778');\n",
       "                window.ecco['viz_48778'].addToken({\"token\": \"5\", \"token_id\": 20, \"position\": 25, \"type\": \"output\"})\n",
       "                window.ecco['viz_48778'].redraw()\n",
       "        })\n",
       "        "
      ],
      "text/plain": [
       "<IPython.core.display.Javascript object>"
      ]
     },
     "metadata": {},
     "output_type": "display_data"
    },
    {
     "data": {
      "application/javascript": [
       "\n",
       "        // We don't really need these require scripts. But this is to avert\n",
       "        //this code from running before display_input_sequence which DOES require external files\n",
       "        requirejs(['basic', 'ecco'], function(basic, ecco){\n",
       "                console.log('addToken viz_id', 'viz_48778');\n",
       "                window.ecco['viz_48778'].addToken({\"token\": \".\", \"token_id\": 13, \"position\": 26, \"type\": \"output\"})\n",
       "                window.ecco['viz_48778'].redraw()\n",
       "        })\n",
       "        "
      ],
      "text/plain": [
       "<IPython.core.display.Javascript object>"
      ]
     },
     "metadata": {},
     "output_type": "display_data"
    },
    {
     "data": {
      "application/javascript": [
       "\n",
       "        // We don't really need these require scripts. But this is to avert\n",
       "        //this code from running before display_input_sequence which DOES require external files\n",
       "        requirejs(['basic', 'ecco'], function(basic, ecco){\n",
       "                console.log('addToken viz_id', 'viz_48778');\n",
       "                window.ecco['viz_48778'].addToken({\"token\": \" Hungary\", \"token_id\": 19562, \"position\": 27, \"type\": \"output\"})\n",
       "                window.ecco['viz_48778'].redraw()\n",
       "        })\n",
       "        "
      ],
      "text/plain": [
       "<IPython.core.display.Javascript object>"
      ]
     },
     "metadata": {},
     "output_type": "display_data"
    },
    {
     "data": {
      "application/javascript": [
       "\n",
       "        // We don't really need these require scripts. But this is to avert\n",
       "        //this code from running before display_input_sequence which DOES require external files\n",
       "        requirejs(['basic', 'ecco'], function(basic, ecco){\n",
       "                console.log('addToken viz_id', 'viz_48778');\n",
       "                window.ecco['viz_48778'].addToken({\"token\": \"\\n\", \"token_id\": 198, \"position\": 28, \"type\": \"output\"})\n",
       "                window.ecco['viz_48778'].redraw()\n",
       "        })\n",
       "        "
      ],
      "text/plain": [
       "<IPython.core.display.Javascript object>"
      ]
     },
     "metadata": {},
     "output_type": "display_data"
    },
    {
     "data": {
      "application/javascript": [
       "\n",
       "        // We don't really need these require scripts. But this is to avert\n",
       "        //this code from running before display_input_sequence which DOES require external files\n",
       "        requirejs(['basic', 'ecco'], function(basic, ecco){\n",
       "                console.log('addToken viz_id', 'viz_48778');\n",
       "                window.ecco['viz_48778'].addToken({\"token\": \"6\", \"token_id\": 21, \"position\": 29, \"type\": \"output\"})\n",
       "                window.ecco['viz_48778'].redraw()\n",
       "        })\n",
       "        "
      ],
      "text/plain": [
       "<IPython.core.display.Javascript object>"
      ]
     },
     "metadata": {},
     "output_type": "display_data"
    },
    {
     "data": {
      "application/javascript": [
       "\n",
       "        // We don't really need these require scripts. But this is to avert\n",
       "        //this code from running before display_input_sequence which DOES require external files\n",
       "        requirejs(['basic', 'ecco'], function(basic, ecco){\n",
       "                console.log('addToken viz_id', 'viz_48778');\n",
       "                window.ecco['viz_48778'].addToken({\"token\": \".\", \"token_id\": 13, \"position\": 30, \"type\": \"output\"})\n",
       "                window.ecco['viz_48778'].redraw()\n",
       "        })\n",
       "        "
      ],
      "text/plain": [
       "<IPython.core.display.Javascript object>"
      ]
     },
     "metadata": {},
     "output_type": "display_data"
    },
    {
     "data": {
      "application/javascript": [
       "\n",
       "        // We don't really need these require scripts. But this is to avert\n",
       "        //this code from running before display_input_sequence which DOES require external files\n",
       "        requirejs(['basic', 'ecco'], function(basic, ecco){\n",
       "                console.log('addToken viz_id', 'viz_48778');\n",
       "                window.ecco['viz_48778'].addToken({\"token\": \" Latvia\", \"token_id\": 35794, \"position\": 31, \"type\": \"output\"})\n",
       "                window.ecco['viz_48778'].redraw()\n",
       "        })\n",
       "        "
      ],
      "text/plain": [
       "<IPython.core.display.Javascript object>"
      ]
     },
     "metadata": {},
     "output_type": "display_data"
    },
    {
     "data": {
      "application/javascript": [
       "\n",
       "        // We don't really need these require scripts. But this is to avert\n",
       "        //this code from running before display_input_sequence which DOES require external files\n",
       "        requirejs(['basic', 'ecco'], function(basic, ecco){\n",
       "                console.log('addToken viz_id', 'viz_48778');\n",
       "                window.ecco['viz_48778'].addToken({\"token\": \"\\n\", \"token_id\": 198, \"position\": 32, \"type\": \"output\"})\n",
       "                window.ecco['viz_48778'].redraw()\n",
       "        })\n",
       "        "
      ],
      "text/plain": [
       "<IPython.core.display.Javascript object>"
      ]
     },
     "metadata": {},
     "output_type": "display_data"
    },
    {
     "data": {
      "application/javascript": [
       "\n",
       "        // We don't really need these require scripts. But this is to avert\n",
       "        //this code from running before display_input_sequence which DOES require external files\n",
       "        requirejs(['basic', 'ecco'], function(basic, ecco){\n",
       "                console.log('addToken viz_id', 'viz_48778');\n",
       "                window.ecco['viz_48778'].addToken({\"token\": \"7\", \"token_id\": 22, \"position\": 33, \"type\": \"output\"})\n",
       "                window.ecco['viz_48778'].redraw()\n",
       "        })\n",
       "        "
      ],
      "text/plain": [
       "<IPython.core.display.Javascript object>"
      ]
     },
     "metadata": {},
     "output_type": "display_data"
    },
    {
     "data": {
      "application/javascript": [
       "\n",
       "        // We don't really need these require scripts. But this is to avert\n",
       "        //this code from running before display_input_sequence which DOES require external files\n",
       "        requirejs(['basic', 'ecco'], function(basic, ecco){\n",
       "                console.log('addToken viz_id', 'viz_48778');\n",
       "                window.ecco['viz_48778'].addToken({\"token\": \".\", \"token_id\": 13, \"position\": 34, \"type\": \"output\"})\n",
       "                window.ecco['viz_48778'].redraw()\n",
       "        })\n",
       "        "
      ],
      "text/plain": [
       "<IPython.core.display.Javascript object>"
      ]
     },
     "metadata": {},
     "output_type": "display_data"
    },
    {
     "data": {
      "application/javascript": [
       "\n",
       "        // We don't really need these require scripts. But this is to avert\n",
       "        //this code from running before display_input_sequence which DOES require external files\n",
       "        requirejs(['basic', 'ecco'], function(basic, ecco){\n",
       "                console.log('addToken viz_id', 'viz_48778');\n",
       "                window.ecco['viz_48778'].addToken({\"token\": \" Lie\", \"token_id\": 12060, \"position\": 35, \"type\": \"output\"})\n",
       "                window.ecco['viz_48778'].redraw()\n",
       "        })\n",
       "        "
      ],
      "text/plain": [
       "<IPython.core.display.Javascript object>"
      ]
     },
     "metadata": {},
     "output_type": "display_data"
    },
    {
     "data": {
      "application/javascript": [
       "\n",
       "        // We don't really need these require scripts. But this is to avert\n",
       "        //this code from running before display_input_sequence which DOES require external files\n",
       "        requirejs(['basic', 'ecco'], function(basic, ecco){\n",
       "                console.log('addToken viz_id', 'viz_48778');\n",
       "                window.ecco['viz_48778'].addToken({\"token\": \"ch\", \"token_id\": 354, \"position\": 36, \"type\": \"output\"})\n",
       "                window.ecco['viz_48778'].redraw()\n",
       "        })\n",
       "        "
      ],
      "text/plain": [
       "<IPython.core.display.Javascript object>"
      ]
     },
     "metadata": {},
     "output_type": "display_data"
    },
    {
     "data": {
      "application/javascript": [
       "\n",
       "        // We don't really need these require scripts. But this is to avert\n",
       "        //this code from running before display_input_sequence which DOES require external files\n",
       "        requirejs(['basic', 'ecco'], function(basic, ecco){\n",
       "                console.log('addToken viz_id', 'viz_48778');\n",
       "                window.ecco['viz_48778'].addToken({\"token\": \"ten\", \"token_id\": 1452, \"position\": 37, \"type\": \"output\"})\n",
       "                window.ecco['viz_48778'].redraw()\n",
       "        })\n",
       "        "
      ],
      "text/plain": [
       "<IPython.core.display.Javascript object>"
      ]
     },
     "metadata": {},
     "output_type": "display_data"
    },
    {
     "data": {
      "application/javascript": [
       "\n",
       "        // We don't really need these require scripts. But this is to avert\n",
       "        //this code from running before display_input_sequence which DOES require external files\n",
       "        requirejs(['basic', 'ecco'], function(basic, ecco){\n",
       "                console.log('addToken viz_id', 'viz_48778');\n",
       "                window.ecco['viz_48778'].addToken({\"token\": \"stein\", \"token_id\": 5714, \"position\": 38, \"type\": \"output\"})\n",
       "                window.ecco['viz_48778'].redraw()\n",
       "        })\n",
       "        "
      ],
      "text/plain": [
       "<IPython.core.display.Javascript object>"
      ]
     },
     "metadata": {},
     "output_type": "display_data"
    },
    {
     "data": {
      "application/javascript": [
       "\n",
       "        // We don't really need these require scripts. But this is to avert\n",
       "        //this code from running before display_input_sequence which DOES require external files\n",
       "        requirejs(['basic', 'ecco'], function(basic, ecco){\n",
       "                console.log('addToken viz_id', 'viz_48778');\n",
       "                window.ecco['viz_48778'].addToken({\"token\": \"\\n\", \"token_id\": 198, \"position\": 39, \"type\": \"output\"})\n",
       "                window.ecco['viz_48778'].redraw()\n",
       "        })\n",
       "        "
      ],
      "text/plain": [
       "<IPython.core.display.Javascript object>"
      ]
     },
     "metadata": {},
     "output_type": "display_data"
    },
    {
     "data": {
      "application/javascript": [
       "\n",
       "        // We don't really need these require scripts. But this is to avert\n",
       "        //this code from running before display_input_sequence which DOES require external files\n",
       "        requirejs(['basic', 'ecco'], function(basic, ecco){\n",
       "                console.log('addToken viz_id', 'viz_48778');\n",
       "                window.ecco['viz_48778'].addToken({\"token\": \"8\", \"token_id\": 23, \"position\": 40, \"type\": \"output\"})\n",
       "                window.ecco['viz_48778'].redraw()\n",
       "        })\n",
       "        "
      ],
      "text/plain": [
       "<IPython.core.display.Javascript object>"
      ]
     },
     "metadata": {},
     "output_type": "display_data"
    },
    {
     "data": {
      "application/javascript": [
       "\n",
       "        // We don't really need these require scripts. But this is to avert\n",
       "        //this code from running before display_input_sequence which DOES require external files\n",
       "        requirejs(['basic', 'ecco'], function(basic, ecco){\n",
       "                console.log('addToken viz_id', 'viz_48778');\n",
       "                window.ecco['viz_48778'].addToken({\"token\": \".\", \"token_id\": 13, \"position\": 41, \"type\": \"output\"})\n",
       "                window.ecco['viz_48778'].redraw()\n",
       "        })\n",
       "        "
      ],
      "text/plain": [
       "<IPython.core.display.Javascript object>"
      ]
     },
     "metadata": {},
     "output_type": "display_data"
    },
    {
     "data": {
      "application/javascript": [
       "\n",
       "        // We don't really need these require scripts. But this is to avert\n",
       "        //this code from running before display_input_sequence which DOES require external files\n",
       "        requirejs(['basic', 'ecco'], function(basic, ecco){\n",
       "                console.log('addToken viz_id', 'viz_48778');\n",
       "                window.ecco['viz_48778'].addToken({\"token\": \" France\", \"token_id\": 4881, \"position\": 42, \"type\": \"output\"})\n",
       "                window.ecco['viz_48778'].redraw()\n",
       "        })\n",
       "        "
      ],
      "text/plain": [
       "<IPython.core.display.Javascript object>"
      ]
     },
     "metadata": {},
     "output_type": "display_data"
    }
   ],
   "source": [
    "text= \"The countries of the European Union are:\\n1. Austria\\n2. Belgium\\n3. Bulgaria\\n4.\"\n",
    "\n",
    "output = lm.generate(text, generate=20, do_sample=True)"
   ]
  },
  {
   "cell_type": "markdown",
   "metadata": {},
   "source": [
    "## Input Saliency"
   ]
  },
  {
   "cell_type": "code",
   "execution_count": 4,
   "metadata": {
    "colab": {
     "base_uri": "https://localhost:8080/",
     "height": 234
    },
    "id": "3a02pyc2WASq",
    "outputId": "ac3e4d15-f2fb-4f4e-9bf7-0882a6c895c2"
   },
   "outputs": [
    {
     "data": {
      "text/html": [
       "<html lang=\"en\">\n",
       "<script src=\"https://requirejs.org/docs/release/2.3.6/minified/require.js\"></script>\n",
       "<script>\n",
       "    var ecco_url = 'https://storage.googleapis.com/ml-intro/ecco/'\n",
       "    // var ecco_url = 'http://localhost:8000/ecco/'\n",
       "\n",
       "    if (window.ecco === undefined) window.ecco = {}\n",
       "\n",
       "    requirejs.config({\n",
       "        urlArgs: \"bust=\" + (new Date()).getTime(),\n",
       "        nodeRequire: require,\n",
       "        paths: {\n",
       "            d3: \"https://d3js.org/d3.v5.min\",\n",
       "            \"d3-array\": \"https://d3js.org/d3-array.v2.min\",\n",
       "            jquery: \"https://code.jquery.com/jquery-3.5.1.min\",\n",
       "            // oldEcco: ecco_url + 'ecco',\n",
       "            ecco: ecco_url + 'js/0.0.4/ecco-bundle.min',\n",
       "            xregexp: 'https://cdnjs.cloudflare.com/ajax/libs/xregexp/3.2.0/xregexp-all.min'\n",
       "        }\n",
       "    });\n",
       "    requirejs(['d3'],\n",
       "        function (d3) {\n",
       "            d3.select('#css').attr('href', ecco_url + 'html/styles.css')\n",
       "        })\n",
       "\n",
       "    console.log('Ecco initialize.')\n",
       "</script>\n",
       "\n",
       "<head>\n",
       "    <link id='css' rel=\"stylesheet\" type=\"text/css\">\n",
       "</head>\n"
      ],
      "text/plain": [
       "<IPython.core.display.HTML object>"
      ]
     },
     "metadata": {},
     "output_type": "display_data"
    },
    {
     "data": {
      "text/html": [
       "<script>\n",
       "    // console.log('defining basic')\n",
       "    define('basic', ['d3'],\n",
       "        function (d3) {\n",
       "            return {\n",
       "                init: function (viz_id = null) {\n",
       "\n",
       "                    // console.log('basic init')\n",
       "                    if (viz_id == null){\n",
       "                        viz_id = \"viz_\" + Math.round(Math.random() * 10000000)\n",
       "                    }\n",
       "                    const div = d3.select('#basic').attr('id', viz_id),\n",
       "                        div_parent = d3.select('#' + viz_id).node().parentNode\n",
       "\n",
       "                    // Link to CSS file\n",
       "                    d3.select(div_parent).insert('link')\n",
       "                        .attr('rel', 'stylesheet')\n",
       "                        .attr('type', 'text/css')\n",
       "                        .attr('href', ecco_url + 'html/styles.css')\n",
       "\n",
       "                    return viz_id\n",
       "                }\n",
       "            }\n",
       "        }, function (err) {console.log(err);}\n",
       "    )\n",
       "    // console.log('after defining basic')\n",
       "\n",
       "</script>\n",
       "<div id=\"basic\"></div>\n"
      ],
      "text/plain": [
       "<IPython.core.display.HTML object>"
      ]
     },
     "metadata": {},
     "output_type": "display_data"
    },
    {
     "data": {
      "application/javascript": [
       "\n",
       "             requirejs(['basic', 'ecco'], function(basic, ecco){\n",
       "                const viz_id = basic.init()\n",
       "                // ecco.interactiveTokens(viz_id, {})\n",
       "                window.ecco[viz_id] = new ecco.MinimalHighlighter({\n",
       "                parentDiv: viz_id,\n",
       "                data: {'tokens': [{'token': 'The', 'token_id': 464, 'type': 'input', 'value': '0.04971263', 'position': 0}, {'token': ' countries', 'token_id': 2678, 'type': 'input', 'value': '0.050562948', 'position': 1}, {'token': ' of', 'token_id': 286, 'type': 'input', 'value': '0.013000171', 'position': 2}, {'token': ' the', 'token_id': 262, 'type': 'input', 'value': '0.011942285', 'position': 3}, {'token': ' European', 'token_id': 3427, 'type': 'input', 'value': '0.050103635', 'position': 4}, {'token': ' Union', 'token_id': 4479, 'type': 'input', 'value': '0.02740528', 'position': 5}, {'token': ' are', 'token_id': 389, 'type': 'input', 'value': '0.016030673', 'position': 6}, {'token': ':', 'token_id': 25, 'type': 'input', 'value': '0.020745268', 'position': 7}, {'token': '\\n', 'token_id': 198, 'type': 'input', 'value': '0.026672974', 'position': 8}, {'token': '1', 'token_id': 16, 'type': 'input', 'value': '0.03545723', 'position': 9}, {'token': '.', 'token_id': 13, 'type': 'input', 'value': '0.026602557', 'position': 10}, {'token': ' Austria', 'token_id': 17322, 'type': 'input', 'value': '0.15114914', 'position': 11}, {'token': '\\n', 'token_id': 198, 'type': 'input', 'value': '0.022292832', 'position': 12}, {'token': '2', 'token_id': 17, 'type': 'input', 'value': '0.025617365', 'position': 13}, {'token': '.', 'token_id': 13, 'type': 'input', 'value': '0.020597693', 'position': 14}, {'token': ' Belgium', 'token_id': 15664, 'type': 'input', 'value': '0.12807712', 'position': 15}, {'token': '\\n', 'token_id': 198, 'type': 'input', 'value': '0.016908653', 'position': 16}, {'token': '3', 'token_id': 18, 'type': 'input', 'value': '0.028043982', 'position': 17}, {'token': '.', 'token_id': 13, 'type': 'input', 'value': '0.024369212', 'position': 18}, {'token': ' Bulgaria', 'token_id': 27902, 'type': 'input', 'value': '0.16466378', 'position': 19}, {'token': '\\n', 'token_id': 198, 'type': 'input', 'value': '0.016995262', 'position': 20}, {'token': '4', 'token_id': 19, 'type': 'input', 'value': '0.040703766', 'position': 21}, {'token': '.', 'token_id': 13, 'type': 'input', 'value': '0.032345504', 'position': 22}, {'token': ' Finland', 'token_id': 17837, 'type': 'output', 'value': '0', 'position': 23}, {'token': '\\n', 'token_id': 198, 'type': 'output', 'value': '0', 'position': 24}, {'token': '5', 'token_id': 20, 'type': 'output', 'value': '0', 'position': 25}, {'token': '.', 'token_id': 13, 'type': 'output', 'value': '0', 'position': 26}, {'token': ' Hungary', 'token_id': 19562, 'type': 'output', 'value': '0', 'position': 27}, {'token': '\\n', 'token_id': 198, 'type': 'output', 'value': '0', 'position': 28}, {'token': '6', 'token_id': 21, 'type': 'output', 'value': '0', 'position': 29}, {'token': '.', 'token_id': 13, 'type': 'output', 'value': '0', 'position': 30}, {'token': ' Latvia', 'token_id': 35794, 'type': 'output', 'value': '0', 'position': 31}, {'token': '\\n', 'token_id': 198, 'type': 'output', 'value': '0', 'position': 32}, {'token': '7', 'token_id': 22, 'type': 'output', 'value': '0', 'position': 33}, {'token': '.', 'token_id': 13, 'type': 'output', 'value': '0', 'position': 34}, {'token': ' Lie', 'token_id': 12060, 'type': 'output', 'value': '0', 'position': 35}, {'token': 'ch', 'token_id': 354, 'type': 'output', 'value': '0', 'position': 36}, {'token': 'ten', 'token_id': 1452, 'type': 'output', 'value': '0', 'position': 37}, {'token': 'stein', 'token_id': 5714, 'type': 'output', 'value': '0', 'position': 38}, {'token': '\\n', 'token_id': 198, 'type': 'output', 'value': '0', 'position': 39}, {'token': '8', 'token_id': 23, 'type': 'output', 'value': '0', 'position': 40}, {'token': '.', 'token_id': 13, 'type': 'output', 'value': '0', 'position': 41}, {'token': ' France', 'token_id': 4881, 'type': 'output', 'value': '0', 'position': 42}], 'attributions': [[0.04971263185143471, 0.05056294798851013, 0.013000170700252056, 0.011942285113036633, 0.05010363459587097, 0.027405280619859695, 0.016030672937631607, 0.02074526809155941, 0.026672974228858948, 0.03545723110437393, 0.02660255692899227, 0.15114913880825043, 0.022292831912636757, 0.025617364794015884, 0.02059769257903099, 0.12807711958885193, 0.01690865308046341, 0.02804398164153099, 0.024369211867451668, 0.16466377675533295, 0.01699526235461235, 0.04070376604795456, 0.03234550356864929], [0.05208181217312813, 0.06452556699514389, 0.0173624437302351, 0.01471586711704731, 0.04352362081408501, 0.03404565155506134, 0.029835397377610207, 0.035973791033029556, 0.038316309452056885, 0.047472719103097916, 0.030632706359028816, 0.08220862597227097, 0.028500664979219437, 0.03343329206109047, 0.027149811387062073, 0.04404957592487335, 0.02616005763411522, 0.028428232297301292, 0.015306051820516586, 0.04154893010854721, 0.02515048161149025, 0.0334913469851017, 0.02063390612602234, 0.18545322120189667], [0.0465521514415741, 0.060781579464673996, 0.01802138052880764, 0.014459691010415554, 0.03860490769147873, 0.029298953711986542, 0.026203716173768044, 0.03660690784454346, 0.04631178081035614, 0.06954757124185562, 0.03227923810482025, 0.0550716333091259, 0.03186977282166481, 0.05715448409318924, 0.020666344091296196, 0.03283867612481117, 0.025772565975785255, 0.060239020735025406, 0.023866478353738785, 0.038221657276153564, 0.02696879953145981, 0.06888528168201447, 0.0286331195384264, 0.062067244201898575, 0.04907698556780815], [0.04666933789849281, 0.07729592174291611, 0.014179705642163754, 0.011514070443809032, 0.032294973731040955, 0.02876991778612137, 0.02320493385195732, 0.02564113959670067, 0.02938685566186905, 0.04592594504356384, 0.02902284450829029, 0.07282426208257675, 0.02189153991639614, 0.03397733345627785, 0.030077826231718063, 0.04681486636400223, 0.021514728665351868, 0.03597577288746834, 0.030050374567508698, 0.049122270196676254, 0.024318590760231018, 0.052780453115701675, 0.02890057861804962, 0.06181836128234863, 0.033640723675489426, 0.09238659590482712], [0.048370346426963806, 0.04769347235560417, 0.012181899510324001, 0.011946924962103367, 0.04222413897514343, 0.024463240057229996, 0.0145998140797019, 0.018960395827889442, 0.022952036932110786, 0.030335672199726105, 0.02350451983511448, 0.12596957385540009, 0.018234817311167717, 0.021408958360552788, 0.013777128420770168, 0.0889144018292427, 0.01573253609240055, 0.018587464466691017, 0.016501734033226967, 0.09885988384485245, 0.013685301877558231, 0.01885351352393627, 0.01800784096121788, 0.14461596310138702, 0.020071450620889664, 0.03698330372571945, 0.032563649117946625], [0.04367883875966072, 0.046748775988817215, 0.01578993909060955, 0.010452277027070522, 0.030116349458694458, 0.025573518127202988, 0.024095382541418076, 0.03555767238140106, 0.03552218899130821, 0.040260039269924164, 0.0262294989079237, 0.05270282179117203, 0.031196022406220436, 0.03051219880580902, 0.017368659377098083, 0.0332445465028286, 0.02371848002076149, 0.023804761469364166, 0.012871867045760155, 0.03488926962018013, 0.024052239954471588, 0.021459752693772316, 0.00981259997934103, 0.05175105854868889, 0.03186265751719475, 0.031029094010591507, 0.021819202229380608, 0.21388022601604462], [0.03932952135801315, 0.0514710508286953, 0.014668007381260395, 0.010565248318016529, 0.02865864336490631, 0.02278105914592743, 0.023045286536216736, 0.03354429826140404, 0.04239080473780632, 0.052141789346933365, 0.025162383913993835, 0.04224008321762085, 0.025077154859900475, 0.037798922508955, 0.017013609409332275, 0.027764275670051575, 0.023087264969944954, 0.040720369666814804, 0.020044464617967606, 0.031351134181022644, 0.022667646408081055, 0.06536948680877686, 0.019537094980478287, 0.031068405136466026, 0.03130568563938141, 0.08787978440523148, 0.023303605616092682, 0.07203885912895203, 0.037973951548337936], [0.04723939672112465, 0.071269191801548, 0.012773792259395123, 0.011786682531237602, 0.030397819355130196, 0.025845497846603394, 0.020472217351198196, 0.02299514040350914, 0.027277743443846703, 0.038870662450790405, 0.02476622723042965, 0.0620453916490078, 0.018383851274847984, 0.026144061237573624, 0.02561091259121895, 0.04131051152944565, 0.017378872260451317, 0.024149121716618538, 0.019962875172495842, 0.039239302277565, 0.016362778842449188, 0.02312563918530941, 0.026166828349232674, 0.032976943999528885, 0.030762730166316032, 0.047841332852840424, 0.026114167645573616, 0.06752718240022659, 0.03432668372988701, 0.08687647432088852], [0.044332973659038544, 0.04242466762661934, 0.011361534707248211, 0.01049484871327877, 0.038919705897569656, 0.02336123026907444, 0.015156886540353298, 0.018510200083255768, 0.022450797259807587, 0.027945609763264656, 0.02040722779929638, 0.11481435596942902, 0.01785944402217865, 0.019071457907557487, 0.012867668643593788, 0.06935208290815353, 0.015272771008312702, 0.015052796341478825, 0.012414924800395966, 0.06824298948049545, 0.015121432021260262, 0.014889798127114773, 0.011640452779829502, 0.0767376720905304, 0.014171876944601536, 0.016335055232048035, 0.014295055530965328, 0.1509418785572052, 0.013575740158557892, 0.028294699266552925, 0.02368217334151268], [0.042247749865055084, 0.05118051916360855, 0.013741431757807732, 0.011378537863492966, 0.03386380150914192, 0.02717645838856697, 0.022497633472085, 0.02898305095732212, 0.030723055824637413, 0.03622055798768997, 0.022441186010837555, 0.06237137317657471, 0.02281825616955757, 0.026380358263850212, 0.022107748314738274, 0.03690163046121597, 0.015343782491981983, 0.02128627710044384, 0.015378572978079319, 0.03288871794939041, 0.015084781683981419, 0.020519113168120384, 0.010347487404942513, 0.02280755713582039, 0.012802847661077976, 0.016884695738554, 0.011768666096031666, 0.029684949666261673, 0.01762346178293228, 0.026827169582247734, 0.020514395087957382, 0.21920423209667206], [0.03581148758530617, 0.04112502187490463, 0.012051506899297237, 0.008975859731435776, 0.024651523679494858, 0.020041748881340027, 0.01734948344528675, 0.027606729418039322, 0.04128222167491913, 0.04230150952935219, 0.01958712935447693, 0.03641153499484062, 0.022103575989603996, 0.03094540722668171, 0.015566457994282246, 0.026424560695886612, 0.022245563566684723, 0.03304840624332428, 0.015364247374236584, 0.03387300297617912, 0.020030368119478226, 0.04358842968940735, 0.020162444561719894, 0.027401337400078773, 0.02533838339149952, 0.0651397705078125, 0.013813232071697712, 0.028431639075279236, 0.029395073652267456, 0.07601914554834366, 0.018987052142620087, 0.06449608504772186, 0.04043000563979149], [0.04408147931098938, 0.06354420632123947, 0.011854705400764942, 0.01147360261529684, 0.0268111415207386, 0.022215504199266434, 0.019449317827820778, 0.02174808271229267, 0.026183178648352623, 0.03309847414493561, 0.022546399384737015, 0.05753477290272713, 0.016540249809622765, 0.021852102130651474, 0.023476185277104378, 0.039005327969789505, 0.014638918451964855, 0.018471235409379005, 0.018434759229421616, 0.037405021488666534, 0.015133017674088478, 0.021114230155944824, 0.01873105950653553, 0.02764713764190674, 0.01734483242034912, 0.02132643759250641, 0.029857728630304337, 0.027159251272678375, 0.029551364481449127, 0.05836876481771469, 0.018770895898342133, 0.05296168103814125, 0.028525304049253464, 0.08314348757266998], [0.039826009422540665, 0.039115291088819504, 0.010193205438554287, 0.009295690804719925, 0.03488516807556152, 0.02151382900774479, 0.013317994773387909, 0.016137931495904922, 0.02003864198923111, 0.023283621296286583, 0.017715536057949066, 0.10761510580778122, 0.01434242632240057, 0.015214229002594948, 0.011268104426562786, 0.0567399300634861, 0.011793107725679874, 0.012889567762613297, 0.011293299496173859, 0.05865854397416115, 0.011797407642006874, 0.01352275162935257, 0.009351380169391632, 0.05688009411096573, 0.01813962124288082, 0.015520267188549042, 0.010078120976686478, 0.06920629739761353, 0.01328086294233799, 0.018416298553347588, 0.015020305290818214, 0.1351386159658432, 0.012667710892856121, 0.032847173511981964, 0.02299586869776249], [0.029033422470092773, 0.020479446277022362, 0.007884340360760689, 0.0061417329125106335, 0.021716058254241943, 0.009395583532750607, 0.007271733600646257, 0.009475646540522575, 0.00774465873837471, 0.007006776053458452, 0.007020017597824335, 0.027971850708127022, 0.006806822493672371, 0.004913941025733948, 0.005559205077588558, 0.022530941292643547, 0.00715585146099329, 0.006836669985204935, 0.0062114824540913105, 0.02100406214594841, 0.008028983138501644, 0.0068144467659294605, 0.0066573829390108585, 0.023136945441365242, 0.008923746645450592, 0.007193727418780327, 0.007984803058207035, 0.027437133714556694, 0.011395997367799282, 0.011197362095117569, 0.015840616077184677, 0.0576326884329319, 0.02788284234702587, 0.041653357446193695, 0.033800892531871796, 0.46225881576538086], [0.02402547560632229, 0.01515954453498125, 0.005907917860895395, 0.005124889779835939, 0.01726176030933857, 0.008189821615815163, 0.005188681185245514, 0.0071245175786316395, 0.007008848246186972, 0.006437650416046381, 0.007675778586417437, 0.02350141666829586, 0.006409842986613512, 0.005236496217548847, 0.005802989937365055, 0.018435848876833916, 0.0063088759779930115, 0.005487183574587107, 0.005593710113316774, 0.01577308587729931, 0.006809306796640158, 0.005473009776324034, 0.005913212429732084, 0.021698584780097008, 0.008201969787478447, 0.007025224156677723, 0.007642103359103203, 0.024683648720383644, 0.013152655214071274, 0.01006339956074953, 0.017442861571907997, 0.0344218946993351, 0.023216908797621727, 0.020045366138219833, 0.0352504625916481, 0.3921806514263153, 0.16512447595596313], [0.024689503014087677, 0.013942564837634563, 0.006218713708221912, 0.005423114635050297, 0.014100756496191025, 0.009369120001792908, 0.005299719981849194, 0.007131913676857948, 0.006146066822111607, 0.006499140989035368, 0.006264122202992439, 0.022874480113387108, 0.005267706699669361, 0.004700269550085068, 0.005138028878718615, 0.0174382533878088, 0.006002580281347036, 0.0053498512133955956, 0.00555353844538331, 0.02663387916982174, 0.006710222456604242, 0.0054819402284920216, 0.005241422448307276, 0.01840246096253395, 0.008208787068724632, 0.006227969657629728, 0.00651400163769722, 0.01806437224149704, 0.011706420220434666, 0.009111444465816021, 0.013109019957482815, 0.041992560029029846, 0.015918442979454994, 0.023138364776968956, 0.019099393859505653, 0.1838250458240509, 0.09819149971008301, 0.3050132393836975], [0.04066544771194458, 0.04555138200521469, 0.011578820645809174, 0.009699148125946522, 0.02796582318842411, 0.0200036708265543, 0.022459659725427628, 0.03546353429555893, 0.02455558255314827, 0.028396550565958023, 0.014041612856090069, 0.05364865064620972, 0.016074595972895622, 0.021068638190627098, 0.013894850388169289, 0.03853841871023178, 0.011764604598283768, 0.013997037895023823, 0.011773760430514812, 0.03289532661437988, 0.010209075175225735, 0.01307113841176033, 0.00878418143838644, 0.03108982928097248, 0.010820578783750534, 0.011868182569742203, 0.00844957958906889, 0.017913080751895905, 0.010755867697298527, 0.01264109555631876, 0.008623936213552952, 0.025414247065782547, 0.013478988781571388, 0.018369516357779503, 0.012520612217485905, 0.0937291607260704, 0.018362965434789658, 0.0383821502327919, 0.14147871732711792], [0.03582317382097244, 0.04048921912908554, 0.01180750597268343, 0.00914453249424696, 0.02290470153093338, 0.019687645137310028, 0.018391704186797142, 0.027651429176330566, 0.038264013826847076, 0.03936564177274704, 0.017608249559998512, 0.033179741352796555, 0.0202796570956707, 0.027337586507201195, 0.014648963697254658, 0.02258128672838211, 0.017518920823931694, 0.02789582498371601, 0.013105007819831371, 0.028993934392929077, 0.017323888838291168, 0.036602530628442764, 0.012840642593801022, 0.0242615919560194, 0.023699982091784477, 0.04531354829668999, 0.01108867209404707, 0.020547566935420036, 0.02067236229777336, 0.04499536007642746, 0.010532557033002377, 0.03379644826054573, 0.02114739455282688, 0.050642650574445724, 0.01532559935003519, 0.026972122490406036, 0.009419547393918037, 0.017518268898129463, 0.03291882202029228, 0.03770171478390694], [0.044395823031663895, 0.060223087668418884, 0.011436687782406807, 0.011183331720530987, 0.026772668585181236, 0.02138083428144455, 0.01867583580315113, 0.022282833233475685, 0.027063360437750816, 0.03818969428539276, 0.020582810044288635, 0.05438246950507164, 0.014365834183990955, 0.017502369359135628, 0.020380085334181786, 0.03625434264540672, 0.012321554124355316, 0.014555329456925392, 0.01436818577349186, 0.03310251608490944, 0.013244454748928547, 0.015549549832940102, 0.01516194362193346, 0.024963587522506714, 0.012192991562187672, 0.01697060838341713, 0.01678614318370819, 0.017458578571677208, 0.01260389108210802, 0.021918654441833496, 0.01883487030863762, 0.017399435862898827, 0.015070241875946522, 0.04484879598021507, 0.015222686342895031, 0.026132144033908844, 0.013984170742332935, 0.02006106823682785, 0.02412473037838936, 0.0375153049826622, 0.0805366039276123], [0.03057130053639412, 0.031255681067705154, 0.007807520218193531, 0.007550319656729698, 0.02910492941737175, 0.01731584407389164, 0.009841006249189377, 0.012290124781429768, 0.015180804766714573, 0.0180963184684515, 0.01217985711991787, 0.07682057470083237, 0.011115503497421741, 0.011167794466018677, 0.007953731343150139, 0.043511614203453064, 0.008727815933525562, 0.008382213301956654, 0.007008325774222612, 0.042571309953927994, 0.008263865485787392, 0.00806675385683775, 0.00655353395268321, 0.04112227261066437, 0.009962562471628189, 0.009163299575448036, 0.008568452671170235, 0.0573357492685318, 0.01086509507149458, 0.013689848594367504, 0.01822500117123127, 0.142594113945961, 0.01588788628578186, 0.01653073914349079, 0.018891334533691406, 0.10785971581935883, 0.009460578672587872, 0.011082873679697514, 0.013133956119418144, 0.019604595378041267, 0.02344939298927784, 0.02123575285077095]]},\n",
       "                preset: 'viridis'\n",
       "             })\n",
       "\n",
       "             window.ecco[viz_id].init();\n",
       "             window.ecco[viz_id].selectFirstToken();\n",
       "\n",
       "             }, function (err) {\n",
       "                console.log(err);\n",
       "            })"
      ],
      "text/plain": [
       "<IPython.core.display.Javascript object>"
      ]
     },
     "metadata": {},
     "output_type": "display_data"
    }
   ],
   "source": [
    "output.saliency(attr_method='grad_x_input')"
   ]
  },
  {
   "cell_type": "code",
   "execution_count": 5,
   "metadata": {
    "colab": {
     "base_uri": "https://localhost:8080/",
     "height": 357
    },
    "id": "rRM7NKV91TCk",
    "outputId": "cb209195-cea3-4402-ef3c-ead36f0d405f"
   },
   "outputs": [
    {
     "data": {
      "text/html": [
       "<html lang=\"en\">\n",
       "<script src=\"https://requirejs.org/docs/release/2.3.6/minified/require.js\"></script>\n",
       "<script>\n",
       "    var ecco_url = 'https://storage.googleapis.com/ml-intro/ecco/'\n",
       "    // var ecco_url = 'http://localhost:8000/ecco/'\n",
       "\n",
       "    if (window.ecco === undefined) window.ecco = {}\n",
       "\n",
       "    requirejs.config({\n",
       "        urlArgs: \"bust=\" + (new Date()).getTime(),\n",
       "        nodeRequire: require,\n",
       "        paths: {\n",
       "            d3: \"https://d3js.org/d3.v5.min\",\n",
       "            \"d3-array\": \"https://d3js.org/d3-array.v2.min\",\n",
       "            jquery: \"https://code.jquery.com/jquery-3.5.1.min\",\n",
       "            // oldEcco: ecco_url + 'ecco',\n",
       "            ecco: ecco_url + 'js/0.0.4/ecco-bundle.min',\n",
       "            xregexp: 'https://cdnjs.cloudflare.com/ajax/libs/xregexp/3.2.0/xregexp-all.min'\n",
       "        }\n",
       "    });\n",
       "    requirejs(['d3'],\n",
       "        function (d3) {\n",
       "            d3.select('#css').attr('href', ecco_url + 'html/styles.css')\n",
       "        })\n",
       "\n",
       "    console.log('Ecco initialize.')\n",
       "</script>\n",
       "\n",
       "<head>\n",
       "    <link id='css' rel=\"stylesheet\" type=\"text/css\">\n",
       "</head>\n"
      ],
      "text/plain": [
       "<IPython.core.display.HTML object>"
      ]
     },
     "metadata": {},
     "output_type": "display_data"
    },
    {
     "data": {
      "text/html": [
       "<script>\n",
       "    // console.log('defining basic')\n",
       "    define('basic', ['d3'],\n",
       "        function (d3) {\n",
       "            return {\n",
       "                init: function (viz_id = null) {\n",
       "\n",
       "                    // console.log('basic init')\n",
       "                    if (viz_id == null){\n",
       "                        viz_id = \"viz_\" + Math.round(Math.random() * 10000000)\n",
       "                    }\n",
       "                    const div = d3.select('#basic').attr('id', viz_id),\n",
       "                        div_parent = d3.select('#' + viz_id).node().parentNode\n",
       "\n",
       "                    // Link to CSS file\n",
       "                    d3.select(div_parent).insert('link')\n",
       "                        .attr('rel', 'stylesheet')\n",
       "                        .attr('type', 'text/css')\n",
       "                        .attr('href', ecco_url + 'html/styles.css')\n",
       "\n",
       "                    return viz_id\n",
       "                }\n",
       "            }\n",
       "        }, function (err) {console.log(err);}\n",
       "    )\n",
       "    // console.log('after defining basic')\n",
       "\n",
       "</script>\n",
       "<div id=\"basic\"></div>\n"
      ],
      "text/plain": [
       "<IPython.core.display.HTML object>"
      ]
     },
     "metadata": {},
     "output_type": "display_data"
    },
    {
     "data": {
      "application/javascript": [
       "\n",
       "             requirejs(['basic', 'ecco'], function(basic, ecco){\n",
       "                const viz_id = basic.init()\n",
       "                window.ecco[viz_id] = ecco.interactiveTokens(viz_id, {'tokens': [{'token': 'The', 'token_id': 464, 'type': 'input', 'value': '0.04971263', 'position': 0}, {'token': ' countries', 'token_id': 2678, 'type': 'input', 'value': '0.050562948', 'position': 1}, {'token': ' of', 'token_id': 286, 'type': 'input', 'value': '0.013000171', 'position': 2}, {'token': ' the', 'token_id': 262, 'type': 'input', 'value': '0.011942285', 'position': 3}, {'token': ' European', 'token_id': 3427, 'type': 'input', 'value': '0.050103635', 'position': 4}, {'token': ' Union', 'token_id': 4479, 'type': 'input', 'value': '0.02740528', 'position': 5}, {'token': ' are', 'token_id': 389, 'type': 'input', 'value': '0.016030673', 'position': 6}, {'token': ':', 'token_id': 25, 'type': 'input', 'value': '0.020745268', 'position': 7}, {'token': '\\n', 'token_id': 198, 'type': 'input', 'value': '0.026672974', 'position': 8}, {'token': '1', 'token_id': 16, 'type': 'input', 'value': '0.03545723', 'position': 9}, {'token': '.', 'token_id': 13, 'type': 'input', 'value': '0.026602557', 'position': 10}, {'token': ' Austria', 'token_id': 17322, 'type': 'input', 'value': '0.15114914', 'position': 11}, {'token': '\\n', 'token_id': 198, 'type': 'input', 'value': '0.022292832', 'position': 12}, {'token': '2', 'token_id': 17, 'type': 'input', 'value': '0.025617365', 'position': 13}, {'token': '.', 'token_id': 13, 'type': 'input', 'value': '0.020597693', 'position': 14}, {'token': ' Belgium', 'token_id': 15664, 'type': 'input', 'value': '0.12807712', 'position': 15}, {'token': '\\n', 'token_id': 198, 'type': 'input', 'value': '0.016908653', 'position': 16}, {'token': '3', 'token_id': 18, 'type': 'input', 'value': '0.028043982', 'position': 17}, {'token': '.', 'token_id': 13, 'type': 'input', 'value': '0.024369212', 'position': 18}, {'token': ' Bulgaria', 'token_id': 27902, 'type': 'input', 'value': '0.16466378', 'position': 19}, {'token': '\\n', 'token_id': 198, 'type': 'input', 'value': '0.016995262', 'position': 20}, {'token': '4', 'token_id': 19, 'type': 'input', 'value': '0.040703766', 'position': 21}, {'token': '.', 'token_id': 13, 'type': 'input', 'value': '0.032345504', 'position': 22}, {'token': ' Finland', 'token_id': 17837, 'type': 'output', 'value': '0', 'position': 23}, {'token': '\\n', 'token_id': 198, 'type': 'output', 'value': '0', 'position': 24}, {'token': '5', 'token_id': 20, 'type': 'output', 'value': '0', 'position': 25}, {'token': '.', 'token_id': 13, 'type': 'output', 'value': '0', 'position': 26}, {'token': ' Hungary', 'token_id': 19562, 'type': 'output', 'value': '0', 'position': 27}, {'token': '\\n', 'token_id': 198, 'type': 'output', 'value': '0', 'position': 28}, {'token': '6', 'token_id': 21, 'type': 'output', 'value': '0', 'position': 29}, {'token': '.', 'token_id': 13, 'type': 'output', 'value': '0', 'position': 30}, {'token': ' Latvia', 'token_id': 35794, 'type': 'output', 'value': '0', 'position': 31}, {'token': '\\n', 'token_id': 198, 'type': 'output', 'value': '0', 'position': 32}, {'token': '7', 'token_id': 22, 'type': 'output', 'value': '0', 'position': 33}, {'token': '.', 'token_id': 13, 'type': 'output', 'value': '0', 'position': 34}, {'token': ' Lie', 'token_id': 12060, 'type': 'output', 'value': '0', 'position': 35}, {'token': 'ch', 'token_id': 354, 'type': 'output', 'value': '0', 'position': 36}, {'token': 'ten', 'token_id': 1452, 'type': 'output', 'value': '0', 'position': 37}, {'token': 'stein', 'token_id': 5714, 'type': 'output', 'value': '0', 'position': 38}, {'token': '\\n', 'token_id': 198, 'type': 'output', 'value': '0', 'position': 39}, {'token': '8', 'token_id': 23, 'type': 'output', 'value': '0', 'position': 40}, {'token': '.', 'token_id': 13, 'type': 'output', 'value': '0', 'position': 41}, {'token': ' France', 'token_id': 4881, 'type': 'output', 'value': '0', 'position': 42}], 'attributions': [[0.04971263185143471, 0.05056294798851013, 0.013000170700252056, 0.011942285113036633, 0.05010363459587097, 0.027405280619859695, 0.016030672937631607, 0.02074526809155941, 0.026672974228858948, 0.03545723110437393, 0.02660255692899227, 0.15114913880825043, 0.022292831912636757, 0.025617364794015884, 0.02059769257903099, 0.12807711958885193, 0.01690865308046341, 0.02804398164153099, 0.024369211867451668, 0.16466377675533295, 0.01699526235461235, 0.04070376604795456, 0.03234550356864929], [0.05208181217312813, 0.06452556699514389, 0.0173624437302351, 0.01471586711704731, 0.04352362081408501, 0.03404565155506134, 0.029835397377610207, 0.035973791033029556, 0.038316309452056885, 0.047472719103097916, 0.030632706359028816, 0.08220862597227097, 0.028500664979219437, 0.03343329206109047, 0.027149811387062073, 0.04404957592487335, 0.02616005763411522, 0.028428232297301292, 0.015306051820516586, 0.04154893010854721, 0.02515048161149025, 0.0334913469851017, 0.02063390612602234, 0.18545322120189667], [0.0465521514415741, 0.060781579464673996, 0.01802138052880764, 0.014459691010415554, 0.03860490769147873, 0.029298953711986542, 0.026203716173768044, 0.03660690784454346, 0.04631178081035614, 0.06954757124185562, 0.03227923810482025, 0.0550716333091259, 0.03186977282166481, 0.05715448409318924, 0.020666344091296196, 0.03283867612481117, 0.025772565975785255, 0.060239020735025406, 0.023866478353738785, 0.038221657276153564, 0.02696879953145981, 0.06888528168201447, 0.0286331195384264, 0.062067244201898575, 0.04907698556780815], [0.04666933789849281, 0.07729592174291611, 0.014179705642163754, 0.011514070443809032, 0.032294973731040955, 0.02876991778612137, 0.02320493385195732, 0.02564113959670067, 0.02938685566186905, 0.04592594504356384, 0.02902284450829029, 0.07282426208257675, 0.02189153991639614, 0.03397733345627785, 0.030077826231718063, 0.04681486636400223, 0.021514728665351868, 0.03597577288746834, 0.030050374567508698, 0.049122270196676254, 0.024318590760231018, 0.052780453115701675, 0.02890057861804962, 0.06181836128234863, 0.033640723675489426, 0.09238659590482712], [0.048370346426963806, 0.04769347235560417, 0.012181899510324001, 0.011946924962103367, 0.04222413897514343, 0.024463240057229996, 0.0145998140797019, 0.018960395827889442, 0.022952036932110786, 0.030335672199726105, 0.02350451983511448, 0.12596957385540009, 0.018234817311167717, 0.021408958360552788, 0.013777128420770168, 0.0889144018292427, 0.01573253609240055, 0.018587464466691017, 0.016501734033226967, 0.09885988384485245, 0.013685301877558231, 0.01885351352393627, 0.01800784096121788, 0.14461596310138702, 0.020071450620889664, 0.03698330372571945, 0.032563649117946625], [0.04367883875966072, 0.046748775988817215, 0.01578993909060955, 0.010452277027070522, 0.030116349458694458, 0.025573518127202988, 0.024095382541418076, 0.03555767238140106, 0.03552218899130821, 0.040260039269924164, 0.0262294989079237, 0.05270282179117203, 0.031196022406220436, 0.03051219880580902, 0.017368659377098083, 0.0332445465028286, 0.02371848002076149, 0.023804761469364166, 0.012871867045760155, 0.03488926962018013, 0.024052239954471588, 0.021459752693772316, 0.00981259997934103, 0.05175105854868889, 0.03186265751719475, 0.031029094010591507, 0.021819202229380608, 0.21388022601604462], [0.03932952135801315, 0.0514710508286953, 0.014668007381260395, 0.010565248318016529, 0.02865864336490631, 0.02278105914592743, 0.023045286536216736, 0.03354429826140404, 0.04239080473780632, 0.052141789346933365, 0.025162383913993835, 0.04224008321762085, 0.025077154859900475, 0.037798922508955, 0.017013609409332275, 0.027764275670051575, 0.023087264969944954, 0.040720369666814804, 0.020044464617967606, 0.031351134181022644, 0.022667646408081055, 0.06536948680877686, 0.019537094980478287, 0.031068405136466026, 0.03130568563938141, 0.08787978440523148, 0.023303605616092682, 0.07203885912895203, 0.037973951548337936], [0.04723939672112465, 0.071269191801548, 0.012773792259395123, 0.011786682531237602, 0.030397819355130196, 0.025845497846603394, 0.020472217351198196, 0.02299514040350914, 0.027277743443846703, 0.038870662450790405, 0.02476622723042965, 0.0620453916490078, 0.018383851274847984, 0.026144061237573624, 0.02561091259121895, 0.04131051152944565, 0.017378872260451317, 0.024149121716618538, 0.019962875172495842, 0.039239302277565, 0.016362778842449188, 0.02312563918530941, 0.026166828349232674, 0.032976943999528885, 0.030762730166316032, 0.047841332852840424, 0.026114167645573616, 0.06752718240022659, 0.03432668372988701, 0.08687647432088852], [0.044332973659038544, 0.04242466762661934, 0.011361534707248211, 0.01049484871327877, 0.038919705897569656, 0.02336123026907444, 0.015156886540353298, 0.018510200083255768, 0.022450797259807587, 0.027945609763264656, 0.02040722779929638, 0.11481435596942902, 0.01785944402217865, 0.019071457907557487, 0.012867668643593788, 0.06935208290815353, 0.015272771008312702, 0.015052796341478825, 0.012414924800395966, 0.06824298948049545, 0.015121432021260262, 0.014889798127114773, 0.011640452779829502, 0.0767376720905304, 0.014171876944601536, 0.016335055232048035, 0.014295055530965328, 0.1509418785572052, 0.013575740158557892, 0.028294699266552925, 0.02368217334151268], [0.042247749865055084, 0.05118051916360855, 0.013741431757807732, 0.011378537863492966, 0.03386380150914192, 0.02717645838856697, 0.022497633472085, 0.02898305095732212, 0.030723055824637413, 0.03622055798768997, 0.022441186010837555, 0.06237137317657471, 0.02281825616955757, 0.026380358263850212, 0.022107748314738274, 0.03690163046121597, 0.015343782491981983, 0.02128627710044384, 0.015378572978079319, 0.03288871794939041, 0.015084781683981419, 0.020519113168120384, 0.010347487404942513, 0.02280755713582039, 0.012802847661077976, 0.016884695738554, 0.011768666096031666, 0.029684949666261673, 0.01762346178293228, 0.026827169582247734, 0.020514395087957382, 0.21920423209667206], [0.03581148758530617, 0.04112502187490463, 0.012051506899297237, 0.008975859731435776, 0.024651523679494858, 0.020041748881340027, 0.01734948344528675, 0.027606729418039322, 0.04128222167491913, 0.04230150952935219, 0.01958712935447693, 0.03641153499484062, 0.022103575989603996, 0.03094540722668171, 0.015566457994282246, 0.026424560695886612, 0.022245563566684723, 0.03304840624332428, 0.015364247374236584, 0.03387300297617912, 0.020030368119478226, 0.04358842968940735, 0.020162444561719894, 0.027401337400078773, 0.02533838339149952, 0.0651397705078125, 0.013813232071697712, 0.028431639075279236, 0.029395073652267456, 0.07601914554834366, 0.018987052142620087, 0.06449608504772186, 0.04043000563979149], [0.04408147931098938, 0.06354420632123947, 0.011854705400764942, 0.01147360261529684, 0.0268111415207386, 0.022215504199266434, 0.019449317827820778, 0.02174808271229267, 0.026183178648352623, 0.03309847414493561, 0.022546399384737015, 0.05753477290272713, 0.016540249809622765, 0.021852102130651474, 0.023476185277104378, 0.039005327969789505, 0.014638918451964855, 0.018471235409379005, 0.018434759229421616, 0.037405021488666534, 0.015133017674088478, 0.021114230155944824, 0.01873105950653553, 0.02764713764190674, 0.01734483242034912, 0.02132643759250641, 0.029857728630304337, 0.027159251272678375, 0.029551364481449127, 0.05836876481771469, 0.018770895898342133, 0.05296168103814125, 0.028525304049253464, 0.08314348757266998], [0.039826009422540665, 0.039115291088819504, 0.010193205438554287, 0.009295690804719925, 0.03488516807556152, 0.02151382900774479, 0.013317994773387909, 0.016137931495904922, 0.02003864198923111, 0.023283621296286583, 0.017715536057949066, 0.10761510580778122, 0.01434242632240057, 0.015214229002594948, 0.011268104426562786, 0.0567399300634861, 0.011793107725679874, 0.012889567762613297, 0.011293299496173859, 0.05865854397416115, 0.011797407642006874, 0.01352275162935257, 0.009351380169391632, 0.05688009411096573, 0.01813962124288082, 0.015520267188549042, 0.010078120976686478, 0.06920629739761353, 0.01328086294233799, 0.018416298553347588, 0.015020305290818214, 0.1351386159658432, 0.012667710892856121, 0.032847173511981964, 0.02299586869776249], [0.029033422470092773, 0.020479446277022362, 0.007884340360760689, 0.0061417329125106335, 0.021716058254241943, 0.009395583532750607, 0.007271733600646257, 0.009475646540522575, 0.00774465873837471, 0.007006776053458452, 0.007020017597824335, 0.027971850708127022, 0.006806822493672371, 0.004913941025733948, 0.005559205077588558, 0.022530941292643547, 0.00715585146099329, 0.006836669985204935, 0.0062114824540913105, 0.02100406214594841, 0.008028983138501644, 0.0068144467659294605, 0.0066573829390108585, 0.023136945441365242, 0.008923746645450592, 0.007193727418780327, 0.007984803058207035, 0.027437133714556694, 0.011395997367799282, 0.011197362095117569, 0.015840616077184677, 0.0576326884329319, 0.02788284234702587, 0.041653357446193695, 0.033800892531871796, 0.46225881576538086], [0.02402547560632229, 0.01515954453498125, 0.005907917860895395, 0.005124889779835939, 0.01726176030933857, 0.008189821615815163, 0.005188681185245514, 0.0071245175786316395, 0.007008848246186972, 0.006437650416046381, 0.007675778586417437, 0.02350141666829586, 0.006409842986613512, 0.005236496217548847, 0.005802989937365055, 0.018435848876833916, 0.0063088759779930115, 0.005487183574587107, 0.005593710113316774, 0.01577308587729931, 0.006809306796640158, 0.005473009776324034, 0.005913212429732084, 0.021698584780097008, 0.008201969787478447, 0.007025224156677723, 0.007642103359103203, 0.024683648720383644, 0.013152655214071274, 0.01006339956074953, 0.017442861571907997, 0.0344218946993351, 0.023216908797621727, 0.020045366138219833, 0.0352504625916481, 0.3921806514263153, 0.16512447595596313], [0.024689503014087677, 0.013942564837634563, 0.006218713708221912, 0.005423114635050297, 0.014100756496191025, 0.009369120001792908, 0.005299719981849194, 0.007131913676857948, 0.006146066822111607, 0.006499140989035368, 0.006264122202992439, 0.022874480113387108, 0.005267706699669361, 0.004700269550085068, 0.005138028878718615, 0.0174382533878088, 0.006002580281347036, 0.0053498512133955956, 0.00555353844538331, 0.02663387916982174, 0.006710222456604242, 0.0054819402284920216, 0.005241422448307276, 0.01840246096253395, 0.008208787068724632, 0.006227969657629728, 0.00651400163769722, 0.01806437224149704, 0.011706420220434666, 0.009111444465816021, 0.013109019957482815, 0.041992560029029846, 0.015918442979454994, 0.023138364776968956, 0.019099393859505653, 0.1838250458240509, 0.09819149971008301, 0.3050132393836975], [0.04066544771194458, 0.04555138200521469, 0.011578820645809174, 0.009699148125946522, 0.02796582318842411, 0.0200036708265543, 0.022459659725427628, 0.03546353429555893, 0.02455558255314827, 0.028396550565958023, 0.014041612856090069, 0.05364865064620972, 0.016074595972895622, 0.021068638190627098, 0.013894850388169289, 0.03853841871023178, 0.011764604598283768, 0.013997037895023823, 0.011773760430514812, 0.03289532661437988, 0.010209075175225735, 0.01307113841176033, 0.00878418143838644, 0.03108982928097248, 0.010820578783750534, 0.011868182569742203, 0.00844957958906889, 0.017913080751895905, 0.010755867697298527, 0.01264109555631876, 0.008623936213552952, 0.025414247065782547, 0.013478988781571388, 0.018369516357779503, 0.012520612217485905, 0.0937291607260704, 0.018362965434789658, 0.0383821502327919, 0.14147871732711792], [0.03582317382097244, 0.04048921912908554, 0.01180750597268343, 0.00914453249424696, 0.02290470153093338, 0.019687645137310028, 0.018391704186797142, 0.027651429176330566, 0.038264013826847076, 0.03936564177274704, 0.017608249559998512, 0.033179741352796555, 0.0202796570956707, 0.027337586507201195, 0.014648963697254658, 0.02258128672838211, 0.017518920823931694, 0.02789582498371601, 0.013105007819831371, 0.028993934392929077, 0.017323888838291168, 0.036602530628442764, 0.012840642593801022, 0.0242615919560194, 0.023699982091784477, 0.04531354829668999, 0.01108867209404707, 0.020547566935420036, 0.02067236229777336, 0.04499536007642746, 0.010532557033002377, 0.03379644826054573, 0.02114739455282688, 0.050642650574445724, 0.01532559935003519, 0.026972122490406036, 0.009419547393918037, 0.017518268898129463, 0.03291882202029228, 0.03770171478390694], [0.044395823031663895, 0.060223087668418884, 0.011436687782406807, 0.011183331720530987, 0.026772668585181236, 0.02138083428144455, 0.01867583580315113, 0.022282833233475685, 0.027063360437750816, 0.03818969428539276, 0.020582810044288635, 0.05438246950507164, 0.014365834183990955, 0.017502369359135628, 0.020380085334181786, 0.03625434264540672, 0.012321554124355316, 0.014555329456925392, 0.01436818577349186, 0.03310251608490944, 0.013244454748928547, 0.015549549832940102, 0.01516194362193346, 0.024963587522506714, 0.012192991562187672, 0.01697060838341713, 0.01678614318370819, 0.017458578571677208, 0.01260389108210802, 0.021918654441833496, 0.01883487030863762, 0.017399435862898827, 0.015070241875946522, 0.04484879598021507, 0.015222686342895031, 0.026132144033908844, 0.013984170742332935, 0.02006106823682785, 0.02412473037838936, 0.0375153049826622, 0.0805366039276123], [0.03057130053639412, 0.031255681067705154, 0.007807520218193531, 0.007550319656729698, 0.02910492941737175, 0.01731584407389164, 0.009841006249189377, 0.012290124781429768, 0.015180804766714573, 0.0180963184684515, 0.01217985711991787, 0.07682057470083237, 0.011115503497421741, 0.011167794466018677, 0.007953731343150139, 0.043511614203453064, 0.008727815933525562, 0.008382213301956654, 0.007008325774222612, 0.042571309953927994, 0.008263865485787392, 0.00806675385683775, 0.00655353395268321, 0.04112227261066437, 0.009962562471628189, 0.009163299575448036, 0.008568452671170235, 0.0573357492685318, 0.01086509507149458, 0.013689848594367504, 0.01822500117123127, 0.142594113945961, 0.01588788628578186, 0.01653073914349079, 0.018891334533691406, 0.10785971581935883, 0.009460578672587872, 0.011082873679697514, 0.013133956119418144, 0.019604595378041267, 0.02344939298927784, 0.02123575285077095]]})\n",
       "\n",
       "             }, function (err) {\n",
       "                console.log(err);\n",
       "            })"
      ],
      "text/plain": [
       "<IPython.core.display.Javascript object>"
      ]
     },
     "metadata": {},
     "output_type": "display_data"
    }
   ],
   "source": [
    "output.saliency(attr_method='grad_x_input', style=\"detailed\")"
   ]
  },
  {
   "cell_type": "code",
   "execution_count": 6,
   "metadata": {
    "id": "iecRaZ0M14Lm"
   },
   "outputs": [
    {
     "data": {
      "text/html": [
       "<html lang=\"en\">\n",
       "<script src=\"https://requirejs.org/docs/release/2.3.6/minified/require.js\"></script>\n",
       "<script>\n",
       "    var ecco_url = 'https://storage.googleapis.com/ml-intro/ecco/'\n",
       "    // var ecco_url = 'http://localhost:8000/ecco/'\n",
       "\n",
       "    if (window.ecco === undefined) window.ecco = {}\n",
       "\n",
       "    requirejs.config({\n",
       "        urlArgs: \"bust=\" + (new Date()).getTime(),\n",
       "        nodeRequire: require,\n",
       "        paths: {\n",
       "            d3: \"https://d3js.org/d3.v5.min\",\n",
       "            \"d3-array\": \"https://d3js.org/d3-array.v2.min\",\n",
       "            jquery: \"https://code.jquery.com/jquery-3.5.1.min\",\n",
       "            // oldEcco: ecco_url + 'ecco',\n",
       "            ecco: ecco_url + 'js/0.0.4/ecco-bundle.min',\n",
       "            xregexp: 'https://cdnjs.cloudflare.com/ajax/libs/xregexp/3.2.0/xregexp-all.min'\n",
       "        }\n",
       "    });\n",
       "    requirejs(['d3'],\n",
       "        function (d3) {\n",
       "            d3.select('#css').attr('href', ecco_url + 'html/styles.css')\n",
       "        })\n",
       "\n",
       "    console.log('Ecco initialize.')\n",
       "</script>\n",
       "\n",
       "<head>\n",
       "    <link id='css' rel=\"stylesheet\" type=\"text/css\">\n",
       "</head>\n"
      ],
      "text/plain": [
       "<IPython.core.display.HTML object>"
      ]
     },
     "metadata": {},
     "output_type": "display_data"
    },
    {
     "data": {
      "text/html": [
       "<script>\n",
       "    // console.log('defining basic')\n",
       "    define('basic', ['d3'],\n",
       "        function (d3) {\n",
       "            return {\n",
       "                init: function (viz_id = null) {\n",
       "\n",
       "                    // console.log('basic init')\n",
       "                    if (viz_id == null){\n",
       "                        viz_id = \"viz_\" + Math.round(Math.random() * 10000000)\n",
       "                    }\n",
       "                    const div = d3.select('#basic').attr('id', viz_id),\n",
       "                        div_parent = d3.select('#' + viz_id).node().parentNode\n",
       "\n",
       "                    // Link to CSS file\n",
       "                    d3.select(div_parent).insert('link')\n",
       "                        .attr('rel', 'stylesheet')\n",
       "                        .attr('type', 'text/css')\n",
       "                        .attr('href', ecco_url + 'html/styles.css')\n",
       "\n",
       "                    return viz_id\n",
       "                }\n",
       "            }\n",
       "        }, function (err) {console.log(err);}\n",
       "    )\n",
       "    // console.log('after defining basic')\n",
       "\n",
       "</script>\n",
       "<div id=\"basic\"></div>\n"
      ],
      "text/plain": [
       "<IPython.core.display.HTML object>"
      ]
     },
     "metadata": {},
     "output_type": "display_data"
    },
    {
     "data": {
      "application/javascript": [
       "\n",
       "             requirejs(['basic', 'ecco'], function(basic, ecco){\n",
       "                const viz_id = basic.init()\n",
       "                // ecco.interactiveTokens(viz_id, {})\n",
       "                window.ecco[viz_id] = new ecco.MinimalHighlighter({\n",
       "                parentDiv: viz_id,\n",
       "                data: {'tokens': [{'token': 'The', 'token_id': 464, 'type': 'input', 'value': '0.07208458', 'position': 0}, {'token': ' countries', 'token_id': 2678, 'type': 'input', 'value': '0.042636186', 'position': 1}, {'token': ' of', 'token_id': 286, 'type': 'input', 'value': '0.011505768', 'position': 2}, {'token': ' the', 'token_id': 262, 'type': 'input', 'value': '0.016651442', 'position': 3}, {'token': ' European', 'token_id': 3427, 'type': 'input', 'value': '0.063069165', 'position': 4}, {'token': ' Union', 'token_id': 4479, 'type': 'input', 'value': '0.028750839', 'position': 5}, {'token': ' are', 'token_id': 389, 'type': 'input', 'value': '0.015092092', 'position': 6}, {'token': ':', 'token_id': 25, 'type': 'input', 'value': '0.019113248', 'position': 7}, {'token': '\\n', 'token_id': 198, 'type': 'input', 'value': '0.029752318', 'position': 8}, {'token': '1', 'token_id': 16, 'type': 'input', 'value': '0.02767314', 'position': 9}, {'token': '.', 'token_id': 13, 'type': 'input', 'value': '0.04936109', 'position': 10}, {'token': ' Austria', 'token_id': 17322, 'type': 'input', 'value': '0.171489', 'position': 11}, {'token': '\\n', 'token_id': 198, 'type': 'input', 'value': '0.023668792', 'position': 12}, {'token': '2', 'token_id': 17, 'type': 'input', 'value': '0.021839825', 'position': 13}, {'token': '.', 'token_id': 13, 'type': 'input', 'value': '0.018820683', 'position': 14}, {'token': ' Belgium', 'token_id': 15664, 'type': 'input', 'value': '0.09510109', 'position': 15}, {'token': '\\n', 'token_id': 198, 'type': 'input', 'value': '0.018262774', 'position': 16}, {'token': '3', 'token_id': 18, 'type': 'input', 'value': '0.020703666', 'position': 17}, {'token': '.', 'token_id': 13, 'type': 'input', 'value': '0.019476315', 'position': 18}, {'token': ' Bulgaria', 'token_id': 27902, 'type': 'input', 'value': '0.15065531', 'position': 19}, {'token': '\\n', 'token_id': 198, 'type': 'input', 'value': '0.017272614', 'position': 20}, {'token': '4', 'token_id': 19, 'type': 'input', 'value': '0.037586004', 'position': 21}, {'token': '.', 'token_id': 13, 'type': 'input', 'value': '0.029434018', 'position': 22}, {'token': ' Finland', 'token_id': 17837, 'type': 'output', 'value': '0', 'position': 23}, {'token': '\\n', 'token_id': 198, 'type': 'output', 'value': '0', 'position': 24}, {'token': '5', 'token_id': 20, 'type': 'output', 'value': '0', 'position': 25}, {'token': '.', 'token_id': 13, 'type': 'output', 'value': '0', 'position': 26}, {'token': ' Hungary', 'token_id': 19562, 'type': 'output', 'value': '0', 'position': 27}, {'token': '\\n', 'token_id': 198, 'type': 'output', 'value': '0', 'position': 28}, {'token': '6', 'token_id': 21, 'type': 'output', 'value': '0', 'position': 29}, {'token': '.', 'token_id': 13, 'type': 'output', 'value': '0', 'position': 30}, {'token': ' Latvia', 'token_id': 35794, 'type': 'output', 'value': '0', 'position': 31}, {'token': '\\n', 'token_id': 198, 'type': 'output', 'value': '0', 'position': 32}, {'token': '7', 'token_id': 22, 'type': 'output', 'value': '0', 'position': 33}, {'token': '.', 'token_id': 13, 'type': 'output', 'value': '0', 'position': 34}, {'token': ' Lie', 'token_id': 12060, 'type': 'output', 'value': '0', 'position': 35}, {'token': 'ch', 'token_id': 354, 'type': 'output', 'value': '0', 'position': 36}, {'token': 'ten', 'token_id': 1452, 'type': 'output', 'value': '0', 'position': 37}, {'token': 'stein', 'token_id': 5714, 'type': 'output', 'value': '0', 'position': 38}, {'token': '\\n', 'token_id': 198, 'type': 'output', 'value': '0', 'position': 39}, {'token': '8', 'token_id': 23, 'type': 'output', 'value': '0', 'position': 40}, {'token': '.', 'token_id': 13, 'type': 'output', 'value': '0', 'position': 41}, {'token': ' France', 'token_id': 4881, 'type': 'output', 'value': '0', 'position': 42}], 'attributions': [[0.07208458334207535, 0.04263618588447571, 0.011505767703056335, 0.016651442274451256, 0.0630691647529602, 0.028750838711857796, 0.015092091634869576, 0.019113248214125633, 0.029752317816019058, 0.027673140168190002, 0.04936109110713005, 0.17148900032043457, 0.023668792098760605, 0.021839825436472893, 0.018820682540535927, 0.09510108828544617, 0.018262773752212524, 0.020703665912151337, 0.01947631500661373, 0.15065531432628632, 0.01727261394262314, 0.03758600354194641, 0.029434017837047577], [0.047709036618471146, 0.05167236179113388, 0.019550969824194908, 0.02247309312224388, 0.036007244139909744, 0.023979658260941505, 0.03822483867406845, 0.03620754927396774, 0.059922900050878525, 0.041003644466400146, 0.03321155905723572, 0.08314517140388489, 0.034509800374507904, 0.0277900118380785, 0.026427017524838448, 0.03672567382454872, 0.022598112002015114, 0.02909790724515915, 0.01740831322968006, 0.03124125860631466, 0.019867992028594017, 0.024991439655423164, 0.02278752066195011, 0.21344690024852753], [0.03778962418437004, 0.04924740642309189, 0.016328703612089157, 0.012842832133173943, 0.026762111112475395, 0.01505791861563921, 0.020426355302333832, 0.027665793895721436, 0.05319288372993469, 0.07046563178300858, 0.02530398778617382, 0.031238647177815437, 0.05483367294073105, 0.11190120875835419, 0.020920593291521072, 0.01859886199235916, 0.03196621686220169, 0.09878915548324585, 0.02141096256673336, 0.032117996364831924, 0.02158932015299797, 0.05585561692714691, 0.0205801110714674, 0.0852690041065216, 0.039845336228609085], [0.04336785525083542, 0.0865664929151535, 0.011806502938270569, 0.012072594836354256, 0.03212560713291168, 0.021833475679159164, 0.019759302958846092, 0.026229064911603928, 0.03854026645421982, 0.03620712831616402, 0.04980362579226494, 0.052984464913606644, 0.02011759765446186, 0.027966396883130074, 0.025250015780329704, 0.03645770251750946, 0.01935884729027748, 0.027490826323628426, 0.02453608065843582, 0.04505004733800888, 0.024467477574944496, 0.06615229696035385, 0.026606202125549316, 0.03606389835476875, 0.026529574766755104, 0.16265664994716644], [0.07143504917621613, 0.039792146533727646, 0.010892539285123348, 0.015877850353717804, 0.04784351587295532, 0.023395447060465813, 0.013495438732206821, 0.01725705899298191, 0.021916493773460388, 0.024551009759306908, 0.04663655161857605, 0.14009523391723633, 0.016378037631511688, 0.023236114531755447, 0.01859661191701889, 0.07906293869018555, 0.016857102513313293, 0.014035570435225964, 0.017299504950642586, 0.10444018989801407, 0.014685304835438728, 0.015067385509610176, 0.016163134947419167, 0.10578808933496475, 0.020316582173109055, 0.03664514794945717, 0.028239944949746132], [0.04439433664083481, 0.03720225393772125, 0.01576213352382183, 0.0126462047919631, 0.02678843028843403, 0.023302648216485977, 0.03824225440621376, 0.031070290133357048, 0.05675496533513069, 0.03370031341910362, 0.03088231571018696, 0.043389543890953064, 0.040539637207984924, 0.03368157148361206, 0.029378600418567657, 0.03922713175415993, 0.019846880808472633, 0.01715730130672455, 0.023526210337877274, 0.03562815859913826, 0.026039430871605873, 0.01836255192756653, 0.016002526506781578, 0.03868994116783142, 0.021568870171904564, 0.02275983989238739, 0.02493380755186081, 0.1985219120979309], [0.030436048284173012, 0.03722917288541794, 0.014025404118001461, 0.013145072385668755, 0.01951572671532631, 0.011272457428276539, 0.014796532690525055, 0.02521359920501709, 0.04837573319673538, 0.04613026604056358, 0.01836322993040085, 0.028235329315066338, 0.050079356878995895, 0.06272968649864197, 0.019946223124861717, 0.022811636328697205, 0.03255348652601242, 0.06219194084405899, 0.01703113131225109, 0.016703201457858086, 0.021037794649600983, 0.10757355391979218, 0.015718208625912666, 0.030193345621228218, 0.03022051602602005, 0.06003440544009209, 0.021357515826821327, 0.0921010747551918, 0.030978405848145485], [0.04386346787214279, 0.0829625055193901, 0.012087808921933174, 0.012004919350147247, 0.030981622636318207, 0.01757197268307209, 0.017641976475715637, 0.0193982794880867, 0.039549026638269424, 0.029998451471328735, 0.04672957956790924, 0.048590853810310364, 0.02131768688559532, 0.020060990005731583, 0.021978924050927162, 0.03211495652794838, 0.016056234017014503, 0.017490370199084282, 0.01802952028810978, 0.029927892610430717, 0.016603726893663406, 0.01745440624654293, 0.02317357063293457, 0.028168944641947746, 0.03357088565826416, 0.06560579687356949, 0.022425957024097443, 0.040528133511543274, 0.030896125361323357, 0.14321523904800415], [0.07256379723548889, 0.03843146935105324, 0.010421537794172764, 0.015657013282179832, 0.05205514654517174, 0.022400353103876114, 0.015471604652702808, 0.01702927239239216, 0.02372514270246029, 0.025463487952947617, 0.03462887555360794, 0.13392283022403717, 0.016736051067709923, 0.017748812213540077, 0.014718540944159031, 0.06400144845247269, 0.013668284751474857, 0.011600513942539692, 0.01094062253832817, 0.05239316076040268, 0.012800349853932858, 0.012432778254151344, 0.01150079071521759, 0.06515011936426163, 0.012977631762623787, 0.0140022998675704, 0.01537336129695177, 0.13421255350112915, 0.010872744023799896, 0.024148916825652122, 0.02295045368373394], [0.041741084307432175, 0.04656125232577324, 0.01538320817053318, 0.016057979315519333, 0.03215193748474121, 0.018746135756373405, 0.026347538456320763, 0.031571969389915466, 0.041090577840805054, 0.03461258113384247, 0.024570561945438385, 0.07191773504018784, 0.026923350989818573, 0.02199997380375862, 0.0338229238986969, 0.030534017831087112, 0.016089558601379395, 0.02296040765941143, 0.019120043143630028, 0.02560598775744438, 0.013155735097825527, 0.018740758299827576, 0.015358173288404942, 0.02254611812531948, 0.011866745539009571, 0.014124488458037376, 0.013387352228164673, 0.023790132254362106, 0.01622266136109829, 0.021919183433055878, 0.02109888568520546, 0.20998089015483856], [0.03135412186384201, 0.029845481738448143, 0.012527083978056908, 0.014299335889518261, 0.01715884730219841, 0.010152280330657959, 0.013208134099841118, 0.022105978801846504, 0.05390924587845802, 0.03529556840658188, 0.02208845689892769, 0.02126401849091053, 0.042146600782871246, 0.04880661889910698, 0.01954273134469986, 0.016168780624866486, 0.025542041286826134, 0.05209086835384369, 0.01596679538488388, 0.018025171011686325, 0.01661103405058384, 0.07044922560453415, 0.015787038952112198, 0.018810274079442024, 0.029743358492851257, 0.08675173670053482, 0.014871414750814438, 0.030289161950349808, 0.03414443880319595, 0.05242808535695076, 0.02097722887992859, 0.052648913115262985, 0.034990012645721436], [0.0383271686732769, 0.06998331844806671, 0.013274136930704117, 0.012145673856139183, 0.02346278540790081, 0.014342169277369976, 0.01655050739645958, 0.01789468713104725, 0.03434448689222336, 0.02686777152121067, 0.03863557428121567, 0.04369382560253143, 0.02112814225256443, 0.015402919612824917, 0.017924347892403603, 0.027669955044984818, 0.0145583376288414, 0.01723843440413475, 0.01566011644899845, 0.02617356926202774, 0.013458453118801117, 0.01568014547228813, 0.017135387286543846, 0.01798112690448761, 0.016509173437952995, 0.015102763660252094, 0.020234493538737297, 0.017060989513993263, 0.030250148847699165, 0.09800765663385391, 0.017628123983740807, 0.027951300144195557, 0.023304708302021027, 0.16441750526428223], [0.06582438200712204, 0.03705975040793419, 0.009290363639593124, 0.01346668042242527, 0.04357578977942467, 0.0199930090457201, 0.012389712035655975, 0.014129921793937683, 0.02192554995417595, 0.02161698415875435, 0.02480841800570488, 0.13087967038154602, 0.014968376606702805, 0.01369821559637785, 0.01054324209690094, 0.05814617872238159, 0.010404553264379501, 0.010112423449754715, 0.009720970876514912, 0.04418149217963219, 0.01024510059505701, 0.010449418798089027, 0.008893568068742752, 0.046410925686359406, 0.01304575614631176, 0.0107649564743042, 0.009613298811018467, 0.06681207567453384, 0.014560027979314327, 0.0145026296377182, 0.013316354714334011, 0.12590472400188446, 0.015327736735343933, 0.030174436047673225, 0.023243360221385956], [0.04633557051420212, 0.022702861577272415, 0.01882110722362995, 0.01677241176366806, 0.028043916448950768, 0.007235343102365732, 0.010706305503845215, 0.009226370602846146, 0.014270341023802757, 0.007472291588783264, 0.016900569200515747, 0.028870683163404465, 0.00846819020807743, 0.005217851605266333, 0.006853894796222448, 0.02719048596918583, 0.008935531601309776, 0.008264820091426373, 0.007774581667035818, 0.018694665282964706, 0.008619374595582485, 0.010107031092047691, 0.009327312931418419, 0.01998971775174141, 0.010011458769440651, 0.006729959975928068, 0.01103955041617155, 0.026246212422847748, 0.01293211430311203, 0.010897262021899223, 0.01803077943623066, 0.04521526023745537, 0.024614622816443443, 0.04033135995268822, 0.04204566776752472, 0.3851045072078705], [0.029334131628274918, 0.01406314130872488, 0.007212843280285597, 0.007335396483540535, 0.01656775176525116, 0.006633368786424398, 0.00572184519842267, 0.00850037019699812, 0.011701509356498718, 0.006898877210915089, 0.020008668303489685, 0.018083497881889343, 0.012332329526543617, 0.0060958764515817165, 0.009139726869761944, 0.014274386689066887, 0.012478300370275974, 0.007238610181957483, 0.0073646800592541695, 0.013571087270975113, 0.012425029650330544, 0.008155684918165207, 0.0077752177603542805, 0.022275377064943314, 0.013567540794610977, 0.010373679921030998, 0.010238531045615673, 0.030172014608979225, 0.01742839626967907, 0.012141775339841843, 0.01562522165477276, 0.026447894051671028, 0.02958184853196144, 0.02540203556418419, 0.0307548139244318, 0.36192044615745544, 0.1311580389738083], [0.037547700107097626, 0.02310812845826149, 0.012667576782405376, 0.008992697112262249, 0.015762006863951683, 0.00761574087664485, 0.006991382222622633, 0.012152156792581081, 0.008712491020560265, 0.006457476411014795, 0.00912273209542036, 0.02053358592092991, 0.007710127625614405, 0.005584935657680035, 0.0063889059238135815, 0.016359081491827965, 0.008063442073762417, 0.0061368136666715145, 0.007901996374130249, 0.029165908694267273, 0.009482825174927711, 0.006395862437784672, 0.00974570494145155, 0.0169439148157835, 0.01063894759863615, 0.007084912620484829, 0.012421343475580215, 0.017377056181430817, 0.012219257652759552, 0.0100058289244771, 0.017966989427804947, 0.036142975091934204, 0.02246982604265213, 0.01782807894051075, 0.02589487098157406, 0.17861872911453247, 0.10742802172899246, 0.2243598997592926], [0.035194508731365204, 0.03954802453517914, 0.010662890039384365, 0.014418039470911026, 0.025049589574337006, 0.01302687544375658, 0.02014494314789772, 0.03997117280960083, 0.0398302897810936, 0.030047612264752388, 0.017238594591617584, 0.07369967550039291, 0.031173234805464745, 0.03236164525151253, 0.014152874238789082, 0.03898154944181442, 0.020336054265499115, 0.024990281090140343, 0.01142271887511015, 0.028647424653172493, 0.012181355617940426, 0.011002650484442711, 0.008912084624171257, 0.023631229996681213, 0.012149196118116379, 0.010400017723441124, 0.007728843484073877, 0.014140457846224308, 0.012504694983363152, 0.014397788792848587, 0.00745250703766942, 0.018245380371809006, 0.016525663435459137, 0.016589323058724403, 0.012964853085577488, 0.06907833367586136, 0.011092755943536758, 0.043309327214956284, 0.11679545789957047], [0.029082169756293297, 0.03100072778761387, 0.012835879810154438, 0.014780818484723568, 0.01566329598426819, 0.009784690104424953, 0.014707447960972786, 0.023161662742495537, 0.04859340190887451, 0.03256190940737724, 0.022546827793121338, 0.019514070823788643, 0.03174707666039467, 0.04812529683113098, 0.014978080056607723, 0.014410913921892643, 0.01694219745695591, 0.04648001864552498, 0.012338994070887566, 0.015277847647666931, 0.017346765846014023, 0.06815369427204132, 0.016086094081401825, 0.012170045636594296, 0.02658831886947155, 0.05710678547620773, 0.01798800192773342, 0.011822167783975601, 0.027065912261605263, 0.052125249058008194, 0.01483739260584116, 0.026944562792778015, 0.02412441559135914, 0.0456506721675396, 0.01297121774405241, 0.01868939958512783, 0.005887679755687714, 0.011159316636621952, 0.020467566326260567, 0.03828136622905731], [0.04459981247782707, 0.06898519396781921, 0.014347804710268974, 0.01517291460186243, 0.023363055661320686, 0.014802373945713043, 0.020698504522442818, 0.020722536370158195, 0.028064116835594177, 0.04439477622509003, 0.039541710168123245, 0.05274433270096779, 0.016620894894003868, 0.014019720256328583, 0.017014306038618088, 0.03165387362241745, 0.013691886328160763, 0.011895183473825455, 0.013709132559597492, 0.0270343329757452, 0.011825723573565483, 0.01237461343407631, 0.01474803313612938, 0.018123682588338852, 0.014296051114797592, 0.01301326509565115, 0.013375538401305676, 0.012321186251938343, 0.01693888008594513, 0.023392917588353157, 0.01939581148326397, 0.012272859923541546, 0.025547629222273827, 0.09258823096752167, 0.015677571296691895, 0.022750888019800186, 0.008872506208717823, 0.012593419291079044, 0.01133803278207779, 0.02793208695948124, 0.06754451245069504], [0.04428984224796295, 0.02758393995463848, 0.007736333645880222, 0.008775720372796059, 0.03705621138215065, 0.013760561123490334, 0.008238312788307667, 0.010672789067029953, 0.02170654386281967, 0.015806026756763458, 0.018230687826871872, 0.0876852422952652, 0.015752658247947693, 0.010042480193078518, 0.009036668576300144, 0.043144192546606064, 0.009999573230743408, 0.0060689738020300865, 0.007114445324987173, 0.029291274026036263, 0.0098689254373312, 0.00620242627337575, 0.006740240380167961, 0.0323784165084362, 0.009845716878771782, 0.007314528804272413, 0.007812686264514923, 0.048742152750492096, 0.013832705095410347, 0.016248583793640137, 0.013225767761468887, 0.16286563873291016, 0.017674142494797707, 0.012183078564703465, 0.01515056099742651, 0.09579742699861526, 0.006082289386540651, 0.010319696739315987, 0.006793059874325991, 0.016149893403053284, 0.02095998451113701, 0.03181953728199005]]},\n",
       "                preset: 'viridis'\n",
       "             })\n",
       "\n",
       "             window.ecco[viz_id].init();\n",
       "             window.ecco[viz_id].selectFirstToken();\n",
       "\n",
       "             }, function (err) {\n",
       "                console.log(err);\n",
       "            })"
      ],
      "text/plain": [
       "<IPython.core.display.Javascript object>"
      ]
     },
     "metadata": {},
     "output_type": "display_data"
    }
   ],
   "source": [
    "output.saliency(attr_method='gradient')"
   ]
  },
  {
   "cell_type": "code",
   "execution_count": 7,
   "metadata": {},
   "outputs": [
    {
     "data": {
      "text/html": [
       "<html lang=\"en\">\n",
       "<script src=\"https://requirejs.org/docs/release/2.3.6/minified/require.js\"></script>\n",
       "<script>\n",
       "    var ecco_url = 'https://storage.googleapis.com/ml-intro/ecco/'\n",
       "    // var ecco_url = 'http://localhost:8000/ecco/'\n",
       "\n",
       "    if (window.ecco === undefined) window.ecco = {}\n",
       "\n",
       "    requirejs.config({\n",
       "        urlArgs: \"bust=\" + (new Date()).getTime(),\n",
       "        nodeRequire: require,\n",
       "        paths: {\n",
       "            d3: \"https://d3js.org/d3.v5.min\",\n",
       "            \"d3-array\": \"https://d3js.org/d3-array.v2.min\",\n",
       "            jquery: \"https://code.jquery.com/jquery-3.5.1.min\",\n",
       "            // oldEcco: ecco_url + 'ecco',\n",
       "            ecco: ecco_url + 'js/0.0.4/ecco-bundle.min',\n",
       "            xregexp: 'https://cdnjs.cloudflare.com/ajax/libs/xregexp/3.2.0/xregexp-all.min'\n",
       "        }\n",
       "    });\n",
       "    requirejs(['d3'],\n",
       "        function (d3) {\n",
       "            d3.select('#css').attr('href', ecco_url + 'html/styles.css')\n",
       "        })\n",
       "\n",
       "    console.log('Ecco initialize.')\n",
       "</script>\n",
       "\n",
       "<head>\n",
       "    <link id='css' rel=\"stylesheet\" type=\"text/css\">\n",
       "</head>\n"
      ],
      "text/plain": [
       "<IPython.core.display.HTML object>"
      ]
     },
     "metadata": {},
     "output_type": "display_data"
    },
    {
     "data": {
      "text/html": [
       "<script>\n",
       "    // console.log('defining basic')\n",
       "    define('basic', ['d3'],\n",
       "        function (d3) {\n",
       "            return {\n",
       "                init: function (viz_id = null) {\n",
       "\n",
       "                    // console.log('basic init')\n",
       "                    if (viz_id == null){\n",
       "                        viz_id = \"viz_\" + Math.round(Math.random() * 10000000)\n",
       "                    }\n",
       "                    const div = d3.select('#basic').attr('id', viz_id),\n",
       "                        div_parent = d3.select('#' + viz_id).node().parentNode\n",
       "\n",
       "                    // Link to CSS file\n",
       "                    d3.select(div_parent).insert('link')\n",
       "                        .attr('rel', 'stylesheet')\n",
       "                        .attr('type', 'text/css')\n",
       "                        .attr('href', ecco_url + 'html/styles.css')\n",
       "\n",
       "                    return viz_id\n",
       "                }\n",
       "            }\n",
       "        }, function (err) {console.log(err);}\n",
       "    )\n",
       "    // console.log('after defining basic')\n",
       "\n",
       "</script>\n",
       "<div id=\"basic\"></div>\n"
      ],
      "text/plain": [
       "<IPython.core.display.HTML object>"
      ]
     },
     "metadata": {},
     "output_type": "display_data"
    },
    {
     "data": {
      "application/javascript": [
       "\n",
       "             requirejs(['basic', 'ecco'], function(basic, ecco){\n",
       "                const viz_id = basic.init()\n",
       "                window.ecco[viz_id] = ecco.interactiveTokens(viz_id, {'tokens': [{'token': 'The', 'token_id': 464, 'type': 'input', 'value': '0.07208458', 'position': 0}, {'token': ' countries', 'token_id': 2678, 'type': 'input', 'value': '0.042636186', 'position': 1}, {'token': ' of', 'token_id': 286, 'type': 'input', 'value': '0.011505768', 'position': 2}, {'token': ' the', 'token_id': 262, 'type': 'input', 'value': '0.016651442', 'position': 3}, {'token': ' European', 'token_id': 3427, 'type': 'input', 'value': '0.063069165', 'position': 4}, {'token': ' Union', 'token_id': 4479, 'type': 'input', 'value': '0.028750839', 'position': 5}, {'token': ' are', 'token_id': 389, 'type': 'input', 'value': '0.015092092', 'position': 6}, {'token': ':', 'token_id': 25, 'type': 'input', 'value': '0.019113248', 'position': 7}, {'token': '\\n', 'token_id': 198, 'type': 'input', 'value': '0.029752318', 'position': 8}, {'token': '1', 'token_id': 16, 'type': 'input', 'value': '0.02767314', 'position': 9}, {'token': '.', 'token_id': 13, 'type': 'input', 'value': '0.04936109', 'position': 10}, {'token': ' Austria', 'token_id': 17322, 'type': 'input', 'value': '0.171489', 'position': 11}, {'token': '\\n', 'token_id': 198, 'type': 'input', 'value': '0.023668792', 'position': 12}, {'token': '2', 'token_id': 17, 'type': 'input', 'value': '0.021839825', 'position': 13}, {'token': '.', 'token_id': 13, 'type': 'input', 'value': '0.018820683', 'position': 14}, {'token': ' Belgium', 'token_id': 15664, 'type': 'input', 'value': '0.09510109', 'position': 15}, {'token': '\\n', 'token_id': 198, 'type': 'input', 'value': '0.018262774', 'position': 16}, {'token': '3', 'token_id': 18, 'type': 'input', 'value': '0.020703666', 'position': 17}, {'token': '.', 'token_id': 13, 'type': 'input', 'value': '0.019476315', 'position': 18}, {'token': ' Bulgaria', 'token_id': 27902, 'type': 'input', 'value': '0.15065531', 'position': 19}, {'token': '\\n', 'token_id': 198, 'type': 'input', 'value': '0.017272614', 'position': 20}, {'token': '4', 'token_id': 19, 'type': 'input', 'value': '0.037586004', 'position': 21}, {'token': '.', 'token_id': 13, 'type': 'input', 'value': '0.029434018', 'position': 22}, {'token': ' Finland', 'token_id': 17837, 'type': 'output', 'value': '0', 'position': 23}, {'token': '\\n', 'token_id': 198, 'type': 'output', 'value': '0', 'position': 24}, {'token': '5', 'token_id': 20, 'type': 'output', 'value': '0', 'position': 25}, {'token': '.', 'token_id': 13, 'type': 'output', 'value': '0', 'position': 26}, {'token': ' Hungary', 'token_id': 19562, 'type': 'output', 'value': '0', 'position': 27}, {'token': '\\n', 'token_id': 198, 'type': 'output', 'value': '0', 'position': 28}, {'token': '6', 'token_id': 21, 'type': 'output', 'value': '0', 'position': 29}, {'token': '.', 'token_id': 13, 'type': 'output', 'value': '0', 'position': 30}, {'token': ' Latvia', 'token_id': 35794, 'type': 'output', 'value': '0', 'position': 31}, {'token': '\\n', 'token_id': 198, 'type': 'output', 'value': '0', 'position': 32}, {'token': '7', 'token_id': 22, 'type': 'output', 'value': '0', 'position': 33}, {'token': '.', 'token_id': 13, 'type': 'output', 'value': '0', 'position': 34}, {'token': ' Lie', 'token_id': 12060, 'type': 'output', 'value': '0', 'position': 35}, {'token': 'ch', 'token_id': 354, 'type': 'output', 'value': '0', 'position': 36}, {'token': 'ten', 'token_id': 1452, 'type': 'output', 'value': '0', 'position': 37}, {'token': 'stein', 'token_id': 5714, 'type': 'output', 'value': '0', 'position': 38}, {'token': '\\n', 'token_id': 198, 'type': 'output', 'value': '0', 'position': 39}, {'token': '8', 'token_id': 23, 'type': 'output', 'value': '0', 'position': 40}, {'token': '.', 'token_id': 13, 'type': 'output', 'value': '0', 'position': 41}, {'token': ' France', 'token_id': 4881, 'type': 'output', 'value': '0', 'position': 42}], 'attributions': [[0.07208458334207535, 0.04263618588447571, 0.011505767703056335, 0.016651442274451256, 0.0630691647529602, 0.028750838711857796, 0.015092091634869576, 0.019113248214125633, 0.029752317816019058, 0.027673140168190002, 0.04936109110713005, 0.17148900032043457, 0.023668792098760605, 0.021839825436472893, 0.018820682540535927, 0.09510108828544617, 0.018262773752212524, 0.020703665912151337, 0.01947631500661373, 0.15065531432628632, 0.01727261394262314, 0.03758600354194641, 0.029434017837047577], [0.047709036618471146, 0.05167236179113388, 0.019550969824194908, 0.02247309312224388, 0.036007244139909744, 0.023979658260941505, 0.03822483867406845, 0.03620754927396774, 0.059922900050878525, 0.041003644466400146, 0.03321155905723572, 0.08314517140388489, 0.034509800374507904, 0.0277900118380785, 0.026427017524838448, 0.03672567382454872, 0.022598112002015114, 0.02909790724515915, 0.01740831322968006, 0.03124125860631466, 0.019867992028594017, 0.024991439655423164, 0.02278752066195011, 0.21344690024852753], [0.03778962418437004, 0.04924740642309189, 0.016328703612089157, 0.012842832133173943, 0.026762111112475395, 0.01505791861563921, 0.020426355302333832, 0.027665793895721436, 0.05319288372993469, 0.07046563178300858, 0.02530398778617382, 0.031238647177815437, 0.05483367294073105, 0.11190120875835419, 0.020920593291521072, 0.01859886199235916, 0.03196621686220169, 0.09878915548324585, 0.02141096256673336, 0.032117996364831924, 0.02158932015299797, 0.05585561692714691, 0.0205801110714674, 0.0852690041065216, 0.039845336228609085], [0.04336785525083542, 0.0865664929151535, 0.011806502938270569, 0.012072594836354256, 0.03212560713291168, 0.021833475679159164, 0.019759302958846092, 0.026229064911603928, 0.03854026645421982, 0.03620712831616402, 0.04980362579226494, 0.052984464913606644, 0.02011759765446186, 0.027966396883130074, 0.025250015780329704, 0.03645770251750946, 0.01935884729027748, 0.027490826323628426, 0.02453608065843582, 0.04505004733800888, 0.024467477574944496, 0.06615229696035385, 0.026606202125549316, 0.03606389835476875, 0.026529574766755104, 0.16265664994716644], [0.07143504917621613, 0.039792146533727646, 0.010892539285123348, 0.015877850353717804, 0.04784351587295532, 0.023395447060465813, 0.013495438732206821, 0.01725705899298191, 0.021916493773460388, 0.024551009759306908, 0.04663655161857605, 0.14009523391723633, 0.016378037631511688, 0.023236114531755447, 0.01859661191701889, 0.07906293869018555, 0.016857102513313293, 0.014035570435225964, 0.017299504950642586, 0.10444018989801407, 0.014685304835438728, 0.015067385509610176, 0.016163134947419167, 0.10578808933496475, 0.020316582173109055, 0.03664514794945717, 0.028239944949746132], [0.04439433664083481, 0.03720225393772125, 0.01576213352382183, 0.0126462047919631, 0.02678843028843403, 0.023302648216485977, 0.03824225440621376, 0.031070290133357048, 0.05675496533513069, 0.03370031341910362, 0.03088231571018696, 0.043389543890953064, 0.040539637207984924, 0.03368157148361206, 0.029378600418567657, 0.03922713175415993, 0.019846880808472633, 0.01715730130672455, 0.023526210337877274, 0.03562815859913826, 0.026039430871605873, 0.01836255192756653, 0.016002526506781578, 0.03868994116783142, 0.021568870171904564, 0.02275983989238739, 0.02493380755186081, 0.1985219120979309], [0.030436048284173012, 0.03722917288541794, 0.014025404118001461, 0.013145072385668755, 0.01951572671532631, 0.011272457428276539, 0.014796532690525055, 0.02521359920501709, 0.04837573319673538, 0.04613026604056358, 0.01836322993040085, 0.028235329315066338, 0.050079356878995895, 0.06272968649864197, 0.019946223124861717, 0.022811636328697205, 0.03255348652601242, 0.06219194084405899, 0.01703113131225109, 0.016703201457858086, 0.021037794649600983, 0.10757355391979218, 0.015718208625912666, 0.030193345621228218, 0.03022051602602005, 0.06003440544009209, 0.021357515826821327, 0.0921010747551918, 0.030978405848145485], [0.04386346787214279, 0.0829625055193901, 0.012087808921933174, 0.012004919350147247, 0.030981622636318207, 0.01757197268307209, 0.017641976475715637, 0.0193982794880867, 0.039549026638269424, 0.029998451471328735, 0.04672957956790924, 0.048590853810310364, 0.02131768688559532, 0.020060990005731583, 0.021978924050927162, 0.03211495652794838, 0.016056234017014503, 0.017490370199084282, 0.01802952028810978, 0.029927892610430717, 0.016603726893663406, 0.01745440624654293, 0.02317357063293457, 0.028168944641947746, 0.03357088565826416, 0.06560579687356949, 0.022425957024097443, 0.040528133511543274, 0.030896125361323357, 0.14321523904800415], [0.07256379723548889, 0.03843146935105324, 0.010421537794172764, 0.015657013282179832, 0.05205514654517174, 0.022400353103876114, 0.015471604652702808, 0.01702927239239216, 0.02372514270246029, 0.025463487952947617, 0.03462887555360794, 0.13392283022403717, 0.016736051067709923, 0.017748812213540077, 0.014718540944159031, 0.06400144845247269, 0.013668284751474857, 0.011600513942539692, 0.01094062253832817, 0.05239316076040268, 0.012800349853932858, 0.012432778254151344, 0.01150079071521759, 0.06515011936426163, 0.012977631762623787, 0.0140022998675704, 0.01537336129695177, 0.13421255350112915, 0.010872744023799896, 0.024148916825652122, 0.02295045368373394], [0.041741084307432175, 0.04656125232577324, 0.01538320817053318, 0.016057979315519333, 0.03215193748474121, 0.018746135756373405, 0.026347538456320763, 0.031571969389915466, 0.041090577840805054, 0.03461258113384247, 0.024570561945438385, 0.07191773504018784, 0.026923350989818573, 0.02199997380375862, 0.0338229238986969, 0.030534017831087112, 0.016089558601379395, 0.02296040765941143, 0.019120043143630028, 0.02560598775744438, 0.013155735097825527, 0.018740758299827576, 0.015358173288404942, 0.02254611812531948, 0.011866745539009571, 0.014124488458037376, 0.013387352228164673, 0.023790132254362106, 0.01622266136109829, 0.021919183433055878, 0.02109888568520546, 0.20998089015483856], [0.03135412186384201, 0.029845481738448143, 0.012527083978056908, 0.014299335889518261, 0.01715884730219841, 0.010152280330657959, 0.013208134099841118, 0.022105978801846504, 0.05390924587845802, 0.03529556840658188, 0.02208845689892769, 0.02126401849091053, 0.042146600782871246, 0.04880661889910698, 0.01954273134469986, 0.016168780624866486, 0.025542041286826134, 0.05209086835384369, 0.01596679538488388, 0.018025171011686325, 0.01661103405058384, 0.07044922560453415, 0.015787038952112198, 0.018810274079442024, 0.029743358492851257, 0.08675173670053482, 0.014871414750814438, 0.030289161950349808, 0.03414443880319595, 0.05242808535695076, 0.02097722887992859, 0.052648913115262985, 0.034990012645721436], [0.0383271686732769, 0.06998331844806671, 0.013274136930704117, 0.012145673856139183, 0.02346278540790081, 0.014342169277369976, 0.01655050739645958, 0.01789468713104725, 0.03434448689222336, 0.02686777152121067, 0.03863557428121567, 0.04369382560253143, 0.02112814225256443, 0.015402919612824917, 0.017924347892403603, 0.027669955044984818, 0.0145583376288414, 0.01723843440413475, 0.01566011644899845, 0.02617356926202774, 0.013458453118801117, 0.01568014547228813, 0.017135387286543846, 0.01798112690448761, 0.016509173437952995, 0.015102763660252094, 0.020234493538737297, 0.017060989513993263, 0.030250148847699165, 0.09800765663385391, 0.017628123983740807, 0.027951300144195557, 0.023304708302021027, 0.16441750526428223], [0.06582438200712204, 0.03705975040793419, 0.009290363639593124, 0.01346668042242527, 0.04357578977942467, 0.0199930090457201, 0.012389712035655975, 0.014129921793937683, 0.02192554995417595, 0.02161698415875435, 0.02480841800570488, 0.13087967038154602, 0.014968376606702805, 0.01369821559637785, 0.01054324209690094, 0.05814617872238159, 0.010404553264379501, 0.010112423449754715, 0.009720970876514912, 0.04418149217963219, 0.01024510059505701, 0.010449418798089027, 0.008893568068742752, 0.046410925686359406, 0.01304575614631176, 0.0107649564743042, 0.009613298811018467, 0.06681207567453384, 0.014560027979314327, 0.0145026296377182, 0.013316354714334011, 0.12590472400188446, 0.015327736735343933, 0.030174436047673225, 0.023243360221385956], [0.04633557051420212, 0.022702861577272415, 0.01882110722362995, 0.01677241176366806, 0.028043916448950768, 0.007235343102365732, 0.010706305503845215, 0.009226370602846146, 0.014270341023802757, 0.007472291588783264, 0.016900569200515747, 0.028870683163404465, 0.00846819020807743, 0.005217851605266333, 0.006853894796222448, 0.02719048596918583, 0.008935531601309776, 0.008264820091426373, 0.007774581667035818, 0.018694665282964706, 0.008619374595582485, 0.010107031092047691, 0.009327312931418419, 0.01998971775174141, 0.010011458769440651, 0.006729959975928068, 0.01103955041617155, 0.026246212422847748, 0.01293211430311203, 0.010897262021899223, 0.01803077943623066, 0.04521526023745537, 0.024614622816443443, 0.04033135995268822, 0.04204566776752472, 0.3851045072078705], [0.029334131628274918, 0.01406314130872488, 0.007212843280285597, 0.007335396483540535, 0.01656775176525116, 0.006633368786424398, 0.00572184519842267, 0.00850037019699812, 0.011701509356498718, 0.006898877210915089, 0.020008668303489685, 0.018083497881889343, 0.012332329526543617, 0.0060958764515817165, 0.009139726869761944, 0.014274386689066887, 0.012478300370275974, 0.007238610181957483, 0.0073646800592541695, 0.013571087270975113, 0.012425029650330544, 0.008155684918165207, 0.0077752177603542805, 0.022275377064943314, 0.013567540794610977, 0.010373679921030998, 0.010238531045615673, 0.030172014608979225, 0.01742839626967907, 0.012141775339841843, 0.01562522165477276, 0.026447894051671028, 0.02958184853196144, 0.02540203556418419, 0.0307548139244318, 0.36192044615745544, 0.1311580389738083], [0.037547700107097626, 0.02310812845826149, 0.012667576782405376, 0.008992697112262249, 0.015762006863951683, 0.00761574087664485, 0.006991382222622633, 0.012152156792581081, 0.008712491020560265, 0.006457476411014795, 0.00912273209542036, 0.02053358592092991, 0.007710127625614405, 0.005584935657680035, 0.0063889059238135815, 0.016359081491827965, 0.008063442073762417, 0.0061368136666715145, 0.007901996374130249, 0.029165908694267273, 0.009482825174927711, 0.006395862437784672, 0.00974570494145155, 0.0169439148157835, 0.01063894759863615, 0.007084912620484829, 0.012421343475580215, 0.017377056181430817, 0.012219257652759552, 0.0100058289244771, 0.017966989427804947, 0.036142975091934204, 0.02246982604265213, 0.01782807894051075, 0.02589487098157406, 0.17861872911453247, 0.10742802172899246, 0.2243598997592926], [0.035194508731365204, 0.03954802453517914, 0.010662890039384365, 0.014418039470911026, 0.025049589574337006, 0.01302687544375658, 0.02014494314789772, 0.03997117280960083, 0.0398302897810936, 0.030047612264752388, 0.017238594591617584, 0.07369967550039291, 0.031173234805464745, 0.03236164525151253, 0.014152874238789082, 0.03898154944181442, 0.020336054265499115, 0.024990281090140343, 0.01142271887511015, 0.028647424653172493, 0.012181355617940426, 0.011002650484442711, 0.008912084624171257, 0.023631229996681213, 0.012149196118116379, 0.010400017723441124, 0.007728843484073877, 0.014140457846224308, 0.012504694983363152, 0.014397788792848587, 0.00745250703766942, 0.018245380371809006, 0.016525663435459137, 0.016589323058724403, 0.012964853085577488, 0.06907833367586136, 0.011092755943536758, 0.043309327214956284, 0.11679545789957047], [0.029082169756293297, 0.03100072778761387, 0.012835879810154438, 0.014780818484723568, 0.01566329598426819, 0.009784690104424953, 0.014707447960972786, 0.023161662742495537, 0.04859340190887451, 0.03256190940737724, 0.022546827793121338, 0.019514070823788643, 0.03174707666039467, 0.04812529683113098, 0.014978080056607723, 0.014410913921892643, 0.01694219745695591, 0.04648001864552498, 0.012338994070887566, 0.015277847647666931, 0.017346765846014023, 0.06815369427204132, 0.016086094081401825, 0.012170045636594296, 0.02658831886947155, 0.05710678547620773, 0.01798800192773342, 0.011822167783975601, 0.027065912261605263, 0.052125249058008194, 0.01483739260584116, 0.026944562792778015, 0.02412441559135914, 0.0456506721675396, 0.01297121774405241, 0.01868939958512783, 0.005887679755687714, 0.011159316636621952, 0.020467566326260567, 0.03828136622905731], [0.04459981247782707, 0.06898519396781921, 0.014347804710268974, 0.01517291460186243, 0.023363055661320686, 0.014802373945713043, 0.020698504522442818, 0.020722536370158195, 0.028064116835594177, 0.04439477622509003, 0.039541710168123245, 0.05274433270096779, 0.016620894894003868, 0.014019720256328583, 0.017014306038618088, 0.03165387362241745, 0.013691886328160763, 0.011895183473825455, 0.013709132559597492, 0.0270343329757452, 0.011825723573565483, 0.01237461343407631, 0.01474803313612938, 0.018123682588338852, 0.014296051114797592, 0.01301326509565115, 0.013375538401305676, 0.012321186251938343, 0.01693888008594513, 0.023392917588353157, 0.01939581148326397, 0.012272859923541546, 0.025547629222273827, 0.09258823096752167, 0.015677571296691895, 0.022750888019800186, 0.008872506208717823, 0.012593419291079044, 0.01133803278207779, 0.02793208695948124, 0.06754451245069504], [0.04428984224796295, 0.02758393995463848, 0.007736333645880222, 0.008775720372796059, 0.03705621138215065, 0.013760561123490334, 0.008238312788307667, 0.010672789067029953, 0.02170654386281967, 0.015806026756763458, 0.018230687826871872, 0.0876852422952652, 0.015752658247947693, 0.010042480193078518, 0.009036668576300144, 0.043144192546606064, 0.009999573230743408, 0.0060689738020300865, 0.007114445324987173, 0.029291274026036263, 0.0098689254373312, 0.00620242627337575, 0.006740240380167961, 0.0323784165084362, 0.009845716878771782, 0.007314528804272413, 0.007812686264514923, 0.048742152750492096, 0.013832705095410347, 0.016248583793640137, 0.013225767761468887, 0.16286563873291016, 0.017674142494797707, 0.012183078564703465, 0.01515056099742651, 0.09579742699861526, 0.006082289386540651, 0.010319696739315987, 0.006793059874325991, 0.016149893403053284, 0.02095998451113701, 0.03181953728199005]]})\n",
       "\n",
       "             }, function (err) {\n",
       "                console.log(err);\n",
       "            })"
      ],
      "text/plain": [
       "<IPython.core.display.Javascript object>"
      ]
     },
     "metadata": {},
     "output_type": "display_data"
    }
   ],
   "source": [
    "output.saliency(attr_method='gradient', style=\"detailed\")"
   ]
  },
  {
   "cell_type": "markdown",
   "metadata": {},
   "source": [
    "## Integrated Gradients"
   ]
  },
  {
   "cell_type": "code",
   "execution_count": 8,
   "metadata": {},
   "outputs": [
    {
     "data": {
      "text/html": [
       "<html lang=\"en\">\n",
       "<script src=\"https://requirejs.org/docs/release/2.3.6/minified/require.js\"></script>\n",
       "<script>\n",
       "    var ecco_url = 'https://storage.googleapis.com/ml-intro/ecco/'\n",
       "    // var ecco_url = 'http://localhost:8000/ecco/'\n",
       "\n",
       "    if (window.ecco === undefined) window.ecco = {}\n",
       "\n",
       "    requirejs.config({\n",
       "        urlArgs: \"bust=\" + (new Date()).getTime(),\n",
       "        nodeRequire: require,\n",
       "        paths: {\n",
       "            d3: \"https://d3js.org/d3.v5.min\",\n",
       "            \"d3-array\": \"https://d3js.org/d3-array.v2.min\",\n",
       "            jquery: \"https://code.jquery.com/jquery-3.5.1.min\",\n",
       "            // oldEcco: ecco_url + 'ecco',\n",
       "            ecco: ecco_url + 'js/0.0.4/ecco-bundle.min',\n",
       "            xregexp: 'https://cdnjs.cloudflare.com/ajax/libs/xregexp/3.2.0/xregexp-all.min'\n",
       "        }\n",
       "    });\n",
       "    requirejs(['d3'],\n",
       "        function (d3) {\n",
       "            d3.select('#css').attr('href', ecco_url + 'html/styles.css')\n",
       "        })\n",
       "\n",
       "    console.log('Ecco initialize.')\n",
       "</script>\n",
       "\n",
       "<head>\n",
       "    <link id='css' rel=\"stylesheet\" type=\"text/css\">\n",
       "</head>\n"
      ],
      "text/plain": [
       "<IPython.core.display.HTML object>"
      ]
     },
     "metadata": {},
     "output_type": "display_data"
    },
    {
     "data": {
      "text/html": [
       "<script>\n",
       "    // console.log('defining basic')\n",
       "    define('basic', ['d3'],\n",
       "        function (d3) {\n",
       "            return {\n",
       "                init: function (viz_id = null) {\n",
       "\n",
       "                    // console.log('basic init')\n",
       "                    if (viz_id == null){\n",
       "                        viz_id = \"viz_\" + Math.round(Math.random() * 10000000)\n",
       "                    }\n",
       "                    const div = d3.select('#basic').attr('id', viz_id),\n",
       "                        div_parent = d3.select('#' + viz_id).node().parentNode\n",
       "\n",
       "                    // Link to CSS file\n",
       "                    d3.select(div_parent).insert('link')\n",
       "                        .attr('rel', 'stylesheet')\n",
       "                        .attr('type', 'text/css')\n",
       "                        .attr('href', ecco_url + 'html/styles.css')\n",
       "\n",
       "                    return viz_id\n",
       "                }\n",
       "            }\n",
       "        }, function (err) {console.log(err);}\n",
       "    )\n",
       "    // console.log('after defining basic')\n",
       "\n",
       "</script>\n",
       "<div id=\"basic\"></div>\n"
      ],
      "text/plain": [
       "<IPython.core.display.HTML object>"
      ]
     },
     "metadata": {},
     "output_type": "display_data"
    },
    {
     "data": {
      "application/javascript": [
       "\n",
       "             requirejs(['basic', 'ecco'], function(basic, ecco){\n",
       "                const viz_id = basic.init()\n",
       "                // ecco.interactiveTokens(viz_id, {})\n",
       "                window.ecco[viz_id] = new ecco.MinimalHighlighter({\n",
       "                parentDiv: viz_id,\n",
       "                data: {'tokens': [{'token': 'The', 'token_id': 464, 'type': 'input', 'value': '0.03578387559468764', 'position': 0}, {'token': ' countries', 'token_id': 2678, 'type': 'input', 'value': '0.03826652089343616', 'position': 1}, {'token': ' of', 'token_id': 286, 'type': 'input', 'value': '0.018679703503287976', 'position': 2}, {'token': ' the', 'token_id': 262, 'type': 'input', 'value': '0.0110723533198729', 'position': 3}, {'token': ' European', 'token_id': 3427, 'type': 'input', 'value': '0.04387595962062974', 'position': 4}, {'token': ' Union', 'token_id': 4479, 'type': 'input', 'value': '0.027605506158878964', 'position': 5}, {'token': ' are', 'token_id': 389, 'type': 'input', 'value': '0.012929506307500999', 'position': 6}, {'token': ':', 'token_id': 25, 'type': 'input', 'value': '0.014260943297966091', 'position': 7}, {'token': '\\n', 'token_id': 198, 'type': 'input', 'value': '0.017086668795426044', 'position': 8}, {'token': '1', 'token_id': 16, 'type': 'input', 'value': '0.019387591491757786', 'position': 9}, {'token': '.', 'token_id': 13, 'type': 'input', 'value': '0.016026617773618686', 'position': 10}, {'token': ' Austria', 'token_id': 17322, 'type': 'input', 'value': '0.06766104220668934', 'position': 11}, {'token': '\\n', 'token_id': 198, 'type': 'input', 'value': '0.022774781749590432', 'position': 12}, {'token': '2', 'token_id': 17, 'type': 'input', 'value': '0.019296270877402395', 'position': 13}, {'token': '.', 'token_id': 13, 'type': 'input', 'value': '0.01601405948123802', 'position': 14}, {'token': ' Belgium', 'token_id': 15664, 'type': 'input', 'value': '0.1398377090413261', 'position': 15}, {'token': '\\n', 'token_id': 198, 'type': 'input', 'value': '0.02137675210777378', 'position': 16}, {'token': '3', 'token_id': 18, 'type': 'input', 'value': '0.02720419308791417', 'position': 17}, {'token': '.', 'token_id': 13, 'type': 'input', 'value': '0.023941240871536665', 'position': 18}, {'token': ' Bulgaria', 'token_id': 27902, 'type': 'input', 'value': '0.2932200319515127', 'position': 19}, {'token': '\\n', 'token_id': 198, 'type': 'input', 'value': '0.02523379879630895', 'position': 20}, {'token': '4', 'token_id': 19, 'type': 'input', 'value': '0.04335268255979804', 'position': 21}, {'token': '.', 'token_id': 13, 'type': 'input', 'value': '0.045112190511846485', 'position': 22}, {'token': ' Finland', 'token_id': 17837, 'type': 'output', 'value': '0', 'position': 23}, {'token': '\\n', 'token_id': 198, 'type': 'output', 'value': '0', 'position': 24}, {'token': '5', 'token_id': 20, 'type': 'output', 'value': '0', 'position': 25}, {'token': '.', 'token_id': 13, 'type': 'output', 'value': '0', 'position': 26}, {'token': ' Hungary', 'token_id': 19562, 'type': 'output', 'value': '0', 'position': 27}, {'token': '\\n', 'token_id': 198, 'type': 'output', 'value': '0', 'position': 28}, {'token': '6', 'token_id': 21, 'type': 'output', 'value': '0', 'position': 29}, {'token': '.', 'token_id': 13, 'type': 'output', 'value': '0', 'position': 30}, {'token': ' Latvia', 'token_id': 35794, 'type': 'output', 'value': '0', 'position': 31}, {'token': '\\n', 'token_id': 198, 'type': 'output', 'value': '0', 'position': 32}, {'token': '7', 'token_id': 22, 'type': 'output', 'value': '0', 'position': 33}, {'token': '.', 'token_id': 13, 'type': 'output', 'value': '0', 'position': 34}, {'token': ' Lie', 'token_id': 12060, 'type': 'output', 'value': '0', 'position': 35}, {'token': 'ch', 'token_id': 354, 'type': 'output', 'value': '0', 'position': 36}, {'token': 'ten', 'token_id': 1452, 'type': 'output', 'value': '0', 'position': 37}, {'token': 'stein', 'token_id': 5714, 'type': 'output', 'value': '0', 'position': 38}, {'token': '\\n', 'token_id': 198, 'type': 'output', 'value': '0', 'position': 39}, {'token': '8', 'token_id': 23, 'type': 'output', 'value': '0', 'position': 40}, {'token': '.', 'token_id': 13, 'type': 'output', 'value': '0', 'position': 41}, {'token': ' France', 'token_id': 4881, 'type': 'output', 'value': '0', 'position': 42}], 'attributions': [[0.03578387559468764, 0.03826652089343616, 0.018679703503287976, 0.0110723533198729, 0.04387595962062974, 0.027605506158878964, 0.012929506307500999, 0.014260943297966091, 0.017086668795426044, 0.019387591491757786, 0.016026617773618686, 0.06766104220668934, 0.022774781749590432, 0.019296270877402395, 0.01601405948123802, 0.1398377090413261, 0.02137675210777378, 0.02720419308791417, 0.023941240871536665, 0.2932200319515127, 0.02523379879630895, 0.04335268255979804, 0.045112190511846485], [0.0737673460318256, 0.04264460717775993, 0.03801003983826169, 0.029173426041654366, 0.040872049102370404, 0.03677390343408311, 0.022491662875001386, 0.029177233230331008, 0.03549723872612018, 0.030037895184823374, 0.02351356064314509, 0.06240971507869467, 0.05335917390542159, 0.030385283445203647, 0.021009166705060898, 0.07151104105699711, 0.05895666893969076, 0.025189027313504073, 0.01773047897770848, 0.07007163634504399, 0.05947772428823874, 0.021673073529251855, 0.019396421822010845, 0.08687162630779716], [0.03348897932409145, 0.03030622938516632, 0.06350428885010898, 0.01894180345495933, 0.026876198865550757, 0.02561663871078608, 0.02430421692138512, 0.020525521045089635, 0.025593113412692596, 0.07473927112148628, 0.028977180744896094, 0.025545211649285693, 0.02336090666199712, 0.14047731581225623, 0.012746049110765795, 0.015308136733044448, 0.02117384585471187, 0.09159866683508443, 0.010146874883541117, 0.020926700866536224, 0.02271158929166675, 0.17185963067070142, 0.011857230856802483, 0.04580716087997195, 0.013607238057421967], [0.08308606955085093, 0.046278650795536315, 0.03453459132348115, 0.02455769786152241, 0.035632537147673435, 0.03171183958758333, 0.025203285598866525, 0.027692457058545093, 0.027913210044778685, 0.02825078272530757, 0.02782247748188496, 0.028927504513238802, 0.029990845208303255, 0.034563200551775745, 0.03370734124709637, 0.029735665001905418, 0.029080216733220463, 0.04259352098211992, 0.037033148841038394, 0.02857353486702486, 0.03200027808155398, 0.06978503958549569, 0.06454510280991123, 0.02853835738301234, 0.036309281794068234, 0.08193336322420487], [0.031195484065558332, 0.03520578794275884, 0.011497384563836383, 0.010780285542369638, 0.043425619164491676, 0.023389300986001556, 0.009338501674366445, 0.014339170672364383, 0.014151577623043664, 0.012689059596112705, 0.011814986486938767, 0.060698716472733366, 0.012056098005303464, 0.013725234338784472, 0.010883899092302536, 0.05495535087180547, 0.013857003616881483, 0.017128144889993153, 0.014063280320476887, 0.13120852419652065, 0.013114122867888501, 0.020915591901834348, 0.01801037837902401, 0.3096844496427069, 0.025212345874253736, 0.03553478362735151, 0.03112491758429709], [0.06300195428039353, 0.041955647413478354, 0.0367462207829311, 0.028859547291929372, 0.03891802237274859, 0.034326557197632765, 0.022162847750074908, 0.02726940572575174, 0.036118643737142096, 0.025791349790315242, 0.020126137645555372, 0.047753616352761805, 0.043475723450024296, 0.02557291643121647, 0.017238300494046208, 0.05175278303667829, 0.04699506690335655, 0.023058570634877058, 0.016820232224492613, 0.06025156938541557, 0.05046921826605366, 0.016963503863075623, 0.013029081759867462, 0.04106538570009531, 0.05292176047951468, 0.02044579374236355, 0.01861345639974658, 0.07829668688846128], [0.03151923649094562, 0.03554594343439776, 0.04669392126118616, 0.01642851139929467, 0.025332781202463378, 0.022523130827947987, 0.022160140805643536, 0.020546706410562537, 0.023183860165328418, 0.049925429333824434, 0.025418175939556666, 0.02649086841740522, 0.020665678283326404, 0.08696756823274097, 0.013441357912947966, 0.02127403438758297, 0.01932257582315955, 0.06548087209485168, 0.011631467171798249, 0.02944505304179317, 0.020917632346048164, 0.09559288262558512, 0.012316278798094474, 0.028507666553405718, 0.026022125067445084, 0.13628989996619004, 0.013544103286022484, 0.03607803339407768, 0.016734065326373844], [0.0706648006955891, 0.04285261118224976, 0.03193743381979539, 0.021955998634215074, 0.033471746723770054, 0.0292218298756794, 0.020857906860733407, 0.02370713382259769, 0.02327543910899467, 0.023827816545396067, 0.024185042430764442, 0.025102156287361628, 0.023383086492288385, 0.028439966682192567, 0.02815592094987488, 0.02646233231505638, 0.02191689470537357, 0.03148231847067751, 0.027791812513269187, 0.02533020542331518, 0.022762521372353853, 0.04616973418814464, 0.04508926552335921, 0.024883061146706416, 0.024377654815629108, 0.03680973085522251, 0.03386423649804929, 0.030502568105529464, 0.04781066131062609, 0.10370811264518491], [0.025333438791108255, 0.032893897636256164, 0.009171564017538835, 0.007281270651592604, 0.03513674376451047, 0.020512034354783742, 0.008535496792743133, 0.009989271277334328, 0.01189654399290972, 0.011872027272163034, 0.01199299530840715, 0.04625610392048747, 0.010225138089294688, 0.012276159470179585, 0.012535664517684352, 0.03470775181348664, 0.010076530173109149, 0.010556966512304419, 0.012405248256102255, 0.05799431086489804, 0.01429547863992062, 0.018706048334109424, 0.016042684121533545, 0.08490861485470738, 0.012569169012396108, 0.022457533388597357, 0.017707674750108846, 0.306537485264465, 0.02075383161482145, 0.0474607378086618, 0.04691158473378438], [0.057628944306974024, 0.038155292120281535, 0.03205245658848673, 0.027309003053969834, 0.03546727911155474, 0.030070693565853963, 0.020434032813035817, 0.02441365121093913, 0.03230021048417757, 0.022199030192852298, 0.017205160111114816, 0.036582049262380525, 0.03451852782823382, 0.023343573068672258, 0.01569141351424626, 0.04139818773670183, 0.03818610836663797, 0.022369512321615177, 0.01686208958279036, 0.0529307468692449, 0.04419634917634332, 0.020932520153245742, 0.014589224476803678, 0.04068053419991844, 0.04480526587197706, 0.01455151780141275, 0.010934556918757153, 0.027158099930771635, 0.03635679455777693, 0.017375103583075823, 0.017978864933962554, 0.09132320628619126], [0.028049534822319373, 0.02484193045881094, 0.04643861971373695, 0.015391667158115593, 0.024518512774059684, 0.020816572078321695, 0.019301738679866526, 0.017704620710649453, 0.020949832763744174, 0.04535206546681696, 0.02515277018369129, 0.01934423269875221, 0.017239171830398275, 0.08439628193544253, 0.015558561912785847, 0.014652329555788421, 0.01474635047839486, 0.06842064480575681, 0.009585268040028804, 0.01913023216506157, 0.012665754146125007, 0.07391071263705071, 0.0072391077247226645, 0.022778086479738016, 0.01221950097052115, 0.07929168688713677, 0.007452342852019233, 0.018004796900293513, 0.01555668298600209, 0.14459737491911753, 0.00563204674474616, 0.03739974844253947, 0.011661220077445624], [0.05697224043287105, 0.03475408465096933, 0.026871672171057223, 0.019029551683041237, 0.027634428769908317, 0.0247720930781497, 0.019485177237588806, 0.02076890484823611, 0.024163103746346677, 0.019877024936032467, 0.023034151621457236, 0.024029979472253715, 0.023654258346663553, 0.026840565447294185, 0.023734563821443712, 0.02401189148693535, 0.021103410140466856, 0.025157207025617547, 0.02212507241224878, 0.024059994160342203, 0.021263619551041016, 0.034889499120489845, 0.031448217980226456, 0.02556557413475759, 0.02596228555610084, 0.04606491308881093, 0.04855352889327623, 0.024665233309666156, 0.022182575831085554, 0.032248601175809265, 0.033067339820064635, 0.03144892734130479, 0.03846444424588552, 0.07209586446255706], [0.03018289010478335, 0.03483246691034756, 0.011290965625126072, 0.008381225365067064, 0.036508433100394685, 0.025500643523749845, 0.011212596962238638, 0.01166196885750006, 0.013509782822873469, 0.016622688996750044, 0.013083902494695593, 0.07269051728395744, 0.012883739408868198, 0.012948726249031985, 0.01066550125789325, 0.062465548659795075, 0.009524731478620919, 0.012944880829791911, 0.011375025478540184, 0.07261463433429662, 0.01393300571092022, 0.011618236772495722, 0.00973179939800234, 0.07706693213605986, 0.013909789382392755, 0.012933259611409304, 0.009009739683370401, 0.055404467389832325, 0.017595292966256396, 0.01629074498236786, 0.01489610453055374, 0.15855482337871005, 0.030512725957092028, 0.0401738892275226, 0.02746831912869239], [0.03225938879699388, 0.0386075913022526, 0.015621469409871006, 0.012366476754415557, 0.02851901128064368, 0.022577373267491582, 0.011374894571979155, 0.01135546386608848, 0.012469652332064582, 0.011220688519452456, 0.01504017531999929, 0.0510678216603312, 0.01057981139693407, 0.013112459800355695, 0.014503588354849606, 0.05047537048963392, 0.009494692287015822, 0.01124887345084484, 0.011670037147777864, 0.043348531187061994, 0.00889684446345384, 0.011229272042634237, 0.008884828578551695, 0.025219259297709327, 0.0124076362379526, 0.01339496162741461, 0.010368965917775025, 0.032380023224035596, 0.017976895402741062, 0.024128706169800184, 0.017943015616009386, 0.041083361138993565, 0.019849436850430398, 0.03076479937421545, 0.05689308059316172, 0.24166554226906398], [0.030169287467273483, 0.03316031110036324, 0.013597772632087042, 0.011678813230381143, 0.018139005627612063, 0.017326360801050007, 0.010644186630111595, 0.01122780342428799, 0.013669682474785132, 0.013253730279663081, 0.012165843782478352, 0.025303588789135904, 0.01192539643132687, 0.010503912004954449, 0.009864345826897733, 0.026454174381872222, 0.009932253911759358, 0.008792608108860319, 0.00903010803313042, 0.01765645576703783, 0.0097433803354821, 0.008762379037370689, 0.009212481826415712, 0.018289167909414834, 0.010972342755961408, 0.010264356478321655, 0.009577602455626595, 0.02168617610767522, 0.01271462053343671, 0.01702643413247472, 0.012625726608963559, 0.03425503297145349, 0.021590121330097658, 0.030667830626889027, 0.04363102756676489, 0.2168845662176814, 0.19760111240090214], [0.029820918876545522, 0.01870674004239087, 0.008514226146172863, 0.007419067462155087, 0.02329420691360321, 0.03445596743514965, 0.008261264683566234, 0.007617201978801766, 0.009046721557356674, 0.007820612696236668, 0.0064649224651624985, 0.017418005283330668, 0.007397887846568261, 0.008519723930262743, 0.005870724874376146, 0.016455241922125347, 0.007246423948626682, 0.007557926120929527, 0.005740584247556325, 0.01240570533183547, 0.007765437561793287, 0.008060929530935363, 0.00653218112524622, 0.014917801855586374, 0.009406203987885392, 0.009721401399500064, 0.008325929877972493, 0.015808406409468807, 0.01294471130556363, 0.01586844356381495, 0.01098670023712589, 0.028250153130029907, 0.021710563874676517, 0.027169824701258234, 0.0373257317156903, 0.16330659286708102, 0.08887933949134061, 0.2629855736022787], [0.029835880660620106, 0.02239451132621461, 0.01720278070275596, 0.01556816078516189, 0.021791879592931766, 0.01981992570786352, 0.009980150792561582, 0.013027179790512555, 0.016270494636102657, 0.009919954689005256, 0.008976996990803123, 0.020684996836706857, 0.01413801265189456, 0.010579346513103377, 0.009643319060909412, 0.0233527765695812, 0.01665495349433051, 0.011176461525439224, 0.011987842537941967, 0.024074604613818225, 0.01919511198154516, 0.011926252471308884, 0.012898105710444694, 0.02278051589325665, 0.019899719789851878, 0.013423201784954035, 0.01142790279392397, 0.023400023922013537, 0.019335122350072703, 0.014955826073387407, 0.01114484554622993, 0.032954469846694326, 0.025819621568228004, 0.01653719041786242, 0.030133276690940416, 0.1289296541626392, 0.037448306756121215, 0.06678333918705948, 0.1539272835752077], [0.02211768044341157, 0.022320566369431184, 0.03222178580398535, 0.01315744957980344, 0.01790213545936826, 0.017731295923779946, 0.014387689963578266, 0.01310829872991174, 0.016817225374501376, 0.029904489611871487, 0.017388358750531248, 0.01534064915309263, 0.013392993082131769, 0.054669574754418984, 0.011027931293844726, 0.014975723278493001, 0.011332363495648649, 0.03494275424577202, 0.007873365924579113, 0.017576955339588248, 0.009638128519013347, 0.04727427324678628, 0.00673660715000979, 0.012597645303761205, 0.010873434997280357, 0.056181956686608796, 0.007485669334302872, 0.012725092514037277, 0.011640566832736454, 0.0774891421540022, 0.007960302123511905, 0.046022347748603525, 0.015739208535885976, 0.1902474053971818, 0.007690799201466914, 0.027441514423885816, 0.009423790947388825, 0.017879351325519814, 0.016988980642349705, 0.009774496337924184], [0.04795486368753302, 0.03181073768601062, 0.02357413771721477, 0.01837904874429593, 0.02870011946016617, 0.025292894005381296, 0.014915268444822558, 0.01575910244824763, 0.015978515677218825, 0.012904932973377007, 0.014792433432620636, 0.01826277406865913, 0.012990701385943942, 0.015320104995290827, 0.014979048755010552, 0.019105339214214066, 0.012210105406916765, 0.015788950392256303, 0.01321732505720008, 0.01861913417447274, 0.012749299612353744, 0.019309039173425226, 0.01948952570366197, 0.020437959526120483, 0.01340203348172502, 0.019625266273554914, 0.021092631097532663, 0.023692349666973325, 0.01877581664110319, 0.029967106441084197, 0.030332855090860898, 0.028658594918154846, 0.023907954415220124, 0.026156319349029268, 0.027664650897575197, 0.035356967927607744, 0.025760242827388872, 0.03187889057151685, 0.03463429355936174, 0.0536265090019339, 0.09292615609696311], [0.028176961999989748, 0.03281062242067133, 0.011592315983214564, 0.008000584562775082, 0.028963861378527175, 0.020930541316836762, 0.00925110906335541, 0.01378324849504808, 0.015976931424623083, 0.014956209469612044, 0.010406266454692748, 0.0597529255950078, 0.00941229523567176, 0.01063313023682017, 0.009649582043274789, 0.0553041412426026, 0.009170567882073674, 0.008965303543506484, 0.008574552240221323, 0.05331071252392794, 0.007998236575654285, 0.011530151641514387, 0.007302245143086706, 0.028283625707277146, 0.009012085900852434, 0.01033257306429387, 0.00702314961536644, 0.040816867318870215, 0.014630070278991504, 0.015759057875562987, 0.011618001035723476, 0.0791300673662142, 0.02155869282118809, 0.018312109094675476, 0.019143525780051115, 0.0833146675825172, 0.010569596849965415, 0.013170782322665242, 0.016106073526435435, 0.0346623431742991, 0.07817413559164467, 0.04193007862069788]]},\n",
       "                preset: 'viridis'\n",
       "             })\n",
       "\n",
       "             window.ecco[viz_id].init();\n",
       "             window.ecco[viz_id].selectFirstToken();\n",
       "\n",
       "             }, function (err) {\n",
       "                console.log(err);\n",
       "            })"
      ],
      "text/plain": [
       "<IPython.core.display.Javascript object>"
      ]
     },
     "metadata": {},
     "output_type": "display_data"
    }
   ],
   "source": [
    "output.saliency(attr_method='integrated_gradients')"
   ]
  },
  {
   "cell_type": "code",
   "execution_count": 9,
   "metadata": {},
   "outputs": [
    {
     "data": {
      "text/html": [
       "<html lang=\"en\">\n",
       "<script src=\"https://requirejs.org/docs/release/2.3.6/minified/require.js\"></script>\n",
       "<script>\n",
       "    var ecco_url = 'https://storage.googleapis.com/ml-intro/ecco/'\n",
       "    // var ecco_url = 'http://localhost:8000/ecco/'\n",
       "\n",
       "    if (window.ecco === undefined) window.ecco = {}\n",
       "\n",
       "    requirejs.config({\n",
       "        urlArgs: \"bust=\" + (new Date()).getTime(),\n",
       "        nodeRequire: require,\n",
       "        paths: {\n",
       "            d3: \"https://d3js.org/d3.v5.min\",\n",
       "            \"d3-array\": \"https://d3js.org/d3-array.v2.min\",\n",
       "            jquery: \"https://code.jquery.com/jquery-3.5.1.min\",\n",
       "            // oldEcco: ecco_url + 'ecco',\n",
       "            ecco: ecco_url + 'js/0.0.4/ecco-bundle.min',\n",
       "            xregexp: 'https://cdnjs.cloudflare.com/ajax/libs/xregexp/3.2.0/xregexp-all.min'\n",
       "        }\n",
       "    });\n",
       "    requirejs(['d3'],\n",
       "        function (d3) {\n",
       "            d3.select('#css').attr('href', ecco_url + 'html/styles.css')\n",
       "        })\n",
       "\n",
       "    console.log('Ecco initialize.')\n",
       "</script>\n",
       "\n",
       "<head>\n",
       "    <link id='css' rel=\"stylesheet\" type=\"text/css\">\n",
       "</head>\n"
      ],
      "text/plain": [
       "<IPython.core.display.HTML object>"
      ]
     },
     "metadata": {},
     "output_type": "display_data"
    },
    {
     "data": {
      "text/html": [
       "<script>\n",
       "    // console.log('defining basic')\n",
       "    define('basic', ['d3'],\n",
       "        function (d3) {\n",
       "            return {\n",
       "                init: function (viz_id = null) {\n",
       "\n",
       "                    // console.log('basic init')\n",
       "                    if (viz_id == null){\n",
       "                        viz_id = \"viz_\" + Math.round(Math.random() * 10000000)\n",
       "                    }\n",
       "                    const div = d3.select('#basic').attr('id', viz_id),\n",
       "                        div_parent = d3.select('#' + viz_id).node().parentNode\n",
       "\n",
       "                    // Link to CSS file\n",
       "                    d3.select(div_parent).insert('link')\n",
       "                        .attr('rel', 'stylesheet')\n",
       "                        .attr('type', 'text/css')\n",
       "                        .attr('href', ecco_url + 'html/styles.css')\n",
       "\n",
       "                    return viz_id\n",
       "                }\n",
       "            }\n",
       "        }, function (err) {console.log(err);}\n",
       "    )\n",
       "    // console.log('after defining basic')\n",
       "\n",
       "</script>\n",
       "<div id=\"basic\"></div>\n"
      ],
      "text/plain": [
       "<IPython.core.display.HTML object>"
      ]
     },
     "metadata": {},
     "output_type": "display_data"
    },
    {
     "data": {
      "application/javascript": [
       "\n",
       "             requirejs(['basic', 'ecco'], function(basic, ecco){\n",
       "                const viz_id = basic.init()\n",
       "                window.ecco[viz_id] = ecco.interactiveTokens(viz_id, {'tokens': [{'token': 'The', 'token_id': 464, 'type': 'input', 'value': '0.03578387559468764', 'position': 0}, {'token': ' countries', 'token_id': 2678, 'type': 'input', 'value': '0.03826652089343616', 'position': 1}, {'token': ' of', 'token_id': 286, 'type': 'input', 'value': '0.018679703503287976', 'position': 2}, {'token': ' the', 'token_id': 262, 'type': 'input', 'value': '0.0110723533198729', 'position': 3}, {'token': ' European', 'token_id': 3427, 'type': 'input', 'value': '0.04387595962062974', 'position': 4}, {'token': ' Union', 'token_id': 4479, 'type': 'input', 'value': '0.027605506158878964', 'position': 5}, {'token': ' are', 'token_id': 389, 'type': 'input', 'value': '0.012929506307500999', 'position': 6}, {'token': ':', 'token_id': 25, 'type': 'input', 'value': '0.014260943297966091', 'position': 7}, {'token': '\\n', 'token_id': 198, 'type': 'input', 'value': '0.017086668795426044', 'position': 8}, {'token': '1', 'token_id': 16, 'type': 'input', 'value': '0.019387591491757786', 'position': 9}, {'token': '.', 'token_id': 13, 'type': 'input', 'value': '0.016026617773618686', 'position': 10}, {'token': ' Austria', 'token_id': 17322, 'type': 'input', 'value': '0.06766104220668934', 'position': 11}, {'token': '\\n', 'token_id': 198, 'type': 'input', 'value': '0.022774781749590432', 'position': 12}, {'token': '2', 'token_id': 17, 'type': 'input', 'value': '0.019296270877402395', 'position': 13}, {'token': '.', 'token_id': 13, 'type': 'input', 'value': '0.01601405948123802', 'position': 14}, {'token': ' Belgium', 'token_id': 15664, 'type': 'input', 'value': '0.1398377090413261', 'position': 15}, {'token': '\\n', 'token_id': 198, 'type': 'input', 'value': '0.02137675210777378', 'position': 16}, {'token': '3', 'token_id': 18, 'type': 'input', 'value': '0.02720419308791417', 'position': 17}, {'token': '.', 'token_id': 13, 'type': 'input', 'value': '0.023941240871536665', 'position': 18}, {'token': ' Bulgaria', 'token_id': 27902, 'type': 'input', 'value': '0.2932200319515127', 'position': 19}, {'token': '\\n', 'token_id': 198, 'type': 'input', 'value': '0.02523379879630895', 'position': 20}, {'token': '4', 'token_id': 19, 'type': 'input', 'value': '0.04335268255979804', 'position': 21}, {'token': '.', 'token_id': 13, 'type': 'input', 'value': '0.045112190511846485', 'position': 22}, {'token': ' Finland', 'token_id': 17837, 'type': 'output', 'value': '0', 'position': 23}, {'token': '\\n', 'token_id': 198, 'type': 'output', 'value': '0', 'position': 24}, {'token': '5', 'token_id': 20, 'type': 'output', 'value': '0', 'position': 25}, {'token': '.', 'token_id': 13, 'type': 'output', 'value': '0', 'position': 26}, {'token': ' Hungary', 'token_id': 19562, 'type': 'output', 'value': '0', 'position': 27}, {'token': '\\n', 'token_id': 198, 'type': 'output', 'value': '0', 'position': 28}, {'token': '6', 'token_id': 21, 'type': 'output', 'value': '0', 'position': 29}, {'token': '.', 'token_id': 13, 'type': 'output', 'value': '0', 'position': 30}, {'token': ' Latvia', 'token_id': 35794, 'type': 'output', 'value': '0', 'position': 31}, {'token': '\\n', 'token_id': 198, 'type': 'output', 'value': '0', 'position': 32}, {'token': '7', 'token_id': 22, 'type': 'output', 'value': '0', 'position': 33}, {'token': '.', 'token_id': 13, 'type': 'output', 'value': '0', 'position': 34}, {'token': ' Lie', 'token_id': 12060, 'type': 'output', 'value': '0', 'position': 35}, {'token': 'ch', 'token_id': 354, 'type': 'output', 'value': '0', 'position': 36}, {'token': 'ten', 'token_id': 1452, 'type': 'output', 'value': '0', 'position': 37}, {'token': 'stein', 'token_id': 5714, 'type': 'output', 'value': '0', 'position': 38}, {'token': '\\n', 'token_id': 198, 'type': 'output', 'value': '0', 'position': 39}, {'token': '8', 'token_id': 23, 'type': 'output', 'value': '0', 'position': 40}, {'token': '.', 'token_id': 13, 'type': 'output', 'value': '0', 'position': 41}, {'token': ' France', 'token_id': 4881, 'type': 'output', 'value': '0', 'position': 42}], 'attributions': [[0.03578387559468764, 0.03826652089343616, 0.018679703503287976, 0.0110723533198729, 0.04387595962062974, 0.027605506158878964, 0.012929506307500999, 0.014260943297966091, 0.017086668795426044, 0.019387591491757786, 0.016026617773618686, 0.06766104220668934, 0.022774781749590432, 0.019296270877402395, 0.01601405948123802, 0.1398377090413261, 0.02137675210777378, 0.02720419308791417, 0.023941240871536665, 0.2932200319515127, 0.02523379879630895, 0.04335268255979804, 0.045112190511846485], [0.0737673460318256, 0.04264460717775993, 0.03801003983826169, 0.029173426041654366, 0.040872049102370404, 0.03677390343408311, 0.022491662875001386, 0.029177233230331008, 0.03549723872612018, 0.030037895184823374, 0.02351356064314509, 0.06240971507869467, 0.05335917390542159, 0.030385283445203647, 0.021009166705060898, 0.07151104105699711, 0.05895666893969076, 0.025189027313504073, 0.01773047897770848, 0.07007163634504399, 0.05947772428823874, 0.021673073529251855, 0.019396421822010845, 0.08687162630779716], [0.03348897932409145, 0.03030622938516632, 0.06350428885010898, 0.01894180345495933, 0.026876198865550757, 0.02561663871078608, 0.02430421692138512, 0.020525521045089635, 0.025593113412692596, 0.07473927112148628, 0.028977180744896094, 0.025545211649285693, 0.02336090666199712, 0.14047731581225623, 0.012746049110765795, 0.015308136733044448, 0.02117384585471187, 0.09159866683508443, 0.010146874883541117, 0.020926700866536224, 0.02271158929166675, 0.17185963067070142, 0.011857230856802483, 0.04580716087997195, 0.013607238057421967], [0.08308606955085093, 0.046278650795536315, 0.03453459132348115, 0.02455769786152241, 0.035632537147673435, 0.03171183958758333, 0.025203285598866525, 0.027692457058545093, 0.027913210044778685, 0.02825078272530757, 0.02782247748188496, 0.028927504513238802, 0.029990845208303255, 0.034563200551775745, 0.03370734124709637, 0.029735665001905418, 0.029080216733220463, 0.04259352098211992, 0.037033148841038394, 0.02857353486702486, 0.03200027808155398, 0.06978503958549569, 0.06454510280991123, 0.02853835738301234, 0.036309281794068234, 0.08193336322420487], [0.031195484065558332, 0.03520578794275884, 0.011497384563836383, 0.010780285542369638, 0.043425619164491676, 0.023389300986001556, 0.009338501674366445, 0.014339170672364383, 0.014151577623043664, 0.012689059596112705, 0.011814986486938767, 0.060698716472733366, 0.012056098005303464, 0.013725234338784472, 0.010883899092302536, 0.05495535087180547, 0.013857003616881483, 0.017128144889993153, 0.014063280320476887, 0.13120852419652065, 0.013114122867888501, 0.020915591901834348, 0.01801037837902401, 0.3096844496427069, 0.025212345874253736, 0.03553478362735151, 0.03112491758429709], [0.06300195428039353, 0.041955647413478354, 0.0367462207829311, 0.028859547291929372, 0.03891802237274859, 0.034326557197632765, 0.022162847750074908, 0.02726940572575174, 0.036118643737142096, 0.025791349790315242, 0.020126137645555372, 0.047753616352761805, 0.043475723450024296, 0.02557291643121647, 0.017238300494046208, 0.05175278303667829, 0.04699506690335655, 0.023058570634877058, 0.016820232224492613, 0.06025156938541557, 0.05046921826605366, 0.016963503863075623, 0.013029081759867462, 0.04106538570009531, 0.05292176047951468, 0.02044579374236355, 0.01861345639974658, 0.07829668688846128], [0.03151923649094562, 0.03554594343439776, 0.04669392126118616, 0.01642851139929467, 0.025332781202463378, 0.022523130827947987, 0.022160140805643536, 0.020546706410562537, 0.023183860165328418, 0.049925429333824434, 0.025418175939556666, 0.02649086841740522, 0.020665678283326404, 0.08696756823274097, 0.013441357912947966, 0.02127403438758297, 0.01932257582315955, 0.06548087209485168, 0.011631467171798249, 0.02944505304179317, 0.020917632346048164, 0.09559288262558512, 0.012316278798094474, 0.028507666553405718, 0.026022125067445084, 0.13628989996619004, 0.013544103286022484, 0.03607803339407768, 0.016734065326373844], [0.0706648006955891, 0.04285261118224976, 0.03193743381979539, 0.021955998634215074, 0.033471746723770054, 0.0292218298756794, 0.020857906860733407, 0.02370713382259769, 0.02327543910899467, 0.023827816545396067, 0.024185042430764442, 0.025102156287361628, 0.023383086492288385, 0.028439966682192567, 0.02815592094987488, 0.02646233231505638, 0.02191689470537357, 0.03148231847067751, 0.027791812513269187, 0.02533020542331518, 0.022762521372353853, 0.04616973418814464, 0.04508926552335921, 0.024883061146706416, 0.024377654815629108, 0.03680973085522251, 0.03386423649804929, 0.030502568105529464, 0.04781066131062609, 0.10370811264518491], [0.025333438791108255, 0.032893897636256164, 0.009171564017538835, 0.007281270651592604, 0.03513674376451047, 0.020512034354783742, 0.008535496792743133, 0.009989271277334328, 0.01189654399290972, 0.011872027272163034, 0.01199299530840715, 0.04625610392048747, 0.010225138089294688, 0.012276159470179585, 0.012535664517684352, 0.03470775181348664, 0.010076530173109149, 0.010556966512304419, 0.012405248256102255, 0.05799431086489804, 0.01429547863992062, 0.018706048334109424, 0.016042684121533545, 0.08490861485470738, 0.012569169012396108, 0.022457533388597357, 0.017707674750108846, 0.306537485264465, 0.02075383161482145, 0.0474607378086618, 0.04691158473378438], [0.057628944306974024, 0.038155292120281535, 0.03205245658848673, 0.027309003053969834, 0.03546727911155474, 0.030070693565853963, 0.020434032813035817, 0.02441365121093913, 0.03230021048417757, 0.022199030192852298, 0.017205160111114816, 0.036582049262380525, 0.03451852782823382, 0.023343573068672258, 0.01569141351424626, 0.04139818773670183, 0.03818610836663797, 0.022369512321615177, 0.01686208958279036, 0.0529307468692449, 0.04419634917634332, 0.020932520153245742, 0.014589224476803678, 0.04068053419991844, 0.04480526587197706, 0.01455151780141275, 0.010934556918757153, 0.027158099930771635, 0.03635679455777693, 0.017375103583075823, 0.017978864933962554, 0.09132320628619126], [0.028049534822319373, 0.02484193045881094, 0.04643861971373695, 0.015391667158115593, 0.024518512774059684, 0.020816572078321695, 0.019301738679866526, 0.017704620710649453, 0.020949832763744174, 0.04535206546681696, 0.02515277018369129, 0.01934423269875221, 0.017239171830398275, 0.08439628193544253, 0.015558561912785847, 0.014652329555788421, 0.01474635047839486, 0.06842064480575681, 0.009585268040028804, 0.01913023216506157, 0.012665754146125007, 0.07391071263705071, 0.0072391077247226645, 0.022778086479738016, 0.01221950097052115, 0.07929168688713677, 0.007452342852019233, 0.018004796900293513, 0.01555668298600209, 0.14459737491911753, 0.00563204674474616, 0.03739974844253947, 0.011661220077445624], [0.05697224043287105, 0.03475408465096933, 0.026871672171057223, 0.019029551683041237, 0.027634428769908317, 0.0247720930781497, 0.019485177237588806, 0.02076890484823611, 0.024163103746346677, 0.019877024936032467, 0.023034151621457236, 0.024029979472253715, 0.023654258346663553, 0.026840565447294185, 0.023734563821443712, 0.02401189148693535, 0.021103410140466856, 0.025157207025617547, 0.02212507241224878, 0.024059994160342203, 0.021263619551041016, 0.034889499120489845, 0.031448217980226456, 0.02556557413475759, 0.02596228555610084, 0.04606491308881093, 0.04855352889327623, 0.024665233309666156, 0.022182575831085554, 0.032248601175809265, 0.033067339820064635, 0.03144892734130479, 0.03846444424588552, 0.07209586446255706], [0.03018289010478335, 0.03483246691034756, 0.011290965625126072, 0.008381225365067064, 0.036508433100394685, 0.025500643523749845, 0.011212596962238638, 0.01166196885750006, 0.013509782822873469, 0.016622688996750044, 0.013083902494695593, 0.07269051728395744, 0.012883739408868198, 0.012948726249031985, 0.01066550125789325, 0.062465548659795075, 0.009524731478620919, 0.012944880829791911, 0.011375025478540184, 0.07261463433429662, 0.01393300571092022, 0.011618236772495722, 0.00973179939800234, 0.07706693213605986, 0.013909789382392755, 0.012933259611409304, 0.009009739683370401, 0.055404467389832325, 0.017595292966256396, 0.01629074498236786, 0.01489610453055374, 0.15855482337871005, 0.030512725957092028, 0.0401738892275226, 0.02746831912869239], [0.03225938879699388, 0.0386075913022526, 0.015621469409871006, 0.012366476754415557, 0.02851901128064368, 0.022577373267491582, 0.011374894571979155, 0.01135546386608848, 0.012469652332064582, 0.011220688519452456, 0.01504017531999929, 0.0510678216603312, 0.01057981139693407, 0.013112459800355695, 0.014503588354849606, 0.05047537048963392, 0.009494692287015822, 0.01124887345084484, 0.011670037147777864, 0.043348531187061994, 0.00889684446345384, 0.011229272042634237, 0.008884828578551695, 0.025219259297709327, 0.0124076362379526, 0.01339496162741461, 0.010368965917775025, 0.032380023224035596, 0.017976895402741062, 0.024128706169800184, 0.017943015616009386, 0.041083361138993565, 0.019849436850430398, 0.03076479937421545, 0.05689308059316172, 0.24166554226906398], [0.030169287467273483, 0.03316031110036324, 0.013597772632087042, 0.011678813230381143, 0.018139005627612063, 0.017326360801050007, 0.010644186630111595, 0.01122780342428799, 0.013669682474785132, 0.013253730279663081, 0.012165843782478352, 0.025303588789135904, 0.01192539643132687, 0.010503912004954449, 0.009864345826897733, 0.026454174381872222, 0.009932253911759358, 0.008792608108860319, 0.00903010803313042, 0.01765645576703783, 0.0097433803354821, 0.008762379037370689, 0.009212481826415712, 0.018289167909414834, 0.010972342755961408, 0.010264356478321655, 0.009577602455626595, 0.02168617610767522, 0.01271462053343671, 0.01702643413247472, 0.012625726608963559, 0.03425503297145349, 0.021590121330097658, 0.030667830626889027, 0.04363102756676489, 0.2168845662176814, 0.19760111240090214], [0.029820918876545522, 0.01870674004239087, 0.008514226146172863, 0.007419067462155087, 0.02329420691360321, 0.03445596743514965, 0.008261264683566234, 0.007617201978801766, 0.009046721557356674, 0.007820612696236668, 0.0064649224651624985, 0.017418005283330668, 0.007397887846568261, 0.008519723930262743, 0.005870724874376146, 0.016455241922125347, 0.007246423948626682, 0.007557926120929527, 0.005740584247556325, 0.01240570533183547, 0.007765437561793287, 0.008060929530935363, 0.00653218112524622, 0.014917801855586374, 0.009406203987885392, 0.009721401399500064, 0.008325929877972493, 0.015808406409468807, 0.01294471130556363, 0.01586844356381495, 0.01098670023712589, 0.028250153130029907, 0.021710563874676517, 0.027169824701258234, 0.0373257317156903, 0.16330659286708102, 0.08887933949134061, 0.2629855736022787], [0.029835880660620106, 0.02239451132621461, 0.01720278070275596, 0.01556816078516189, 0.021791879592931766, 0.01981992570786352, 0.009980150792561582, 0.013027179790512555, 0.016270494636102657, 0.009919954689005256, 0.008976996990803123, 0.020684996836706857, 0.01413801265189456, 0.010579346513103377, 0.009643319060909412, 0.0233527765695812, 0.01665495349433051, 0.011176461525439224, 0.011987842537941967, 0.024074604613818225, 0.01919511198154516, 0.011926252471308884, 0.012898105710444694, 0.02278051589325665, 0.019899719789851878, 0.013423201784954035, 0.01142790279392397, 0.023400023922013537, 0.019335122350072703, 0.014955826073387407, 0.01114484554622993, 0.032954469846694326, 0.025819621568228004, 0.01653719041786242, 0.030133276690940416, 0.1289296541626392, 0.037448306756121215, 0.06678333918705948, 0.1539272835752077], [0.02211768044341157, 0.022320566369431184, 0.03222178580398535, 0.01315744957980344, 0.01790213545936826, 0.017731295923779946, 0.014387689963578266, 0.01310829872991174, 0.016817225374501376, 0.029904489611871487, 0.017388358750531248, 0.01534064915309263, 0.013392993082131769, 0.054669574754418984, 0.011027931293844726, 0.014975723278493001, 0.011332363495648649, 0.03494275424577202, 0.007873365924579113, 0.017576955339588248, 0.009638128519013347, 0.04727427324678628, 0.00673660715000979, 0.012597645303761205, 0.010873434997280357, 0.056181956686608796, 0.007485669334302872, 0.012725092514037277, 0.011640566832736454, 0.0774891421540022, 0.007960302123511905, 0.046022347748603525, 0.015739208535885976, 0.1902474053971818, 0.007690799201466914, 0.027441514423885816, 0.009423790947388825, 0.017879351325519814, 0.016988980642349705, 0.009774496337924184], [0.04795486368753302, 0.03181073768601062, 0.02357413771721477, 0.01837904874429593, 0.02870011946016617, 0.025292894005381296, 0.014915268444822558, 0.01575910244824763, 0.015978515677218825, 0.012904932973377007, 0.014792433432620636, 0.01826277406865913, 0.012990701385943942, 0.015320104995290827, 0.014979048755010552, 0.019105339214214066, 0.012210105406916765, 0.015788950392256303, 0.01321732505720008, 0.01861913417447274, 0.012749299612353744, 0.019309039173425226, 0.01948952570366197, 0.020437959526120483, 0.01340203348172502, 0.019625266273554914, 0.021092631097532663, 0.023692349666973325, 0.01877581664110319, 0.029967106441084197, 0.030332855090860898, 0.028658594918154846, 0.023907954415220124, 0.026156319349029268, 0.027664650897575197, 0.035356967927607744, 0.025760242827388872, 0.03187889057151685, 0.03463429355936174, 0.0536265090019339, 0.09292615609696311], [0.028176961999989748, 0.03281062242067133, 0.011592315983214564, 0.008000584562775082, 0.028963861378527175, 0.020930541316836762, 0.00925110906335541, 0.01378324849504808, 0.015976931424623083, 0.014956209469612044, 0.010406266454692748, 0.0597529255950078, 0.00941229523567176, 0.01063313023682017, 0.009649582043274789, 0.0553041412426026, 0.009170567882073674, 0.008965303543506484, 0.008574552240221323, 0.05331071252392794, 0.007998236575654285, 0.011530151641514387, 0.007302245143086706, 0.028283625707277146, 0.009012085900852434, 0.01033257306429387, 0.00702314961536644, 0.040816867318870215, 0.014630070278991504, 0.015759057875562987, 0.011618001035723476, 0.0791300673662142, 0.02155869282118809, 0.018312109094675476, 0.019143525780051115, 0.0833146675825172, 0.010569596849965415, 0.013170782322665242, 0.016106073526435435, 0.0346623431742991, 0.07817413559164467, 0.04193007862069788]]})\n",
       "\n",
       "             }, function (err) {\n",
       "                console.log(err);\n",
       "            })"
      ],
      "text/plain": [
       "<IPython.core.display.Javascript object>"
      ]
     },
     "metadata": {},
     "output_type": "display_data"
    }
   ],
   "source": [
    "output.saliency(attr_method='integrated_gradients', style=\"detailed\")"
   ]
  },
  {
   "cell_type": "code",
   "execution_count": null,
   "metadata": {},
   "outputs": [],
   "source": []
  }
 ],
 "metadata": {
  "colab": {
   "authorship_tag": "ABX9TyNMd2pM9pAx9vddAE9PqoYa",
   "collapsed_sections": [],
   "include_colab_link": true,
   "name": "Ecco-Input-saliency.ipynb",
   "provenance": []
  },
  "kernelspec": {
   "display_name": "Python 3",
   "language": "python",
   "name": "python3"
  },
  "language_info": {
   "codemirror_mode": {
    "name": "ipython",
    "version": 3
   },
   "file_extension": ".py",
   "mimetype": "text/x-python",
   "name": "python",
   "nbconvert_exporter": "python",
   "pygments_lexer": "ipython3",
   "version": "3.7.12"
  },
  "widgets": {
   "application/vnd.jupyter.widget-state+json": {
    "01e1163950684dc6b7fa868e7b9315a4": {
     "model_module": "@jupyter-widgets/controls",
     "model_name": "HTMLModel",
     "state": {
      "_dom_classes": [],
      "_model_module": "@jupyter-widgets/controls",
      "_model_module_version": "1.5.0",
      "_model_name": "HTMLModel",
      "_view_count": null,
      "_view_module": "@jupyter-widgets/controls",
      "_view_module_version": "1.5.0",
      "_view_name": "HTMLView",
      "description": "",
      "description_tooltip": null,
      "layout": "IPY_MODEL_14dd95b6e25b462e87175be869146d05",
      "placeholder": "​",
      "style": "IPY_MODEL_ff801625f32e452e84c2bcefccabbad3",
      "value": " 1.04M/1.04M [00:00&lt;00:00, 2.09MB/s]"
     }
    },
    "03de4b4c35ce4b3a87f0b06743707c65": {
     "model_module": "@jupyter-widgets/base",
     "model_name": "LayoutModel",
     "state": {
      "_model_module": "@jupyter-widgets/base",
      "_model_module_version": "1.2.0",
      "_model_name": "LayoutModel",
      "_view_count": null,
      "_view_module": "@jupyter-widgets/base",
      "_view_module_version": "1.2.0",
      "_view_name": "LayoutView",
      "align_content": null,
      "align_items": null,
      "align_self": null,
      "border": null,
      "bottom": null,
      "display": null,
      "flex": null,
      "flex_flow": null,
      "grid_area": null,
      "grid_auto_columns": null,
      "grid_auto_flow": null,
      "grid_auto_rows": null,
      "grid_column": null,
      "grid_gap": null,
      "grid_row": null,
      "grid_template_areas": null,
      "grid_template_columns": null,
      "grid_template_rows": null,
      "height": null,
      "justify_content": null,
      "justify_items": null,
      "left": null,
      "margin": null,
      "max_height": null,
      "max_width": null,
      "min_height": null,
      "min_width": null,
      "object_fit": null,
      "object_position": null,
      "order": null,
      "overflow": null,
      "overflow_x": null,
      "overflow_y": null,
      "padding": null,
      "right": null,
      "top": null,
      "visibility": null,
      "width": null
     }
    },
    "0e6405015df340b3bdc58694ebd4ecf4": {
     "model_module": "@jupyter-widgets/base",
     "model_name": "LayoutModel",
     "state": {
      "_model_module": "@jupyter-widgets/base",
      "_model_module_version": "1.2.0",
      "_model_name": "LayoutModel",
      "_view_count": null,
      "_view_module": "@jupyter-widgets/base",
      "_view_module_version": "1.2.0",
      "_view_name": "LayoutView",
      "align_content": null,
      "align_items": null,
      "align_self": null,
      "border": null,
      "bottom": null,
      "display": null,
      "flex": null,
      "flex_flow": null,
      "grid_area": null,
      "grid_auto_columns": null,
      "grid_auto_flow": null,
      "grid_auto_rows": null,
      "grid_column": null,
      "grid_gap": null,
      "grid_row": null,
      "grid_template_areas": null,
      "grid_template_columns": null,
      "grid_template_rows": null,
      "height": null,
      "justify_content": null,
      "justify_items": null,
      "left": null,
      "margin": null,
      "max_height": null,
      "max_width": null,
      "min_height": null,
      "min_width": null,
      "object_fit": null,
      "object_position": null,
      "order": null,
      "overflow": null,
      "overflow_x": null,
      "overflow_y": null,
      "padding": null,
      "right": null,
      "top": null,
      "visibility": null,
      "width": null
     }
    },
    "1198ffa7ad12484f9ac4048835321335": {
     "model_module": "@jupyter-widgets/controls",
     "model_name": "FloatProgressModel",
     "state": {
      "_dom_classes": [],
      "_model_module": "@jupyter-widgets/controls",
      "_model_module_version": "1.5.0",
      "_model_name": "FloatProgressModel",
      "_view_count": null,
      "_view_module": "@jupyter-widgets/controls",
      "_view_module_version": "1.5.0",
      "_view_name": "ProgressView",
      "bar_style": "success",
      "description": "Downloading: 100%",
      "description_tooltip": null,
      "layout": "IPY_MODEL_ea23401f422c4201a2ccd2a45c426d52",
      "max": 762,
      "min": 0,
      "orientation": "horizontal",
      "style": "IPY_MODEL_9254b1b515654fe9be6ffc08c2b15e4b",
      "value": 762
     }
    },
    "14dd95b6e25b462e87175be869146d05": {
     "model_module": "@jupyter-widgets/base",
     "model_name": "LayoutModel",
     "state": {
      "_model_module": "@jupyter-widgets/base",
      "_model_module_version": "1.2.0",
      "_model_name": "LayoutModel",
      "_view_count": null,
      "_view_module": "@jupyter-widgets/base",
      "_view_module_version": "1.2.0",
      "_view_name": "LayoutView",
      "align_content": null,
      "align_items": null,
      "align_self": null,
      "border": null,
      "bottom": null,
      "display": null,
      "flex": null,
      "flex_flow": null,
      "grid_area": null,
      "grid_auto_columns": null,
      "grid_auto_flow": null,
      "grid_auto_rows": null,
      "grid_column": null,
      "grid_gap": null,
      "grid_row": null,
      "grid_template_areas": null,
      "grid_template_columns": null,
      "grid_template_rows": null,
      "height": null,
      "justify_content": null,
      "justify_items": null,
      "left": null,
      "margin": null,
      "max_height": null,
      "max_width": null,
      "min_height": null,
      "min_width": null,
      "object_fit": null,
      "object_position": null,
      "order": null,
      "overflow": null,
      "overflow_x": null,
      "overflow_y": null,
      "padding": null,
      "right": null,
      "top": null,
      "visibility": null,
      "width": null
     }
    },
    "2d5ded1ce3034928b9675c598f5144e6": {
     "model_module": "@jupyter-widgets/controls",
     "model_name": "HBoxModel",
     "state": {
      "_dom_classes": [],
      "_model_module": "@jupyter-widgets/controls",
      "_model_module_version": "1.5.0",
      "_model_name": "HBoxModel",
      "_view_count": null,
      "_view_module": "@jupyter-widgets/controls",
      "_view_module_version": "1.5.0",
      "_view_name": "HBoxView",
      "box_style": "",
      "children": [
       "IPY_MODEL_31a4e3758a474c3da4a49bd5c4c396a4",
       "IPY_MODEL_deaba8a37b4a40e2a5e42c8e4044f5ef"
      ],
      "layout": "IPY_MODEL_03de4b4c35ce4b3a87f0b06743707c65"
     }
    },
    "31a4e3758a474c3da4a49bd5c4c396a4": {
     "model_module": "@jupyter-widgets/controls",
     "model_name": "FloatProgressModel",
     "state": {
      "_dom_classes": [],
      "_model_module": "@jupyter-widgets/controls",
      "_model_module_version": "1.5.0",
      "_model_name": "FloatProgressModel",
      "_view_count": null,
      "_view_module": "@jupyter-widgets/controls",
      "_view_module_version": "1.5.0",
      "_view_name": "ProgressView",
      "bar_style": "success",
      "description": "Downloading: 100%",
      "description_tooltip": null,
      "layout": "IPY_MODEL_a573b926127f471d90552617dbd355ac",
      "max": 456318,
      "min": 0,
      "orientation": "horizontal",
      "style": "IPY_MODEL_41e537de9f8c4912a59ec4dc30e405f5",
      "value": 456318
     }
    },
    "41e537de9f8c4912a59ec4dc30e405f5": {
     "model_module": "@jupyter-widgets/controls",
     "model_name": "ProgressStyleModel",
     "state": {
      "_model_module": "@jupyter-widgets/controls",
      "_model_module_version": "1.5.0",
      "_model_name": "ProgressStyleModel",
      "_view_count": null,
      "_view_module": "@jupyter-widgets/base",
      "_view_module_version": "1.2.0",
      "_view_name": "StyleView",
      "bar_color": null,
      "description_width": "initial"
     }
    },
    "59c41cdb09dc43448f8cf3b3edacc9f6": {
     "model_module": "@jupyter-widgets/controls",
     "model_name": "FloatProgressModel",
     "state": {
      "_dom_classes": [],
      "_model_module": "@jupyter-widgets/controls",
      "_model_module_version": "1.5.0",
      "_model_name": "FloatProgressModel",
      "_view_count": null,
      "_view_module": "@jupyter-widgets/controls",
      "_view_module_version": "1.5.0",
      "_view_name": "ProgressView",
      "bar_style": "success",
      "description": "Downloading: 100%",
      "description_tooltip": null,
      "layout": "IPY_MODEL_ff151fd817e84f939614c8001ea02384",
      "max": 352833716,
      "min": 0,
      "orientation": "horizontal",
      "style": "IPY_MODEL_6f42cc0bd0414b09994f8ca293b31db3",
      "value": 352833716
     }
    },
    "5a022265356840a5a3fb60ec1ab69d9f": {
     "model_module": "@jupyter-widgets/controls",
     "model_name": "FloatProgressModel",
     "state": {
      "_dom_classes": [],
      "_model_module": "@jupyter-widgets/controls",
      "_model_module_version": "1.5.0",
      "_model_name": "FloatProgressModel",
      "_view_count": null,
      "_view_module": "@jupyter-widgets/controls",
      "_view_module_version": "1.5.0",
      "_view_name": "ProgressView",
      "bar_style": "success",
      "description": "Downloading: 100%",
      "description_tooltip": null,
      "layout": "IPY_MODEL_a9682d37555846aeb124b69cf38092c3",
      "max": 1042301,
      "min": 0,
      "orientation": "horizontal",
      "style": "IPY_MODEL_6b92f7b5d29e4fa786f03c9a6267cec4",
      "value": 1042301
     }
    },
    "5e4aa51d413b4004bee30cce914d193e": {
     "model_module": "@jupyter-widgets/base",
     "model_name": "LayoutModel",
     "state": {
      "_model_module": "@jupyter-widgets/base",
      "_model_module_version": "1.2.0",
      "_model_name": "LayoutModel",
      "_view_count": null,
      "_view_module": "@jupyter-widgets/base",
      "_view_module_version": "1.2.0",
      "_view_name": "LayoutView",
      "align_content": null,
      "align_items": null,
      "align_self": null,
      "border": null,
      "bottom": null,
      "display": null,
      "flex": null,
      "flex_flow": null,
      "grid_area": null,
      "grid_auto_columns": null,
      "grid_auto_flow": null,
      "grid_auto_rows": null,
      "grid_column": null,
      "grid_gap": null,
      "grid_row": null,
      "grid_template_areas": null,
      "grid_template_columns": null,
      "grid_template_rows": null,
      "height": null,
      "justify_content": null,
      "justify_items": null,
      "left": null,
      "margin": null,
      "max_height": null,
      "max_width": null,
      "min_height": null,
      "min_width": null,
      "object_fit": null,
      "object_position": null,
      "order": null,
      "overflow": null,
      "overflow_x": null,
      "overflow_y": null,
      "padding": null,
      "right": null,
      "top": null,
      "visibility": null,
      "width": null
     }
    },
    "5fd6963056bf4687a15c941d3be3494b": {
     "model_module": "@jupyter-widgets/controls",
     "model_name": "HBoxModel",
     "state": {
      "_dom_classes": [],
      "_model_module": "@jupyter-widgets/controls",
      "_model_module_version": "1.5.0",
      "_model_name": "HBoxModel",
      "_view_count": null,
      "_view_module": "@jupyter-widgets/controls",
      "_view_module_version": "1.5.0",
      "_view_name": "HBoxView",
      "box_style": "",
      "children": [
       "IPY_MODEL_5a022265356840a5a3fb60ec1ab69d9f",
       "IPY_MODEL_01e1163950684dc6b7fa868e7b9315a4"
      ],
      "layout": "IPY_MODEL_9a961b8a92334bedaeda460e4c92befc"
     }
    },
    "66ee7dd681184981a67e2b9dd5fdd6f0": {
     "model_module": "@jupyter-widgets/controls",
     "model_name": "HBoxModel",
     "state": {
      "_dom_classes": [],
      "_model_module": "@jupyter-widgets/controls",
      "_model_module_version": "1.5.0",
      "_model_name": "HBoxModel",
      "_view_count": null,
      "_view_module": "@jupyter-widgets/controls",
      "_view_module_version": "1.5.0",
      "_view_name": "HBoxView",
      "box_style": "",
      "children": [
       "IPY_MODEL_1198ffa7ad12484f9ac4048835321335",
       "IPY_MODEL_819c4c5a5b3349bcade558a02106c0c4"
      ],
      "layout": "IPY_MODEL_0e6405015df340b3bdc58694ebd4ecf4"
     }
    },
    "6b92f7b5d29e4fa786f03c9a6267cec4": {
     "model_module": "@jupyter-widgets/controls",
     "model_name": "ProgressStyleModel",
     "state": {
      "_model_module": "@jupyter-widgets/controls",
      "_model_module_version": "1.5.0",
      "_model_name": "ProgressStyleModel",
      "_view_count": null,
      "_view_module": "@jupyter-widgets/base",
      "_view_module_version": "1.2.0",
      "_view_name": "StyleView",
      "bar_color": null,
      "description_width": "initial"
     }
    },
    "6f42cc0bd0414b09994f8ca293b31db3": {
     "model_module": "@jupyter-widgets/controls",
     "model_name": "ProgressStyleModel",
     "state": {
      "_model_module": "@jupyter-widgets/controls",
      "_model_module_version": "1.5.0",
      "_model_name": "ProgressStyleModel",
      "_view_count": null,
      "_view_module": "@jupyter-widgets/base",
      "_view_module_version": "1.2.0",
      "_view_name": "StyleView",
      "bar_color": null,
      "description_width": "initial"
     }
    },
    "7d93ca3793fb43ba824f743aa9a7c208": {
     "model_module": "@jupyter-widgets/controls",
     "model_name": "DescriptionStyleModel",
     "state": {
      "_model_module": "@jupyter-widgets/controls",
      "_model_module_version": "1.5.0",
      "_model_name": "DescriptionStyleModel",
      "_view_count": null,
      "_view_module": "@jupyter-widgets/base",
      "_view_module_version": "1.2.0",
      "_view_name": "StyleView",
      "description_width": ""
     }
    },
    "819c4c5a5b3349bcade558a02106c0c4": {
     "model_module": "@jupyter-widgets/controls",
     "model_name": "HTMLModel",
     "state": {
      "_dom_classes": [],
      "_model_module": "@jupyter-widgets/controls",
      "_model_module_version": "1.5.0",
      "_model_name": "HTMLModel",
      "_view_count": null,
      "_view_module": "@jupyter-widgets/controls",
      "_view_module_version": "1.5.0",
      "_view_name": "HTMLView",
      "description": "",
      "description_tooltip": null,
      "layout": "IPY_MODEL_5e4aa51d413b4004bee30cce914d193e",
      "placeholder": "​",
      "style": "IPY_MODEL_e0fcf661019f4e3da00175887b431ccc",
      "value": " 762/762 [00:00&lt;00:00, 17.0kB/s]"
     }
    },
    "9254b1b515654fe9be6ffc08c2b15e4b": {
     "model_module": "@jupyter-widgets/controls",
     "model_name": "ProgressStyleModel",
     "state": {
      "_model_module": "@jupyter-widgets/controls",
      "_model_module_version": "1.5.0",
      "_model_name": "ProgressStyleModel",
      "_view_count": null,
      "_view_module": "@jupyter-widgets/base",
      "_view_module_version": "1.2.0",
      "_view_name": "StyleView",
      "bar_color": null,
      "description_width": "initial"
     }
    },
    "9a961b8a92334bedaeda460e4c92befc": {
     "model_module": "@jupyter-widgets/base",
     "model_name": "LayoutModel",
     "state": {
      "_model_module": "@jupyter-widgets/base",
      "_model_module_version": "1.2.0",
      "_model_name": "LayoutModel",
      "_view_count": null,
      "_view_module": "@jupyter-widgets/base",
      "_view_module_version": "1.2.0",
      "_view_name": "LayoutView",
      "align_content": null,
      "align_items": null,
      "align_self": null,
      "border": null,
      "bottom": null,
      "display": null,
      "flex": null,
      "flex_flow": null,
      "grid_area": null,
      "grid_auto_columns": null,
      "grid_auto_flow": null,
      "grid_auto_rows": null,
      "grid_column": null,
      "grid_gap": null,
      "grid_row": null,
      "grid_template_areas": null,
      "grid_template_columns": null,
      "grid_template_rows": null,
      "height": null,
      "justify_content": null,
      "justify_items": null,
      "left": null,
      "margin": null,
      "max_height": null,
      "max_width": null,
      "min_height": null,
      "min_width": null,
      "object_fit": null,
      "object_position": null,
      "order": null,
      "overflow": null,
      "overflow_x": null,
      "overflow_y": null,
      "padding": null,
      "right": null,
      "top": null,
      "visibility": null,
      "width": null
     }
    },
    "a33793da690a401f84cfc27fe66b58d3": {
     "model_module": "@jupyter-widgets/controls",
     "model_name": "HTMLModel",
     "state": {
      "_dom_classes": [],
      "_model_module": "@jupyter-widgets/controls",
      "_model_module_version": "1.5.0",
      "_model_name": "HTMLModel",
      "_view_count": null,
      "_view_module": "@jupyter-widgets/controls",
      "_view_module_version": "1.5.0",
      "_view_name": "HTMLView",
      "description": "",
      "description_tooltip": null,
      "layout": "IPY_MODEL_cdc358ab0d7b4cb3b911102f5b5ea48f",
      "placeholder": "​",
      "style": "IPY_MODEL_bc6eb47a66bc4fbe88efa7878e1fd02e",
      "value": " 353M/353M [00:06&lt;00:00, 53.4MB/s]"
     }
    },
    "a573b926127f471d90552617dbd355ac": {
     "model_module": "@jupyter-widgets/base",
     "model_name": "LayoutModel",
     "state": {
      "_model_module": "@jupyter-widgets/base",
      "_model_module_version": "1.2.0",
      "_model_name": "LayoutModel",
      "_view_count": null,
      "_view_module": "@jupyter-widgets/base",
      "_view_module_version": "1.2.0",
      "_view_name": "LayoutView",
      "align_content": null,
      "align_items": null,
      "align_self": null,
      "border": null,
      "bottom": null,
      "display": null,
      "flex": null,
      "flex_flow": null,
      "grid_area": null,
      "grid_auto_columns": null,
      "grid_auto_flow": null,
      "grid_auto_rows": null,
      "grid_column": null,
      "grid_gap": null,
      "grid_row": null,
      "grid_template_areas": null,
      "grid_template_columns": null,
      "grid_template_rows": null,
      "height": null,
      "justify_content": null,
      "justify_items": null,
      "left": null,
      "margin": null,
      "max_height": null,
      "max_width": null,
      "min_height": null,
      "min_width": null,
      "object_fit": null,
      "object_position": null,
      "order": null,
      "overflow": null,
      "overflow_x": null,
      "overflow_y": null,
      "padding": null,
      "right": null,
      "top": null,
      "visibility": null,
      "width": null
     }
    },
    "a7f991e0d30b4a2bbdf4efe3085b60ec": {
     "model_module": "@jupyter-widgets/base",
     "model_name": "LayoutModel",
     "state": {
      "_model_module": "@jupyter-widgets/base",
      "_model_module_version": "1.2.0",
      "_model_name": "LayoutModel",
      "_view_count": null,
      "_view_module": "@jupyter-widgets/base",
      "_view_module_version": "1.2.0",
      "_view_name": "LayoutView",
      "align_content": null,
      "align_items": null,
      "align_self": null,
      "border": null,
      "bottom": null,
      "display": null,
      "flex": null,
      "flex_flow": null,
      "grid_area": null,
      "grid_auto_columns": null,
      "grid_auto_flow": null,
      "grid_auto_rows": null,
      "grid_column": null,
      "grid_gap": null,
      "grid_row": null,
      "grid_template_areas": null,
      "grid_template_columns": null,
      "grid_template_rows": null,
      "height": null,
      "justify_content": null,
      "justify_items": null,
      "left": null,
      "margin": null,
      "max_height": null,
      "max_width": null,
      "min_height": null,
      "min_width": null,
      "object_fit": null,
      "object_position": null,
      "order": null,
      "overflow": null,
      "overflow_x": null,
      "overflow_y": null,
      "padding": null,
      "right": null,
      "top": null,
      "visibility": null,
      "width": null
     }
    },
    "a9682d37555846aeb124b69cf38092c3": {
     "model_module": "@jupyter-widgets/base",
     "model_name": "LayoutModel",
     "state": {
      "_model_module": "@jupyter-widgets/base",
      "_model_module_version": "1.2.0",
      "_model_name": "LayoutModel",
      "_view_count": null,
      "_view_module": "@jupyter-widgets/base",
      "_view_module_version": "1.2.0",
      "_view_name": "LayoutView",
      "align_content": null,
      "align_items": null,
      "align_self": null,
      "border": null,
      "bottom": null,
      "display": null,
      "flex": null,
      "flex_flow": null,
      "grid_area": null,
      "grid_auto_columns": null,
      "grid_auto_flow": null,
      "grid_auto_rows": null,
      "grid_column": null,
      "grid_gap": null,
      "grid_row": null,
      "grid_template_areas": null,
      "grid_template_columns": null,
      "grid_template_rows": null,
      "height": null,
      "justify_content": null,
      "justify_items": null,
      "left": null,
      "margin": null,
      "max_height": null,
      "max_width": null,
      "min_height": null,
      "min_width": null,
      "object_fit": null,
      "object_position": null,
      "order": null,
      "overflow": null,
      "overflow_x": null,
      "overflow_y": null,
      "padding": null,
      "right": null,
      "top": null,
      "visibility": null,
      "width": null
     }
    },
    "b54a170e8e20428dbd08dcbececa6174": {
     "model_module": "@jupyter-widgets/controls",
     "model_name": "HBoxModel",
     "state": {
      "_dom_classes": [],
      "_model_module": "@jupyter-widgets/controls",
      "_model_module_version": "1.5.0",
      "_model_name": "HBoxModel",
      "_view_count": null,
      "_view_module": "@jupyter-widgets/controls",
      "_view_module_version": "1.5.0",
      "_view_name": "HBoxView",
      "box_style": "",
      "children": [
       "IPY_MODEL_59c41cdb09dc43448f8cf3b3edacc9f6",
       "IPY_MODEL_a33793da690a401f84cfc27fe66b58d3"
      ],
      "layout": "IPY_MODEL_a7f991e0d30b4a2bbdf4efe3085b60ec"
     }
    },
    "bc6eb47a66bc4fbe88efa7878e1fd02e": {
     "model_module": "@jupyter-widgets/controls",
     "model_name": "DescriptionStyleModel",
     "state": {
      "_model_module": "@jupyter-widgets/controls",
      "_model_module_version": "1.5.0",
      "_model_name": "DescriptionStyleModel",
      "_view_count": null,
      "_view_module": "@jupyter-widgets/base",
      "_view_module_version": "1.2.0",
      "_view_name": "StyleView",
      "description_width": ""
     }
    },
    "cdc358ab0d7b4cb3b911102f5b5ea48f": {
     "model_module": "@jupyter-widgets/base",
     "model_name": "LayoutModel",
     "state": {
      "_model_module": "@jupyter-widgets/base",
      "_model_module_version": "1.2.0",
      "_model_name": "LayoutModel",
      "_view_count": null,
      "_view_module": "@jupyter-widgets/base",
      "_view_module_version": "1.2.0",
      "_view_name": "LayoutView",
      "align_content": null,
      "align_items": null,
      "align_self": null,
      "border": null,
      "bottom": null,
      "display": null,
      "flex": null,
      "flex_flow": null,
      "grid_area": null,
      "grid_auto_columns": null,
      "grid_auto_flow": null,
      "grid_auto_rows": null,
      "grid_column": null,
      "grid_gap": null,
      "grid_row": null,
      "grid_template_areas": null,
      "grid_template_columns": null,
      "grid_template_rows": null,
      "height": null,
      "justify_content": null,
      "justify_items": null,
      "left": null,
      "margin": null,
      "max_height": null,
      "max_width": null,
      "min_height": null,
      "min_width": null,
      "object_fit": null,
      "object_position": null,
      "order": null,
      "overflow": null,
      "overflow_x": null,
      "overflow_y": null,
      "padding": null,
      "right": null,
      "top": null,
      "visibility": null,
      "width": null
     }
    },
    "dde55076d6544256b821e4364e787a7f": {
     "model_module": "@jupyter-widgets/base",
     "model_name": "LayoutModel",
     "state": {
      "_model_module": "@jupyter-widgets/base",
      "_model_module_version": "1.2.0",
      "_model_name": "LayoutModel",
      "_view_count": null,
      "_view_module": "@jupyter-widgets/base",
      "_view_module_version": "1.2.0",
      "_view_name": "LayoutView",
      "align_content": null,
      "align_items": null,
      "align_self": null,
      "border": null,
      "bottom": null,
      "display": null,
      "flex": null,
      "flex_flow": null,
      "grid_area": null,
      "grid_auto_columns": null,
      "grid_auto_flow": null,
      "grid_auto_rows": null,
      "grid_column": null,
      "grid_gap": null,
      "grid_row": null,
      "grid_template_areas": null,
      "grid_template_columns": null,
      "grid_template_rows": null,
      "height": null,
      "justify_content": null,
      "justify_items": null,
      "left": null,
      "margin": null,
      "max_height": null,
      "max_width": null,
      "min_height": null,
      "min_width": null,
      "object_fit": null,
      "object_position": null,
      "order": null,
      "overflow": null,
      "overflow_x": null,
      "overflow_y": null,
      "padding": null,
      "right": null,
      "top": null,
      "visibility": null,
      "width": null
     }
    },
    "deaba8a37b4a40e2a5e42c8e4044f5ef": {
     "model_module": "@jupyter-widgets/controls",
     "model_name": "HTMLModel",
     "state": {
      "_dom_classes": [],
      "_model_module": "@jupyter-widgets/controls",
      "_model_module_version": "1.5.0",
      "_model_name": "HTMLModel",
      "_view_count": null,
      "_view_module": "@jupyter-widgets/controls",
      "_view_module_version": "1.5.0",
      "_view_name": "HTMLView",
      "description": "",
      "description_tooltip": null,
      "layout": "IPY_MODEL_dde55076d6544256b821e4364e787a7f",
      "placeholder": "​",
      "style": "IPY_MODEL_7d93ca3793fb43ba824f743aa9a7c208",
      "value": " 456k/456k [00:00&lt;00:00, 2.34MB/s]"
     }
    },
    "e0fcf661019f4e3da00175887b431ccc": {
     "model_module": "@jupyter-widgets/controls",
     "model_name": "DescriptionStyleModel",
     "state": {
      "_model_module": "@jupyter-widgets/controls",
      "_model_module_version": "1.5.0",
      "_model_name": "DescriptionStyleModel",
      "_view_count": null,
      "_view_module": "@jupyter-widgets/base",
      "_view_module_version": "1.2.0",
      "_view_name": "StyleView",
      "description_width": ""
     }
    },
    "ea23401f422c4201a2ccd2a45c426d52": {
     "model_module": "@jupyter-widgets/base",
     "model_name": "LayoutModel",
     "state": {
      "_model_module": "@jupyter-widgets/base",
      "_model_module_version": "1.2.0",
      "_model_name": "LayoutModel",
      "_view_count": null,
      "_view_module": "@jupyter-widgets/base",
      "_view_module_version": "1.2.0",
      "_view_name": "LayoutView",
      "align_content": null,
      "align_items": null,
      "align_self": null,
      "border": null,
      "bottom": null,
      "display": null,
      "flex": null,
      "flex_flow": null,
      "grid_area": null,
      "grid_auto_columns": null,
      "grid_auto_flow": null,
      "grid_auto_rows": null,
      "grid_column": null,
      "grid_gap": null,
      "grid_row": null,
      "grid_template_areas": null,
      "grid_template_columns": null,
      "grid_template_rows": null,
      "height": null,
      "justify_content": null,
      "justify_items": null,
      "left": null,
      "margin": null,
      "max_height": null,
      "max_width": null,
      "min_height": null,
      "min_width": null,
      "object_fit": null,
      "object_position": null,
      "order": null,
      "overflow": null,
      "overflow_x": null,
      "overflow_y": null,
      "padding": null,
      "right": null,
      "top": null,
      "visibility": null,
      "width": null
     }
    },
    "ff151fd817e84f939614c8001ea02384": {
     "model_module": "@jupyter-widgets/base",
     "model_name": "LayoutModel",
     "state": {
      "_model_module": "@jupyter-widgets/base",
      "_model_module_version": "1.2.0",
      "_model_name": "LayoutModel",
      "_view_count": null,
      "_view_module": "@jupyter-widgets/base",
      "_view_module_version": "1.2.0",
      "_view_name": "LayoutView",
      "align_content": null,
      "align_items": null,
      "align_self": null,
      "border": null,
      "bottom": null,
      "display": null,
      "flex": null,
      "flex_flow": null,
      "grid_area": null,
      "grid_auto_columns": null,
      "grid_auto_flow": null,
      "grid_auto_rows": null,
      "grid_column": null,
      "grid_gap": null,
      "grid_row": null,
      "grid_template_areas": null,
      "grid_template_columns": null,
      "grid_template_rows": null,
      "height": null,
      "justify_content": null,
      "justify_items": null,
      "left": null,
      "margin": null,
      "max_height": null,
      "max_width": null,
      "min_height": null,
      "min_width": null,
      "object_fit": null,
      "object_position": null,
      "order": null,
      "overflow": null,
      "overflow_x": null,
      "overflow_y": null,
      "padding": null,
      "right": null,
      "top": null,
      "visibility": null,
      "width": null
     }
    },
    "ff801625f32e452e84c2bcefccabbad3": {
     "model_module": "@jupyter-widgets/controls",
     "model_name": "DescriptionStyleModel",
     "state": {
      "_model_module": "@jupyter-widgets/controls",
      "_model_module_version": "1.5.0",
      "_model_name": "DescriptionStyleModel",
      "_view_count": null,
      "_view_module": "@jupyter-widgets/base",
      "_view_module_version": "1.2.0",
      "_view_name": "StyleView",
      "description_width": ""
     }
    }
   }
  }
 },
 "nbformat": 4,
 "nbformat_minor": 1
}

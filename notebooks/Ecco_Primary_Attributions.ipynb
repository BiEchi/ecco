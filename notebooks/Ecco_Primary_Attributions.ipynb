{
 "cells": [
  {
   "cell_type": "markdown",
   "metadata": {
    "colab_type": "text",
    "id": "view-in-github"
   },
   "source": [
    "<a href=\"https://colab.research.google.com/github/jalammar/ecco/blob/main/notebooks/Ecco_Input_Saliency.ipynb\" target=\"_parent\"><img src=\"https://colab.research.google.com/assets/colab-badge.svg\" alt=\"Open In Colab\"/></a>"
   ]
  },
  {
   "cell_type": "markdown",
   "metadata": {},
   "source": [
    "# Primary Attributions\n",
    "\n",
    "This notebook contains visualizations for primary attribution methods, by that means, methods that evaluate the contribution of each input feature to the output of a model.\n",
    "\n",
    "Now we are currently supporting:\n",
    "- Gradient saliency\n",
    "- Input X Gradient saliency\n",
    "- Integrated Gradients"
   ]
  },
  {
   "cell_type": "code",
   "execution_count": 1,
   "metadata": {},
   "outputs": [
    {
     "name": "stdout",
     "output_type": "stream",
     "text": [
      "Requirement already satisfied: ecco in /home/ola/our_ecco/ecco/src (0.0.15)\n",
      "Requirement already satisfied: transformers~=4.2 in /home/ola/our_ecco/ecco/venv/lib/python3.7/site-packages (from ecco) (4.6.1)\n",
      "Requirement already satisfied: seaborn~=0.11 in /home/ola/our_ecco/ecco/venv/lib/python3.7/site-packages (from ecco) (0.11.2)\n",
      "Requirement already satisfied: scikit-learn~=0.23 in /home/ola/our_ecco/ecco/venv/lib/python3.7/site-packages (from ecco) (0.24.2)\n",
      "Requirement already satisfied: PyYAML~=5.4 in /home/ola/our_ecco/ecco/venv/lib/python3.7/site-packages (from ecco) (5.4.1)\n",
      "Requirement already satisfied: joblib>=0.11 in /home/ola/our_ecco/ecco/venv/lib/python3.7/site-packages (from scikit-learn~=0.23->ecco) (1.1.0)\n",
      "Requirement already satisfied: threadpoolctl>=2.0.0 in /home/ola/our_ecco/ecco/venv/lib/python3.7/site-packages (from scikit-learn~=0.23->ecco) (3.0.0)\n",
      "Requirement already satisfied: numpy>=1.13.3 in /home/ola/our_ecco/ecco/venv/lib/python3.7/site-packages (from scikit-learn~=0.23->ecco) (1.19.5)\n",
      "Requirement already satisfied: scipy>=0.19.1 in /home/ola/our_ecco/ecco/venv/lib/python3.7/site-packages (from scikit-learn~=0.23->ecco) (1.7.1)\n",
      "Requirement already satisfied: matplotlib>=2.2 in /home/ola/our_ecco/ecco/venv/lib/python3.7/site-packages (from seaborn~=0.11->ecco) (3.3.4)\n",
      "Requirement already satisfied: pandas>=0.23 in /home/ola/our_ecco/ecco/venv/lib/python3.7/site-packages (from seaborn~=0.11->ecco) (1.3.4)\n",
      "Requirement already satisfied: cycler>=0.10 in /home/ola/our_ecco/ecco/venv/lib/python3.7/site-packages (from matplotlib>=2.2->seaborn~=0.11->ecco) (0.11.0)\n",
      "Requirement already satisfied: python-dateutil>=2.1 in /home/ola/our_ecco/ecco/venv/lib/python3.7/site-packages (from matplotlib>=2.2->seaborn~=0.11->ecco) (2.8.2)\n",
      "Requirement already satisfied: pyparsing!=2.0.4,!=2.1.2,!=2.1.6,>=2.0.3 in /home/ola/our_ecco/ecco/venv/lib/python3.7/site-packages (from matplotlib>=2.2->seaborn~=0.11->ecco) (2.4.7)\n",
      "Requirement already satisfied: kiwisolver>=1.0.1 in /home/ola/our_ecco/ecco/venv/lib/python3.7/site-packages (from matplotlib>=2.2->seaborn~=0.11->ecco) (1.3.2)\n",
      "Requirement already satisfied: pillow>=6.2.0 in /home/ola/our_ecco/ecco/venv/lib/python3.7/site-packages (from matplotlib>=2.2->seaborn~=0.11->ecco) (8.4.0)\n",
      "Requirement already satisfied: pytz>=2017.3 in /home/ola/our_ecco/ecco/venv/lib/python3.7/site-packages (from pandas>=0.23->seaborn~=0.11->ecco) (2021.3)\n",
      "Requirement already satisfied: six>=1.5 in /home/ola/our_ecco/ecco/venv/lib/python3.7/site-packages (from python-dateutil>=2.1->matplotlib>=2.2->seaborn~=0.11->ecco) (1.16.0)\n",
      "Requirement already satisfied: importlib-metadata in /home/ola/our_ecco/ecco/venv/lib/python3.7/site-packages (from transformers~=4.2->ecco) (4.8.1)\n",
      "Requirement already satisfied: huggingface-hub==0.0.8 in /home/ola/our_ecco/ecco/venv/lib/python3.7/site-packages (from transformers~=4.2->ecco) (0.0.8)\n",
      "Requirement already satisfied: sacremoses in /home/ola/our_ecco/ecco/venv/lib/python3.7/site-packages (from transformers~=4.2->ecco) (0.0.46)\n",
      "Requirement already satisfied: tqdm>=4.27 in /home/ola/our_ecco/ecco/venv/lib/python3.7/site-packages (from transformers~=4.2->ecco) (4.62.3)\n",
      "Requirement already satisfied: packaging in /home/ola/our_ecco/ecco/venv/lib/python3.7/site-packages (from transformers~=4.2->ecco) (21.2)\n",
      "Requirement already satisfied: tokenizers<0.11,>=0.10.1 in /home/ola/our_ecco/ecco/venv/lib/python3.7/site-packages (from transformers~=4.2->ecco) (0.10.3)\n",
      "Requirement already satisfied: requests in /home/ola/our_ecco/ecco/venv/lib/python3.7/site-packages (from transformers~=4.2->ecco) (2.26.0)\n",
      "Requirement already satisfied: regex!=2019.12.17 in /home/ola/our_ecco/ecco/venv/lib/python3.7/site-packages (from transformers~=4.2->ecco) (2021.11.2)\n",
      "Requirement already satisfied: filelock in /home/ola/our_ecco/ecco/venv/lib/python3.7/site-packages (from transformers~=4.2->ecco) (3.3.2)\n",
      "Requirement already satisfied: typing-extensions>=3.6.4 in /home/ola/our_ecco/ecco/venv/lib/python3.7/site-packages (from importlib-metadata->transformers~=4.2->ecco) (3.10.0.2)\n",
      "Requirement already satisfied: zipp>=0.5 in /home/ola/our_ecco/ecco/venv/lib/python3.7/site-packages (from importlib-metadata->transformers~=4.2->ecco) (3.6.0)\n",
      "Requirement already satisfied: urllib3<1.27,>=1.21.1 in /home/ola/our_ecco/ecco/venv/lib/python3.7/site-packages (from requests->transformers~=4.2->ecco) (1.26.7)\n",
      "Requirement already satisfied: charset-normalizer~=2.0.0 in /home/ola/our_ecco/ecco/venv/lib/python3.7/site-packages (from requests->transformers~=4.2->ecco) (2.0.7)\n",
      "Requirement already satisfied: idna<4,>=2.5 in /home/ola/our_ecco/ecco/venv/lib/python3.7/site-packages (from requests->transformers~=4.2->ecco) (3.3)\n",
      "Requirement already satisfied: certifi>=2017.4.17 in /home/ola/our_ecco/ecco/venv/lib/python3.7/site-packages (from requests->transformers~=4.2->ecco) (2021.10.8)\n",
      "Requirement already satisfied: click in /home/ola/our_ecco/ecco/venv/lib/python3.7/site-packages (from sacremoses->transformers~=4.2->ecco) (8.0.3)\n",
      "\u001b[33mWARNING: You are using pip version 21.2.4; however, version 21.3.1 is available.\n",
      "You should consider upgrading via the '/home/ola/our_ecco/ecco/venv/bin/python -m pip install --upgrade pip' command.\u001b[0m\n"
     ]
    }
   ],
   "source": [
    "!pip install ecco"
   ]
  },
  {
   "cell_type": "code",
   "execution_count": 2,
   "metadata": {
    "colab": {
     "base_uri": "https://localhost:8080/",
     "height": 215,
     "referenced_widgets": [
      "66ee7dd681184981a67e2b9dd5fdd6f0",
      "0e6405015df340b3bdc58694ebd4ecf4",
      "1198ffa7ad12484f9ac4048835321335",
      "819c4c5a5b3349bcade558a02106c0c4",
      "9254b1b515654fe9be6ffc08c2b15e4b",
      "ea23401f422c4201a2ccd2a45c426d52",
      "e0fcf661019f4e3da00175887b431ccc",
      "5e4aa51d413b4004bee30cce914d193e",
      "5fd6963056bf4687a15c941d3be3494b",
      "9a961b8a92334bedaeda460e4c92befc",
      "5a022265356840a5a3fb60ec1ab69d9f",
      "01e1163950684dc6b7fa868e7b9315a4",
      "6b92f7b5d29e4fa786f03c9a6267cec4",
      "a9682d37555846aeb124b69cf38092c3",
      "ff801625f32e452e84c2bcefccabbad3",
      "14dd95b6e25b462e87175be869146d05",
      "2d5ded1ce3034928b9675c598f5144e6",
      "03de4b4c35ce4b3a87f0b06743707c65",
      "31a4e3758a474c3da4a49bd5c4c396a4",
      "deaba8a37b4a40e2a5e42c8e4044f5ef",
      "41e537de9f8c4912a59ec4dc30e405f5",
      "a573b926127f471d90552617dbd355ac",
      "7d93ca3793fb43ba824f743aa9a7c208",
      "dde55076d6544256b821e4364e787a7f",
      "b54a170e8e20428dbd08dcbececa6174",
      "a7f991e0d30b4a2bbdf4efe3085b60ec",
      "59c41cdb09dc43448f8cf3b3edacc9f6",
      "a33793da690a401f84cfc27fe66b58d3",
      "6f42cc0bd0414b09994f8ca293b31db3",
      "ff151fd817e84f939614c8001ea02384",
      "bc6eb47a66bc4fbe88efa7878e1fd02e",
      "cdc358ab0d7b4cb3b911102f5b5ea48f"
     ]
    },
    "id": "zzcMoKUkV3aH",
    "outputId": "e88438a9-112f-4dfe-9897-88a589e42218"
   },
   "outputs": [
    {
     "name": "stderr",
     "output_type": "stream",
     "text": [
      "/home/ola/our_ecco/ecco/venv/lib/python3.7/site-packages/torch/cuda/__init__.py:52: UserWarning: CUDA initialization: The NVIDIA driver on your system is too old (found version 9010). Please update your GPU driver by downloading and installing a new version from the URL: http://www.nvidia.com/Download/index.aspx Alternatively, go to: https://pytorch.org to install a PyTorch version that has been compiled with your version of the CUDA driver. (Triggered internally at  ../c10/cuda/CUDAFunctions.cpp:115.)\n",
      "  return torch._C._cuda_getDeviceCount() > 0\n"
     ]
    }
   ],
   "source": [
    "import ecco\n",
    "lm = ecco.from_pretrained('distilgpt2')"
   ]
  },
  {
   "cell_type": "code",
   "execution_count": 3,
   "metadata": {
    "colab": {
     "base_uri": "https://localhost:8080/",
     "height": 334
    },
    "id": "T9bZBZLq-93C",
    "outputId": "e6f3398b-5e9e-456d-d5a4-3331764fea9c"
   },
   "outputs": [
    {
     "data": {
      "text/html": [
       "<html lang=\"en\">\n",
       "<script src=\"https://requirejs.org/docs/release/2.3.6/minified/require.js\"></script>\n",
       "<script>\n",
       "    var ecco_url = 'https://storage.googleapis.com/ml-intro/ecco/'\n",
       "    // var ecco_url = 'http://localhost:8000/ecco/'\n",
       "\n",
       "    if (window.ecco === undefined) window.ecco = {}\n",
       "\n",
       "    requirejs.config({\n",
       "        urlArgs: \"bust=\" + (new Date()).getTime(),\n",
       "        nodeRequire: require,\n",
       "        paths: {\n",
       "            d3: \"https://d3js.org/d3.v5.min\",\n",
       "            \"d3-array\": \"https://d3js.org/d3-array.v2.min\",\n",
       "            jquery: \"https://code.jquery.com/jquery-3.5.1.min\",\n",
       "            // oldEcco: ecco_url + 'ecco',\n",
       "            ecco: ecco_url + 'js/0.0.4/ecco-bundle.min',\n",
       "            xregexp: 'https://cdnjs.cloudflare.com/ajax/libs/xregexp/3.2.0/xregexp-all.min'\n",
       "        }\n",
       "    });\n",
       "    requirejs(['d3'],\n",
       "        function (d3) {\n",
       "            d3.select('#css').attr('href', ecco_url + 'html/styles.css')\n",
       "        })\n",
       "\n",
       "    console.log('Ecco initialize.')\n",
       "</script>\n",
       "\n",
       "<head>\n",
       "    <link id='css' rel=\"stylesheet\" type=\"text/css\">\n",
       "</head>\n"
      ],
      "text/plain": [
       "<IPython.core.display.HTML object>"
      ]
     },
     "metadata": {},
     "output_type": "display_data"
    },
    {
     "data": {
      "text/html": [
       "<script>\n",
       "    // console.log('defining basic')\n",
       "    define('basic', ['d3'],\n",
       "        function (d3) {\n",
       "            return {\n",
       "                init: function (viz_id = null) {\n",
       "\n",
       "                    // console.log('basic init')\n",
       "                    if (viz_id == null){\n",
       "                        viz_id = \"viz_\" + Math.round(Math.random() * 10000000)\n",
       "                    }\n",
       "                    const div = d3.select('#basic').attr('id', viz_id),\n",
       "                        div_parent = d3.select('#' + viz_id).node().parentNode\n",
       "\n",
       "                    // Link to CSS file\n",
       "                    d3.select(div_parent).insert('link')\n",
       "                        .attr('rel', 'stylesheet')\n",
       "                        .attr('type', 'text/css')\n",
       "                        .attr('href', ecco_url + 'html/styles.css')\n",
       "\n",
       "                    return viz_id\n",
       "                }\n",
       "            }\n",
       "        }, function (err) {console.log(err);}\n",
       "    )\n",
       "    // console.log('after defining basic')\n",
       "\n",
       "</script>\n",
       "<div id=\"basic\"></div>\n"
      ],
      "text/plain": [
       "<IPython.core.display.HTML object>"
      ]
     },
     "metadata": {},
     "output_type": "display_data"
    },
    {
     "data": {
      "application/javascript": [
       "\n",
       "         requirejs( ['basic', 'ecco'], function(basic, ecco){\n",
       "            basic.init('viz_663269')\n",
       "\n",
       "            window.ecco['viz_663269'] = ecco.renderOutputSequence('viz_663269', {'tokens': [{'token': 'The', 'position': 0, 'token_id': 464, 'type': 'input'}, {'token': ' countries', 'position': 1, 'token_id': 2678, 'type': 'input'}, {'token': ' of', 'position': 2, 'token_id': 286, 'type': 'input'}, {'token': ' the', 'position': 3, 'token_id': 262, 'type': 'input'}, {'token': ' European', 'position': 4, 'token_id': 3427, 'type': 'input'}, {'token': ' Union', 'position': 5, 'token_id': 4479, 'type': 'input'}, {'token': ' are', 'position': 6, 'token_id': 389, 'type': 'input'}, {'token': ':', 'position': 7, 'token_id': 25, 'type': 'input'}, {'token': '\\n', 'position': 8, 'token_id': 198, 'type': 'input'}, {'token': '1', 'position': 9, 'token_id': 16, 'type': 'input'}, {'token': '.', 'position': 10, 'token_id': 13, 'type': 'input'}, {'token': ' Austria', 'position': 11, 'token_id': 17322, 'type': 'input'}, {'token': '\\n', 'position': 12, 'token_id': 198, 'type': 'input'}, {'token': '2', 'position': 13, 'token_id': 17, 'type': 'input'}, {'token': '.', 'position': 14, 'token_id': 13, 'type': 'input'}, {'token': ' Belgium', 'position': 15, 'token_id': 15664, 'type': 'input'}, {'token': '\\n', 'position': 16, 'token_id': 198, 'type': 'input'}, {'token': '3', 'position': 17, 'token_id': 18, 'type': 'input'}, {'token': '.', 'position': 18, 'token_id': 13, 'type': 'input'}, {'token': ' Bulgaria', 'position': 19, 'token_id': 27902, 'type': 'input'}, {'token': '\\n', 'position': 20, 'token_id': 198, 'type': 'input'}, {'token': '4', 'position': 21, 'token_id': 19, 'type': 'input'}, {'token': '.', 'position': 22, 'token_id': 13, 'type': 'input'}]})\n",
       "         }, function (err) {\n",
       "            console.log(err);\n",
       "        })\n",
       "        "
      ],
      "text/plain": [
       "<IPython.core.display.Javascript object>"
      ]
     },
     "metadata": {},
     "output_type": "display_data"
    },
    {
     "data": {
      "application/javascript": [
       "\n",
       "        // We don't really need these require scripts. But this is to avert\n",
       "        //this code from running before display_input_sequence which DOES require external files\n",
       "        requirejs(['basic', 'ecco'], function(basic, ecco){\n",
       "                console.log('addToken viz_id', 'viz_663269');\n",
       "                window.ecco['viz_663269'].addToken({\"token\": \" Czech\", \"token_id\": 16639, \"position\": 23, \"type\": \"output\"})\n",
       "                window.ecco['viz_663269'].redraw()\n",
       "        })\n",
       "        "
      ],
      "text/plain": [
       "<IPython.core.display.Javascript object>"
      ]
     },
     "metadata": {},
     "output_type": "display_data"
    },
    {
     "data": {
      "application/javascript": [
       "\n",
       "        // We don't really need these require scripts. But this is to avert\n",
       "        //this code from running before display_input_sequence which DOES require external files\n",
       "        requirejs(['basic', 'ecco'], function(basic, ecco){\n",
       "                console.log('addToken viz_id', 'viz_663269');\n",
       "                window.ecco['viz_663269'].addToken({\"token\": \" Republic\", \"token_id\": 2066, \"position\": 24, \"type\": \"output\"})\n",
       "                window.ecco['viz_663269'].redraw()\n",
       "        })\n",
       "        "
      ],
      "text/plain": [
       "<IPython.core.display.Javascript object>"
      ]
     },
     "metadata": {},
     "output_type": "display_data"
    },
    {
     "data": {
      "application/javascript": [
       "\n",
       "        // We don't really need these require scripts. But this is to avert\n",
       "        //this code from running before display_input_sequence which DOES require external files\n",
       "        requirejs(['basic', 'ecco'], function(basic, ecco){\n",
       "                console.log('addToken viz_id', 'viz_663269');\n",
       "                window.ecco['viz_663269'].addToken({\"token\": \"\\n\", \"token_id\": 198, \"position\": 25, \"type\": \"output\"})\n",
       "                window.ecco['viz_663269'].redraw()\n",
       "        })\n",
       "        "
      ],
      "text/plain": [
       "<IPython.core.display.Javascript object>"
      ]
     },
     "metadata": {},
     "output_type": "display_data"
    },
    {
     "data": {
      "application/javascript": [
       "\n",
       "        // We don't really need these require scripts. But this is to avert\n",
       "        //this code from running before display_input_sequence which DOES require external files\n",
       "        requirejs(['basic', 'ecco'], function(basic, ecco){\n",
       "                console.log('addToken viz_id', 'viz_663269');\n",
       "                window.ecco['viz_663269'].addToken({\"token\": \"5\", \"token_id\": 20, \"position\": 26, \"type\": \"output\"})\n",
       "                window.ecco['viz_663269'].redraw()\n",
       "        })\n",
       "        "
      ],
      "text/plain": [
       "<IPython.core.display.Javascript object>"
      ]
     },
     "metadata": {},
     "output_type": "display_data"
    },
    {
     "data": {
      "application/javascript": [
       "\n",
       "        // We don't really need these require scripts. But this is to avert\n",
       "        //this code from running before display_input_sequence which DOES require external files\n",
       "        requirejs(['basic', 'ecco'], function(basic, ecco){\n",
       "                console.log('addToken viz_id', 'viz_663269');\n",
       "                window.ecco['viz_663269'].addToken({\"token\": \".\", \"token_id\": 13, \"position\": 27, \"type\": \"output\"})\n",
       "                window.ecco['viz_663269'].redraw()\n",
       "        })\n",
       "        "
      ],
      "text/plain": [
       "<IPython.core.display.Javascript object>"
      ]
     },
     "metadata": {},
     "output_type": "display_data"
    },
    {
     "data": {
      "application/javascript": [
       "\n",
       "        // We don't really need these require scripts. But this is to avert\n",
       "        //this code from running before display_input_sequence which DOES require external files\n",
       "        requirejs(['basic', 'ecco'], function(basic, ecco){\n",
       "                console.log('addToken viz_id', 'viz_663269');\n",
       "                window.ecco['viz_663269'].addToken({\"token\": \" Czech\", \"token_id\": 16639, \"position\": 28, \"type\": \"output\"})\n",
       "                window.ecco['viz_663269'].redraw()\n",
       "        })\n",
       "        "
      ],
      "text/plain": [
       "<IPython.core.display.Javascript object>"
      ]
     },
     "metadata": {},
     "output_type": "display_data"
    },
    {
     "data": {
      "application/javascript": [
       "\n",
       "        // We don't really need these require scripts. But this is to avert\n",
       "        //this code from running before display_input_sequence which DOES require external files\n",
       "        requirejs(['basic', 'ecco'], function(basic, ecco){\n",
       "                console.log('addToken viz_id', 'viz_663269');\n",
       "                window.ecco['viz_663269'].addToken({\"token\": \" Republic\", \"token_id\": 2066, \"position\": 29, \"type\": \"output\"})\n",
       "                window.ecco['viz_663269'].redraw()\n",
       "        })\n",
       "        "
      ],
      "text/plain": [
       "<IPython.core.display.Javascript object>"
      ]
     },
     "metadata": {},
     "output_type": "display_data"
    },
    {
     "data": {
      "application/javascript": [
       "\n",
       "        // We don't really need these require scripts. But this is to avert\n",
       "        //this code from running before display_input_sequence which DOES require external files\n",
       "        requirejs(['basic', 'ecco'], function(basic, ecco){\n",
       "                console.log('addToken viz_id', 'viz_663269');\n",
       "                window.ecco['viz_663269'].addToken({\"token\": \"\\n\", \"token_id\": 198, \"position\": 30, \"type\": \"output\"})\n",
       "                window.ecco['viz_663269'].redraw()\n",
       "        })\n",
       "        "
      ],
      "text/plain": [
       "<IPython.core.display.Javascript object>"
      ]
     },
     "metadata": {},
     "output_type": "display_data"
    },
    {
     "data": {
      "application/javascript": [
       "\n",
       "        // We don't really need these require scripts. But this is to avert\n",
       "        //this code from running before display_input_sequence which DOES require external files\n",
       "        requirejs(['basic', 'ecco'], function(basic, ecco){\n",
       "                console.log('addToken viz_id', 'viz_663269');\n",
       "                window.ecco['viz_663269'].addToken({\"token\": \"6\", \"token_id\": 21, \"position\": 31, \"type\": \"output\"})\n",
       "                window.ecco['viz_663269'].redraw()\n",
       "        })\n",
       "        "
      ],
      "text/plain": [
       "<IPython.core.display.Javascript object>"
      ]
     },
     "metadata": {},
     "output_type": "display_data"
    },
    {
     "data": {
      "application/javascript": [
       "\n",
       "        // We don't really need these require scripts. But this is to avert\n",
       "        //this code from running before display_input_sequence which DOES require external files\n",
       "        requirejs(['basic', 'ecco'], function(basic, ecco){\n",
       "                console.log('addToken viz_id', 'viz_663269');\n",
       "                window.ecco['viz_663269'].addToken({\"token\": \".\", \"token_id\": 13, \"position\": 32, \"type\": \"output\"})\n",
       "                window.ecco['viz_663269'].redraw()\n",
       "        })\n",
       "        "
      ],
      "text/plain": [
       "<IPython.core.display.Javascript object>"
      ]
     },
     "metadata": {},
     "output_type": "display_data"
    },
    {
     "data": {
      "application/javascript": [
       "\n",
       "        // We don't really need these require scripts. But this is to avert\n",
       "        //this code from running before display_input_sequence which DOES require external files\n",
       "        requirejs(['basic', 'ecco'], function(basic, ecco){\n",
       "                console.log('addToken viz_id', 'viz_663269');\n",
       "                window.ecco['viz_663269'].addToken({\"token\": \" Cyprus\", \"token_id\": 27885, \"position\": 33, \"type\": \"output\"})\n",
       "                window.ecco['viz_663269'].redraw()\n",
       "        })\n",
       "        "
      ],
      "text/plain": [
       "<IPython.core.display.Javascript object>"
      ]
     },
     "metadata": {},
     "output_type": "display_data"
    },
    {
     "data": {
      "application/javascript": [
       "\n",
       "        // We don't really need these require scripts. But this is to avert\n",
       "        //this code from running before display_input_sequence which DOES require external files\n",
       "        requirejs(['basic', 'ecco'], function(basic, ecco){\n",
       "                console.log('addToken viz_id', 'viz_663269');\n",
       "                window.ecco['viz_663269'].addToken({\"token\": \"\\n\", \"token_id\": 198, \"position\": 34, \"type\": \"output\"})\n",
       "                window.ecco['viz_663269'].redraw()\n",
       "        })\n",
       "        "
      ],
      "text/plain": [
       "<IPython.core.display.Javascript object>"
      ]
     },
     "metadata": {},
     "output_type": "display_data"
    },
    {
     "data": {
      "application/javascript": [
       "\n",
       "        // We don't really need these require scripts. But this is to avert\n",
       "        //this code from running before display_input_sequence which DOES require external files\n",
       "        requirejs(['basic', 'ecco'], function(basic, ecco){\n",
       "                console.log('addToken viz_id', 'viz_663269');\n",
       "                window.ecco['viz_663269'].addToken({\"token\": \"7\", \"token_id\": 22, \"position\": 35, \"type\": \"output\"})\n",
       "                window.ecco['viz_663269'].redraw()\n",
       "        })\n",
       "        "
      ],
      "text/plain": [
       "<IPython.core.display.Javascript object>"
      ]
     },
     "metadata": {},
     "output_type": "display_data"
    },
    {
     "data": {
      "application/javascript": [
       "\n",
       "        // We don't really need these require scripts. But this is to avert\n",
       "        //this code from running before display_input_sequence which DOES require external files\n",
       "        requirejs(['basic', 'ecco'], function(basic, ecco){\n",
       "                console.log('addToken viz_id', 'viz_663269');\n",
       "                window.ecco['viz_663269'].addToken({\"token\": \".\", \"token_id\": 13, \"position\": 36, \"type\": \"output\"})\n",
       "                window.ecco['viz_663269'].redraw()\n",
       "        })\n",
       "        "
      ],
      "text/plain": [
       "<IPython.core.display.Javascript object>"
      ]
     },
     "metadata": {},
     "output_type": "display_data"
    },
    {
     "data": {
      "application/javascript": [
       "\n",
       "        // We don't really need these require scripts. But this is to avert\n",
       "        //this code from running before display_input_sequence which DOES require external files\n",
       "        requirejs(['basic', 'ecco'], function(basic, ecco){\n",
       "                console.log('addToken viz_id', 'viz_663269');\n",
       "                window.ecco['viz_663269'].addToken({\"token\": \" Czech\", \"token_id\": 16639, \"position\": 37, \"type\": \"output\"})\n",
       "                window.ecco['viz_663269'].redraw()\n",
       "        })\n",
       "        "
      ],
      "text/plain": [
       "<IPython.core.display.Javascript object>"
      ]
     },
     "metadata": {},
     "output_type": "display_data"
    },
    {
     "data": {
      "application/javascript": [
       "\n",
       "        // We don't really need these require scripts. But this is to avert\n",
       "        //this code from running before display_input_sequence which DOES require external files\n",
       "        requirejs(['basic', 'ecco'], function(basic, ecco){\n",
       "                console.log('addToken viz_id', 'viz_663269');\n",
       "                window.ecco['viz_663269'].addToken({\"token\": \" Republic\", \"token_id\": 2066, \"position\": 38, \"type\": \"output\"})\n",
       "                window.ecco['viz_663269'].redraw()\n",
       "        })\n",
       "        "
      ],
      "text/plain": [
       "<IPython.core.display.Javascript object>"
      ]
     },
     "metadata": {},
     "output_type": "display_data"
    },
    {
     "data": {
      "application/javascript": [
       "\n",
       "        // We don't really need these require scripts. But this is to avert\n",
       "        //this code from running before display_input_sequence which DOES require external files\n",
       "        requirejs(['basic', 'ecco'], function(basic, ecco){\n",
       "                console.log('addToken viz_id', 'viz_663269');\n",
       "                window.ecco['viz_663269'].addToken({\"token\": \"\\n\", \"token_id\": 198, \"position\": 39, \"type\": \"output\"})\n",
       "                window.ecco['viz_663269'].redraw()\n",
       "        })\n",
       "        "
      ],
      "text/plain": [
       "<IPython.core.display.Javascript object>"
      ]
     },
     "metadata": {},
     "output_type": "display_data"
    },
    {
     "data": {
      "application/javascript": [
       "\n",
       "        // We don't really need these require scripts. But this is to avert\n",
       "        //this code from running before display_input_sequence which DOES require external files\n",
       "        requirejs(['basic', 'ecco'], function(basic, ecco){\n",
       "                console.log('addToken viz_id', 'viz_663269');\n",
       "                window.ecco['viz_663269'].addToken({\"token\": \"8\", \"token_id\": 23, \"position\": 40, \"type\": \"output\"})\n",
       "                window.ecco['viz_663269'].redraw()\n",
       "        })\n",
       "        "
      ],
      "text/plain": [
       "<IPython.core.display.Javascript object>"
      ]
     },
     "metadata": {},
     "output_type": "display_data"
    },
    {
     "data": {
      "application/javascript": [
       "\n",
       "        // We don't really need these require scripts. But this is to avert\n",
       "        //this code from running before display_input_sequence which DOES require external files\n",
       "        requirejs(['basic', 'ecco'], function(basic, ecco){\n",
       "                console.log('addToken viz_id', 'viz_663269');\n",
       "                window.ecco['viz_663269'].addToken({\"token\": \".\", \"token_id\": 13, \"position\": 41, \"type\": \"output\"})\n",
       "                window.ecco['viz_663269'].redraw()\n",
       "        })\n",
       "        "
      ],
      "text/plain": [
       "<IPython.core.display.Javascript object>"
      ]
     },
     "metadata": {},
     "output_type": "display_data"
    },
    {
     "data": {
      "application/javascript": [
       "\n",
       "        // We don't really need these require scripts. But this is to avert\n",
       "        //this code from running before display_input_sequence which DOES require external files\n",
       "        requirejs(['basic', 'ecco'], function(basic, ecco){\n",
       "                console.log('addToken viz_id', 'viz_663269');\n",
       "                window.ecco['viz_663269'].addToken({\"token\": \" Czech\", \"token_id\": 16639, \"position\": 42, \"type\": \"output\"})\n",
       "                window.ecco['viz_663269'].redraw()\n",
       "        })\n",
       "        "
      ],
      "text/plain": [
       "<IPython.core.display.Javascript object>"
      ]
     },
     "metadata": {},
     "output_type": "display_data"
    }
   ],
   "source": [
    "text= \"The countries of the European Union are:\\n1. Austria\\n2. Belgium\\n3. Bulgaria\\n4.\"\n",
    "\n",
    "# This step will take a while to run. Run it using a GPU if possible \n",
    "# or pass `attribution` argument according to the desired attribution methods.\n",
    "# By default, attribution=['gradient', 'grad_x_input', 'integrated_gradients']\n",
    "output = lm.generate(text, generate=20, do_sample=True)"
   ]
  },
  {
   "cell_type": "markdown",
   "metadata": {},
   "source": [
    "## Input Saliency"
   ]
  },
  {
   "cell_type": "code",
   "execution_count": 4,
   "metadata": {
    "colab": {
     "base_uri": "https://localhost:8080/",
     "height": 234
    },
    "id": "3a02pyc2WASq",
    "outputId": "ac3e4d15-f2fb-4f4e-9bf7-0882a6c895c2"
   },
   "outputs": [
    {
     "data": {
      "text/html": [
       "<html lang=\"en\">\n",
       "<script src=\"https://requirejs.org/docs/release/2.3.6/minified/require.js\"></script>\n",
       "<script>\n",
       "    var ecco_url = 'https://storage.googleapis.com/ml-intro/ecco/'\n",
       "    // var ecco_url = 'http://localhost:8000/ecco/'\n",
       "\n",
       "    if (window.ecco === undefined) window.ecco = {}\n",
       "\n",
       "    requirejs.config({\n",
       "        urlArgs: \"bust=\" + (new Date()).getTime(),\n",
       "        nodeRequire: require,\n",
       "        paths: {\n",
       "            d3: \"https://d3js.org/d3.v5.min\",\n",
       "            \"d3-array\": \"https://d3js.org/d3-array.v2.min\",\n",
       "            jquery: \"https://code.jquery.com/jquery-3.5.1.min\",\n",
       "            // oldEcco: ecco_url + 'ecco',\n",
       "            ecco: ecco_url + 'js/0.0.4/ecco-bundle.min',\n",
       "            xregexp: 'https://cdnjs.cloudflare.com/ajax/libs/xregexp/3.2.0/xregexp-all.min'\n",
       "        }\n",
       "    });\n",
       "    requirejs(['d3'],\n",
       "        function (d3) {\n",
       "            d3.select('#css').attr('href', ecco_url + 'html/styles.css')\n",
       "        })\n",
       "\n",
       "    console.log('Ecco initialize.')\n",
       "</script>\n",
       "\n",
       "<head>\n",
       "    <link id='css' rel=\"stylesheet\" type=\"text/css\">\n",
       "</head>\n"
      ],
      "text/plain": [
       "<IPython.core.display.HTML object>"
      ]
     },
     "metadata": {},
     "output_type": "display_data"
    },
    {
     "data": {
      "text/html": [
       "<script>\n",
       "    // console.log('defining basic')\n",
       "    define('basic', ['d3'],\n",
       "        function (d3) {\n",
       "            return {\n",
       "                init: function (viz_id = null) {\n",
       "\n",
       "                    // console.log('basic init')\n",
       "                    if (viz_id == null){\n",
       "                        viz_id = \"viz_\" + Math.round(Math.random() * 10000000)\n",
       "                    }\n",
       "                    const div = d3.select('#basic').attr('id', viz_id),\n",
       "                        div_parent = d3.select('#' + viz_id).node().parentNode\n",
       "\n",
       "                    // Link to CSS file\n",
       "                    d3.select(div_parent).insert('link')\n",
       "                        .attr('rel', 'stylesheet')\n",
       "                        .attr('type', 'text/css')\n",
       "                        .attr('href', ecco_url + 'html/styles.css')\n",
       "\n",
       "                    return viz_id\n",
       "                }\n",
       "            }\n",
       "        }, function (err) {console.log(err);}\n",
       "    )\n",
       "    // console.log('after defining basic')\n",
       "\n",
       "</script>\n",
       "<div id=\"basic\"></div>\n"
      ],
      "text/plain": [
       "<IPython.core.display.HTML object>"
      ]
     },
     "metadata": {},
     "output_type": "display_data"
    },
    {
     "data": {
      "application/javascript": [
       "\n",
       "             requirejs(['basic', 'ecco'], function(basic, ecco){\n",
       "                const viz_id = basic.init()\n",
       "                // ecco.interactiveTokens(viz_id, {})\n",
       "                window.ecco[viz_id] = new ecco.MinimalHighlighter({\n",
       "                parentDiv: viz_id,\n",
       "                data: {'tokens': [{'token': 'The', 'token_id': 464, 'type': 'input', 'value': '0.050106425', 'position': 0}, {'token': ' countries', 'token_id': 2678, 'type': 'input', 'value': '0.0504145', 'position': 1}, {'token': ' of', 'token_id': 286, 'type': 'input', 'value': '0.013146918', 'position': 2}, {'token': ' the', 'token_id': 262, 'type': 'input', 'value': '0.011905296', 'position': 3}, {'token': ' European', 'token_id': 3427, 'type': 'input', 'value': '0.049520094', 'position': 4}, {'token': ' Union', 'token_id': 4479, 'type': 'input', 'value': '0.027339404', 'position': 5}, {'token': ' are', 'token_id': 389, 'type': 'input', 'value': '0.015987074', 'position': 6}, {'token': ':', 'token_id': 25, 'type': 'input', 'value': '0.020436635', 'position': 7}, {'token': '\\n', 'token_id': 198, 'type': 'input', 'value': '0.026409792', 'position': 8}, {'token': '1', 'token_id': 16, 'type': 'input', 'value': '0.03578337', 'position': 9}, {'token': '.', 'token_id': 13, 'type': 'input', 'value': '0.026544427', 'position': 10}, {'token': ' Austria', 'token_id': 17322, 'type': 'input', 'value': '0.15106396', 'position': 11}, {'token': '\\n', 'token_id': 198, 'type': 'input', 'value': '0.023737885', 'position': 12}, {'token': '2', 'token_id': 17, 'type': 'input', 'value': '0.0254512', 'position': 13}, {'token': '.', 'token_id': 13, 'type': 'input', 'value': '0.019801034', 'position': 14}, {'token': ' Belgium', 'token_id': 15664, 'type': 'input', 'value': '0.12951401', 'position': 15}, {'token': '\\n', 'token_id': 198, 'type': 'input', 'value': '0.017129358', 'position': 16}, {'token': '3', 'token_id': 18, 'type': 'input', 'value': '0.028085167', 'position': 17}, {'token': '.', 'token_id': 13, 'type': 'input', 'value': '0.02479515', 'position': 18}, {'token': ' Bulgaria', 'token_id': 27902, 'type': 'input', 'value': '0.16200729', 'position': 19}, {'token': '\\n', 'token_id': 198, 'type': 'input', 'value': '0.016966427', 'position': 20}, {'token': '4', 'token_id': 19, 'type': 'input', 'value': '0.04059757', 'position': 21}, {'token': '.', 'token_id': 13, 'type': 'input', 'value': '0.033257008', 'position': 22}, {'token': ' Czech', 'token_id': 16639, 'type': 'output', 'value': '0', 'position': 23}, {'token': ' Republic', 'token_id': 2066, 'type': 'output', 'value': '0', 'position': 24}, {'token': '\\n', 'token_id': 198, 'type': 'output', 'value': '0', 'position': 25}, {'token': '5', 'token_id': 20, 'type': 'output', 'value': '0', 'position': 26}, {'token': '.', 'token_id': 13, 'type': 'output', 'value': '0', 'position': 27}, {'token': ' Czech', 'token_id': 16639, 'type': 'output', 'value': '0', 'position': 28}, {'token': ' Republic', 'token_id': 2066, 'type': 'output', 'value': '0', 'position': 29}, {'token': '\\n', 'token_id': 198, 'type': 'output', 'value': '0', 'position': 30}, {'token': '6', 'token_id': 21, 'type': 'output', 'value': '0', 'position': 31}, {'token': '.', 'token_id': 13, 'type': 'output', 'value': '0', 'position': 32}, {'token': ' Cyprus', 'token_id': 27885, 'type': 'output', 'value': '0', 'position': 33}, {'token': '\\n', 'token_id': 198, 'type': 'output', 'value': '0', 'position': 34}, {'token': '7', 'token_id': 22, 'type': 'output', 'value': '0', 'position': 35}, {'token': '.', 'token_id': 13, 'type': 'output', 'value': '0', 'position': 36}, {'token': ' Czech', 'token_id': 16639, 'type': 'output', 'value': '0', 'position': 37}, {'token': ' Republic', 'token_id': 2066, 'type': 'output', 'value': '0', 'position': 38}, {'token': '\\n', 'token_id': 198, 'type': 'output', 'value': '0', 'position': 39}, {'token': '8', 'token_id': 23, 'type': 'output', 'value': '0', 'position': 40}, {'token': '.', 'token_id': 13, 'type': 'output', 'value': '0', 'position': 41}, {'token': ' Czech', 'token_id': 16639, 'type': 'output', 'value': '0', 'position': 42}], 'attributions': [[0.05010642483830452, 0.05041449889540672, 0.013146918267011642, 0.01190529577434063, 0.049520093947649, 0.027339404448866844, 0.015987074002623558, 0.020436635240912437, 0.02640979178249836, 0.03578336909413338, 0.02654442749917507, 0.1510639637708664, 0.023737885057926178, 0.02545120008289814, 0.019801033660769463, 0.12951400876045227, 0.017129357904195786, 0.028085166588425636, 0.024795150384306908, 0.16200728714466095, 0.016966426745057106, 0.040597569197416306, 0.03325700759887695], [0.02918318286538124, 0.03903491050004959, 0.01013349462300539, 0.009662886150181293, 0.033630456775426865, 0.01735502853989601, 0.014308618381619453, 0.016557279974222183, 0.01795983500778675, 0.018173670396208763, 0.014264901168644428, 0.06681633740663528, 0.015316244214773178, 0.015462836250662804, 0.014584297314286232, 0.04547257721424103, 0.017065871506929398, 0.017246248200535774, 0.014640392735600471, 0.07261254638433456, 0.031804539263248444, 0.04411213472485542, 0.027428630739450455, 0.39717304706573486], [0.04871455207467079, 0.0569702573120594, 0.014619344845414162, 0.012478575110435486, 0.03547900170087814, 0.027206186205148697, 0.030398447066545486, 0.04512564092874527, 0.030926456674933434, 0.03868069499731064, 0.023845309391617775, 0.07459983974695206, 0.024378178641200066, 0.028461864218115807, 0.021339047700166702, 0.04696716368198395, 0.022680141031742096, 0.02364034205675125, 0.013978458009660244, 0.04514090716838837, 0.022073162719607353, 0.02895274944603443, 0.022176796570420265, 0.11722244322299957, 0.14394444227218628], [0.04400159791111946, 0.05937064811587334, 0.01719612628221512, 0.01345035806298256, 0.037518903613090515, 0.028252845630049706, 0.02599484845995903, 0.03552386909723282, 0.04266241565346718, 0.06577589362859726, 0.030104849487543106, 0.0520513579249382, 0.031508058309555054, 0.05319428816437721, 0.021093690767884254, 0.03385721892118454, 0.02874123677611351, 0.05869326740503311, 0.02389485388994217, 0.035873718559741974, 0.027831178158521652, 0.06496182829141617, 0.02347763068974018, 0.05529811605811119, 0.03929738700389862, 0.05037383735179901], [0.04649370536208153, 0.07733643054962158, 0.013843782246112823, 0.011568645015358925, 0.032639600336551666, 0.02837902307510376, 0.022239910438656807, 0.024670861661434174, 0.02885175123810768, 0.047748517245054245, 0.03013249672949314, 0.07200652360916138, 0.023940952494740486, 0.032775260508060455, 0.0312713161110878, 0.045831408351659775, 0.022838862612843513, 0.03659740835428238, 0.03024098463356495, 0.04711391404271126, 0.023493090644478798, 0.05046902596950531, 0.026959646493196487, 0.04954477772116661, 0.021347228437662125, 0.0328538753092289, 0.08881106972694397], [0.046196673065423965, 0.04084014147520065, 0.01176216546446085, 0.010735603049397469, 0.04158787429332733, 0.022503269836306572, 0.014170819893479347, 0.018238846212625504, 0.02342708222568035, 0.02645447850227356, 0.02157760225236416, 0.11999239027500153, 0.018771052360534668, 0.019258083775639534, 0.015638329088687897, 0.08763784915208817, 0.013996368274092674, 0.017239181324839592, 0.022182848304510117, 0.08886139839887619, 0.016506053507328033, 0.023219823837280273, 0.01878361590206623, 0.1458887755870819, 0.018458349630236626, 0.019160140305757523, 0.044090911746025085, 0.03282028064131737], [0.025330128148198128, 0.03269628807902336, 0.009662897326052189, 0.00877163466066122, 0.02910766564309597, 0.014091347344219685, 0.011610645800828934, 0.012623877264559269, 0.014197658747434616, 0.013953151181340218, 0.0109886908903718, 0.046437833458185196, 0.01237324345856905, 0.013756239786744118, 0.010209032334387302, 0.03653807193040848, 0.01273060217499733, 0.013457365334033966, 0.01013056468218565, 0.05714559182524681, 0.01612747088074684, 0.015178252011537552, 0.011570769362151623, 0.1206338033080101, 0.10365932434797287, 0.01971328817307949, 0.029759185388684273, 0.016489747911691666, 0.2710556983947754], [0.045450471341609955, 0.05188450589776039, 0.013297021389007568, 0.011232330463826656, 0.031366847455501556, 0.02370619773864746, 0.028394188731908798, 0.03890671581029892, 0.025739014148712158, 0.03222291171550751, 0.019219761714339256, 0.06416787952184677, 0.01755591109395027, 0.02149035595357418, 0.017337821424007416, 0.04300037771463394, 0.017059190198779106, 0.017430758103728294, 0.01243255939334631, 0.04212302342057228, 0.015842221677303314, 0.01857546716928482, 0.01573251746594906, 0.039728522300720215, 0.046290408819913864, 0.02279834635555744, 0.024507679045200348, 0.02072889171540737, 0.08938105404376984, 0.13239707052707672], [0.036063749343156815, 0.0496579073369503, 0.01436405349522829, 0.010265890508890152, 0.029527505859732628, 0.0223360825330019, 0.022860607132315636, 0.03184095025062561, 0.039525099098682404, 0.05123181641101837, 0.02341155707836151, 0.03941459208726883, 0.02462407946586609, 0.03517872840166092, 0.016179069876670837, 0.02806747518479824, 0.023336071521043777, 0.03636576235294342, 0.017562326043844223, 0.030173195526003838, 0.020453279837965965, 0.05392524227499962, 0.015578479506075382, 0.04624789580702782, 0.01810169778764248, 0.026403391733765602, 0.07513037323951721, 0.021613452583551407, 0.06280077993869781, 0.03715747222304344, 0.04060138761997223], [0.04653653874993324, 0.0700574666261673, 0.012293032370507717, 0.011560441926121712, 0.02925637923181057, 0.024929242208600044, 0.02008962072432041, 0.022695044055581093, 0.027005232870578766, 0.040639445185661316, 0.02578052319586277, 0.06252104789018631, 0.018761293962597847, 0.025260426104068756, 0.02641371451318264, 0.04197936877608299, 0.0189227182418108, 0.025780318304896355, 0.019594227895140648, 0.03936239331960678, 0.01592446118593216, 0.02290637418627739, 0.023054851219058037, 0.03175989165902138, 0.017512217164039612, 0.025102689862251282, 0.042596857994794846, 0.02278517372906208, 0.04454798623919487, 0.02219824120402336, 0.03207763284444809, 0.09009518474340439], [0.04090355709195137, 0.03610045835375786, 0.010983251966536045, 0.009913615882396698, 0.03554588928818703, 0.01942744478583336, 0.013031110167503357, 0.016858873888850212, 0.021103130653500557, 0.02263566479086876, 0.018482865765690804, 0.10338576883077621, 0.015058523043990135, 0.0166582390666008, 0.012890067882835865, 0.06830970197916031, 0.01236855797469616, 0.015290803276002407, 0.017002573236823082, 0.07047995179891586, 0.015504462644457817, 0.020096834748983383, 0.013181869871914387, 0.08240688592195511, 0.02503274753689766, 0.013653155416250229, 0.015088751912117004, 0.018285758793354034, 0.12068496644496918, 0.013558906503021717, 0.016928570345044136, 0.040889251977205276, 0.028257781639695168], [0.04367685690522194, 0.05499877408146858, 0.013548074290156364, 0.01183001697063446, 0.0307322945445776, 0.023953132331371307, 0.025939855724573135, 0.031000841408967972, 0.030537599697709084, 0.036897413432598114, 0.02009882777929306, 0.061500921845436096, 0.02398986741900444, 0.0224893931299448, 0.01939195767045021, 0.03750619664788246, 0.014194791205227375, 0.016990048810839653, 0.0126339141279459, 0.03574668988585472, 0.012807706370949745, 0.0156701672822237, 0.009645518846809864, 0.020257284864783287, 0.013824403285980225, 0.010382923297584057, 0.01602325774729252, 0.008868416771292686, 0.019789662212133408, 0.014813847839832306, 0.021660927683115005, 0.029729241505265236, 0.015967531129717827, 0.2229015976190567], [0.03642846643924713, 0.042956896126270294, 0.012660501524806023, 0.009434705600142479, 0.02690068446099758, 0.020941466093063354, 0.01824634149670601, 0.02931215800344944, 0.0419134721159935, 0.045719489455223083, 0.020050320774316788, 0.03723985329270363, 0.023339884355664253, 0.03358658775687218, 0.014440332539379597, 0.024064840748906136, 0.020517315715551376, 0.033701084554195404, 0.01345001719892025, 0.029455112293362617, 0.01664850115776062, 0.04208127409219742, 0.011970811523497105, 0.024767788127064705, 0.01574893668293953, 0.01846233196556568, 0.0554826557636261, 0.011122826486825943, 0.026421844959259033, 0.01689181849360466, 0.02910560742020607, 0.07305921614170074, 0.018423371016979218, 0.06835857778787613, 0.03709476813673973], [0.04329192638397217, 0.061401307582855225, 0.01133215893059969, 0.01123035792261362, 0.025621939450502396, 0.02100387215614319, 0.01889690011739731, 0.021088242530822754, 0.02539174072444439, 0.03412473574280739, 0.02335510402917862, 0.05655588209629059, 0.016575541347265244, 0.021333782002329826, 0.02344576083123684, 0.03912128508090973, 0.014537780545651913, 0.018860695883631706, 0.01703847572207451, 0.03636809438467026, 0.013446551747620106, 0.019993415102362633, 0.01702757738530636, 0.028584858402609825, 0.013751792721450329, 0.016449399292469025, 0.01995394565165043, 0.023988477885723114, 0.02356630563735962, 0.01494339294731617, 0.026031259447336197, 0.054865702986717224, 0.022154763340950012, 0.04970812052488327, 0.031358156353235245, 0.08360075205564499], [0.03793133795261383, 0.033308178186416626, 0.010011481121182442, 0.00918045174330473, 0.03171601891517639, 0.017755897715687752, 0.011941713280975819, 0.015600607730448246, 0.019209936261177063, 0.020773302763700485, 0.015321513637900352, 0.09334681183099747, 0.013839496299624443, 0.014964159578084946, 0.010732222348451614, 0.05642365291714668, 0.011345888487994671, 0.013906486332416534, 0.0136359678581357, 0.0599353201687336, 0.012401726096868515, 0.015877820551395416, 0.009497549384832382, 0.06736260652542114, 0.023090723901987076, 0.010943136177957058, 0.01252727024257183, 0.016408788040280342, 0.09431308507919312, 0.012412862852215767, 0.01264047622680664, 0.01595684140920639, 0.01142574567347765, 0.09999313205480576, 0.01577925868332386, 0.03258879855275154, 0.025899730622768402], [0.021875176578760147, 0.02333887480199337, 0.006754355970770121, 0.006178639363497496, 0.019963709637522697, 0.011327607557177544, 0.010013512335717678, 0.010343160480260849, 0.010168205015361309, 0.010381283238530159, 0.008767528459429741, 0.030363919213414192, 0.009297868236899376, 0.00966146681457758, 0.008744360879063606, 0.02394982799887657, 0.00896229688078165, 0.010661706328392029, 0.008477389812469482, 0.033663198351860046, 0.008646883070468903, 0.010032509453594685, 0.007833510637283325, 0.061228130012750626, 0.06622818112373352, 0.011616090312600136, 0.01411349419504404, 0.010378404520452023, 0.05688747018575668, 0.07752294093370438, 0.015262848697602749, 0.014084204100072384, 0.009131128899753094, 0.07903612405061722, 0.017744630575180054, 0.027840759605169296, 0.01802855357527733, 0.2114899456501007], [0.040324240922927856, 0.04565209150314331, 0.011756401509046555, 0.009629751555621624, 0.026515277102589607, 0.020215630531311035, 0.025300059467554092, 0.034498829394578934, 0.023898789659142494, 0.02833496406674385, 0.015566051006317139, 0.05252901464700699, 0.014212016016244888, 0.017612911760807037, 0.014781844802200794, 0.03786951303482056, 0.012256074696779251, 0.01364079862833023, 0.011170763522386551, 0.03344959393143654, 0.011416814289987087, 0.014516700059175491, 0.010441737249493599, 0.026728855445981026, 0.02936755307018757, 0.013319109566509724, 0.012100132182240486, 0.010870644822716713, 0.0246922317892313, 0.027069302275776863, 0.015256507322192192, 0.014297571033239365, 0.009286279790103436, 0.03931979462504387, 0.015248519368469715, 0.032242096960544586, 0.013397564180195332, 0.08316140621900558, 0.10805266350507736], [0.031010739505290985, 0.04148567095398903, 0.011802143417298794, 0.008982142433524132, 0.023577973246574402, 0.018716629594564438, 0.01881486549973488, 0.025416161864995956, 0.038453809916973114, 0.03869307413697243, 0.015851248055696487, 0.031448401510715485, 0.021569835022091866, 0.026346059516072273, 0.012689421884715557, 0.022382648661732674, 0.016602659597992897, 0.025811731815338135, 0.01083436980843544, 0.026487452909350395, 0.013513807207345963, 0.03182291239500046, 0.00940320361405611, 0.02433095872402191, 0.015736373141407967, 0.016389036551117897, 0.03988125920295715, 0.009492394514381886, 0.02263188734650612, 0.013718987815082073, 0.02080341801047325, 0.04705403745174408, 0.010842856019735336, 0.034511372447013855, 0.023852096870541573, 0.05256204307079315, 0.016074668616056442, 0.05127182975411415, 0.03726109117269516, 0.04186872020363808], [0.04240312799811363, 0.059258535504341125, 0.010822742246091366, 0.010986070148646832, 0.02505352906882763, 0.020411496981978416, 0.01841622032225132, 0.020239725708961487, 0.024662401527166367, 0.03412090241909027, 0.020525556057691574, 0.05474020913243294, 0.014749409630894661, 0.018661832436919212, 0.019853949546813965, 0.03706900775432587, 0.012010692618787289, 0.01598924770951271, 0.012796287424862385, 0.03539169207215309, 0.010981297120451927, 0.015204650349915028, 0.012612985447049141, 0.03147740662097931, 0.01298537291586399, 0.01252916269004345, 0.016284551471471786, 0.014918067492544651, 0.02590908296406269, 0.012031007558107376, 0.014910224825143814, 0.022060681134462357, 0.018047841265797615, 0.025761932134628296, 0.018427280709147453, 0.045470140874385834, 0.01884949393570423, 0.036348480731248856, 0.015599356032907963, 0.02973880060017109, 0.08168946951627731], [0.03433908894658089, 0.02990465797483921, 0.009227707982063293, 0.008636008016765118, 0.02851828746497631, 0.0158856101334095, 0.010975792072713375, 0.014823892153799534, 0.01766342855989933, 0.017892658710479736, 0.013975500129163265, 0.08570639789104462, 0.012605766765773296, 0.01323696319013834, 0.01002285722643137, 0.05086525157094002, 0.010601279325783253, 0.012702904641628265, 0.0122819934040308, 0.054456356912851334, 0.011413590051233768, 0.014408150687813759, 0.008193086832761765, 0.061449434608221054, 0.020779991522431374, 0.008598405867815018, 0.009726457297801971, 0.011615529656410217, 0.0652836263179779, 0.014612926170229912, 0.012945076450705528, 0.014212064445018768, 0.009133541025221348, 0.07340994477272034, 0.009872909635305405, 0.019006650894880295, 0.020350506529211998, 0.07080607116222382, 0.009168995544314384, 0.014323060400784016, 0.02994578704237938, 0.026421785354614258]]},\n",
       "                preset: 'viridis'\n",
       "             })\n",
       "\n",
       "             window.ecco[viz_id].init();\n",
       "             window.ecco[viz_id].selectFirstToken();\n",
       "\n",
       "             }, function (err) {\n",
       "                console.log(err);\n",
       "            })"
      ],
      "text/plain": [
       "<IPython.core.display.Javascript object>"
      ]
     },
     "metadata": {},
     "output_type": "display_data"
    }
   ],
   "source": [
    "output.primary_attributions(attr_method='grad_x_input')"
   ]
  },
  {
   "cell_type": "code",
   "execution_count": 5,
   "metadata": {
    "colab": {
     "base_uri": "https://localhost:8080/",
     "height": 357
    },
    "id": "rRM7NKV91TCk",
    "outputId": "cb209195-cea3-4402-ef3c-ead36f0d405f"
   },
   "outputs": [
    {
     "data": {
      "text/html": [
       "<html lang=\"en\">\n",
       "<script src=\"https://requirejs.org/docs/release/2.3.6/minified/require.js\"></script>\n",
       "<script>\n",
       "    var ecco_url = 'https://storage.googleapis.com/ml-intro/ecco/'\n",
       "    // var ecco_url = 'http://localhost:8000/ecco/'\n",
       "\n",
       "    if (window.ecco === undefined) window.ecco = {}\n",
       "\n",
       "    requirejs.config({\n",
       "        urlArgs: \"bust=\" + (new Date()).getTime(),\n",
       "        nodeRequire: require,\n",
       "        paths: {\n",
       "            d3: \"https://d3js.org/d3.v5.min\",\n",
       "            \"d3-array\": \"https://d3js.org/d3-array.v2.min\",\n",
       "            jquery: \"https://code.jquery.com/jquery-3.5.1.min\",\n",
       "            // oldEcco: ecco_url + 'ecco',\n",
       "            ecco: ecco_url + 'js/0.0.4/ecco-bundle.min',\n",
       "            xregexp: 'https://cdnjs.cloudflare.com/ajax/libs/xregexp/3.2.0/xregexp-all.min'\n",
       "        }\n",
       "    });\n",
       "    requirejs(['d3'],\n",
       "        function (d3) {\n",
       "            d3.select('#css').attr('href', ecco_url + 'html/styles.css')\n",
       "        })\n",
       "\n",
       "    console.log('Ecco initialize.')\n",
       "</script>\n",
       "\n",
       "<head>\n",
       "    <link id='css' rel=\"stylesheet\" type=\"text/css\">\n",
       "</head>\n"
      ],
      "text/plain": [
       "<IPython.core.display.HTML object>"
      ]
     },
     "metadata": {},
     "output_type": "display_data"
    },
    {
     "data": {
      "text/html": [
       "<script>\n",
       "    // console.log('defining basic')\n",
       "    define('basic', ['d3'],\n",
       "        function (d3) {\n",
       "            return {\n",
       "                init: function (viz_id = null) {\n",
       "\n",
       "                    // console.log('basic init')\n",
       "                    if (viz_id == null){\n",
       "                        viz_id = \"viz_\" + Math.round(Math.random() * 10000000)\n",
       "                    }\n",
       "                    const div = d3.select('#basic').attr('id', viz_id),\n",
       "                        div_parent = d3.select('#' + viz_id).node().parentNode\n",
       "\n",
       "                    // Link to CSS file\n",
       "                    d3.select(div_parent).insert('link')\n",
       "                        .attr('rel', 'stylesheet')\n",
       "                        .attr('type', 'text/css')\n",
       "                        .attr('href', ecco_url + 'html/styles.css')\n",
       "\n",
       "                    return viz_id\n",
       "                }\n",
       "            }\n",
       "        }, function (err) {console.log(err);}\n",
       "    )\n",
       "    // console.log('after defining basic')\n",
       "\n",
       "</script>\n",
       "<div id=\"basic\"></div>\n"
      ],
      "text/plain": [
       "<IPython.core.display.HTML object>"
      ]
     },
     "metadata": {},
     "output_type": "display_data"
    },
    {
     "data": {
      "application/javascript": [
       "\n",
       "             requirejs(['basic', 'ecco'], function(basic, ecco){\n",
       "                const viz_id = basic.init()\n",
       "                window.ecco[viz_id] = ecco.interactiveTokens(viz_id, {'tokens': [{'token': 'The', 'token_id': 464, 'type': 'input', 'value': '0.050106425', 'position': 0}, {'token': ' countries', 'token_id': 2678, 'type': 'input', 'value': '0.0504145', 'position': 1}, {'token': ' of', 'token_id': 286, 'type': 'input', 'value': '0.013146918', 'position': 2}, {'token': ' the', 'token_id': 262, 'type': 'input', 'value': '0.011905296', 'position': 3}, {'token': ' European', 'token_id': 3427, 'type': 'input', 'value': '0.049520094', 'position': 4}, {'token': ' Union', 'token_id': 4479, 'type': 'input', 'value': '0.027339404', 'position': 5}, {'token': ' are', 'token_id': 389, 'type': 'input', 'value': '0.015987074', 'position': 6}, {'token': ':', 'token_id': 25, 'type': 'input', 'value': '0.020436635', 'position': 7}, {'token': '\\n', 'token_id': 198, 'type': 'input', 'value': '0.026409792', 'position': 8}, {'token': '1', 'token_id': 16, 'type': 'input', 'value': '0.03578337', 'position': 9}, {'token': '.', 'token_id': 13, 'type': 'input', 'value': '0.026544427', 'position': 10}, {'token': ' Austria', 'token_id': 17322, 'type': 'input', 'value': '0.15106396', 'position': 11}, {'token': '\\n', 'token_id': 198, 'type': 'input', 'value': '0.023737885', 'position': 12}, {'token': '2', 'token_id': 17, 'type': 'input', 'value': '0.0254512', 'position': 13}, {'token': '.', 'token_id': 13, 'type': 'input', 'value': '0.019801034', 'position': 14}, {'token': ' Belgium', 'token_id': 15664, 'type': 'input', 'value': '0.12951401', 'position': 15}, {'token': '\\n', 'token_id': 198, 'type': 'input', 'value': '0.017129358', 'position': 16}, {'token': '3', 'token_id': 18, 'type': 'input', 'value': '0.028085167', 'position': 17}, {'token': '.', 'token_id': 13, 'type': 'input', 'value': '0.02479515', 'position': 18}, {'token': ' Bulgaria', 'token_id': 27902, 'type': 'input', 'value': '0.16200729', 'position': 19}, {'token': '\\n', 'token_id': 198, 'type': 'input', 'value': '0.016966427', 'position': 20}, {'token': '4', 'token_id': 19, 'type': 'input', 'value': '0.04059757', 'position': 21}, {'token': '.', 'token_id': 13, 'type': 'input', 'value': '0.033257008', 'position': 22}, {'token': ' Czech', 'token_id': 16639, 'type': 'output', 'value': '0', 'position': 23}, {'token': ' Republic', 'token_id': 2066, 'type': 'output', 'value': '0', 'position': 24}, {'token': '\\n', 'token_id': 198, 'type': 'output', 'value': '0', 'position': 25}, {'token': '5', 'token_id': 20, 'type': 'output', 'value': '0', 'position': 26}, {'token': '.', 'token_id': 13, 'type': 'output', 'value': '0', 'position': 27}, {'token': ' Czech', 'token_id': 16639, 'type': 'output', 'value': '0', 'position': 28}, {'token': ' Republic', 'token_id': 2066, 'type': 'output', 'value': '0', 'position': 29}, {'token': '\\n', 'token_id': 198, 'type': 'output', 'value': '0', 'position': 30}, {'token': '6', 'token_id': 21, 'type': 'output', 'value': '0', 'position': 31}, {'token': '.', 'token_id': 13, 'type': 'output', 'value': '0', 'position': 32}, {'token': ' Cyprus', 'token_id': 27885, 'type': 'output', 'value': '0', 'position': 33}, {'token': '\\n', 'token_id': 198, 'type': 'output', 'value': '0', 'position': 34}, {'token': '7', 'token_id': 22, 'type': 'output', 'value': '0', 'position': 35}, {'token': '.', 'token_id': 13, 'type': 'output', 'value': '0', 'position': 36}, {'token': ' Czech', 'token_id': 16639, 'type': 'output', 'value': '0', 'position': 37}, {'token': ' Republic', 'token_id': 2066, 'type': 'output', 'value': '0', 'position': 38}, {'token': '\\n', 'token_id': 198, 'type': 'output', 'value': '0', 'position': 39}, {'token': '8', 'token_id': 23, 'type': 'output', 'value': '0', 'position': 40}, {'token': '.', 'token_id': 13, 'type': 'output', 'value': '0', 'position': 41}, {'token': ' Czech', 'token_id': 16639, 'type': 'output', 'value': '0', 'position': 42}], 'attributions': [[0.05010642483830452, 0.05041449889540672, 0.013146918267011642, 0.01190529577434063, 0.049520093947649, 0.027339404448866844, 0.015987074002623558, 0.020436635240912437, 0.02640979178249836, 0.03578336909413338, 0.02654442749917507, 0.1510639637708664, 0.023737885057926178, 0.02545120008289814, 0.019801033660769463, 0.12951400876045227, 0.017129357904195786, 0.028085166588425636, 0.024795150384306908, 0.16200728714466095, 0.016966426745057106, 0.040597569197416306, 0.03325700759887695], [0.02918318286538124, 0.03903491050004959, 0.01013349462300539, 0.009662886150181293, 0.033630456775426865, 0.01735502853989601, 0.014308618381619453, 0.016557279974222183, 0.01795983500778675, 0.018173670396208763, 0.014264901168644428, 0.06681633740663528, 0.015316244214773178, 0.015462836250662804, 0.014584297314286232, 0.04547257721424103, 0.017065871506929398, 0.017246248200535774, 0.014640392735600471, 0.07261254638433456, 0.031804539263248444, 0.04411213472485542, 0.027428630739450455, 0.39717304706573486], [0.04871455207467079, 0.0569702573120594, 0.014619344845414162, 0.012478575110435486, 0.03547900170087814, 0.027206186205148697, 0.030398447066545486, 0.04512564092874527, 0.030926456674933434, 0.03868069499731064, 0.023845309391617775, 0.07459983974695206, 0.024378178641200066, 0.028461864218115807, 0.021339047700166702, 0.04696716368198395, 0.022680141031742096, 0.02364034205675125, 0.013978458009660244, 0.04514090716838837, 0.022073162719607353, 0.02895274944603443, 0.022176796570420265, 0.11722244322299957, 0.14394444227218628], [0.04400159791111946, 0.05937064811587334, 0.01719612628221512, 0.01345035806298256, 0.037518903613090515, 0.028252845630049706, 0.02599484845995903, 0.03552386909723282, 0.04266241565346718, 0.06577589362859726, 0.030104849487543106, 0.0520513579249382, 0.031508058309555054, 0.05319428816437721, 0.021093690767884254, 0.03385721892118454, 0.02874123677611351, 0.05869326740503311, 0.02389485388994217, 0.035873718559741974, 0.027831178158521652, 0.06496182829141617, 0.02347763068974018, 0.05529811605811119, 0.03929738700389862, 0.05037383735179901], [0.04649370536208153, 0.07733643054962158, 0.013843782246112823, 0.011568645015358925, 0.032639600336551666, 0.02837902307510376, 0.022239910438656807, 0.024670861661434174, 0.02885175123810768, 0.047748517245054245, 0.03013249672949314, 0.07200652360916138, 0.023940952494740486, 0.032775260508060455, 0.0312713161110878, 0.045831408351659775, 0.022838862612843513, 0.03659740835428238, 0.03024098463356495, 0.04711391404271126, 0.023493090644478798, 0.05046902596950531, 0.026959646493196487, 0.04954477772116661, 0.021347228437662125, 0.0328538753092289, 0.08881106972694397], [0.046196673065423965, 0.04084014147520065, 0.01176216546446085, 0.010735603049397469, 0.04158787429332733, 0.022503269836306572, 0.014170819893479347, 0.018238846212625504, 0.02342708222568035, 0.02645447850227356, 0.02157760225236416, 0.11999239027500153, 0.018771052360534668, 0.019258083775639534, 0.015638329088687897, 0.08763784915208817, 0.013996368274092674, 0.017239181324839592, 0.022182848304510117, 0.08886139839887619, 0.016506053507328033, 0.023219823837280273, 0.01878361590206623, 0.1458887755870819, 0.018458349630236626, 0.019160140305757523, 0.044090911746025085, 0.03282028064131737], [0.025330128148198128, 0.03269628807902336, 0.009662897326052189, 0.00877163466066122, 0.02910766564309597, 0.014091347344219685, 0.011610645800828934, 0.012623877264559269, 0.014197658747434616, 0.013953151181340218, 0.0109886908903718, 0.046437833458185196, 0.01237324345856905, 0.013756239786744118, 0.010209032334387302, 0.03653807193040848, 0.01273060217499733, 0.013457365334033966, 0.01013056468218565, 0.05714559182524681, 0.01612747088074684, 0.015178252011537552, 0.011570769362151623, 0.1206338033080101, 0.10365932434797287, 0.01971328817307949, 0.029759185388684273, 0.016489747911691666, 0.2710556983947754], [0.045450471341609955, 0.05188450589776039, 0.013297021389007568, 0.011232330463826656, 0.031366847455501556, 0.02370619773864746, 0.028394188731908798, 0.03890671581029892, 0.025739014148712158, 0.03222291171550751, 0.019219761714339256, 0.06416787952184677, 0.01755591109395027, 0.02149035595357418, 0.017337821424007416, 0.04300037771463394, 0.017059190198779106, 0.017430758103728294, 0.01243255939334631, 0.04212302342057228, 0.015842221677303314, 0.01857546716928482, 0.01573251746594906, 0.039728522300720215, 0.046290408819913864, 0.02279834635555744, 0.024507679045200348, 0.02072889171540737, 0.08938105404376984, 0.13239707052707672], [0.036063749343156815, 0.0496579073369503, 0.01436405349522829, 0.010265890508890152, 0.029527505859732628, 0.0223360825330019, 0.022860607132315636, 0.03184095025062561, 0.039525099098682404, 0.05123181641101837, 0.02341155707836151, 0.03941459208726883, 0.02462407946586609, 0.03517872840166092, 0.016179069876670837, 0.02806747518479824, 0.023336071521043777, 0.03636576235294342, 0.017562326043844223, 0.030173195526003838, 0.020453279837965965, 0.05392524227499962, 0.015578479506075382, 0.04624789580702782, 0.01810169778764248, 0.026403391733765602, 0.07513037323951721, 0.021613452583551407, 0.06280077993869781, 0.03715747222304344, 0.04060138761997223], [0.04653653874993324, 0.0700574666261673, 0.012293032370507717, 0.011560441926121712, 0.02925637923181057, 0.024929242208600044, 0.02008962072432041, 0.022695044055581093, 0.027005232870578766, 0.040639445185661316, 0.02578052319586277, 0.06252104789018631, 0.018761293962597847, 0.025260426104068756, 0.02641371451318264, 0.04197936877608299, 0.0189227182418108, 0.025780318304896355, 0.019594227895140648, 0.03936239331960678, 0.01592446118593216, 0.02290637418627739, 0.023054851219058037, 0.03175989165902138, 0.017512217164039612, 0.025102689862251282, 0.042596857994794846, 0.02278517372906208, 0.04454798623919487, 0.02219824120402336, 0.03207763284444809, 0.09009518474340439], [0.04090355709195137, 0.03610045835375786, 0.010983251966536045, 0.009913615882396698, 0.03554588928818703, 0.01942744478583336, 0.013031110167503357, 0.016858873888850212, 0.021103130653500557, 0.02263566479086876, 0.018482865765690804, 0.10338576883077621, 0.015058523043990135, 0.0166582390666008, 0.012890067882835865, 0.06830970197916031, 0.01236855797469616, 0.015290803276002407, 0.017002573236823082, 0.07047995179891586, 0.015504462644457817, 0.020096834748983383, 0.013181869871914387, 0.08240688592195511, 0.02503274753689766, 0.013653155416250229, 0.015088751912117004, 0.018285758793354034, 0.12068496644496918, 0.013558906503021717, 0.016928570345044136, 0.040889251977205276, 0.028257781639695168], [0.04367685690522194, 0.05499877408146858, 0.013548074290156364, 0.01183001697063446, 0.0307322945445776, 0.023953132331371307, 0.025939855724573135, 0.031000841408967972, 0.030537599697709084, 0.036897413432598114, 0.02009882777929306, 0.061500921845436096, 0.02398986741900444, 0.0224893931299448, 0.01939195767045021, 0.03750619664788246, 0.014194791205227375, 0.016990048810839653, 0.0126339141279459, 0.03574668988585472, 0.012807706370949745, 0.0156701672822237, 0.009645518846809864, 0.020257284864783287, 0.013824403285980225, 0.010382923297584057, 0.01602325774729252, 0.008868416771292686, 0.019789662212133408, 0.014813847839832306, 0.021660927683115005, 0.029729241505265236, 0.015967531129717827, 0.2229015976190567], [0.03642846643924713, 0.042956896126270294, 0.012660501524806023, 0.009434705600142479, 0.02690068446099758, 0.020941466093063354, 0.01824634149670601, 0.02931215800344944, 0.0419134721159935, 0.045719489455223083, 0.020050320774316788, 0.03723985329270363, 0.023339884355664253, 0.03358658775687218, 0.014440332539379597, 0.024064840748906136, 0.020517315715551376, 0.033701084554195404, 0.01345001719892025, 0.029455112293362617, 0.01664850115776062, 0.04208127409219742, 0.011970811523497105, 0.024767788127064705, 0.01574893668293953, 0.01846233196556568, 0.0554826557636261, 0.011122826486825943, 0.026421844959259033, 0.01689181849360466, 0.02910560742020607, 0.07305921614170074, 0.018423371016979218, 0.06835857778787613, 0.03709476813673973], [0.04329192638397217, 0.061401307582855225, 0.01133215893059969, 0.01123035792261362, 0.025621939450502396, 0.02100387215614319, 0.01889690011739731, 0.021088242530822754, 0.02539174072444439, 0.03412473574280739, 0.02335510402917862, 0.05655588209629059, 0.016575541347265244, 0.021333782002329826, 0.02344576083123684, 0.03912128508090973, 0.014537780545651913, 0.018860695883631706, 0.01703847572207451, 0.03636809438467026, 0.013446551747620106, 0.019993415102362633, 0.01702757738530636, 0.028584858402609825, 0.013751792721450329, 0.016449399292469025, 0.01995394565165043, 0.023988477885723114, 0.02356630563735962, 0.01494339294731617, 0.026031259447336197, 0.054865702986717224, 0.022154763340950012, 0.04970812052488327, 0.031358156353235245, 0.08360075205564499], [0.03793133795261383, 0.033308178186416626, 0.010011481121182442, 0.00918045174330473, 0.03171601891517639, 0.017755897715687752, 0.011941713280975819, 0.015600607730448246, 0.019209936261177063, 0.020773302763700485, 0.015321513637900352, 0.09334681183099747, 0.013839496299624443, 0.014964159578084946, 0.010732222348451614, 0.05642365291714668, 0.011345888487994671, 0.013906486332416534, 0.0136359678581357, 0.0599353201687336, 0.012401726096868515, 0.015877820551395416, 0.009497549384832382, 0.06736260652542114, 0.023090723901987076, 0.010943136177957058, 0.01252727024257183, 0.016408788040280342, 0.09431308507919312, 0.012412862852215767, 0.01264047622680664, 0.01595684140920639, 0.01142574567347765, 0.09999313205480576, 0.01577925868332386, 0.03258879855275154, 0.025899730622768402], [0.021875176578760147, 0.02333887480199337, 0.006754355970770121, 0.006178639363497496, 0.019963709637522697, 0.011327607557177544, 0.010013512335717678, 0.010343160480260849, 0.010168205015361309, 0.010381283238530159, 0.008767528459429741, 0.030363919213414192, 0.009297868236899376, 0.00966146681457758, 0.008744360879063606, 0.02394982799887657, 0.00896229688078165, 0.010661706328392029, 0.008477389812469482, 0.033663198351860046, 0.008646883070468903, 0.010032509453594685, 0.007833510637283325, 0.061228130012750626, 0.06622818112373352, 0.011616090312600136, 0.01411349419504404, 0.010378404520452023, 0.05688747018575668, 0.07752294093370438, 0.015262848697602749, 0.014084204100072384, 0.009131128899753094, 0.07903612405061722, 0.017744630575180054, 0.027840759605169296, 0.01802855357527733, 0.2114899456501007], [0.040324240922927856, 0.04565209150314331, 0.011756401509046555, 0.009629751555621624, 0.026515277102589607, 0.020215630531311035, 0.025300059467554092, 0.034498829394578934, 0.023898789659142494, 0.02833496406674385, 0.015566051006317139, 0.05252901464700699, 0.014212016016244888, 0.017612911760807037, 0.014781844802200794, 0.03786951303482056, 0.012256074696779251, 0.01364079862833023, 0.011170763522386551, 0.03344959393143654, 0.011416814289987087, 0.014516700059175491, 0.010441737249493599, 0.026728855445981026, 0.02936755307018757, 0.013319109566509724, 0.012100132182240486, 0.010870644822716713, 0.0246922317892313, 0.027069302275776863, 0.015256507322192192, 0.014297571033239365, 0.009286279790103436, 0.03931979462504387, 0.015248519368469715, 0.032242096960544586, 0.013397564180195332, 0.08316140621900558, 0.10805266350507736], [0.031010739505290985, 0.04148567095398903, 0.011802143417298794, 0.008982142433524132, 0.023577973246574402, 0.018716629594564438, 0.01881486549973488, 0.025416161864995956, 0.038453809916973114, 0.03869307413697243, 0.015851248055696487, 0.031448401510715485, 0.021569835022091866, 0.026346059516072273, 0.012689421884715557, 0.022382648661732674, 0.016602659597992897, 0.025811731815338135, 0.01083436980843544, 0.026487452909350395, 0.013513807207345963, 0.03182291239500046, 0.00940320361405611, 0.02433095872402191, 0.015736373141407967, 0.016389036551117897, 0.03988125920295715, 0.009492394514381886, 0.02263188734650612, 0.013718987815082073, 0.02080341801047325, 0.04705403745174408, 0.010842856019735336, 0.034511372447013855, 0.023852096870541573, 0.05256204307079315, 0.016074668616056442, 0.05127182975411415, 0.03726109117269516, 0.04186872020363808], [0.04240312799811363, 0.059258535504341125, 0.010822742246091366, 0.010986070148646832, 0.02505352906882763, 0.020411496981978416, 0.01841622032225132, 0.020239725708961487, 0.024662401527166367, 0.03412090241909027, 0.020525556057691574, 0.05474020913243294, 0.014749409630894661, 0.018661832436919212, 0.019853949546813965, 0.03706900775432587, 0.012010692618787289, 0.01598924770951271, 0.012796287424862385, 0.03539169207215309, 0.010981297120451927, 0.015204650349915028, 0.012612985447049141, 0.03147740662097931, 0.01298537291586399, 0.01252916269004345, 0.016284551471471786, 0.014918067492544651, 0.02590908296406269, 0.012031007558107376, 0.014910224825143814, 0.022060681134462357, 0.018047841265797615, 0.025761932134628296, 0.018427280709147453, 0.045470140874385834, 0.01884949393570423, 0.036348480731248856, 0.015599356032907963, 0.02973880060017109, 0.08168946951627731], [0.03433908894658089, 0.02990465797483921, 0.009227707982063293, 0.008636008016765118, 0.02851828746497631, 0.0158856101334095, 0.010975792072713375, 0.014823892153799534, 0.01766342855989933, 0.017892658710479736, 0.013975500129163265, 0.08570639789104462, 0.012605766765773296, 0.01323696319013834, 0.01002285722643137, 0.05086525157094002, 0.010601279325783253, 0.012702904641628265, 0.0122819934040308, 0.054456356912851334, 0.011413590051233768, 0.014408150687813759, 0.008193086832761765, 0.061449434608221054, 0.020779991522431374, 0.008598405867815018, 0.009726457297801971, 0.011615529656410217, 0.0652836263179779, 0.014612926170229912, 0.012945076450705528, 0.014212064445018768, 0.009133541025221348, 0.07340994477272034, 0.009872909635305405, 0.019006650894880295, 0.020350506529211998, 0.07080607116222382, 0.009168995544314384, 0.014323060400784016, 0.02994578704237938, 0.026421785354614258]]})\n",
       "\n",
       "             }, function (err) {\n",
       "                console.log(err);\n",
       "            })"
      ],
      "text/plain": [
       "<IPython.core.display.Javascript object>"
      ]
     },
     "metadata": {},
     "output_type": "display_data"
    }
   ],
   "source": [
    "output.primary_attributions(attr_method='grad_x_input', style=\"detailed\")"
   ]
  },
  {
   "cell_type": "code",
   "execution_count": 6,
   "metadata": {
    "id": "iecRaZ0M14Lm"
   },
   "outputs": [
    {
     "data": {
      "text/html": [
       "<html lang=\"en\">\n",
       "<script src=\"https://requirejs.org/docs/release/2.3.6/minified/require.js\"></script>\n",
       "<script>\n",
       "    var ecco_url = 'https://storage.googleapis.com/ml-intro/ecco/'\n",
       "    // var ecco_url = 'http://localhost:8000/ecco/'\n",
       "\n",
       "    if (window.ecco === undefined) window.ecco = {}\n",
       "\n",
       "    requirejs.config({\n",
       "        urlArgs: \"bust=\" + (new Date()).getTime(),\n",
       "        nodeRequire: require,\n",
       "        paths: {\n",
       "            d3: \"https://d3js.org/d3.v5.min\",\n",
       "            \"d3-array\": \"https://d3js.org/d3-array.v2.min\",\n",
       "            jquery: \"https://code.jquery.com/jquery-3.5.1.min\",\n",
       "            // oldEcco: ecco_url + 'ecco',\n",
       "            ecco: ecco_url + 'js/0.0.4/ecco-bundle.min',\n",
       "            xregexp: 'https://cdnjs.cloudflare.com/ajax/libs/xregexp/3.2.0/xregexp-all.min'\n",
       "        }\n",
       "    });\n",
       "    requirejs(['d3'],\n",
       "        function (d3) {\n",
       "            d3.select('#css').attr('href', ecco_url + 'html/styles.css')\n",
       "        })\n",
       "\n",
       "    console.log('Ecco initialize.')\n",
       "</script>\n",
       "\n",
       "<head>\n",
       "    <link id='css' rel=\"stylesheet\" type=\"text/css\">\n",
       "</head>\n"
      ],
      "text/plain": [
       "<IPython.core.display.HTML object>"
      ]
     },
     "metadata": {},
     "output_type": "display_data"
    },
    {
     "data": {
      "text/html": [
       "<script>\n",
       "    // console.log('defining basic')\n",
       "    define('basic', ['d3'],\n",
       "        function (d3) {\n",
       "            return {\n",
       "                init: function (viz_id = null) {\n",
       "\n",
       "                    // console.log('basic init')\n",
       "                    if (viz_id == null){\n",
       "                        viz_id = \"viz_\" + Math.round(Math.random() * 10000000)\n",
       "                    }\n",
       "                    const div = d3.select('#basic').attr('id', viz_id),\n",
       "                        div_parent = d3.select('#' + viz_id).node().parentNode\n",
       "\n",
       "                    // Link to CSS file\n",
       "                    d3.select(div_parent).insert('link')\n",
       "                        .attr('rel', 'stylesheet')\n",
       "                        .attr('type', 'text/css')\n",
       "                        .attr('href', ecco_url + 'html/styles.css')\n",
       "\n",
       "                    return viz_id\n",
       "                }\n",
       "            }\n",
       "        }, function (err) {console.log(err);}\n",
       "    )\n",
       "    // console.log('after defining basic')\n",
       "\n",
       "</script>\n",
       "<div id=\"basic\"></div>\n"
      ],
      "text/plain": [
       "<IPython.core.display.HTML object>"
      ]
     },
     "metadata": {},
     "output_type": "display_data"
    },
    {
     "data": {
      "application/javascript": [
       "\n",
       "             requirejs(['basic', 'ecco'], function(basic, ecco){\n",
       "                const viz_id = basic.init()\n",
       "                // ecco.interactiveTokens(viz_id, {})\n",
       "                window.ecco[viz_id] = new ecco.MinimalHighlighter({\n",
       "                parentDiv: viz_id,\n",
       "                data: {'tokens': [{'token': 'The', 'token_id': 464, 'type': 'input', 'value': '0.07253395', 'position': 0}, {'token': ' countries', 'token_id': 2678, 'type': 'input', 'value': '0.042581126', 'position': 1}, {'token': ' of', 'token_id': 286, 'type': 'input', 'value': '0.011599744', 'position': 2}, {'token': ' the', 'token_id': 262, 'type': 'input', 'value': '0.016240755', 'position': 3}, {'token': ' European', 'token_id': 3427, 'type': 'input', 'value': '0.0613062', 'position': 4}, {'token': ' Union', 'token_id': 4479, 'type': 'input', 'value': '0.028303182', 'position': 5}, {'token': ' are', 'token_id': 389, 'type': 'input', 'value': '0.014916415', 'position': 6}, {'token': ':', 'token_id': 25, 'type': 'input', 'value': '0.018717812', 'position': 7}, {'token': '\\n', 'token_id': 198, 'type': 'input', 'value': '0.031175615', 'position': 8}, {'token': '1', 'token_id': 16, 'type': 'input', 'value': '0.02766461', 'position': 9}, {'token': '.', 'token_id': 13, 'type': 'input', 'value': '0.046968505', 'position': 10}, {'token': ' Austria', 'token_id': 17322, 'type': 'input', 'value': '0.17147908', 'position': 11}, {'token': '\\n', 'token_id': 198, 'type': 'input', 'value': '0.023654245', 'position': 12}, {'token': '2', 'token_id': 17, 'type': 'input', 'value': '0.021752357', 'position': 13}, {'token': '.', 'token_id': 13, 'type': 'input', 'value': '0.01834334', 'position': 14}, {'token': ' Belgium', 'token_id': 15664, 'type': 'input', 'value': '0.099196926', 'position': 15}, {'token': '\\n', 'token_id': 198, 'type': 'input', 'value': '0.019305207', 'position': 16}, {'token': '3', 'token_id': 18, 'type': 'input', 'value': '0.021058578', 'position': 17}, {'token': '.', 'token_id': 13, 'type': 'input', 'value': '0.019288825', 'position': 18}, {'token': ' Bulgaria', 'token_id': 27902, 'type': 'input', 'value': '0.15126075', 'position': 19}, {'token': '\\n', 'token_id': 198, 'type': 'input', 'value': '0.017794332', 'position': 20}, {'token': '4', 'token_id': 19, 'type': 'input', 'value': '0.035122022', 'position': 21}, {'token': '.', 'token_id': 13, 'type': 'input', 'value': '0.029736424', 'position': 22}, {'token': ' Czech', 'token_id': 16639, 'type': 'output', 'value': '0', 'position': 23}, {'token': ' Republic', 'token_id': 2066, 'type': 'output', 'value': '0', 'position': 24}, {'token': '\\n', 'token_id': 198, 'type': 'output', 'value': '0', 'position': 25}, {'token': '5', 'token_id': 20, 'type': 'output', 'value': '0', 'position': 26}, {'token': '.', 'token_id': 13, 'type': 'output', 'value': '0', 'position': 27}, {'token': ' Czech', 'token_id': 16639, 'type': 'output', 'value': '0', 'position': 28}, {'token': ' Republic', 'token_id': 2066, 'type': 'output', 'value': '0', 'position': 29}, {'token': '\\n', 'token_id': 198, 'type': 'output', 'value': '0', 'position': 30}, {'token': '6', 'token_id': 21, 'type': 'output', 'value': '0', 'position': 31}, {'token': '.', 'token_id': 13, 'type': 'output', 'value': '0', 'position': 32}, {'token': ' Cyprus', 'token_id': 27885, 'type': 'output', 'value': '0', 'position': 33}, {'token': '\\n', 'token_id': 198, 'type': 'output', 'value': '0', 'position': 34}, {'token': '7', 'token_id': 22, 'type': 'output', 'value': '0', 'position': 35}, {'token': '.', 'token_id': 13, 'type': 'output', 'value': '0', 'position': 36}, {'token': ' Czech', 'token_id': 16639, 'type': 'output', 'value': '0', 'position': 37}, {'token': ' Republic', 'token_id': 2066, 'type': 'output', 'value': '0', 'position': 38}, {'token': '\\n', 'token_id': 198, 'type': 'output', 'value': '0', 'position': 39}, {'token': '8', 'token_id': 23, 'type': 'output', 'value': '0', 'position': 40}, {'token': '.', 'token_id': 13, 'type': 'output', 'value': '0', 'position': 41}, {'token': ' Czech', 'token_id': 16639, 'type': 'output', 'value': '0', 'position': 42}], 'attributions': [[0.07253395020961761, 0.04258112609386444, 0.011599743738770485, 0.01624075509607792, 0.06130620092153549, 0.028303181752562523, 0.014916415326297283, 0.0187178123742342, 0.03117561526596546, 0.027664609253406525, 0.046968504786491394, 0.17147907614707947, 0.02365424484014511, 0.021752357482910156, 0.01834334060549736, 0.09919692575931549, 0.019305206835269928, 0.0210585780441761, 0.01928882487118244, 0.15126074850559235, 0.017794331535696983, 0.03512202203273773, 0.02973642386496067], [0.03179849684238434, 0.03256303444504738, 0.009610912762582302, 0.013612083159387112, 0.028543967753648758, 0.012083868496119976, 0.014244566671550274, 0.01615815795958042, 0.019269563257694244, 0.01743651181459427, 0.01734311506152153, 0.06892529129981995, 0.01841297745704651, 0.014485705643892288, 0.01621898077428341, 0.04802189767360687, 0.020118681713938713, 0.014718416146934032, 0.019137173891067505, 0.06417211145162582, 0.0354745015501976, 0.0421840101480484, 0.040849458426237106, 0.38461658358573914], [0.04420720785856247, 0.04988846182823181, 0.016224095597863197, 0.022051244974136353, 0.03085804358124733, 0.018378127366304398, 0.02672502212226391, 0.035969480872154236, 0.03282582759857178, 0.0382632315158844, 0.02538328431546688, 0.10388446599245071, 0.028197769075632095, 0.03372319042682648, 0.02074374072253704, 0.06076858192682266, 0.03635028749704361, 0.022852823138237, 0.014973624609410763, 0.03975505381822586, 0.04597768187522888, 0.025458533316850662, 0.023379184305667877, 0.10748261213302612, 0.0956784039735794], [0.03874092549085617, 0.0508449524641037, 0.017184579744935036, 0.012267133221030235, 0.026725808158516884, 0.014727713540196419, 0.021878007799386978, 0.027199896052479744, 0.048990216106176376, 0.06853339076042175, 0.025004830211400986, 0.02961065247654915, 0.05653227120637894, 0.10166225582361221, 0.022365281358361244, 0.019730888307094574, 0.03644714877009392, 0.0920557752251625, 0.021544182673096657, 0.030229512602090836, 0.023158574476838112, 0.052697695791721344, 0.020317038521170616, 0.07258691638708115, 0.02100975252687931, 0.04795452952384949], [0.04310041293501854, 0.09034661948680878, 0.011352729983627796, 0.011782336980104446, 0.030871545895934105, 0.021548457443714142, 0.01936306431889534, 0.025577183812856674, 0.03814800828695297, 0.037353336811065674, 0.04873886704444885, 0.05291708931326866, 0.02167550101876259, 0.02852489985525608, 0.027108730748295784, 0.03687546029686928, 0.020779604092240334, 0.029492758214473724, 0.025599053129553795, 0.04308505356311798, 0.023869862779974937, 0.05343174189329147, 0.027765491977334023, 0.037663135677576065, 0.012769190594553947, 0.027585094794631004, 0.15267477929592133], [0.07147649675607681, 0.03745490312576294, 0.011174308136105537, 0.014495723880827427, 0.0506829135119915, 0.022288234904408455, 0.015157031826674938, 0.017129627987742424, 0.02299969643354416, 0.021663721650838852, 0.037842415273189545, 0.1550607681274414, 0.018495874479413033, 0.01812284253537655, 0.016801098361611366, 0.0780835896730423, 0.01958722621202469, 0.015072428621351719, 0.017263907939195633, 0.07178767025470734, 0.014012166298925877, 0.02233486995100975, 0.01528125535696745, 0.11749059706926346, 0.011381038464605808, 0.02259814366698265, 0.03383594751358032, 0.03042551502585411], [0.027111919596791267, 0.024515794590115547, 0.008829513564705849, 0.010497400537133217, 0.02352321706712246, 0.008295818231999874, 0.010080189444124699, 0.011231950484216213, 0.017558012157678604, 0.011923323385417461, 0.01358018722385168, 0.032542258501052856, 0.013690846040844917, 0.011175572872161865, 0.011682654730975628, 0.025930283591151237, 0.013709536753594875, 0.010680428706109524, 0.012072722427546978, 0.03527256101369858, 0.015392701141536236, 0.013284418731927872, 0.012467434629797935, 0.15870489180088043, 0.08045517653226852, 0.022242316976189613, 0.024715326726436615, 0.018826287239789963, 0.32000723481178284], [0.04328736662864685, 0.04486186429858208, 0.015721963718533516, 0.020800376310944557, 0.028371144086122513, 0.018069768324494362, 0.026515230536460876, 0.03635181114077568, 0.032362647354602814, 0.030038513243198395, 0.02086038701236248, 0.08921773731708527, 0.01847204566001892, 0.025706108659505844, 0.018819686025381088, 0.05312230437994003, 0.016438862308859825, 0.01879970356822014, 0.015719613060355186, 0.041397448629140854, 0.018669744953513145, 0.014968011528253555, 0.017540302127599716, 0.03230312466621399, 0.029480483382940292, 0.03771320730447769, 0.026669010519981384, 0.021425725892186165, 0.09951558709144592, 0.08678016066551208], [0.03352934122085571, 0.037012919783592224, 0.016564005985856056, 0.010117652826011181, 0.020392917096614838, 0.01099636871367693, 0.01716790534555912, 0.02284168265759945, 0.03959200531244278, 0.049325428903102875, 0.018642377108335495, 0.025512345135211945, 0.05204727128148079, 0.05776079371571541, 0.017495183274149895, 0.024600820615887642, 0.03701179847121239, 0.05266856774687767, 0.01548721082508564, 0.02018829435110092, 0.02071947045624256, 0.09168212115764618, 0.014372040517628193, 0.059107329696416855, 0.01130827609449625, 0.02520139142870903, 0.05433030053973198, 0.018608538433909416, 0.06764295697212219, 0.018148591741919518, 0.039924196898937225], [0.04014668986201286, 0.08497583866119385, 0.011289303191006184, 0.011377998627722263, 0.029581686481833458, 0.016999537125229836, 0.017190983518958092, 0.019857466220855713, 0.034079745411872864, 0.029009709134697914, 0.046238839626312256, 0.05211304500699043, 0.01868113875389099, 0.023416826501488686, 0.023068400099873543, 0.03431650996208191, 0.014682239852845669, 0.01925424113869667, 0.01897568441927433, 0.030752306804060936, 0.013683436438441277, 0.017731890082359314, 0.020039791241288185, 0.032569520175457, 0.00990613829344511, 0.027522699907422066, 0.050937265157699585, 0.019910873845219612, 0.02886866219341755, 0.011812797747552395, 0.036853428930044174, 0.15415525436401367], [0.06736598908901215, 0.03463653102517128, 0.010888328775763512, 0.013949010521173477, 0.04289904609322548, 0.01943000964820385, 0.014985445886850357, 0.01807926967740059, 0.018983472138643265, 0.021023506298661232, 0.02903948910534382, 0.12905599176883698, 0.014437966048717499, 0.018855730071663857, 0.013071718625724316, 0.05541498214006424, 0.01749223656952381, 0.015902919694781303, 0.0125748785212636, 0.053793929517269135, 0.017063813284039497, 0.021349577233195305, 0.011211743578314781, 0.08026205748319626, 0.014903630129992962, 0.013658802956342697, 0.011688193306326866, 0.013529352843761444, 0.09598385542631149, 0.007840560749173164, 0.01652476191520691, 0.0470772348344326, 0.02702590450644493], [0.04113006591796875, 0.0516403391957283, 0.01633315719664097, 0.01887633465230465, 0.025157049298286438, 0.015914883464574814, 0.026412934064865112, 0.0326196514070034, 0.03698147460818291, 0.03504417836666107, 0.025600412860512733, 0.07219389826059341, 0.023537086322903633, 0.027593765407800674, 0.022625993937253952, 0.0321916900575161, 0.01769377663731575, 0.027737949043512344, 0.013141464442014694, 0.027920091524720192, 0.01896321028470993, 0.012890071608126163, 0.011785231530666351, 0.01616770029067993, 0.009731273166835308, 0.01021612249314785, 0.01289792824536562, 0.015344765037298203, 0.0177017692476511, 0.008591820485889912, 0.018881555646657944, 0.019487926736474037, 0.020099498331546783, 0.21689487993717194], [0.03189434856176376, 0.02937045507133007, 0.014033201150596142, 0.012983017601072788, 0.018306970596313477, 0.01029379665851593, 0.013424629345536232, 0.02347441390156746, 0.05012255162000656, 0.036624979227781296, 0.019853295758366585, 0.021660104393959045, 0.03898395225405693, 0.053759802132844925, 0.015227642841637135, 0.013273399323225021, 0.021332385018467903, 0.05353497341275215, 0.012820922769606113, 0.017174558714032173, 0.017328860238194466, 0.06263618916273117, 0.016961876302957535, 0.026999827474355698, 0.009069819934666157, 0.02886456996202469, 0.08077395707368851, 0.012901910580694675, 0.026306016370654106, 0.011543004773557186, 0.03494405001401901, 0.052924297749996185, 0.01617956906557083, 0.05957907810807228, 0.03483763709664345], [0.03578236326575279, 0.06869502365589142, 0.01126965880393982, 0.010829747654497623, 0.021697483956813812, 0.01399411354213953, 0.016211984679102898, 0.0183176901191473, 0.0323861725628376, 0.025930503383278847, 0.03961290791630745, 0.044846050441265106, 0.019110366702079773, 0.01653938926756382, 0.018378321081399918, 0.02765760011970997, 0.012392549775540829, 0.01797315664589405, 0.01563424989581108, 0.024930724874138832, 0.011189978569746017, 0.01592831313610077, 0.01546106394380331, 0.031896330416202545, 0.012144237756729126, 0.013091609813272953, 0.01490439660847187, 0.019282586872577667, 0.01664859987795353, 0.01512610912322998, 0.028998875990509987, 0.09001018851995468, 0.019892284646630287, 0.030809085816144943, 0.023241940885782242, 0.14918425679206848], [0.06238047033548355, 0.033040352165699005, 0.009452635422348976, 0.01263512670993805, 0.03600837662816048, 0.017617661505937576, 0.012526996433734894, 0.014672966673970222, 0.01853857934474945, 0.017974022775888443, 0.022081734612584114, 0.12265882641077042, 0.012765931896865368, 0.017095308750867844, 0.011833400465548038, 0.05395587906241417, 0.01204389426857233, 0.012059664353728294, 0.01052821520715952, 0.04546221345663071, 0.012453255243599415, 0.015405679121613503, 0.008864588104188442, 0.05250496044754982, 0.012615842744708061, 0.01314511802047491, 0.00939827598631382, 0.013310770504176617, 0.07097029685974121, 0.007431964389979839, 0.013353731483221054, 0.011761323548853397, 0.012729888781905174, 0.11176235228776932, 0.01912849210202694, 0.03723442181944847, 0.022596843540668488], [0.026207799091935158, 0.022192714735865593, 0.006834888830780983, 0.008467926643788815, 0.01571781001985073, 0.007257433142513037, 0.009367513470351696, 0.012361614033579826, 0.011451421305537224, 0.009246265515685081, 0.011687667109072208, 0.02390340343117714, 0.015159018337726593, 0.008111970499157906, 0.009882097132503986, 0.01773068495094776, 0.01057786401361227, 0.007878276519477367, 0.009568643756210804, 0.02331661246716976, 0.010207649320363998, 0.00928299780935049, 0.009062303230166435, 0.07288604974746704, 0.048425596207380295, 0.014129764400422573, 0.010372855700552464, 0.010036714375019073, 0.06556705385446548, 0.05608338862657547, 0.018172485753893852, 0.012253308668732643, 0.010842453688383102, 0.07501053065061569, 0.01682131551206112, 0.024864040315151215, 0.019361859187483788, 0.24969802796840668], [0.0352058969438076, 0.03687841072678566, 0.01294804085046053, 0.01686377450823784, 0.023776333779096603, 0.015325549058616161, 0.02249150723218918, 0.03384973481297493, 0.034276239573955536, 0.02469748444855213, 0.015800343826413155, 0.06715678423643112, 0.0253546591848135, 0.021701086312532425, 0.015030435286462307, 0.03798077255487442, 0.018711281940340996, 0.017694616690278053, 0.011833032593131065, 0.029201585799455643, 0.010783493518829346, 0.010078207589685917, 0.01008011307567358, 0.02345687337219715, 0.019573533907532692, 0.012977429665625095, 0.009390697814524174, 0.008882862515747547, 0.022369394078850746, 0.021304426714777946, 0.027647042647004128, 0.016340577974915504, 0.01295431423932314, 0.031061388552188873, 0.03353700414299965, 0.030984364449977875, 0.014541997574269772, 0.0883319079875946, 0.07892675697803497], [0.026220913976430893, 0.030580289661884308, 0.014973732642829418, 0.009822971187531948, 0.015453287400305271, 0.009043657220900059, 0.016860386356711388, 0.020857440307736397, 0.04971933737397194, 0.03520292043685913, 0.0169655941426754, 0.017955061048269272, 0.039849862456321716, 0.046085160225629807, 0.010257992893457413, 0.014822583645582199, 0.023955581709742546, 0.04248329624533653, 0.009959272108972073, 0.018109465017914772, 0.01296338438987732, 0.057455215603113174, 0.012903562746942043, 0.016310982406139374, 0.008367858827114105, 0.016585562378168106, 0.05849634110927582, 0.01615825854241848, 0.01577645353972912, 0.007696173619478941, 0.02926698699593544, 0.05374081805348396, 0.011786364950239658, 0.032320328056812286, 0.025993583723902702, 0.039861369878053665, 0.013972659595310688, 0.047975219786167145, 0.01593567244708538, 0.03725433349609375], [0.03640979155898094, 0.06750734150409698, 0.01161367166787386, 0.012509902939200401, 0.020812468603253365, 0.012678776867687702, 0.017470117658376694, 0.01866621896624565, 0.026636626571416855, 0.029743261635303497, 0.036087073385715485, 0.05048297345638275, 0.01719396561384201, 0.015296834520995617, 0.016266154125332832, 0.029614130035042763, 0.01206065434962511, 0.012205188162624836, 0.013417358510196209, 0.027125412598252296, 0.009501911699771881, 0.012911525554955006, 0.012926938943564892, 0.03747493401169777, 0.007464226800948381, 0.01063165906816721, 0.012658664025366306, 0.014003551565110683, 0.017925355583429337, 0.009259632788598537, 0.01673068106174469, 0.02653561718761921, 0.01866152510046959, 0.019191894680261612, 0.02542261593043804, 0.08654014021158218, 0.01802024058997631, 0.023381147533655167, 0.008476674556732178, 0.026585258543491364, 0.10189788788557053], [0.05909953638911247, 0.030283456668257713, 0.008856650441884995, 0.012753861956298351, 0.034667257219552994, 0.01626081019639969, 0.012208256870508194, 0.01509640272706747, 0.01771916262805462, 0.01686709187924862, 0.01975119300186634, 0.11202987283468246, 0.011959380470216274, 0.01682613231241703, 0.011557520367205143, 0.04776719957590103, 0.010687804780900478, 0.012371032498776913, 0.010086923837661743, 0.04135813191533089, 0.01037535909563303, 0.014416111633181572, 0.008363815024495125, 0.054387107491493225, 0.01185561716556549, 0.012067757546901703, 0.007548166438937187, 0.009560811333358288, 0.049963485449552536, 0.007370205596089363, 0.01145178359001875, 0.009654521942138672, 0.010661642998456955, 0.08531486243009567, 0.010957109741866589, 0.012615672312676907, 0.013339933007955551, 0.05516774579882622, 0.009698436595499516, 0.017620254307985306, 0.03590292111039162, 0.023499060422182083]]},\n",
       "                preset: 'viridis'\n",
       "             })\n",
       "\n",
       "             window.ecco[viz_id].init();\n",
       "             window.ecco[viz_id].selectFirstToken();\n",
       "\n",
       "             }, function (err) {\n",
       "                console.log(err);\n",
       "            })"
      ],
      "text/plain": [
       "<IPython.core.display.Javascript object>"
      ]
     },
     "metadata": {},
     "output_type": "display_data"
    }
   ],
   "source": [
    "output.primary_attributions(attr_method='gradient')"
   ]
  },
  {
   "cell_type": "code",
   "execution_count": 7,
   "metadata": {},
   "outputs": [
    {
     "data": {
      "text/html": [
       "<html lang=\"en\">\n",
       "<script src=\"https://requirejs.org/docs/release/2.3.6/minified/require.js\"></script>\n",
       "<script>\n",
       "    var ecco_url = 'https://storage.googleapis.com/ml-intro/ecco/'\n",
       "    // var ecco_url = 'http://localhost:8000/ecco/'\n",
       "\n",
       "    if (window.ecco === undefined) window.ecco = {}\n",
       "\n",
       "    requirejs.config({\n",
       "        urlArgs: \"bust=\" + (new Date()).getTime(),\n",
       "        nodeRequire: require,\n",
       "        paths: {\n",
       "            d3: \"https://d3js.org/d3.v5.min\",\n",
       "            \"d3-array\": \"https://d3js.org/d3-array.v2.min\",\n",
       "            jquery: \"https://code.jquery.com/jquery-3.5.1.min\",\n",
       "            // oldEcco: ecco_url + 'ecco',\n",
       "            ecco: ecco_url + 'js/0.0.4/ecco-bundle.min',\n",
       "            xregexp: 'https://cdnjs.cloudflare.com/ajax/libs/xregexp/3.2.0/xregexp-all.min'\n",
       "        }\n",
       "    });\n",
       "    requirejs(['d3'],\n",
       "        function (d3) {\n",
       "            d3.select('#css').attr('href', ecco_url + 'html/styles.css')\n",
       "        })\n",
       "\n",
       "    console.log('Ecco initialize.')\n",
       "</script>\n",
       "\n",
       "<head>\n",
       "    <link id='css' rel=\"stylesheet\" type=\"text/css\">\n",
       "</head>\n"
      ],
      "text/plain": [
       "<IPython.core.display.HTML object>"
      ]
     },
     "metadata": {},
     "output_type": "display_data"
    },
    {
     "data": {
      "text/html": [
       "<script>\n",
       "    // console.log('defining basic')\n",
       "    define('basic', ['d3'],\n",
       "        function (d3) {\n",
       "            return {\n",
       "                init: function (viz_id = null) {\n",
       "\n",
       "                    // console.log('basic init')\n",
       "                    if (viz_id == null){\n",
       "                        viz_id = \"viz_\" + Math.round(Math.random() * 10000000)\n",
       "                    }\n",
       "                    const div = d3.select('#basic').attr('id', viz_id),\n",
       "                        div_parent = d3.select('#' + viz_id).node().parentNode\n",
       "\n",
       "                    // Link to CSS file\n",
       "                    d3.select(div_parent).insert('link')\n",
       "                        .attr('rel', 'stylesheet')\n",
       "                        .attr('type', 'text/css')\n",
       "                        .attr('href', ecco_url + 'html/styles.css')\n",
       "\n",
       "                    return viz_id\n",
       "                }\n",
       "            }\n",
       "        }, function (err) {console.log(err);}\n",
       "    )\n",
       "    // console.log('after defining basic')\n",
       "\n",
       "</script>\n",
       "<div id=\"basic\"></div>\n"
      ],
      "text/plain": [
       "<IPython.core.display.HTML object>"
      ]
     },
     "metadata": {},
     "output_type": "display_data"
    },
    {
     "data": {
      "application/javascript": [
       "\n",
       "             requirejs(['basic', 'ecco'], function(basic, ecco){\n",
       "                const viz_id = basic.init()\n",
       "                window.ecco[viz_id] = ecco.interactiveTokens(viz_id, {'tokens': [{'token': 'The', 'token_id': 464, 'type': 'input', 'value': '0.07253395', 'position': 0}, {'token': ' countries', 'token_id': 2678, 'type': 'input', 'value': '0.042581126', 'position': 1}, {'token': ' of', 'token_id': 286, 'type': 'input', 'value': '0.011599744', 'position': 2}, {'token': ' the', 'token_id': 262, 'type': 'input', 'value': '0.016240755', 'position': 3}, {'token': ' European', 'token_id': 3427, 'type': 'input', 'value': '0.0613062', 'position': 4}, {'token': ' Union', 'token_id': 4479, 'type': 'input', 'value': '0.028303182', 'position': 5}, {'token': ' are', 'token_id': 389, 'type': 'input', 'value': '0.014916415', 'position': 6}, {'token': ':', 'token_id': 25, 'type': 'input', 'value': '0.018717812', 'position': 7}, {'token': '\\n', 'token_id': 198, 'type': 'input', 'value': '0.031175615', 'position': 8}, {'token': '1', 'token_id': 16, 'type': 'input', 'value': '0.02766461', 'position': 9}, {'token': '.', 'token_id': 13, 'type': 'input', 'value': '0.046968505', 'position': 10}, {'token': ' Austria', 'token_id': 17322, 'type': 'input', 'value': '0.17147908', 'position': 11}, {'token': '\\n', 'token_id': 198, 'type': 'input', 'value': '0.023654245', 'position': 12}, {'token': '2', 'token_id': 17, 'type': 'input', 'value': '0.021752357', 'position': 13}, {'token': '.', 'token_id': 13, 'type': 'input', 'value': '0.01834334', 'position': 14}, {'token': ' Belgium', 'token_id': 15664, 'type': 'input', 'value': '0.099196926', 'position': 15}, {'token': '\\n', 'token_id': 198, 'type': 'input', 'value': '0.019305207', 'position': 16}, {'token': '3', 'token_id': 18, 'type': 'input', 'value': '0.021058578', 'position': 17}, {'token': '.', 'token_id': 13, 'type': 'input', 'value': '0.019288825', 'position': 18}, {'token': ' Bulgaria', 'token_id': 27902, 'type': 'input', 'value': '0.15126075', 'position': 19}, {'token': '\\n', 'token_id': 198, 'type': 'input', 'value': '0.017794332', 'position': 20}, {'token': '4', 'token_id': 19, 'type': 'input', 'value': '0.035122022', 'position': 21}, {'token': '.', 'token_id': 13, 'type': 'input', 'value': '0.029736424', 'position': 22}, {'token': ' Czech', 'token_id': 16639, 'type': 'output', 'value': '0', 'position': 23}, {'token': ' Republic', 'token_id': 2066, 'type': 'output', 'value': '0', 'position': 24}, {'token': '\\n', 'token_id': 198, 'type': 'output', 'value': '0', 'position': 25}, {'token': '5', 'token_id': 20, 'type': 'output', 'value': '0', 'position': 26}, {'token': '.', 'token_id': 13, 'type': 'output', 'value': '0', 'position': 27}, {'token': ' Czech', 'token_id': 16639, 'type': 'output', 'value': '0', 'position': 28}, {'token': ' Republic', 'token_id': 2066, 'type': 'output', 'value': '0', 'position': 29}, {'token': '\\n', 'token_id': 198, 'type': 'output', 'value': '0', 'position': 30}, {'token': '6', 'token_id': 21, 'type': 'output', 'value': '0', 'position': 31}, {'token': '.', 'token_id': 13, 'type': 'output', 'value': '0', 'position': 32}, {'token': ' Cyprus', 'token_id': 27885, 'type': 'output', 'value': '0', 'position': 33}, {'token': '\\n', 'token_id': 198, 'type': 'output', 'value': '0', 'position': 34}, {'token': '7', 'token_id': 22, 'type': 'output', 'value': '0', 'position': 35}, {'token': '.', 'token_id': 13, 'type': 'output', 'value': '0', 'position': 36}, {'token': ' Czech', 'token_id': 16639, 'type': 'output', 'value': '0', 'position': 37}, {'token': ' Republic', 'token_id': 2066, 'type': 'output', 'value': '0', 'position': 38}, {'token': '\\n', 'token_id': 198, 'type': 'output', 'value': '0', 'position': 39}, {'token': '8', 'token_id': 23, 'type': 'output', 'value': '0', 'position': 40}, {'token': '.', 'token_id': 13, 'type': 'output', 'value': '0', 'position': 41}, {'token': ' Czech', 'token_id': 16639, 'type': 'output', 'value': '0', 'position': 42}], 'attributions': [[0.07253395020961761, 0.04258112609386444, 0.011599743738770485, 0.01624075509607792, 0.06130620092153549, 0.028303181752562523, 0.014916415326297283, 0.0187178123742342, 0.03117561526596546, 0.027664609253406525, 0.046968504786491394, 0.17147907614707947, 0.02365424484014511, 0.021752357482910156, 0.01834334060549736, 0.09919692575931549, 0.019305206835269928, 0.0210585780441761, 0.01928882487118244, 0.15126074850559235, 0.017794331535696983, 0.03512202203273773, 0.02973642386496067], [0.03179849684238434, 0.03256303444504738, 0.009610912762582302, 0.013612083159387112, 0.028543967753648758, 0.012083868496119976, 0.014244566671550274, 0.01615815795958042, 0.019269563257694244, 0.01743651181459427, 0.01734311506152153, 0.06892529129981995, 0.01841297745704651, 0.014485705643892288, 0.01621898077428341, 0.04802189767360687, 0.020118681713938713, 0.014718416146934032, 0.019137173891067505, 0.06417211145162582, 0.0354745015501976, 0.0421840101480484, 0.040849458426237106, 0.38461658358573914], [0.04420720785856247, 0.04988846182823181, 0.016224095597863197, 0.022051244974136353, 0.03085804358124733, 0.018378127366304398, 0.02672502212226391, 0.035969480872154236, 0.03282582759857178, 0.0382632315158844, 0.02538328431546688, 0.10388446599245071, 0.028197769075632095, 0.03372319042682648, 0.02074374072253704, 0.06076858192682266, 0.03635028749704361, 0.022852823138237, 0.014973624609410763, 0.03975505381822586, 0.04597768187522888, 0.025458533316850662, 0.023379184305667877, 0.10748261213302612, 0.0956784039735794], [0.03874092549085617, 0.0508449524641037, 0.017184579744935036, 0.012267133221030235, 0.026725808158516884, 0.014727713540196419, 0.021878007799386978, 0.027199896052479744, 0.048990216106176376, 0.06853339076042175, 0.025004830211400986, 0.02961065247654915, 0.05653227120637894, 0.10166225582361221, 0.022365281358361244, 0.019730888307094574, 0.03644714877009392, 0.0920557752251625, 0.021544182673096657, 0.030229512602090836, 0.023158574476838112, 0.052697695791721344, 0.020317038521170616, 0.07258691638708115, 0.02100975252687931, 0.04795452952384949], [0.04310041293501854, 0.09034661948680878, 0.011352729983627796, 0.011782336980104446, 0.030871545895934105, 0.021548457443714142, 0.01936306431889534, 0.025577183812856674, 0.03814800828695297, 0.037353336811065674, 0.04873886704444885, 0.05291708931326866, 0.02167550101876259, 0.02852489985525608, 0.027108730748295784, 0.03687546029686928, 0.020779604092240334, 0.029492758214473724, 0.025599053129553795, 0.04308505356311798, 0.023869862779974937, 0.05343174189329147, 0.027765491977334023, 0.037663135677576065, 0.012769190594553947, 0.027585094794631004, 0.15267477929592133], [0.07147649675607681, 0.03745490312576294, 0.011174308136105537, 0.014495723880827427, 0.0506829135119915, 0.022288234904408455, 0.015157031826674938, 0.017129627987742424, 0.02299969643354416, 0.021663721650838852, 0.037842415273189545, 0.1550607681274414, 0.018495874479413033, 0.01812284253537655, 0.016801098361611366, 0.0780835896730423, 0.01958722621202469, 0.015072428621351719, 0.017263907939195633, 0.07178767025470734, 0.014012166298925877, 0.02233486995100975, 0.01528125535696745, 0.11749059706926346, 0.011381038464605808, 0.02259814366698265, 0.03383594751358032, 0.03042551502585411], [0.027111919596791267, 0.024515794590115547, 0.008829513564705849, 0.010497400537133217, 0.02352321706712246, 0.008295818231999874, 0.010080189444124699, 0.011231950484216213, 0.017558012157678604, 0.011923323385417461, 0.01358018722385168, 0.032542258501052856, 0.013690846040844917, 0.011175572872161865, 0.011682654730975628, 0.025930283591151237, 0.013709536753594875, 0.010680428706109524, 0.012072722427546978, 0.03527256101369858, 0.015392701141536236, 0.013284418731927872, 0.012467434629797935, 0.15870489180088043, 0.08045517653226852, 0.022242316976189613, 0.024715326726436615, 0.018826287239789963, 0.32000723481178284], [0.04328736662864685, 0.04486186429858208, 0.015721963718533516, 0.020800376310944557, 0.028371144086122513, 0.018069768324494362, 0.026515230536460876, 0.03635181114077568, 0.032362647354602814, 0.030038513243198395, 0.02086038701236248, 0.08921773731708527, 0.01847204566001892, 0.025706108659505844, 0.018819686025381088, 0.05312230437994003, 0.016438862308859825, 0.01879970356822014, 0.015719613060355186, 0.041397448629140854, 0.018669744953513145, 0.014968011528253555, 0.017540302127599716, 0.03230312466621399, 0.029480483382940292, 0.03771320730447769, 0.026669010519981384, 0.021425725892186165, 0.09951558709144592, 0.08678016066551208], [0.03352934122085571, 0.037012919783592224, 0.016564005985856056, 0.010117652826011181, 0.020392917096614838, 0.01099636871367693, 0.01716790534555912, 0.02284168265759945, 0.03959200531244278, 0.049325428903102875, 0.018642377108335495, 0.025512345135211945, 0.05204727128148079, 0.05776079371571541, 0.017495183274149895, 0.024600820615887642, 0.03701179847121239, 0.05266856774687767, 0.01548721082508564, 0.02018829435110092, 0.02071947045624256, 0.09168212115764618, 0.014372040517628193, 0.059107329696416855, 0.01130827609449625, 0.02520139142870903, 0.05433030053973198, 0.018608538433909416, 0.06764295697212219, 0.018148591741919518, 0.039924196898937225], [0.04014668986201286, 0.08497583866119385, 0.011289303191006184, 0.011377998627722263, 0.029581686481833458, 0.016999537125229836, 0.017190983518958092, 0.019857466220855713, 0.034079745411872864, 0.029009709134697914, 0.046238839626312256, 0.05211304500699043, 0.01868113875389099, 0.023416826501488686, 0.023068400099873543, 0.03431650996208191, 0.014682239852845669, 0.01925424113869667, 0.01897568441927433, 0.030752306804060936, 0.013683436438441277, 0.017731890082359314, 0.020039791241288185, 0.032569520175457, 0.00990613829344511, 0.027522699907422066, 0.050937265157699585, 0.019910873845219612, 0.02886866219341755, 0.011812797747552395, 0.036853428930044174, 0.15415525436401367], [0.06736598908901215, 0.03463653102517128, 0.010888328775763512, 0.013949010521173477, 0.04289904609322548, 0.01943000964820385, 0.014985445886850357, 0.01807926967740059, 0.018983472138643265, 0.021023506298661232, 0.02903948910534382, 0.12905599176883698, 0.014437966048717499, 0.018855730071663857, 0.013071718625724316, 0.05541498214006424, 0.01749223656952381, 0.015902919694781303, 0.0125748785212636, 0.053793929517269135, 0.017063813284039497, 0.021349577233195305, 0.011211743578314781, 0.08026205748319626, 0.014903630129992962, 0.013658802956342697, 0.011688193306326866, 0.013529352843761444, 0.09598385542631149, 0.007840560749173164, 0.01652476191520691, 0.0470772348344326, 0.02702590450644493], [0.04113006591796875, 0.0516403391957283, 0.01633315719664097, 0.01887633465230465, 0.025157049298286438, 0.015914883464574814, 0.026412934064865112, 0.0326196514070034, 0.03698147460818291, 0.03504417836666107, 0.025600412860512733, 0.07219389826059341, 0.023537086322903633, 0.027593765407800674, 0.022625993937253952, 0.0321916900575161, 0.01769377663731575, 0.027737949043512344, 0.013141464442014694, 0.027920091524720192, 0.01896321028470993, 0.012890071608126163, 0.011785231530666351, 0.01616770029067993, 0.009731273166835308, 0.01021612249314785, 0.01289792824536562, 0.015344765037298203, 0.0177017692476511, 0.008591820485889912, 0.018881555646657944, 0.019487926736474037, 0.020099498331546783, 0.21689487993717194], [0.03189434856176376, 0.02937045507133007, 0.014033201150596142, 0.012983017601072788, 0.018306970596313477, 0.01029379665851593, 0.013424629345536232, 0.02347441390156746, 0.05012255162000656, 0.036624979227781296, 0.019853295758366585, 0.021660104393959045, 0.03898395225405693, 0.053759802132844925, 0.015227642841637135, 0.013273399323225021, 0.021332385018467903, 0.05353497341275215, 0.012820922769606113, 0.017174558714032173, 0.017328860238194466, 0.06263618916273117, 0.016961876302957535, 0.026999827474355698, 0.009069819934666157, 0.02886456996202469, 0.08077395707368851, 0.012901910580694675, 0.026306016370654106, 0.011543004773557186, 0.03494405001401901, 0.052924297749996185, 0.01617956906557083, 0.05957907810807228, 0.03483763709664345], [0.03578236326575279, 0.06869502365589142, 0.01126965880393982, 0.010829747654497623, 0.021697483956813812, 0.01399411354213953, 0.016211984679102898, 0.0183176901191473, 0.0323861725628376, 0.025930503383278847, 0.03961290791630745, 0.044846050441265106, 0.019110366702079773, 0.01653938926756382, 0.018378321081399918, 0.02765760011970997, 0.012392549775540829, 0.01797315664589405, 0.01563424989581108, 0.024930724874138832, 0.011189978569746017, 0.01592831313610077, 0.01546106394380331, 0.031896330416202545, 0.012144237756729126, 0.013091609813272953, 0.01490439660847187, 0.019282586872577667, 0.01664859987795353, 0.01512610912322998, 0.028998875990509987, 0.09001018851995468, 0.019892284646630287, 0.030809085816144943, 0.023241940885782242, 0.14918425679206848], [0.06238047033548355, 0.033040352165699005, 0.009452635422348976, 0.01263512670993805, 0.03600837662816048, 0.017617661505937576, 0.012526996433734894, 0.014672966673970222, 0.01853857934474945, 0.017974022775888443, 0.022081734612584114, 0.12265882641077042, 0.012765931896865368, 0.017095308750867844, 0.011833400465548038, 0.05395587906241417, 0.01204389426857233, 0.012059664353728294, 0.01052821520715952, 0.04546221345663071, 0.012453255243599415, 0.015405679121613503, 0.008864588104188442, 0.05250496044754982, 0.012615842744708061, 0.01314511802047491, 0.00939827598631382, 0.013310770504176617, 0.07097029685974121, 0.007431964389979839, 0.013353731483221054, 0.011761323548853397, 0.012729888781905174, 0.11176235228776932, 0.01912849210202694, 0.03723442181944847, 0.022596843540668488], [0.026207799091935158, 0.022192714735865593, 0.006834888830780983, 0.008467926643788815, 0.01571781001985073, 0.007257433142513037, 0.009367513470351696, 0.012361614033579826, 0.011451421305537224, 0.009246265515685081, 0.011687667109072208, 0.02390340343117714, 0.015159018337726593, 0.008111970499157906, 0.009882097132503986, 0.01773068495094776, 0.01057786401361227, 0.007878276519477367, 0.009568643756210804, 0.02331661246716976, 0.010207649320363998, 0.00928299780935049, 0.009062303230166435, 0.07288604974746704, 0.048425596207380295, 0.014129764400422573, 0.010372855700552464, 0.010036714375019073, 0.06556705385446548, 0.05608338862657547, 0.018172485753893852, 0.012253308668732643, 0.010842453688383102, 0.07501053065061569, 0.01682131551206112, 0.024864040315151215, 0.019361859187483788, 0.24969802796840668], [0.0352058969438076, 0.03687841072678566, 0.01294804085046053, 0.01686377450823784, 0.023776333779096603, 0.015325549058616161, 0.02249150723218918, 0.03384973481297493, 0.034276239573955536, 0.02469748444855213, 0.015800343826413155, 0.06715678423643112, 0.0253546591848135, 0.021701086312532425, 0.015030435286462307, 0.03798077255487442, 0.018711281940340996, 0.017694616690278053, 0.011833032593131065, 0.029201585799455643, 0.010783493518829346, 0.010078207589685917, 0.01008011307567358, 0.02345687337219715, 0.019573533907532692, 0.012977429665625095, 0.009390697814524174, 0.008882862515747547, 0.022369394078850746, 0.021304426714777946, 0.027647042647004128, 0.016340577974915504, 0.01295431423932314, 0.031061388552188873, 0.03353700414299965, 0.030984364449977875, 0.014541997574269772, 0.0883319079875946, 0.07892675697803497], [0.026220913976430893, 0.030580289661884308, 0.014973732642829418, 0.009822971187531948, 0.015453287400305271, 0.009043657220900059, 0.016860386356711388, 0.020857440307736397, 0.04971933737397194, 0.03520292043685913, 0.0169655941426754, 0.017955061048269272, 0.039849862456321716, 0.046085160225629807, 0.010257992893457413, 0.014822583645582199, 0.023955581709742546, 0.04248329624533653, 0.009959272108972073, 0.018109465017914772, 0.01296338438987732, 0.057455215603113174, 0.012903562746942043, 0.016310982406139374, 0.008367858827114105, 0.016585562378168106, 0.05849634110927582, 0.01615825854241848, 0.01577645353972912, 0.007696173619478941, 0.02926698699593544, 0.05374081805348396, 0.011786364950239658, 0.032320328056812286, 0.025993583723902702, 0.039861369878053665, 0.013972659595310688, 0.047975219786167145, 0.01593567244708538, 0.03725433349609375], [0.03640979155898094, 0.06750734150409698, 0.01161367166787386, 0.012509902939200401, 0.020812468603253365, 0.012678776867687702, 0.017470117658376694, 0.01866621896624565, 0.026636626571416855, 0.029743261635303497, 0.036087073385715485, 0.05048297345638275, 0.01719396561384201, 0.015296834520995617, 0.016266154125332832, 0.029614130035042763, 0.01206065434962511, 0.012205188162624836, 0.013417358510196209, 0.027125412598252296, 0.009501911699771881, 0.012911525554955006, 0.012926938943564892, 0.03747493401169777, 0.007464226800948381, 0.01063165906816721, 0.012658664025366306, 0.014003551565110683, 0.017925355583429337, 0.009259632788598537, 0.01673068106174469, 0.02653561718761921, 0.01866152510046959, 0.019191894680261612, 0.02542261593043804, 0.08654014021158218, 0.01802024058997631, 0.023381147533655167, 0.008476674556732178, 0.026585258543491364, 0.10189788788557053], [0.05909953638911247, 0.030283456668257713, 0.008856650441884995, 0.012753861956298351, 0.034667257219552994, 0.01626081019639969, 0.012208256870508194, 0.01509640272706747, 0.01771916262805462, 0.01686709187924862, 0.01975119300186634, 0.11202987283468246, 0.011959380470216274, 0.01682613231241703, 0.011557520367205143, 0.04776719957590103, 0.010687804780900478, 0.012371032498776913, 0.010086923837661743, 0.04135813191533089, 0.01037535909563303, 0.014416111633181572, 0.008363815024495125, 0.054387107491493225, 0.01185561716556549, 0.012067757546901703, 0.007548166438937187, 0.009560811333358288, 0.049963485449552536, 0.007370205596089363, 0.01145178359001875, 0.009654521942138672, 0.010661642998456955, 0.08531486243009567, 0.010957109741866589, 0.012615672312676907, 0.013339933007955551, 0.05516774579882622, 0.009698436595499516, 0.017620254307985306, 0.03590292111039162, 0.023499060422182083]]})\n",
       "\n",
       "             }, function (err) {\n",
       "                console.log(err);\n",
       "            })"
      ],
      "text/plain": [
       "<IPython.core.display.Javascript object>"
      ]
     },
     "metadata": {},
     "output_type": "display_data"
    }
   ],
   "source": [
    "output.primary_attributions(attr_method='gradient', style=\"detailed\")"
   ]
  },
  {
   "cell_type": "markdown",
   "metadata": {},
   "source": [
    "## Integrated Gradients"
   ]
  },
  {
   "cell_type": "code",
   "execution_count": 8,
   "metadata": {},
   "outputs": [
    {
     "data": {
      "text/html": [
       "<html lang=\"en\">\n",
       "<script src=\"https://requirejs.org/docs/release/2.3.6/minified/require.js\"></script>\n",
       "<script>\n",
       "    var ecco_url = 'https://storage.googleapis.com/ml-intro/ecco/'\n",
       "    // var ecco_url = 'http://localhost:8000/ecco/'\n",
       "\n",
       "    if (window.ecco === undefined) window.ecco = {}\n",
       "\n",
       "    requirejs.config({\n",
       "        urlArgs: \"bust=\" + (new Date()).getTime(),\n",
       "        nodeRequire: require,\n",
       "        paths: {\n",
       "            d3: \"https://d3js.org/d3.v5.min\",\n",
       "            \"d3-array\": \"https://d3js.org/d3-array.v2.min\",\n",
       "            jquery: \"https://code.jquery.com/jquery-3.5.1.min\",\n",
       "            // oldEcco: ecco_url + 'ecco',\n",
       "            ecco: ecco_url + 'js/0.0.4/ecco-bundle.min',\n",
       "            xregexp: 'https://cdnjs.cloudflare.com/ajax/libs/xregexp/3.2.0/xregexp-all.min'\n",
       "        }\n",
       "    });\n",
       "    requirejs(['d3'],\n",
       "        function (d3) {\n",
       "            d3.select('#css').attr('href', ecco_url + 'html/styles.css')\n",
       "        })\n",
       "\n",
       "    console.log('Ecco initialize.')\n",
       "</script>\n",
       "\n",
       "<head>\n",
       "    <link id='css' rel=\"stylesheet\" type=\"text/css\">\n",
       "</head>\n"
      ],
      "text/plain": [
       "<IPython.core.display.HTML object>"
      ]
     },
     "metadata": {},
     "output_type": "display_data"
    },
    {
     "data": {
      "text/html": [
       "<script>\n",
       "    // console.log('defining basic')\n",
       "    define('basic', ['d3'],\n",
       "        function (d3) {\n",
       "            return {\n",
       "                init: function (viz_id = null) {\n",
       "\n",
       "                    // console.log('basic init')\n",
       "                    if (viz_id == null){\n",
       "                        viz_id = \"viz_\" + Math.round(Math.random() * 10000000)\n",
       "                    }\n",
       "                    const div = d3.select('#basic').attr('id', viz_id),\n",
       "                        div_parent = d3.select('#' + viz_id).node().parentNode\n",
       "\n",
       "                    // Link to CSS file\n",
       "                    d3.select(div_parent).insert('link')\n",
       "                        .attr('rel', 'stylesheet')\n",
       "                        .attr('type', 'text/css')\n",
       "                        .attr('href', ecco_url + 'html/styles.css')\n",
       "\n",
       "                    return viz_id\n",
       "                }\n",
       "            }\n",
       "        }, function (err) {console.log(err);}\n",
       "    )\n",
       "    // console.log('after defining basic')\n",
       "\n",
       "</script>\n",
       "<div id=\"basic\"></div>\n"
      ],
      "text/plain": [
       "<IPython.core.display.HTML object>"
      ]
     },
     "metadata": {},
     "output_type": "display_data"
    },
    {
     "data": {
      "application/javascript": [
       "\n",
       "             requirejs(['basic', 'ecco'], function(basic, ecco){\n",
       "                const viz_id = basic.init()\n",
       "                // ecco.interactiveTokens(viz_id, {})\n",
       "                window.ecco[viz_id] = new ecco.MinimalHighlighter({\n",
       "                parentDiv: viz_id,\n",
       "                data: {'tokens': [{'token': 'The', 'token_id': 464, 'type': 'input', 'value': '0.03816325659898114', 'position': 0}, {'token': ' countries', 'token_id': 2678, 'type': 'input', 'value': '0.04485683941936176', 'position': 1}, {'token': ' of', 'token_id': 286, 'type': 'input', 'value': '0.018770602228892288', 'position': 2}, {'token': ' the', 'token_id': 262, 'type': 'input', 'value': '0.012321895183562321', 'position': 3}, {'token': ' European', 'token_id': 3427, 'type': 'input', 'value': '0.04038441889983899', 'position': 4}, {'token': ' Union', 'token_id': 4479, 'type': 'input', 'value': '0.027187176177062865', 'position': 5}, {'token': ' are', 'token_id': 389, 'type': 'input', 'value': '0.014939194135626175', 'position': 6}, {'token': ':', 'token_id': 25, 'type': 'input', 'value': '0.01780878712189199', 'position': 7}, {'token': '\\n', 'token_id': 198, 'type': 'input', 'value': '0.022024434825352754', 'position': 8}, {'token': '1', 'token_id': 16, 'type': 'input', 'value': '0.01953061940565476', 'position': 9}, {'token': '.', 'token_id': 13, 'type': 'input', 'value': '0.015273648756695745', 'position': 10}, {'token': ' Austria', 'token_id': 17322, 'type': 'input', 'value': '0.06870788835444404', 'position': 11}, {'token': '\\n', 'token_id': 198, 'type': 'input', 'value': '0.030811432773188815', 'position': 12}, {'token': '2', 'token_id': 17, 'type': 'input', 'value': '0.024293020967353796', 'position': 13}, {'token': '.', 'token_id': 13, 'type': 'input', 'value': '0.018030779999945894', 'position': 14}, {'token': ' Belgium', 'token_id': 15664, 'type': 'input', 'value': '0.10826002953835284', 'position': 15}, {'token': '\\n', 'token_id': 198, 'type': 'input', 'value': '0.01896631030834879', 'position': 16}, {'token': '3', 'token_id': 18, 'type': 'input', 'value': '0.01856877118936424', 'position': 17}, {'token': '.', 'token_id': 13, 'type': 'input', 'value': '0.020773996355417407', 'position': 18}, {'token': ' Bulgaria', 'token_id': 27902, 'type': 'input', 'value': '0.3227535653029056', 'position': 19}, {'token': '\\n', 'token_id': 198, 'type': 'input', 'value': '0.025542212499585108', 'position': 20}, {'token': '4', 'token_id': 19, 'type': 'input', 'value': '0.0398622260203101', 'position': 21}, {'token': '.', 'token_id': 13, 'type': 'input', 'value': '0.03216889393786256', 'position': 22}, {'token': ' Czech', 'token_id': 16639, 'type': 'output', 'value': '0', 'position': 23}, {'token': ' Republic', 'token_id': 2066, 'type': 'output', 'value': '0', 'position': 24}, {'token': '\\n', 'token_id': 198, 'type': 'output', 'value': '0', 'position': 25}, {'token': '5', 'token_id': 20, 'type': 'output', 'value': '0', 'position': 26}, {'token': '.', 'token_id': 13, 'type': 'output', 'value': '0', 'position': 27}, {'token': ' Czech', 'token_id': 16639, 'type': 'output', 'value': '0', 'position': 28}, {'token': ' Republic', 'token_id': 2066, 'type': 'output', 'value': '0', 'position': 29}, {'token': '\\n', 'token_id': 198, 'type': 'output', 'value': '0', 'position': 30}, {'token': '6', 'token_id': 21, 'type': 'output', 'value': '0', 'position': 31}, {'token': '.', 'token_id': 13, 'type': 'output', 'value': '0', 'position': 32}, {'token': ' Cyprus', 'token_id': 27885, 'type': 'output', 'value': '0', 'position': 33}, {'token': '\\n', 'token_id': 198, 'type': 'output', 'value': '0', 'position': 34}, {'token': '7', 'token_id': 22, 'type': 'output', 'value': '0', 'position': 35}, {'token': '.', 'token_id': 13, 'type': 'output', 'value': '0', 'position': 36}, {'token': ' Czech', 'token_id': 16639, 'type': 'output', 'value': '0', 'position': 37}, {'token': ' Republic', 'token_id': 2066, 'type': 'output', 'value': '0', 'position': 38}, {'token': '\\n', 'token_id': 198, 'type': 'output', 'value': '0', 'position': 39}, {'token': '8', 'token_id': 23, 'type': 'output', 'value': '0', 'position': 40}, {'token': '.', 'token_id': 13, 'type': 'output', 'value': '0', 'position': 41}, {'token': ' Czech', 'token_id': 16639, 'type': 'output', 'value': '0', 'position': 42}], 'attributions': [[0.03816325659898114, 0.04485683941936176, 0.018770602228892288, 0.012321895183562321, 0.04038441889983899, 0.027187176177062865, 0.014939194135626175, 0.01780878712189199, 0.022024434825352754, 0.01953061940565476, 0.015273648756695745, 0.06870788835444404, 0.030811432773188815, 0.024293020967353796, 0.018030779999945894, 0.10826002953835284, 0.01896631030834879, 0.01856877118936424, 0.020773996355417407, 0.3227535653029056, 0.025542212499585108, 0.0398622260203101, 0.03216889393786256], [0.03356854596682211, 0.039151739732032995, 0.029228802496124126, 0.018527658168107333, 0.028150240541935618, 0.025323406902877234, 0.016878003401156954, 0.022311751195628757, 0.03657311280878972, 0.024964752653788273, 0.020555571224773583, 0.06905722307680436, 0.041805241978895194, 0.02437447146665573, 0.017461582116750966, 0.07650292631902632, 0.027489217620829433, 0.01612326516649157, 0.016274025388636603, 0.06712416327391814, 0.02109270479670383, 0.029187603539893123, 0.03667696025925642, 0.2615970299041016], [0.07143582743010654, 0.03795342610369315, 0.03562509559581455, 0.024973211321331287, 0.03661075782314724, 0.0348176410971063, 0.020320852699016026, 0.02513800218814171, 0.030513458680212335, 0.027526377275662737, 0.021808023364822553, 0.04930110226582615, 0.042917454857613654, 0.027861972805667094, 0.019156342596903225, 0.06138195233673923, 0.04723242625154431, 0.02203957394006854, 0.01511247461578667, 0.06033658128274698, 0.048246426227623034, 0.023116794633402188, 0.024359496110357978, 0.09371264936843905, 0.09850207912822738], [0.03298532057181011, 0.030422608427300792, 0.06296929862106472, 0.01927554749514607, 0.026759024583823565, 0.025292171500871777, 0.0236380228286462, 0.020395376516767916, 0.024617275843020887, 0.07190130887293232, 0.028357096558612894, 0.02498464921647124, 0.021634008332033525, 0.13712306058301865, 0.013260603836038559, 0.015960283816842075, 0.01965715227235756, 0.09969204971091344, 0.009860028219411008, 0.0225658147734015, 0.022401231223673268, 0.16867568198693847, 0.013002589827328404, 0.03253932110913485, 0.017176111493804994, 0.014854361778635394], [0.07805083354779466, 0.04341978170040821, 0.03264199666094037, 0.0231670654405534, 0.033830786343621216, 0.030576424094651975, 0.023502465499232888, 0.02595144149188776, 0.026700627371656134, 0.02749516048957498, 0.027499449161542875, 0.027659195999392334, 0.027755303553406132, 0.03198775233405264, 0.03130448442370603, 0.02946737524336084, 0.027135055331895034, 0.04091777098637475, 0.035466585409128254, 0.028885572413487253, 0.03206532840320689, 0.07618588406959917, 0.06785122467702173, 0.023160262351600625, 0.02181595992179754, 0.0456295519877655, 0.07987666109234073], [0.03208456314775836, 0.03825942358550527, 0.015467571216379993, 0.011014376464287993, 0.036587784568491453, 0.02698066380749544, 0.013228140515395356, 0.014237608737193524, 0.017551323022777517, 0.020952095662313746, 0.014241867366504657, 0.07958096880371313, 0.01543949588164559, 0.015475054405138687, 0.010451748419933165, 0.07824494850979308, 0.013547277292822072, 0.017584871904517088, 0.013005982865382373, 0.10830080609522286, 0.017428885506406356, 0.022635228265475843, 0.020622033332880117, 0.2245811205772041, 0.015967050122939943, 0.023942031776544838, 0.055656437577622724, 0.026930640568654716], [0.04488272039024159, 0.03214446914376869, 0.02514894725957245, 0.020856372720509646, 0.02890918600247277, 0.025922845350103595, 0.017228377204244402, 0.018427463189261986, 0.02191138528073215, 0.018524932970572353, 0.015314069509506823, 0.02639157625952141, 0.02203650620168601, 0.02019226717500204, 0.01709925716971582, 0.03284161373021337, 0.02275264094635941, 0.019568266613256335, 0.01677011208596385, 0.034264320998992945, 0.03138595975495076, 0.030347900664982254, 0.03482504875836121, 0.12548068126430104, 0.12876409066119676, 0.024396009240783084, 0.019377876464038366, 0.021122701801284196, 0.1031124011884046], [0.06704097238371985, 0.03658205673759235, 0.03412673569207195, 0.02461589505659941, 0.03669250858887324, 0.03289860057560967, 0.019407861868051546, 0.022768270014152398, 0.028293382264724238, 0.02263037636157071, 0.018150934819847763, 0.03794181771402853, 0.035243592812605404, 0.022254648293682906, 0.01700668843436193, 0.04549629397403787, 0.03974869308760459, 0.019348532497975277, 0.015317965921529307, 0.04776045775170519, 0.04086546293831945, 0.018032634683298788, 0.012981157721251281, 0.041967153907926914, 0.031113314409886156, 0.044292800566932335, 0.01845188659752481, 0.019101021114027655, 0.06612839179926171, 0.08373989141122672], [0.031315266274214305, 0.03392589311717233, 0.04296628018681458, 0.01643739112127549, 0.023005212045434032, 0.021129833672831708, 0.021689269388193436, 0.020242993767644175, 0.023175531854590595, 0.04487985372472083, 0.025117703477214072, 0.02409591668056613, 0.019769658192756164, 0.08057904398562077, 0.01475900319301213, 0.018932128911785005, 0.016567340166159714, 0.05867234761098179, 0.011524927904798943, 0.025901734846450836, 0.016092480094909083, 0.08630119513515518, 0.012682763769894644, 0.021863588332845865, 0.014267416792745279, 0.033838571658996806, 0.17621271433611624, 0.014518932450575953, 0.018615099693572692, 0.014380175119442134, 0.01653973249350909], [0.05873981656370905, 0.03489107930120627, 0.028447201311015614, 0.020630027215687557, 0.029211185814287253, 0.02602092437115162, 0.019410846675278547, 0.021098332843177445, 0.02396394579102731, 0.020010836264802916, 0.022335800946430968, 0.02433621968243983, 0.024226431603372713, 0.028889309193907333, 0.025148485883537852, 0.025736392414955796, 0.021990902792055355, 0.02923363105314175, 0.0236475113719066, 0.02672069108011757, 0.025041697558649104, 0.06060661687479739, 0.04859222685442978, 0.023743864509403904, 0.02288132247449662, 0.026842119172127865, 0.0387328435405801, 0.032844915039369794, 0.02928360923915231, 0.024274260157828714, 0.050300941987045676, 0.0821660104189094], [0.03334629674514625, 0.030721355154010758, 0.014064881839165324, 0.01498725920276899, 0.028186917673785613, 0.02180590855779051, 0.010672993268418527, 0.011729855398087359, 0.014749623663527892, 0.01522789332121471, 0.0156629571093402, 0.05542589566799113, 0.013697853247595294, 0.018570895790800044, 0.014526486006091379, 0.06512041428623497, 0.014018385463064702, 0.021067059007293044, 0.017205602228908094, 0.0969766474533641, 0.013155295987901576, 0.02035820684846933, 0.016188519903414012, 0.06530649641085567, 0.01875595201473756, 0.027217962205989637, 0.029352988759609292, 0.03170573375265457, 0.08123026273724829, 0.017272883898998413, 0.031236793319898253, 0.0672682630149652, 0.053185460060659495], [0.05921371797224572, 0.03699371903804015, 0.03328800633507849, 0.027163528391039013, 0.03585556082541774, 0.03141729645051197, 0.019951584092882568, 0.02452509700796748, 0.0306148296642614, 0.021212805550564356, 0.018084850535204155, 0.039934320405727836, 0.03385965832644155, 0.020770361115150873, 0.016888929764895526, 0.045389390070886604, 0.03887307508590567, 0.020400944335788106, 0.01692162182094872, 0.057610997605293646, 0.04440151049203357, 0.018413456531895547, 0.012265961006910037, 0.03209698146619791, 0.022743043458220456, 0.031714963941612634, 0.015111501140419266, 0.009926651202349325, 0.022761380148190152, 0.01969086659346754, 0.02697332330519087, 0.0183887815914188, 0.014294421393710196, 0.08224686333413204], [0.029238938843097292, 0.023948317883870623, 0.04715580439344177, 0.0155004544284357, 0.02309412575039586, 0.021002063688829255, 0.019023171744577225, 0.01786766826068641, 0.021499892434257217, 0.052548717137492824, 0.02693397012211529, 0.01889408153630122, 0.017464219553098452, 0.09473918707563213, 0.014998123567090604, 0.013863762978123174, 0.014509454436887087, 0.0725237104901569, 0.009120751401981207, 0.01826771954677805, 0.013138575522853696, 0.08076573101142752, 0.0067886381107576535, 0.018099783423778056, 0.01108280598753073, 0.011796915453447824, 0.07094379557633637, 0.006435225203288719, 0.025985002216897687, 0.012406668105322476, 0.014903577600140834, 0.1153796559794119, 0.004666864411081454, 0.024079551116710552, 0.011333075007766221], [0.05082403835035198, 0.03162356046047713, 0.024170716562070364, 0.01757601842881874, 0.024469921141823312, 0.021073208827572184, 0.01688857871724748, 0.017317702954174403, 0.02346034379934211, 0.016709152891298554, 0.020262008394229016, 0.022393455497860093, 0.021762551803392004, 0.02181181704748776, 0.02070461010494461, 0.022261150500672146, 0.020353715603508942, 0.023889029732454974, 0.019274625956811793, 0.02404575526170793, 0.020857840185956412, 0.0375293378906809, 0.029231659375752426, 0.02471239876474824, 0.023557666184269868, 0.02735083366321528, 0.03581452332700772, 0.03517840563405257, 0.02665385602956641, 0.026271967703653993, 0.03228170137272037, 0.03593488440249498, 0.0384515810477026, 0.03339791678204695, 0.042205601266854194, 0.06969786433303153], [0.02496502189323743, 0.02897919436378058, 0.01183602106875001, 0.009264036174779458, 0.02937262371780608, 0.02106787757721697, 0.011344439176754258, 0.01169617400819484, 0.013025247347425866, 0.016506043220425665, 0.008206188069649163, 0.05770288119574224, 0.013140161978878776, 0.013112629332805634, 0.0076213891704367655, 0.05852909463490056, 0.013977536589274761, 0.014106945464620312, 0.009428156884296449, 0.06122440134169847, 0.010397491606201053, 0.01619131645600388, 0.013386256498898979, 0.08865797745588648, 0.022030873022890016, 0.012756803729931198, 0.018153544825620642, 0.01340363058910095, 0.13268959816196937, 0.00985918781569604, 0.011240557627283338, 0.016152236579098485, 0.010928751890154412, 0.09954256482405388, 0.016388369889218865, 0.042455813328604146, 0.030658962488713876], [0.047846136349513305, 0.028853780522318736, 0.021486205212156707, 0.01780772219012808, 0.02508299570004678, 0.0210464834760998, 0.016642372057893418, 0.017727672527409408, 0.021454723276941846, 0.01708326340663585, 0.014746353187422144, 0.023499520993861864, 0.020601795987507752, 0.020667451389151967, 0.013158525564646488, 0.02149682351527981, 0.018935208319561508, 0.0183381977021962, 0.012132879687968034, 0.024112479308299208, 0.022725992911055082, 0.022114335317388607, 0.021241561036220203, 0.0629549762562589, 0.04432382819171804, 0.027407599694603737, 0.022488280069481486, 0.024499093275993745, 0.054071991869387964, 0.052063144752796504, 0.016713676252145756, 0.02153071862767128, 0.008921261190402964, 0.024660537262260786, 0.022258872696710934, 0.019012644926471495, 0.020712069099389437, 0.08957882619500425], [0.058384818362503185, 0.03271616901786975, 0.030244941995246608, 0.025507118174093273, 0.0343847688241645, 0.02943492675013875, 0.018230019422521733, 0.02122131451372426, 0.024461657492164224, 0.017711586469218492, 0.013664194437824621, 0.029843845813625453, 0.026353320069916093, 0.016767959604312915, 0.013094932608742912, 0.032252451107164265, 0.02819686547623937, 0.015919945032956052, 0.01331170941597439, 0.034282118333142535, 0.02971453870840143, 0.016858615677387268, 0.011089046843706504, 0.032244818288498414, 0.024261258228251734, 0.031440823821774586, 0.017607714757049073, 0.011531236240636143, 0.03003264940129668, 0.023554404634794655, 0.02688999336595261, 0.01792267637482992, 0.009465027154133167, 0.036575324621468695, 0.025512139021432755, 0.013778707288295212, 0.011589461161880112, 0.04091287257338378, 0.07303402891528388], [0.022740140087237147, 0.019828597378127328, 0.03207044857768528, 0.012529106100678438, 0.02041928970611353, 0.015082264933490177, 0.014149881447566431, 0.012805349266173383, 0.015477821638812379, 0.024792043755739825, 0.01657683443017961, 0.012986428565219768, 0.012415756322127634, 0.04254865603033589, 0.012420062924647559, 0.011568561941767039, 0.010739224300264947, 0.03557509443803868, 0.009177658766555113, 0.02080971354770007, 0.012410117327736819, 0.04976551680840799, 0.007940684819138325, 0.017565815469790785, 0.013903829371913262, 0.014191887842814822, 0.11423288383367795, 0.007432102752938503, 0.012632461119816255, 0.01010047782480684, 0.017152805980653676, 0.15050845083361455, 0.008054976211883755, 0.027550250439905395, 0.011469760984330857, 0.09299582297675006, 0.006683042645538776, 0.02073017711046359, 0.017004293391121406, 0.012961708096236214], [0.04425841101473616, 0.030105669094596617, 0.021595210293062304, 0.01661837015284883, 0.024364563858027627, 0.02221358533007283, 0.01425207913995194, 0.015260403645454198, 0.01732890928025046, 0.012510216207854821, 0.01527759568561364, 0.018260710622004354, 0.014465195286120927, 0.015168051225620626, 0.014832985204296585, 0.019884840340933692, 0.013420519927079478, 0.015994137532005296, 0.012735927656250132, 0.019869224896673754, 0.01479335309523946, 0.023295478460111485, 0.020991736556443832, 0.023169433725495944, 0.022023875164555402, 0.018906843055864406, 0.028006143453605314, 0.028833184931575894, 0.026900386615648995, 0.02566191115687537, 0.026483400495069077, 0.032310010655630966, 0.033777130354402544, 0.02847475178624292, 0.02736761238083346, 0.023957370661355514, 0.022472341732025038, 0.034050263266931786, 0.02767808222786385, 0.0462391143742088, 0.08619096945656564], [0.023234697260051382, 0.02425235298830002, 0.008996519740770545, 0.006589416947583824, 0.024414485555864496, 0.01698337430192622, 0.008984965122422722, 0.009561508419653702, 0.01032896460948477, 0.013705654134191796, 0.009213274301219711, 0.05124988001722587, 0.010790556220946596, 0.011490478392639248, 0.007710024521252132, 0.04177083893166713, 0.012300791499968796, 0.011637980516512648, 0.009592934974407021, 0.045683981915438154, 0.008929657440267967, 0.0166534439230443, 0.012898722436407321, 0.07131478740265403, 0.02339773404948409, 0.00966041672566116, 0.015667022730010985, 0.012624257318187705, 0.06681017905704116, 0.014525080791019534, 0.013286391348103796, 0.016672268853957655, 0.011158335800288419, 0.05837887081662502, 0.02262094928565966, 0.025141261243576577, 0.02266428008651182, 0.09454646049596037, 0.016344042557123285, 0.021237912810738183, 0.047566044003995056, 0.03940920045215525]]},\n",
       "                preset: 'viridis'\n",
       "             })\n",
       "\n",
       "             window.ecco[viz_id].init();\n",
       "             window.ecco[viz_id].selectFirstToken();\n",
       "\n",
       "             }, function (err) {\n",
       "                console.log(err);\n",
       "            })"
      ],
      "text/plain": [
       "<IPython.core.display.Javascript object>"
      ]
     },
     "metadata": {},
     "output_type": "display_data"
    }
   ],
   "source": [
    "output.primary_attributions(attr_method='integrated_gradients')"
   ]
  },
  {
   "cell_type": "code",
   "execution_count": 9,
   "metadata": {},
   "outputs": [
    {
     "data": {
      "text/html": [
       "<html lang=\"en\">\n",
       "<script src=\"https://requirejs.org/docs/release/2.3.6/minified/require.js\"></script>\n",
       "<script>\n",
       "    var ecco_url = 'https://storage.googleapis.com/ml-intro/ecco/'\n",
       "    // var ecco_url = 'http://localhost:8000/ecco/'\n",
       "\n",
       "    if (window.ecco === undefined) window.ecco = {}\n",
       "\n",
       "    requirejs.config({\n",
       "        urlArgs: \"bust=\" + (new Date()).getTime(),\n",
       "        nodeRequire: require,\n",
       "        paths: {\n",
       "            d3: \"https://d3js.org/d3.v5.min\",\n",
       "            \"d3-array\": \"https://d3js.org/d3-array.v2.min\",\n",
       "            jquery: \"https://code.jquery.com/jquery-3.5.1.min\",\n",
       "            // oldEcco: ecco_url + 'ecco',\n",
       "            ecco: ecco_url + 'js/0.0.4/ecco-bundle.min',\n",
       "            xregexp: 'https://cdnjs.cloudflare.com/ajax/libs/xregexp/3.2.0/xregexp-all.min'\n",
       "        }\n",
       "    });\n",
       "    requirejs(['d3'],\n",
       "        function (d3) {\n",
       "            d3.select('#css').attr('href', ecco_url + 'html/styles.css')\n",
       "        })\n",
       "\n",
       "    console.log('Ecco initialize.')\n",
       "</script>\n",
       "\n",
       "<head>\n",
       "    <link id='css' rel=\"stylesheet\" type=\"text/css\">\n",
       "</head>\n"
      ],
      "text/plain": [
       "<IPython.core.display.HTML object>"
      ]
     },
     "metadata": {},
     "output_type": "display_data"
    },
    {
     "data": {
      "text/html": [
       "<script>\n",
       "    // console.log('defining basic')\n",
       "    define('basic', ['d3'],\n",
       "        function (d3) {\n",
       "            return {\n",
       "                init: function (viz_id = null) {\n",
       "\n",
       "                    // console.log('basic init')\n",
       "                    if (viz_id == null){\n",
       "                        viz_id = \"viz_\" + Math.round(Math.random() * 10000000)\n",
       "                    }\n",
       "                    const div = d3.select('#basic').attr('id', viz_id),\n",
       "                        div_parent = d3.select('#' + viz_id).node().parentNode\n",
       "\n",
       "                    // Link to CSS file\n",
       "                    d3.select(div_parent).insert('link')\n",
       "                        .attr('rel', 'stylesheet')\n",
       "                        .attr('type', 'text/css')\n",
       "                        .attr('href', ecco_url + 'html/styles.css')\n",
       "\n",
       "                    return viz_id\n",
       "                }\n",
       "            }\n",
       "        }, function (err) {console.log(err);}\n",
       "    )\n",
       "    // console.log('after defining basic')\n",
       "\n",
       "</script>\n",
       "<div id=\"basic\"></div>\n"
      ],
      "text/plain": [
       "<IPython.core.display.HTML object>"
      ]
     },
     "metadata": {},
     "output_type": "display_data"
    },
    {
     "data": {
      "application/javascript": [
       "\n",
       "             requirejs(['basic', 'ecco'], function(basic, ecco){\n",
       "                const viz_id = basic.init()\n",
       "                window.ecco[viz_id] = ecco.interactiveTokens(viz_id, {'tokens': [{'token': 'The', 'token_id': 464, 'type': 'input', 'value': '0.03816325659898114', 'position': 0}, {'token': ' countries', 'token_id': 2678, 'type': 'input', 'value': '0.04485683941936176', 'position': 1}, {'token': ' of', 'token_id': 286, 'type': 'input', 'value': '0.018770602228892288', 'position': 2}, {'token': ' the', 'token_id': 262, 'type': 'input', 'value': '0.012321895183562321', 'position': 3}, {'token': ' European', 'token_id': 3427, 'type': 'input', 'value': '0.04038441889983899', 'position': 4}, {'token': ' Union', 'token_id': 4479, 'type': 'input', 'value': '0.027187176177062865', 'position': 5}, {'token': ' are', 'token_id': 389, 'type': 'input', 'value': '0.014939194135626175', 'position': 6}, {'token': ':', 'token_id': 25, 'type': 'input', 'value': '0.01780878712189199', 'position': 7}, {'token': '\\n', 'token_id': 198, 'type': 'input', 'value': '0.022024434825352754', 'position': 8}, {'token': '1', 'token_id': 16, 'type': 'input', 'value': '0.01953061940565476', 'position': 9}, {'token': '.', 'token_id': 13, 'type': 'input', 'value': '0.015273648756695745', 'position': 10}, {'token': ' Austria', 'token_id': 17322, 'type': 'input', 'value': '0.06870788835444404', 'position': 11}, {'token': '\\n', 'token_id': 198, 'type': 'input', 'value': '0.030811432773188815', 'position': 12}, {'token': '2', 'token_id': 17, 'type': 'input', 'value': '0.024293020967353796', 'position': 13}, {'token': '.', 'token_id': 13, 'type': 'input', 'value': '0.018030779999945894', 'position': 14}, {'token': ' Belgium', 'token_id': 15664, 'type': 'input', 'value': '0.10826002953835284', 'position': 15}, {'token': '\\n', 'token_id': 198, 'type': 'input', 'value': '0.01896631030834879', 'position': 16}, {'token': '3', 'token_id': 18, 'type': 'input', 'value': '0.01856877118936424', 'position': 17}, {'token': '.', 'token_id': 13, 'type': 'input', 'value': '0.020773996355417407', 'position': 18}, {'token': ' Bulgaria', 'token_id': 27902, 'type': 'input', 'value': '0.3227535653029056', 'position': 19}, {'token': '\\n', 'token_id': 198, 'type': 'input', 'value': '0.025542212499585108', 'position': 20}, {'token': '4', 'token_id': 19, 'type': 'input', 'value': '0.0398622260203101', 'position': 21}, {'token': '.', 'token_id': 13, 'type': 'input', 'value': '0.03216889393786256', 'position': 22}, {'token': ' Czech', 'token_id': 16639, 'type': 'output', 'value': '0', 'position': 23}, {'token': ' Republic', 'token_id': 2066, 'type': 'output', 'value': '0', 'position': 24}, {'token': '\\n', 'token_id': 198, 'type': 'output', 'value': '0', 'position': 25}, {'token': '5', 'token_id': 20, 'type': 'output', 'value': '0', 'position': 26}, {'token': '.', 'token_id': 13, 'type': 'output', 'value': '0', 'position': 27}, {'token': ' Czech', 'token_id': 16639, 'type': 'output', 'value': '0', 'position': 28}, {'token': ' Republic', 'token_id': 2066, 'type': 'output', 'value': '0', 'position': 29}, {'token': '\\n', 'token_id': 198, 'type': 'output', 'value': '0', 'position': 30}, {'token': '6', 'token_id': 21, 'type': 'output', 'value': '0', 'position': 31}, {'token': '.', 'token_id': 13, 'type': 'output', 'value': '0', 'position': 32}, {'token': ' Cyprus', 'token_id': 27885, 'type': 'output', 'value': '0', 'position': 33}, {'token': '\\n', 'token_id': 198, 'type': 'output', 'value': '0', 'position': 34}, {'token': '7', 'token_id': 22, 'type': 'output', 'value': '0', 'position': 35}, {'token': '.', 'token_id': 13, 'type': 'output', 'value': '0', 'position': 36}, {'token': ' Czech', 'token_id': 16639, 'type': 'output', 'value': '0', 'position': 37}, {'token': ' Republic', 'token_id': 2066, 'type': 'output', 'value': '0', 'position': 38}, {'token': '\\n', 'token_id': 198, 'type': 'output', 'value': '0', 'position': 39}, {'token': '8', 'token_id': 23, 'type': 'output', 'value': '0', 'position': 40}, {'token': '.', 'token_id': 13, 'type': 'output', 'value': '0', 'position': 41}, {'token': ' Czech', 'token_id': 16639, 'type': 'output', 'value': '0', 'position': 42}], 'attributions': [[0.03816325659898114, 0.04485683941936176, 0.018770602228892288, 0.012321895183562321, 0.04038441889983899, 0.027187176177062865, 0.014939194135626175, 0.01780878712189199, 0.022024434825352754, 0.01953061940565476, 0.015273648756695745, 0.06870788835444404, 0.030811432773188815, 0.024293020967353796, 0.018030779999945894, 0.10826002953835284, 0.01896631030834879, 0.01856877118936424, 0.020773996355417407, 0.3227535653029056, 0.025542212499585108, 0.0398622260203101, 0.03216889393786256], [0.03356854596682211, 0.039151739732032995, 0.029228802496124126, 0.018527658168107333, 0.028150240541935618, 0.025323406902877234, 0.016878003401156954, 0.022311751195628757, 0.03657311280878972, 0.024964752653788273, 0.020555571224773583, 0.06905722307680436, 0.041805241978895194, 0.02437447146665573, 0.017461582116750966, 0.07650292631902632, 0.027489217620829433, 0.01612326516649157, 0.016274025388636603, 0.06712416327391814, 0.02109270479670383, 0.029187603539893123, 0.03667696025925642, 0.2615970299041016], [0.07143582743010654, 0.03795342610369315, 0.03562509559581455, 0.024973211321331287, 0.03661075782314724, 0.0348176410971063, 0.020320852699016026, 0.02513800218814171, 0.030513458680212335, 0.027526377275662737, 0.021808023364822553, 0.04930110226582615, 0.042917454857613654, 0.027861972805667094, 0.019156342596903225, 0.06138195233673923, 0.04723242625154431, 0.02203957394006854, 0.01511247461578667, 0.06033658128274698, 0.048246426227623034, 0.023116794633402188, 0.024359496110357978, 0.09371264936843905, 0.09850207912822738], [0.03298532057181011, 0.030422608427300792, 0.06296929862106472, 0.01927554749514607, 0.026759024583823565, 0.025292171500871777, 0.0236380228286462, 0.020395376516767916, 0.024617275843020887, 0.07190130887293232, 0.028357096558612894, 0.02498464921647124, 0.021634008332033525, 0.13712306058301865, 0.013260603836038559, 0.015960283816842075, 0.01965715227235756, 0.09969204971091344, 0.009860028219411008, 0.0225658147734015, 0.022401231223673268, 0.16867568198693847, 0.013002589827328404, 0.03253932110913485, 0.017176111493804994, 0.014854361778635394], [0.07805083354779466, 0.04341978170040821, 0.03264199666094037, 0.0231670654405534, 0.033830786343621216, 0.030576424094651975, 0.023502465499232888, 0.02595144149188776, 0.026700627371656134, 0.02749516048957498, 0.027499449161542875, 0.027659195999392334, 0.027755303553406132, 0.03198775233405264, 0.03130448442370603, 0.02946737524336084, 0.027135055331895034, 0.04091777098637475, 0.035466585409128254, 0.028885572413487253, 0.03206532840320689, 0.07618588406959917, 0.06785122467702173, 0.023160262351600625, 0.02181595992179754, 0.0456295519877655, 0.07987666109234073], [0.03208456314775836, 0.03825942358550527, 0.015467571216379993, 0.011014376464287993, 0.036587784568491453, 0.02698066380749544, 0.013228140515395356, 0.014237608737193524, 0.017551323022777517, 0.020952095662313746, 0.014241867366504657, 0.07958096880371313, 0.01543949588164559, 0.015475054405138687, 0.010451748419933165, 0.07824494850979308, 0.013547277292822072, 0.017584871904517088, 0.013005982865382373, 0.10830080609522286, 0.017428885506406356, 0.022635228265475843, 0.020622033332880117, 0.2245811205772041, 0.015967050122939943, 0.023942031776544838, 0.055656437577622724, 0.026930640568654716], [0.04488272039024159, 0.03214446914376869, 0.02514894725957245, 0.020856372720509646, 0.02890918600247277, 0.025922845350103595, 0.017228377204244402, 0.018427463189261986, 0.02191138528073215, 0.018524932970572353, 0.015314069509506823, 0.02639157625952141, 0.02203650620168601, 0.02019226717500204, 0.01709925716971582, 0.03284161373021337, 0.02275264094635941, 0.019568266613256335, 0.01677011208596385, 0.034264320998992945, 0.03138595975495076, 0.030347900664982254, 0.03482504875836121, 0.12548068126430104, 0.12876409066119676, 0.024396009240783084, 0.019377876464038366, 0.021122701801284196, 0.1031124011884046], [0.06704097238371985, 0.03658205673759235, 0.03412673569207195, 0.02461589505659941, 0.03669250858887324, 0.03289860057560967, 0.019407861868051546, 0.022768270014152398, 0.028293382264724238, 0.02263037636157071, 0.018150934819847763, 0.03794181771402853, 0.035243592812605404, 0.022254648293682906, 0.01700668843436193, 0.04549629397403787, 0.03974869308760459, 0.019348532497975277, 0.015317965921529307, 0.04776045775170519, 0.04086546293831945, 0.018032634683298788, 0.012981157721251281, 0.041967153907926914, 0.031113314409886156, 0.044292800566932335, 0.01845188659752481, 0.019101021114027655, 0.06612839179926171, 0.08373989141122672], [0.031315266274214305, 0.03392589311717233, 0.04296628018681458, 0.01643739112127549, 0.023005212045434032, 0.021129833672831708, 0.021689269388193436, 0.020242993767644175, 0.023175531854590595, 0.04487985372472083, 0.025117703477214072, 0.02409591668056613, 0.019769658192756164, 0.08057904398562077, 0.01475900319301213, 0.018932128911785005, 0.016567340166159714, 0.05867234761098179, 0.011524927904798943, 0.025901734846450836, 0.016092480094909083, 0.08630119513515518, 0.012682763769894644, 0.021863588332845865, 0.014267416792745279, 0.033838571658996806, 0.17621271433611624, 0.014518932450575953, 0.018615099693572692, 0.014380175119442134, 0.01653973249350909], [0.05873981656370905, 0.03489107930120627, 0.028447201311015614, 0.020630027215687557, 0.029211185814287253, 0.02602092437115162, 0.019410846675278547, 0.021098332843177445, 0.02396394579102731, 0.020010836264802916, 0.022335800946430968, 0.02433621968243983, 0.024226431603372713, 0.028889309193907333, 0.025148485883537852, 0.025736392414955796, 0.021990902792055355, 0.02923363105314175, 0.0236475113719066, 0.02672069108011757, 0.025041697558649104, 0.06060661687479739, 0.04859222685442978, 0.023743864509403904, 0.02288132247449662, 0.026842119172127865, 0.0387328435405801, 0.032844915039369794, 0.02928360923915231, 0.024274260157828714, 0.050300941987045676, 0.0821660104189094], [0.03334629674514625, 0.030721355154010758, 0.014064881839165324, 0.01498725920276899, 0.028186917673785613, 0.02180590855779051, 0.010672993268418527, 0.011729855398087359, 0.014749623663527892, 0.01522789332121471, 0.0156629571093402, 0.05542589566799113, 0.013697853247595294, 0.018570895790800044, 0.014526486006091379, 0.06512041428623497, 0.014018385463064702, 0.021067059007293044, 0.017205602228908094, 0.0969766474533641, 0.013155295987901576, 0.02035820684846933, 0.016188519903414012, 0.06530649641085567, 0.01875595201473756, 0.027217962205989637, 0.029352988759609292, 0.03170573375265457, 0.08123026273724829, 0.017272883898998413, 0.031236793319898253, 0.0672682630149652, 0.053185460060659495], [0.05921371797224572, 0.03699371903804015, 0.03328800633507849, 0.027163528391039013, 0.03585556082541774, 0.03141729645051197, 0.019951584092882568, 0.02452509700796748, 0.0306148296642614, 0.021212805550564356, 0.018084850535204155, 0.039934320405727836, 0.03385965832644155, 0.020770361115150873, 0.016888929764895526, 0.045389390070886604, 0.03887307508590567, 0.020400944335788106, 0.01692162182094872, 0.057610997605293646, 0.04440151049203357, 0.018413456531895547, 0.012265961006910037, 0.03209698146619791, 0.022743043458220456, 0.031714963941612634, 0.015111501140419266, 0.009926651202349325, 0.022761380148190152, 0.01969086659346754, 0.02697332330519087, 0.0183887815914188, 0.014294421393710196, 0.08224686333413204], [0.029238938843097292, 0.023948317883870623, 0.04715580439344177, 0.0155004544284357, 0.02309412575039586, 0.021002063688829255, 0.019023171744577225, 0.01786766826068641, 0.021499892434257217, 0.052548717137492824, 0.02693397012211529, 0.01889408153630122, 0.017464219553098452, 0.09473918707563213, 0.014998123567090604, 0.013863762978123174, 0.014509454436887087, 0.0725237104901569, 0.009120751401981207, 0.01826771954677805, 0.013138575522853696, 0.08076573101142752, 0.0067886381107576535, 0.018099783423778056, 0.01108280598753073, 0.011796915453447824, 0.07094379557633637, 0.006435225203288719, 0.025985002216897687, 0.012406668105322476, 0.014903577600140834, 0.1153796559794119, 0.004666864411081454, 0.024079551116710552, 0.011333075007766221], [0.05082403835035198, 0.03162356046047713, 0.024170716562070364, 0.01757601842881874, 0.024469921141823312, 0.021073208827572184, 0.01688857871724748, 0.017317702954174403, 0.02346034379934211, 0.016709152891298554, 0.020262008394229016, 0.022393455497860093, 0.021762551803392004, 0.02181181704748776, 0.02070461010494461, 0.022261150500672146, 0.020353715603508942, 0.023889029732454974, 0.019274625956811793, 0.02404575526170793, 0.020857840185956412, 0.0375293378906809, 0.029231659375752426, 0.02471239876474824, 0.023557666184269868, 0.02735083366321528, 0.03581452332700772, 0.03517840563405257, 0.02665385602956641, 0.026271967703653993, 0.03228170137272037, 0.03593488440249498, 0.0384515810477026, 0.03339791678204695, 0.042205601266854194, 0.06969786433303153], [0.02496502189323743, 0.02897919436378058, 0.01183602106875001, 0.009264036174779458, 0.02937262371780608, 0.02106787757721697, 0.011344439176754258, 0.01169617400819484, 0.013025247347425866, 0.016506043220425665, 0.008206188069649163, 0.05770288119574224, 0.013140161978878776, 0.013112629332805634, 0.0076213891704367655, 0.05852909463490056, 0.013977536589274761, 0.014106945464620312, 0.009428156884296449, 0.06122440134169847, 0.010397491606201053, 0.01619131645600388, 0.013386256498898979, 0.08865797745588648, 0.022030873022890016, 0.012756803729931198, 0.018153544825620642, 0.01340363058910095, 0.13268959816196937, 0.00985918781569604, 0.011240557627283338, 0.016152236579098485, 0.010928751890154412, 0.09954256482405388, 0.016388369889218865, 0.042455813328604146, 0.030658962488713876], [0.047846136349513305, 0.028853780522318736, 0.021486205212156707, 0.01780772219012808, 0.02508299570004678, 0.0210464834760998, 0.016642372057893418, 0.017727672527409408, 0.021454723276941846, 0.01708326340663585, 0.014746353187422144, 0.023499520993861864, 0.020601795987507752, 0.020667451389151967, 0.013158525564646488, 0.02149682351527981, 0.018935208319561508, 0.0183381977021962, 0.012132879687968034, 0.024112479308299208, 0.022725992911055082, 0.022114335317388607, 0.021241561036220203, 0.0629549762562589, 0.04432382819171804, 0.027407599694603737, 0.022488280069481486, 0.024499093275993745, 0.054071991869387964, 0.052063144752796504, 0.016713676252145756, 0.02153071862767128, 0.008921261190402964, 0.024660537262260786, 0.022258872696710934, 0.019012644926471495, 0.020712069099389437, 0.08957882619500425], [0.058384818362503185, 0.03271616901786975, 0.030244941995246608, 0.025507118174093273, 0.0343847688241645, 0.02943492675013875, 0.018230019422521733, 0.02122131451372426, 0.024461657492164224, 0.017711586469218492, 0.013664194437824621, 0.029843845813625453, 0.026353320069916093, 0.016767959604312915, 0.013094932608742912, 0.032252451107164265, 0.02819686547623937, 0.015919945032956052, 0.01331170941597439, 0.034282118333142535, 0.02971453870840143, 0.016858615677387268, 0.011089046843706504, 0.032244818288498414, 0.024261258228251734, 0.031440823821774586, 0.017607714757049073, 0.011531236240636143, 0.03003264940129668, 0.023554404634794655, 0.02688999336595261, 0.01792267637482992, 0.009465027154133167, 0.036575324621468695, 0.025512139021432755, 0.013778707288295212, 0.011589461161880112, 0.04091287257338378, 0.07303402891528388], [0.022740140087237147, 0.019828597378127328, 0.03207044857768528, 0.012529106100678438, 0.02041928970611353, 0.015082264933490177, 0.014149881447566431, 0.012805349266173383, 0.015477821638812379, 0.024792043755739825, 0.01657683443017961, 0.012986428565219768, 0.012415756322127634, 0.04254865603033589, 0.012420062924647559, 0.011568561941767039, 0.010739224300264947, 0.03557509443803868, 0.009177658766555113, 0.02080971354770007, 0.012410117327736819, 0.04976551680840799, 0.007940684819138325, 0.017565815469790785, 0.013903829371913262, 0.014191887842814822, 0.11423288383367795, 0.007432102752938503, 0.012632461119816255, 0.01010047782480684, 0.017152805980653676, 0.15050845083361455, 0.008054976211883755, 0.027550250439905395, 0.011469760984330857, 0.09299582297675006, 0.006683042645538776, 0.02073017711046359, 0.017004293391121406, 0.012961708096236214], [0.04425841101473616, 0.030105669094596617, 0.021595210293062304, 0.01661837015284883, 0.024364563858027627, 0.02221358533007283, 0.01425207913995194, 0.015260403645454198, 0.01732890928025046, 0.012510216207854821, 0.01527759568561364, 0.018260710622004354, 0.014465195286120927, 0.015168051225620626, 0.014832985204296585, 0.019884840340933692, 0.013420519927079478, 0.015994137532005296, 0.012735927656250132, 0.019869224896673754, 0.01479335309523946, 0.023295478460111485, 0.020991736556443832, 0.023169433725495944, 0.022023875164555402, 0.018906843055864406, 0.028006143453605314, 0.028833184931575894, 0.026900386615648995, 0.02566191115687537, 0.026483400495069077, 0.032310010655630966, 0.033777130354402544, 0.02847475178624292, 0.02736761238083346, 0.023957370661355514, 0.022472341732025038, 0.034050263266931786, 0.02767808222786385, 0.0462391143742088, 0.08619096945656564], [0.023234697260051382, 0.02425235298830002, 0.008996519740770545, 0.006589416947583824, 0.024414485555864496, 0.01698337430192622, 0.008984965122422722, 0.009561508419653702, 0.01032896460948477, 0.013705654134191796, 0.009213274301219711, 0.05124988001722587, 0.010790556220946596, 0.011490478392639248, 0.007710024521252132, 0.04177083893166713, 0.012300791499968796, 0.011637980516512648, 0.009592934974407021, 0.045683981915438154, 0.008929657440267967, 0.0166534439230443, 0.012898722436407321, 0.07131478740265403, 0.02339773404948409, 0.00966041672566116, 0.015667022730010985, 0.012624257318187705, 0.06681017905704116, 0.014525080791019534, 0.013286391348103796, 0.016672268853957655, 0.011158335800288419, 0.05837887081662502, 0.02262094928565966, 0.025141261243576577, 0.02266428008651182, 0.09454646049596037, 0.016344042557123285, 0.021237912810738183, 0.047566044003995056, 0.03940920045215525]]})\n",
       "\n",
       "             }, function (err) {\n",
       "                console.log(err);\n",
       "            })"
      ],
      "text/plain": [
       "<IPython.core.display.Javascript object>"
      ]
     },
     "metadata": {},
     "output_type": "display_data"
    }
   ],
   "source": [
    "output.primary_attributions(attr_method='integrated_gradients', style=\"detailed\")"
   ]
  },
  {
   "cell_type": "code",
   "execution_count": null,
   "metadata": {},
   "outputs": [],
   "source": []
  }
 ],
 "metadata": {
  "colab": {
   "authorship_tag": "ABX9TyNMd2pM9pAx9vddAE9PqoYa",
   "collapsed_sections": [],
   "include_colab_link": true,
   "name": "Ecco-Input-saliency.ipynb",
   "provenance": []
  },
  "kernelspec": {
   "display_name": "Python 3",
   "language": "python",
   "name": "python3"
  },
  "language_info": {
   "codemirror_mode": {
    "name": "ipython",
    "version": 3
   },
   "file_extension": ".py",
   "mimetype": "text/x-python",
   "name": "python",
   "nbconvert_exporter": "python",
   "pygments_lexer": "ipython3",
   "version": "3.7.12"
  },
  "widgets": {
   "application/vnd.jupyter.widget-state+json": {
    "01e1163950684dc6b7fa868e7b9315a4": {
     "model_module": "@jupyter-widgets/controls",
     "model_name": "HTMLModel",
     "state": {
      "_dom_classes": [],
      "_model_module": "@jupyter-widgets/controls",
      "_model_module_version": "1.5.0",
      "_model_name": "HTMLModel",
      "_view_count": null,
      "_view_module": "@jupyter-widgets/controls",
      "_view_module_version": "1.5.0",
      "_view_name": "HTMLView",
      "description": "",
      "description_tooltip": null,
      "layout": "IPY_MODEL_14dd95b6e25b462e87175be869146d05",
      "placeholder": "​",
      "style": "IPY_MODEL_ff801625f32e452e84c2bcefccabbad3",
      "value": " 1.04M/1.04M [00:00&lt;00:00, 2.09MB/s]"
     }
    },
    "03de4b4c35ce4b3a87f0b06743707c65": {
     "model_module": "@jupyter-widgets/base",
     "model_name": "LayoutModel",
     "state": {
      "_model_module": "@jupyter-widgets/base",
      "_model_module_version": "1.2.0",
      "_model_name": "LayoutModel",
      "_view_count": null,
      "_view_module": "@jupyter-widgets/base",
      "_view_module_version": "1.2.0",
      "_view_name": "LayoutView",
      "align_content": null,
      "align_items": null,
      "align_self": null,
      "border": null,
      "bottom": null,
      "display": null,
      "flex": null,
      "flex_flow": null,
      "grid_area": null,
      "grid_auto_columns": null,
      "grid_auto_flow": null,
      "grid_auto_rows": null,
      "grid_column": null,
      "grid_gap": null,
      "grid_row": null,
      "grid_template_areas": null,
      "grid_template_columns": null,
      "grid_template_rows": null,
      "height": null,
      "justify_content": null,
      "justify_items": null,
      "left": null,
      "margin": null,
      "max_height": null,
      "max_width": null,
      "min_height": null,
      "min_width": null,
      "object_fit": null,
      "object_position": null,
      "order": null,
      "overflow": null,
      "overflow_x": null,
      "overflow_y": null,
      "padding": null,
      "right": null,
      "top": null,
      "visibility": null,
      "width": null
     }
    },
    "0e6405015df340b3bdc58694ebd4ecf4": {
     "model_module": "@jupyter-widgets/base",
     "model_name": "LayoutModel",
     "state": {
      "_model_module": "@jupyter-widgets/base",
      "_model_module_version": "1.2.0",
      "_model_name": "LayoutModel",
      "_view_count": null,
      "_view_module": "@jupyter-widgets/base",
      "_view_module_version": "1.2.0",
      "_view_name": "LayoutView",
      "align_content": null,
      "align_items": null,
      "align_self": null,
      "border": null,
      "bottom": null,
      "display": null,
      "flex": null,
      "flex_flow": null,
      "grid_area": null,
      "grid_auto_columns": null,
      "grid_auto_flow": null,
      "grid_auto_rows": null,
      "grid_column": null,
      "grid_gap": null,
      "grid_row": null,
      "grid_template_areas": null,
      "grid_template_columns": null,
      "grid_template_rows": null,
      "height": null,
      "justify_content": null,
      "justify_items": null,
      "left": null,
      "margin": null,
      "max_height": null,
      "max_width": null,
      "min_height": null,
      "min_width": null,
      "object_fit": null,
      "object_position": null,
      "order": null,
      "overflow": null,
      "overflow_x": null,
      "overflow_y": null,
      "padding": null,
      "right": null,
      "top": null,
      "visibility": null,
      "width": null
     }
    },
    "1198ffa7ad12484f9ac4048835321335": {
     "model_module": "@jupyter-widgets/controls",
     "model_name": "FloatProgressModel",
     "state": {
      "_dom_classes": [],
      "_model_module": "@jupyter-widgets/controls",
      "_model_module_version": "1.5.0",
      "_model_name": "FloatProgressModel",
      "_view_count": null,
      "_view_module": "@jupyter-widgets/controls",
      "_view_module_version": "1.5.0",
      "_view_name": "ProgressView",
      "bar_style": "success",
      "description": "Downloading: 100%",
      "description_tooltip": null,
      "layout": "IPY_MODEL_ea23401f422c4201a2ccd2a45c426d52",
      "max": 762,
      "min": 0,
      "orientation": "horizontal",
      "style": "IPY_MODEL_9254b1b515654fe9be6ffc08c2b15e4b",
      "value": 762
     }
    },
    "14dd95b6e25b462e87175be869146d05": {
     "model_module": "@jupyter-widgets/base",
     "model_name": "LayoutModel",
     "state": {
      "_model_module": "@jupyter-widgets/base",
      "_model_module_version": "1.2.0",
      "_model_name": "LayoutModel",
      "_view_count": null,
      "_view_module": "@jupyter-widgets/base",
      "_view_module_version": "1.2.0",
      "_view_name": "LayoutView",
      "align_content": null,
      "align_items": null,
      "align_self": null,
      "border": null,
      "bottom": null,
      "display": null,
      "flex": null,
      "flex_flow": null,
      "grid_area": null,
      "grid_auto_columns": null,
      "grid_auto_flow": null,
      "grid_auto_rows": null,
      "grid_column": null,
      "grid_gap": null,
      "grid_row": null,
      "grid_template_areas": null,
      "grid_template_columns": null,
      "grid_template_rows": null,
      "height": null,
      "justify_content": null,
      "justify_items": null,
      "left": null,
      "margin": null,
      "max_height": null,
      "max_width": null,
      "min_height": null,
      "min_width": null,
      "object_fit": null,
      "object_position": null,
      "order": null,
      "overflow": null,
      "overflow_x": null,
      "overflow_y": null,
      "padding": null,
      "right": null,
      "top": null,
      "visibility": null,
      "width": null
     }
    },
    "2d5ded1ce3034928b9675c598f5144e6": {
     "model_module": "@jupyter-widgets/controls",
     "model_name": "HBoxModel",
     "state": {
      "_dom_classes": [],
      "_model_module": "@jupyter-widgets/controls",
      "_model_module_version": "1.5.0",
      "_model_name": "HBoxModel",
      "_view_count": null,
      "_view_module": "@jupyter-widgets/controls",
      "_view_module_version": "1.5.0",
      "_view_name": "HBoxView",
      "box_style": "",
      "children": [
       "IPY_MODEL_31a4e3758a474c3da4a49bd5c4c396a4",
       "IPY_MODEL_deaba8a37b4a40e2a5e42c8e4044f5ef"
      ],
      "layout": "IPY_MODEL_03de4b4c35ce4b3a87f0b06743707c65"
     }
    },
    "31a4e3758a474c3da4a49bd5c4c396a4": {
     "model_module": "@jupyter-widgets/controls",
     "model_name": "FloatProgressModel",
     "state": {
      "_dom_classes": [],
      "_model_module": "@jupyter-widgets/controls",
      "_model_module_version": "1.5.0",
      "_model_name": "FloatProgressModel",
      "_view_count": null,
      "_view_module": "@jupyter-widgets/controls",
      "_view_module_version": "1.5.0",
      "_view_name": "ProgressView",
      "bar_style": "success",
      "description": "Downloading: 100%",
      "description_tooltip": null,
      "layout": "IPY_MODEL_a573b926127f471d90552617dbd355ac",
      "max": 456318,
      "min": 0,
      "orientation": "horizontal",
      "style": "IPY_MODEL_41e537de9f8c4912a59ec4dc30e405f5",
      "value": 456318
     }
    },
    "41e537de9f8c4912a59ec4dc30e405f5": {
     "model_module": "@jupyter-widgets/controls",
     "model_name": "ProgressStyleModel",
     "state": {
      "_model_module": "@jupyter-widgets/controls",
      "_model_module_version": "1.5.0",
      "_model_name": "ProgressStyleModel",
      "_view_count": null,
      "_view_module": "@jupyter-widgets/base",
      "_view_module_version": "1.2.0",
      "_view_name": "StyleView",
      "bar_color": null,
      "description_width": "initial"
     }
    },
    "59c41cdb09dc43448f8cf3b3edacc9f6": {
     "model_module": "@jupyter-widgets/controls",
     "model_name": "FloatProgressModel",
     "state": {
      "_dom_classes": [],
      "_model_module": "@jupyter-widgets/controls",
      "_model_module_version": "1.5.0",
      "_model_name": "FloatProgressModel",
      "_view_count": null,
      "_view_module": "@jupyter-widgets/controls",
      "_view_module_version": "1.5.0",
      "_view_name": "ProgressView",
      "bar_style": "success",
      "description": "Downloading: 100%",
      "description_tooltip": null,
      "layout": "IPY_MODEL_ff151fd817e84f939614c8001ea02384",
      "max": 352833716,
      "min": 0,
      "orientation": "horizontal",
      "style": "IPY_MODEL_6f42cc0bd0414b09994f8ca293b31db3",
      "value": 352833716
     }
    },
    "5a022265356840a5a3fb60ec1ab69d9f": {
     "model_module": "@jupyter-widgets/controls",
     "model_name": "FloatProgressModel",
     "state": {
      "_dom_classes": [],
      "_model_module": "@jupyter-widgets/controls",
      "_model_module_version": "1.5.0",
      "_model_name": "FloatProgressModel",
      "_view_count": null,
      "_view_module": "@jupyter-widgets/controls",
      "_view_module_version": "1.5.0",
      "_view_name": "ProgressView",
      "bar_style": "success",
      "description": "Downloading: 100%",
      "description_tooltip": null,
      "layout": "IPY_MODEL_a9682d37555846aeb124b69cf38092c3",
      "max": 1042301,
      "min": 0,
      "orientation": "horizontal",
      "style": "IPY_MODEL_6b92f7b5d29e4fa786f03c9a6267cec4",
      "value": 1042301
     }
    },
    "5e4aa51d413b4004bee30cce914d193e": {
     "model_module": "@jupyter-widgets/base",
     "model_name": "LayoutModel",
     "state": {
      "_model_module": "@jupyter-widgets/base",
      "_model_module_version": "1.2.0",
      "_model_name": "LayoutModel",
      "_view_count": null,
      "_view_module": "@jupyter-widgets/base",
      "_view_module_version": "1.2.0",
      "_view_name": "LayoutView",
      "align_content": null,
      "align_items": null,
      "align_self": null,
      "border": null,
      "bottom": null,
      "display": null,
      "flex": null,
      "flex_flow": null,
      "grid_area": null,
      "grid_auto_columns": null,
      "grid_auto_flow": null,
      "grid_auto_rows": null,
      "grid_column": null,
      "grid_gap": null,
      "grid_row": null,
      "grid_template_areas": null,
      "grid_template_columns": null,
      "grid_template_rows": null,
      "height": null,
      "justify_content": null,
      "justify_items": null,
      "left": null,
      "margin": null,
      "max_height": null,
      "max_width": null,
      "min_height": null,
      "min_width": null,
      "object_fit": null,
      "object_position": null,
      "order": null,
      "overflow": null,
      "overflow_x": null,
      "overflow_y": null,
      "padding": null,
      "right": null,
      "top": null,
      "visibility": null,
      "width": null
     }
    },
    "5fd6963056bf4687a15c941d3be3494b": {
     "model_module": "@jupyter-widgets/controls",
     "model_name": "HBoxModel",
     "state": {
      "_dom_classes": [],
      "_model_module": "@jupyter-widgets/controls",
      "_model_module_version": "1.5.0",
      "_model_name": "HBoxModel",
      "_view_count": null,
      "_view_module": "@jupyter-widgets/controls",
      "_view_module_version": "1.5.0",
      "_view_name": "HBoxView",
      "box_style": "",
      "children": [
       "IPY_MODEL_5a022265356840a5a3fb60ec1ab69d9f",
       "IPY_MODEL_01e1163950684dc6b7fa868e7b9315a4"
      ],
      "layout": "IPY_MODEL_9a961b8a92334bedaeda460e4c92befc"
     }
    },
    "66ee7dd681184981a67e2b9dd5fdd6f0": {
     "model_module": "@jupyter-widgets/controls",
     "model_name": "HBoxModel",
     "state": {
      "_dom_classes": [],
      "_model_module": "@jupyter-widgets/controls",
      "_model_module_version": "1.5.0",
      "_model_name": "HBoxModel",
      "_view_count": null,
      "_view_module": "@jupyter-widgets/controls",
      "_view_module_version": "1.5.0",
      "_view_name": "HBoxView",
      "box_style": "",
      "children": [
       "IPY_MODEL_1198ffa7ad12484f9ac4048835321335",
       "IPY_MODEL_819c4c5a5b3349bcade558a02106c0c4"
      ],
      "layout": "IPY_MODEL_0e6405015df340b3bdc58694ebd4ecf4"
     }
    },
    "6b92f7b5d29e4fa786f03c9a6267cec4": {
     "model_module": "@jupyter-widgets/controls",
     "model_name": "ProgressStyleModel",
     "state": {
      "_model_module": "@jupyter-widgets/controls",
      "_model_module_version": "1.5.0",
      "_model_name": "ProgressStyleModel",
      "_view_count": null,
      "_view_module": "@jupyter-widgets/base",
      "_view_module_version": "1.2.0",
      "_view_name": "StyleView",
      "bar_color": null,
      "description_width": "initial"
     }
    },
    "6f42cc0bd0414b09994f8ca293b31db3": {
     "model_module": "@jupyter-widgets/controls",
     "model_name": "ProgressStyleModel",
     "state": {
      "_model_module": "@jupyter-widgets/controls",
      "_model_module_version": "1.5.0",
      "_model_name": "ProgressStyleModel",
      "_view_count": null,
      "_view_module": "@jupyter-widgets/base",
      "_view_module_version": "1.2.0",
      "_view_name": "StyleView",
      "bar_color": null,
      "description_width": "initial"
     }
    },
    "7d93ca3793fb43ba824f743aa9a7c208": {
     "model_module": "@jupyter-widgets/controls",
     "model_name": "DescriptionStyleModel",
     "state": {
      "_model_module": "@jupyter-widgets/controls",
      "_model_module_version": "1.5.0",
      "_model_name": "DescriptionStyleModel",
      "_view_count": null,
      "_view_module": "@jupyter-widgets/base",
      "_view_module_version": "1.2.0",
      "_view_name": "StyleView",
      "description_width": ""
     }
    },
    "819c4c5a5b3349bcade558a02106c0c4": {
     "model_module": "@jupyter-widgets/controls",
     "model_name": "HTMLModel",
     "state": {
      "_dom_classes": [],
      "_model_module": "@jupyter-widgets/controls",
      "_model_module_version": "1.5.0",
      "_model_name": "HTMLModel",
      "_view_count": null,
      "_view_module": "@jupyter-widgets/controls",
      "_view_module_version": "1.5.0",
      "_view_name": "HTMLView",
      "description": "",
      "description_tooltip": null,
      "layout": "IPY_MODEL_5e4aa51d413b4004bee30cce914d193e",
      "placeholder": "​",
      "style": "IPY_MODEL_e0fcf661019f4e3da00175887b431ccc",
      "value": " 762/762 [00:00&lt;00:00, 17.0kB/s]"
     }
    },
    "9254b1b515654fe9be6ffc08c2b15e4b": {
     "model_module": "@jupyter-widgets/controls",
     "model_name": "ProgressStyleModel",
     "state": {
      "_model_module": "@jupyter-widgets/controls",
      "_model_module_version": "1.5.0",
      "_model_name": "ProgressStyleModel",
      "_view_count": null,
      "_view_module": "@jupyter-widgets/base",
      "_view_module_version": "1.2.0",
      "_view_name": "StyleView",
      "bar_color": null,
      "description_width": "initial"
     }
    },
    "9a961b8a92334bedaeda460e4c92befc": {
     "model_module": "@jupyter-widgets/base",
     "model_name": "LayoutModel",
     "state": {
      "_model_module": "@jupyter-widgets/base",
      "_model_module_version": "1.2.0",
      "_model_name": "LayoutModel",
      "_view_count": null,
      "_view_module": "@jupyter-widgets/base",
      "_view_module_version": "1.2.0",
      "_view_name": "LayoutView",
      "align_content": null,
      "align_items": null,
      "align_self": null,
      "border": null,
      "bottom": null,
      "display": null,
      "flex": null,
      "flex_flow": null,
      "grid_area": null,
      "grid_auto_columns": null,
      "grid_auto_flow": null,
      "grid_auto_rows": null,
      "grid_column": null,
      "grid_gap": null,
      "grid_row": null,
      "grid_template_areas": null,
      "grid_template_columns": null,
      "grid_template_rows": null,
      "height": null,
      "justify_content": null,
      "justify_items": null,
      "left": null,
      "margin": null,
      "max_height": null,
      "max_width": null,
      "min_height": null,
      "min_width": null,
      "object_fit": null,
      "object_position": null,
      "order": null,
      "overflow": null,
      "overflow_x": null,
      "overflow_y": null,
      "padding": null,
      "right": null,
      "top": null,
      "visibility": null,
      "width": null
     }
    },
    "a33793da690a401f84cfc27fe66b58d3": {
     "model_module": "@jupyter-widgets/controls",
     "model_name": "HTMLModel",
     "state": {
      "_dom_classes": [],
      "_model_module": "@jupyter-widgets/controls",
      "_model_module_version": "1.5.0",
      "_model_name": "HTMLModel",
      "_view_count": null,
      "_view_module": "@jupyter-widgets/controls",
      "_view_module_version": "1.5.0",
      "_view_name": "HTMLView",
      "description": "",
      "description_tooltip": null,
      "layout": "IPY_MODEL_cdc358ab0d7b4cb3b911102f5b5ea48f",
      "placeholder": "​",
      "style": "IPY_MODEL_bc6eb47a66bc4fbe88efa7878e1fd02e",
      "value": " 353M/353M [00:06&lt;00:00, 53.4MB/s]"
     }
    },
    "a573b926127f471d90552617dbd355ac": {
     "model_module": "@jupyter-widgets/base",
     "model_name": "LayoutModel",
     "state": {
      "_model_module": "@jupyter-widgets/base",
      "_model_module_version": "1.2.0",
      "_model_name": "LayoutModel",
      "_view_count": null,
      "_view_module": "@jupyter-widgets/base",
      "_view_module_version": "1.2.0",
      "_view_name": "LayoutView",
      "align_content": null,
      "align_items": null,
      "align_self": null,
      "border": null,
      "bottom": null,
      "display": null,
      "flex": null,
      "flex_flow": null,
      "grid_area": null,
      "grid_auto_columns": null,
      "grid_auto_flow": null,
      "grid_auto_rows": null,
      "grid_column": null,
      "grid_gap": null,
      "grid_row": null,
      "grid_template_areas": null,
      "grid_template_columns": null,
      "grid_template_rows": null,
      "height": null,
      "justify_content": null,
      "justify_items": null,
      "left": null,
      "margin": null,
      "max_height": null,
      "max_width": null,
      "min_height": null,
      "min_width": null,
      "object_fit": null,
      "object_position": null,
      "order": null,
      "overflow": null,
      "overflow_x": null,
      "overflow_y": null,
      "padding": null,
      "right": null,
      "top": null,
      "visibility": null,
      "width": null
     }
    },
    "a7f991e0d30b4a2bbdf4efe3085b60ec": {
     "model_module": "@jupyter-widgets/base",
     "model_name": "LayoutModel",
     "state": {
      "_model_module": "@jupyter-widgets/base",
      "_model_module_version": "1.2.0",
      "_model_name": "LayoutModel",
      "_view_count": null,
      "_view_module": "@jupyter-widgets/base",
      "_view_module_version": "1.2.0",
      "_view_name": "LayoutView",
      "align_content": null,
      "align_items": null,
      "align_self": null,
      "border": null,
      "bottom": null,
      "display": null,
      "flex": null,
      "flex_flow": null,
      "grid_area": null,
      "grid_auto_columns": null,
      "grid_auto_flow": null,
      "grid_auto_rows": null,
      "grid_column": null,
      "grid_gap": null,
      "grid_row": null,
      "grid_template_areas": null,
      "grid_template_columns": null,
      "grid_template_rows": null,
      "height": null,
      "justify_content": null,
      "justify_items": null,
      "left": null,
      "margin": null,
      "max_height": null,
      "max_width": null,
      "min_height": null,
      "min_width": null,
      "object_fit": null,
      "object_position": null,
      "order": null,
      "overflow": null,
      "overflow_x": null,
      "overflow_y": null,
      "padding": null,
      "right": null,
      "top": null,
      "visibility": null,
      "width": null
     }
    },
    "a9682d37555846aeb124b69cf38092c3": {
     "model_module": "@jupyter-widgets/base",
     "model_name": "LayoutModel",
     "state": {
      "_model_module": "@jupyter-widgets/base",
      "_model_module_version": "1.2.0",
      "_model_name": "LayoutModel",
      "_view_count": null,
      "_view_module": "@jupyter-widgets/base",
      "_view_module_version": "1.2.0",
      "_view_name": "LayoutView",
      "align_content": null,
      "align_items": null,
      "align_self": null,
      "border": null,
      "bottom": null,
      "display": null,
      "flex": null,
      "flex_flow": null,
      "grid_area": null,
      "grid_auto_columns": null,
      "grid_auto_flow": null,
      "grid_auto_rows": null,
      "grid_column": null,
      "grid_gap": null,
      "grid_row": null,
      "grid_template_areas": null,
      "grid_template_columns": null,
      "grid_template_rows": null,
      "height": null,
      "justify_content": null,
      "justify_items": null,
      "left": null,
      "margin": null,
      "max_height": null,
      "max_width": null,
      "min_height": null,
      "min_width": null,
      "object_fit": null,
      "object_position": null,
      "order": null,
      "overflow": null,
      "overflow_x": null,
      "overflow_y": null,
      "padding": null,
      "right": null,
      "top": null,
      "visibility": null,
      "width": null
     }
    },
    "b54a170e8e20428dbd08dcbececa6174": {
     "model_module": "@jupyter-widgets/controls",
     "model_name": "HBoxModel",
     "state": {
      "_dom_classes": [],
      "_model_module": "@jupyter-widgets/controls",
      "_model_module_version": "1.5.0",
      "_model_name": "HBoxModel",
      "_view_count": null,
      "_view_module": "@jupyter-widgets/controls",
      "_view_module_version": "1.5.0",
      "_view_name": "HBoxView",
      "box_style": "",
      "children": [
       "IPY_MODEL_59c41cdb09dc43448f8cf3b3edacc9f6",
       "IPY_MODEL_a33793da690a401f84cfc27fe66b58d3"
      ],
      "layout": "IPY_MODEL_a7f991e0d30b4a2bbdf4efe3085b60ec"
     }
    },
    "bc6eb47a66bc4fbe88efa7878e1fd02e": {
     "model_module": "@jupyter-widgets/controls",
     "model_name": "DescriptionStyleModel",
     "state": {
      "_model_module": "@jupyter-widgets/controls",
      "_model_module_version": "1.5.0",
      "_model_name": "DescriptionStyleModel",
      "_view_count": null,
      "_view_module": "@jupyter-widgets/base",
      "_view_module_version": "1.2.0",
      "_view_name": "StyleView",
      "description_width": ""
     }
    },
    "cdc358ab0d7b4cb3b911102f5b5ea48f": {
     "model_module": "@jupyter-widgets/base",
     "model_name": "LayoutModel",
     "state": {
      "_model_module": "@jupyter-widgets/base",
      "_model_module_version": "1.2.0",
      "_model_name": "LayoutModel",
      "_view_count": null,
      "_view_module": "@jupyter-widgets/base",
      "_view_module_version": "1.2.0",
      "_view_name": "LayoutView",
      "align_content": null,
      "align_items": null,
      "align_self": null,
      "border": null,
      "bottom": null,
      "display": null,
      "flex": null,
      "flex_flow": null,
      "grid_area": null,
      "grid_auto_columns": null,
      "grid_auto_flow": null,
      "grid_auto_rows": null,
      "grid_column": null,
      "grid_gap": null,
      "grid_row": null,
      "grid_template_areas": null,
      "grid_template_columns": null,
      "grid_template_rows": null,
      "height": null,
      "justify_content": null,
      "justify_items": null,
      "left": null,
      "margin": null,
      "max_height": null,
      "max_width": null,
      "min_height": null,
      "min_width": null,
      "object_fit": null,
      "object_position": null,
      "order": null,
      "overflow": null,
      "overflow_x": null,
      "overflow_y": null,
      "padding": null,
      "right": null,
      "top": null,
      "visibility": null,
      "width": null
     }
    },
    "dde55076d6544256b821e4364e787a7f": {
     "model_module": "@jupyter-widgets/base",
     "model_name": "LayoutModel",
     "state": {
      "_model_module": "@jupyter-widgets/base",
      "_model_module_version": "1.2.0",
      "_model_name": "LayoutModel",
      "_view_count": null,
      "_view_module": "@jupyter-widgets/base",
      "_view_module_version": "1.2.0",
      "_view_name": "LayoutView",
      "align_content": null,
      "align_items": null,
      "align_self": null,
      "border": null,
      "bottom": null,
      "display": null,
      "flex": null,
      "flex_flow": null,
      "grid_area": null,
      "grid_auto_columns": null,
      "grid_auto_flow": null,
      "grid_auto_rows": null,
      "grid_column": null,
      "grid_gap": null,
      "grid_row": null,
      "grid_template_areas": null,
      "grid_template_columns": null,
      "grid_template_rows": null,
      "height": null,
      "justify_content": null,
      "justify_items": null,
      "left": null,
      "margin": null,
      "max_height": null,
      "max_width": null,
      "min_height": null,
      "min_width": null,
      "object_fit": null,
      "object_position": null,
      "order": null,
      "overflow": null,
      "overflow_x": null,
      "overflow_y": null,
      "padding": null,
      "right": null,
      "top": null,
      "visibility": null,
      "width": null
     }
    },
    "deaba8a37b4a40e2a5e42c8e4044f5ef": {
     "model_module": "@jupyter-widgets/controls",
     "model_name": "HTMLModel",
     "state": {
      "_dom_classes": [],
      "_model_module": "@jupyter-widgets/controls",
      "_model_module_version": "1.5.0",
      "_model_name": "HTMLModel",
      "_view_count": null,
      "_view_module": "@jupyter-widgets/controls",
      "_view_module_version": "1.5.0",
      "_view_name": "HTMLView",
      "description": "",
      "description_tooltip": null,
      "layout": "IPY_MODEL_dde55076d6544256b821e4364e787a7f",
      "placeholder": "​",
      "style": "IPY_MODEL_7d93ca3793fb43ba824f743aa9a7c208",
      "value": " 456k/456k [00:00&lt;00:00, 2.34MB/s]"
     }
    },
    "e0fcf661019f4e3da00175887b431ccc": {
     "model_module": "@jupyter-widgets/controls",
     "model_name": "DescriptionStyleModel",
     "state": {
      "_model_module": "@jupyter-widgets/controls",
      "_model_module_version": "1.5.0",
      "_model_name": "DescriptionStyleModel",
      "_view_count": null,
      "_view_module": "@jupyter-widgets/base",
      "_view_module_version": "1.2.0",
      "_view_name": "StyleView",
      "description_width": ""
     }
    },
    "ea23401f422c4201a2ccd2a45c426d52": {
     "model_module": "@jupyter-widgets/base",
     "model_name": "LayoutModel",
     "state": {
      "_model_module": "@jupyter-widgets/base",
      "_model_module_version": "1.2.0",
      "_model_name": "LayoutModel",
      "_view_count": null,
      "_view_module": "@jupyter-widgets/base",
      "_view_module_version": "1.2.0",
      "_view_name": "LayoutView",
      "align_content": null,
      "align_items": null,
      "align_self": null,
      "border": null,
      "bottom": null,
      "display": null,
      "flex": null,
      "flex_flow": null,
      "grid_area": null,
      "grid_auto_columns": null,
      "grid_auto_flow": null,
      "grid_auto_rows": null,
      "grid_column": null,
      "grid_gap": null,
      "grid_row": null,
      "grid_template_areas": null,
      "grid_template_columns": null,
      "grid_template_rows": null,
      "height": null,
      "justify_content": null,
      "justify_items": null,
      "left": null,
      "margin": null,
      "max_height": null,
      "max_width": null,
      "min_height": null,
      "min_width": null,
      "object_fit": null,
      "object_position": null,
      "order": null,
      "overflow": null,
      "overflow_x": null,
      "overflow_y": null,
      "padding": null,
      "right": null,
      "top": null,
      "visibility": null,
      "width": null
     }
    },
    "ff151fd817e84f939614c8001ea02384": {
     "model_module": "@jupyter-widgets/base",
     "model_name": "LayoutModel",
     "state": {
      "_model_module": "@jupyter-widgets/base",
      "_model_module_version": "1.2.0",
      "_model_name": "LayoutModel",
      "_view_count": null,
      "_view_module": "@jupyter-widgets/base",
      "_view_module_version": "1.2.0",
      "_view_name": "LayoutView",
      "align_content": null,
      "align_items": null,
      "align_self": null,
      "border": null,
      "bottom": null,
      "display": null,
      "flex": null,
      "flex_flow": null,
      "grid_area": null,
      "grid_auto_columns": null,
      "grid_auto_flow": null,
      "grid_auto_rows": null,
      "grid_column": null,
      "grid_gap": null,
      "grid_row": null,
      "grid_template_areas": null,
      "grid_template_columns": null,
      "grid_template_rows": null,
      "height": null,
      "justify_content": null,
      "justify_items": null,
      "left": null,
      "margin": null,
      "max_height": null,
      "max_width": null,
      "min_height": null,
      "min_width": null,
      "object_fit": null,
      "object_position": null,
      "order": null,
      "overflow": null,
      "overflow_x": null,
      "overflow_y": null,
      "padding": null,
      "right": null,
      "top": null,
      "visibility": null,
      "width": null
     }
    },
    "ff801625f32e452e84c2bcefccabbad3": {
     "model_module": "@jupyter-widgets/controls",
     "model_name": "DescriptionStyleModel",
     "state": {
      "_model_module": "@jupyter-widgets/controls",
      "_model_module_version": "1.5.0",
      "_model_name": "DescriptionStyleModel",
      "_view_count": null,
      "_view_module": "@jupyter-widgets/base",
      "_view_module_version": "1.2.0",
      "_view_name": "StyleView",
      "description_width": ""
     }
    }
   }
  }
 },
 "nbformat": 4,
 "nbformat_minor": 1
}
